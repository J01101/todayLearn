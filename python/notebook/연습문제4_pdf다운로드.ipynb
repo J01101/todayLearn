{
 "cells": [
  {
   "cell_type": "code",
   "execution_count": 9,
   "id": "lovely-activity",
   "metadata": {},
   "outputs": [
    {
     "name": "stdout",
     "output_type": "stream",
     "text": [
      "크롤링할 키워드는 무엇입니까?:빅데이터 pdf\n",
      "크롤링할 건수는 몇건 입니까?:10\n",
      "파일이 저장될 경로만 입력하세요(예:c:\\output1):c:\\output2\n",
      "입력한 경로가 존재하여 c:\\output2 폴더에 저장합니다.\n"
     ]
    }
   ],
   "source": [
    "#필요한 모듈과 라이브러리 로딩, 검색어, 키워드, 건수, 파일저장경로 입력받음\n",
    "from bs4 import BeautifulSoup\n",
    "from selenium import webdriver\n",
    "import time\n",
    "import os\n",
    "\n",
    "query_text = input('크롤링할 키워드는 무엇입니까?:')\n",
    "ct = input(\"크롤링할 건수는 몇건 입니까?:\")\n",
    "f_dir = input('파일이 저장될 경로만 입력하세요(예:c:\\\\output1):')\n",
    "\n",
    "#저장될 경로 존재하는지 확인\n",
    "if os.path.isdir(f_dir):\n",
    "    print(f'입력한 경로가 존재하여 {f_dir} 폴더에 저장합니다.')\n",
    "else: #없으면 폴더 생성\n",
    "    os.makedirs(f_dir)\n",
    "    print(f'입력한 경로가 존재하지 않아서 {f_dir} 폴더를 생성합니다.')"
   ]
  },
  {
   "cell_type": "code",
   "execution_count": 10,
   "id": "gentle-trouble",
   "metadata": {},
   "outputs": [],
   "source": [
    "#크롬 드라이버를 이용해서 웹 브라우저를 실행, 프로그램에서 pdf를 다운받을 수 있도록 설정 객체생성\n",
    "path = \"c:/study/python/datadown/chromedriver.exe\"\n",
    "driver = webdriver.Chrome(path)\n",
    "\n",
    "driver.command_executor._commands[\"send_command\"] = (\"POST\", '/session/$sessionId/chromium/send_command')\n",
    "params = {'cmd': 'Page.setDownloadBehavior', 'params': {'behavior': 'allow', 'downloadPath': f_dir}}\n",
    "command_result = driver.execute(\"send_command\", params)\n",
    "\n",
    "driver.get(\"https://www.google.com/\")\n",
    "time.sleep(2)"
   ]
  },
  {
   "cell_type": "code",
   "execution_count": 11,
   "id": "interstate-whole",
   "metadata": {},
   "outputs": [],
   "source": [
    "# 검색창의 요소 정보를 찾아서 검색어를 입력 후 검색을 진행한다.\n",
    "element = driver.find_element_by_css_selector('input.gLFyf.gsfi')\n",
    "element.send_keys(query_text)\n",
    "element.send_keys('\\n')"
   ]
  },
  {
   "cell_type": "code",
   "execution_count": 12,
   "id": "foreign-booth",
   "metadata": {},
   "outputs": [
    {
     "name": "stdout",
     "output_type": "stream",
     "text": [
      "10\n"
     ]
    }
   ],
   "source": [
    "time.sleep(1)\n",
    "html = driver.page_source\n",
    "soup = BeautifulSoup(html, 'html.parser')\n",
    "pdf_src = soup.select(\"div.yuRUbf > a\")\n",
    "\n",
    "print(len(pdf_src))\n",
    "\n",
    "ct = int(ct)\n",
    "\n",
    "if ct > len(pdf_src):\n",
    "    ct = len(pdf_src)"
   ]
  },
  {
   "cell_type": "code",
   "execution_count": 13,
   "id": "dried-chester",
   "metadata": {},
   "outputs": [
    {
     "name": "stdout",
     "output_type": "stream",
     "text": [
      "10\n"
     ]
    },
    {
     "data": {
      "text/plain": [
       "'https://cs.kangwon.ac.kr/~ysmoon/courses/2017_1/grad/06.pdf'"
      ]
     },
     "execution_count": 13,
     "metadata": {},
     "output_type": "execute_result"
    }
   ],
   "source": [
    "# import urllib.request\n",
    "import requests\n",
    "import shutil\n",
    "\n",
    "file_no = 0\n",
    "pdf_src2 = []\n",
    "os.chdir(f_dir)\n",
    "\n",
    "for i in pdf_src:\n",
    "    try:\n",
    "        pdf_src1 = i['href']\n",
    "        pdf_src2.append(pdf_src1)\n",
    "    except Exception as e:\n",
    "        print(e)\n",
    "\n",
    "print(len(pdf_src2))\n",
    "pdf_src2[0]"
   ]
  },
  {
   "cell_type": "code",
   "execution_count": 14,
   "id": "artistic-setting",
   "metadata": {},
   "outputs": [
    {
     "name": "stdout",
     "output_type": "stream",
     "text": [
      "1 번째 이미지 저장중입니다.==============================\n",
      "2 번째 이미지 저장중입니다.==============================\n",
      "3 번째 이미지 저장중입니다.==============================\n",
      "4 번째 이미지 저장중입니다.==============================\n",
      "5 번째 이미지 저장중입니다.==============================\n",
      "6 번째 이미지 저장중입니다.==============================\n",
      "7 번째 이미지 저장중입니다.==============================\n",
      "8 번째 이미지 저장중입니다.==============================\n",
      "9 번째 이미지 저장중입니다.==============================\n",
      "10 번째 이미지 저장중입니다.==============================\n",
      "================================================================================\n",
      "파일이 저장된 폴더명:c:\\output2\n",
      "================================================================================\n"
     ]
    }
   ],
   "source": [
    "for i in range(len(pdf_src2)):\n",
    "    if i == ct:\n",
    "        break\n",
    "        \n",
    "    try:\n",
    "#         urllib.request.urlretrieve(pdf_src2[i],str(file_no)+'.pdf')\n",
    "          res = requests.get(pdf_src2[i], stream = True)\n",
    "          with open(str(file_no)+'.pdf','wb') as f:\n",
    "            res.raw.decode_content = True\n",
    "            shutil.copyfileobj(res.raw, f)\n",
    "        \n",
    "    except Exception as e:\n",
    "        print(e)\n",
    "        continue\n",
    "    \n",
    "    file_no += 1\n",
    "    time.sleep(0.5)\n",
    "    print(f\"{file_no} 번째 이미지 저장중입니다.==============================\")\n",
    "\n",
    "    \n",
    "print(\"=\"*80)\n",
    "print(f\"파일이 저장된 폴더명:{f_dir}\")\n",
    "print(\"=\"*80)\n",
    "\n",
    "driver.close()"
   ]
  },
  {
   "cell_type": "code",
   "execution_count": null,
   "id": "completed-camcorder",
   "metadata": {},
   "outputs": [],
   "source": []
  }
 ],
 "metadata": {
  "kernelspec": {
   "display_name": "pydata",
   "language": "python",
   "name": "pydata"
  },
  "language_info": {
   "codemirror_mode": {
    "name": "ipython",
    "version": 3
   },
   "file_extension": ".py",
   "mimetype": "text/x-python",
   "name": "python",
   "nbconvert_exporter": "python",
   "pygments_lexer": "ipython3",
   "version": "3.7.10"
  }
 },
 "nbformat": 4,
 "nbformat_minor": 5
}
