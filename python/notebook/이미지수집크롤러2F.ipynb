{
 "cells": [
  {
   "cell_type": "code",
   "execution_count": 1,
   "id": "f08931e4",
   "metadata": {},
   "outputs": [
    {
     "name": "stdout",
     "output_type": "stream",
     "text": [
      "사진을 저장할 폴더를 지정하세요(예:D:\\SJY\\python\\notebook\\data\\):D:\\SJY\\python\\notebook\\data\\\n"
     ]
    }
   ],
   "source": [
    "from bs4 import BeautifulSoup\n",
    "from selenium import webdriver\n",
    "import urllib.request\n",
    "import urllib\n",
    "import time\n",
    "import sys\n",
    "import math\n",
    "import os\n",
    "\n",
    "f_dir = input('사진을 저장할 폴더를 지정하세요(예:D:\\\\SJY\\\\python\\\\notebook\\\\data\\\\):')\n",
    "query_txt = '사진저장'\n",
    "\n",
    "now = time.localtime()\n",
    "s = \"{}-{}-{}-{}-{}-{}\".format(now.tm_year, now.tm_mon, now.tm_mday, now.tm_hour, now.tm_min, now.tm_sec)\n",
    "\n",
    "os.makedirs(f_dir+s+\"-\"+query_txt)\n",
    "r_result_dir = f_dir + s + '-'+query_txt\n",
    "r_result_dir\n",
    "\n",
    "path = \"D:/SJY/python/datadown/chromedriver.exe\"\n",
    "driver = webdriver.Chrome(path)\n",
    "s_time = time.time()\n",
    "driver.get('https://korean.visitkorea.or.kr/detail/cs_detail_cos.do?cotid=1923378b-3e45-4ae9-8610-c8235636ba5e&big_category=A01&mid_category=A0100&big_area=39')\n",
    "time.sleep(2)\n",
    "\n",
    "\n",
    "# def scroll_down(driver):\n",
    "#     driver.execute_script(\"window.scrollTo(0, document.body.scrollHeight);\")\n",
    "#     time.sleep(1)\n",
    "    \n",
    "\n",
    "# scroll_down(driver)\n",
    "\n"
   ]
  },
  {
   "cell_type": "code",
   "execution_count": 2,
   "id": "1ac0bf8f",
   "metadata": {},
   "outputs": [
    {
     "data": {
      "text/plain": [
       "['https://cdn.visitkorea.or.kr/img/call?cmd=VIEW&id=74be8475-ae61-4f45-a37e-4c72b233b67b',\n",
       " 'https://cdn.visitkorea.or.kr/img/call?cmd=VIEW&id=ac6a6e95-ebbd-4a55-a560-ab84c0be9e90',\n",
       " 'https://cdn.visitkorea.or.kr/img/call?cmd=VIEW&id=68a69545-8b2b-4d51-ace7-677cc8ee0023',\n",
       " 'https://cdn.visitkorea.or.kr/img/call?cmd=VIEW&id=d3b1ecd4-53b7-4825-b7db-b1e8c6b0ead6',\n",
       " 'https://cdn.visitkorea.or.kr/img/call?cmd=VIEW&id=e78e519c-ae31-45d1-9f1c-954ee8714e9f',\n",
       " 'https://cdn.visitkorea.or.kr/img/call?cmd=VIEW&id=849eb935-e490-4ec5-b350-dae142c1a61b',\n",
       " 'https://cdn.visitkorea.or.kr/img/call?cmd=VIEW&id=8b657bef-7ca9-4480-ba14-070329e3cba3',\n",
       " 'https://cdn.visitkorea.or.kr/img/call?cmd=VIEW&id=feef9ff2-f965-4785-ba98-cf6e39f8389d',\n",
       " 'https://cdn.visitkorea.or.kr/img/call?cmd=VIEW&id=6e838ead-aed3-4a86-a3bb-75d3eb19e323',\n",
       " 'https://cdn.visitkorea.or.kr/img/call?cmd=VIEW&id=70714f1b-c087-452b-a6fb-ea5ae0065bba',\n",
       " 'https://cdn.visitkorea.or.kr/img/call?cmd=VIEW&id=b4d3ec36-9e99-4719-9aba-03aa945831ed',\n",
       " 'https://cdn.visitkorea.or.kr/img/call?cmd=VIEW&id=e7fc502c-6ac6-425f-8abe-b03df582a828']"
      ]
     },
     "execution_count": 2,
     "metadata": {},
     "output_type": "execute_result"
    }
   ],
   "source": [
    "file_no = 0\n",
    "img_src2 = []\n",
    "for x in range(1,5):\n",
    "    \n",
    "    driver.find_element_by_xpath(\"\"\"//*[@id=\"contents\"]/div[2]/div[6]/div[1]/div[2]/div/ul/li[{}]/a\"\"\".format(x)).click()\n",
    "\n",
    "    time.sleep(2)\n",
    "    \n",
    "    html = driver.page_source\n",
    "    soup = BeautifulSoup(html,'html.parser')\n",
    "    tag = soup.find('div',\"cos_cont active\")\n",
    "    tag2 = tag.find('div','info_area pc').find_all('a')\n",
    "    tag2\n",
    "\n",
    "    for i in tag2:\n",
    "        style = i['style'].split('(')[1].split(')')[0]\n",
    "        img_src2.append(style)\n",
    "\n",
    "img_src2"
   ]
  },
  {
   "cell_type": "code",
   "execution_count": 6,
   "id": "f52504e5",
   "metadata": {},
   "outputs": [
    {
     "name": "stdout",
     "output_type": "stream",
     "text": [
      "1 번째 이미지가 저장중 입니다.=====================\n",
      "2 번째 이미지가 저장중 입니다.=====================\n",
      "3 번째 이미지가 저장중 입니다.=====================\n",
      "4 번째 이미지가 저장중 입니다.=====================\n",
      "5 번째 이미지가 저장중 입니다.=====================\n",
      "6 번째 이미지가 저장중 입니다.=====================\n",
      "7 번째 이미지가 저장중 입니다.=====================\n",
      "8 번째 이미지가 저장중 입니다.=====================\n",
      "9 번째 이미지가 저장중 입니다.=====================\n",
      "10 번째 이미지가 저장중 입니다.=====================\n",
      "11 번째 이미지가 저장중 입니다.=====================\n",
      "12 번째 이미지가 저장중 입니다.=====================\n",
      "================================================================================\n",
      "총 소요시간은 1618458382.0초 입니다.\n",
      "파일 저장 건수 12건 입니다.\n",
      "파일 저장 경로 : D:\\SJY\\python\\notebook\\data\\2021-4-15-12-46-20-사진저장 입니다.\n",
      "================================================================================\n"
     ]
    }
   ],
   "source": [
    "# img_src2\n",
    "#이미지 다운로드 받을 폴더로 이동\n",
    "os.chdir(f_dir+s+'-'+query_txt)\n",
    "\n",
    "#이미지 다운로드 실행\n",
    "for i in range(0,len(img_src2)):\n",
    "    try:\n",
    "        urllib.request.urlretrieve(img_src2[i],str(file_no)+'.jpg')\n",
    "    except:\n",
    "        continue\n",
    "    file_no += 1\n",
    "    time.sleep(0.5)\n",
    "    print(\"{} 번째 이미지가 저장중 입니다.=====================\".format(file_no))\n",
    "\n",
    "#이미지 크롤링 후 요약정보 출력\n",
    "    \n",
    "e_time = time.time()\n",
    "t_time = e_time = s_time\n",
    "\n",
    "print(\"=\"*80)\n",
    "print('총 소요시간은 {}초 입니다.'.format(round(t_time,1)))\n",
    "print('파일 저장 건수 {}건 입니다.'.format(file_no))\n",
    "print('파일 저장 경로 : {} 입니다.'.format(r_result_dir))\n",
    "print(\"=\"*80)\n",
    "\n",
    "driver.close()"
   ]
  },
  {
   "cell_type": "code",
   "execution_count": null,
   "id": "016f3a6e",
   "metadata": {},
   "outputs": [],
   "source": []
  }
 ],
 "metadata": {
  "kernelspec": {
   "display_name": "pydata",
   "language": "python",
   "name": "pydata"
  },
  "language_info": {
   "codemirror_mode": {
    "name": "ipython",
    "version": 3
   },
   "file_extension": ".py",
   "mimetype": "text/x-python",
   "name": "python",
   "nbconvert_exporter": "python",
   "pygments_lexer": "ipython3",
   "version": "3.7.10"
  }
 },
 "nbformat": 4,
 "nbformat_minor": 5
}
