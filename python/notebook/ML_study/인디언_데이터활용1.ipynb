{
 "cells": [
  {
   "cell_type": "code",
   "execution_count": 2,
   "id": "8907e726",
   "metadata": {},
   "outputs": [],
   "source": [
    "import pandas as pd\n",
    "import tensorflow as tf\n",
    "from sklearn.model_selection import train_test_split"
   ]
  },
  {
   "cell_type": "code",
   "execution_count": 3,
   "id": "c5584454",
   "metadata": {},
   "outputs": [],
   "source": [
    "df = pd.read_csv('./data/diabetes.csv')"
   ]
  },
  {
   "cell_type": "code",
   "execution_count": 4,
   "id": "fa1a3282",
   "metadata": {},
   "outputs": [
    {
     "data": {
      "text/html": [
       "<div>\n",
       "<style scoped>\n",
       "    .dataframe tbody tr th:only-of-type {\n",
       "        vertical-align: middle;\n",
       "    }\n",
       "\n",
       "    .dataframe tbody tr th {\n",
       "        vertical-align: top;\n",
       "    }\n",
       "\n",
       "    .dataframe thead th {\n",
       "        text-align: right;\n",
       "    }\n",
       "</style>\n",
       "<table border=\"1\" class=\"dataframe\">\n",
       "  <thead>\n",
       "    <tr style=\"text-align: right;\">\n",
       "      <th></th>\n",
       "      <th>Pregnancies</th>\n",
       "      <th>Glucose</th>\n",
       "      <th>BloodPressure</th>\n",
       "      <th>SkinThickness</th>\n",
       "      <th>Insulin</th>\n",
       "      <th>BMI</th>\n",
       "      <th>DiabetesPedigreeFunction</th>\n",
       "      <th>Age</th>\n",
       "      <th>Outcome</th>\n",
       "    </tr>\n",
       "  </thead>\n",
       "  <tbody>\n",
       "    <tr>\n",
       "      <th>0</th>\n",
       "      <td>6</td>\n",
       "      <td>148</td>\n",
       "      <td>72</td>\n",
       "      <td>35</td>\n",
       "      <td>0</td>\n",
       "      <td>33.6</td>\n",
       "      <td>0.627</td>\n",
       "      <td>50</td>\n",
       "      <td>1</td>\n",
       "    </tr>\n",
       "    <tr>\n",
       "      <th>1</th>\n",
       "      <td>1</td>\n",
       "      <td>85</td>\n",
       "      <td>66</td>\n",
       "      <td>29</td>\n",
       "      <td>0</td>\n",
       "      <td>26.6</td>\n",
       "      <td>0.351</td>\n",
       "      <td>31</td>\n",
       "      <td>0</td>\n",
       "    </tr>\n",
       "    <tr>\n",
       "      <th>2</th>\n",
       "      <td>8</td>\n",
       "      <td>183</td>\n",
       "      <td>64</td>\n",
       "      <td>0</td>\n",
       "      <td>0</td>\n",
       "      <td>23.3</td>\n",
       "      <td>0.672</td>\n",
       "      <td>32</td>\n",
       "      <td>1</td>\n",
       "    </tr>\n",
       "    <tr>\n",
       "      <th>3</th>\n",
       "      <td>1</td>\n",
       "      <td>89</td>\n",
       "      <td>66</td>\n",
       "      <td>23</td>\n",
       "      <td>94</td>\n",
       "      <td>28.1</td>\n",
       "      <td>0.167</td>\n",
       "      <td>21</td>\n",
       "      <td>0</td>\n",
       "    </tr>\n",
       "    <tr>\n",
       "      <th>4</th>\n",
       "      <td>0</td>\n",
       "      <td>137</td>\n",
       "      <td>40</td>\n",
       "      <td>35</td>\n",
       "      <td>168</td>\n",
       "      <td>43.1</td>\n",
       "      <td>2.288</td>\n",
       "      <td>33</td>\n",
       "      <td>1</td>\n",
       "    </tr>\n",
       "    <tr>\n",
       "      <th>...</th>\n",
       "      <td>...</td>\n",
       "      <td>...</td>\n",
       "      <td>...</td>\n",
       "      <td>...</td>\n",
       "      <td>...</td>\n",
       "      <td>...</td>\n",
       "      <td>...</td>\n",
       "      <td>...</td>\n",
       "      <td>...</td>\n",
       "    </tr>\n",
       "    <tr>\n",
       "      <th>763</th>\n",
       "      <td>10</td>\n",
       "      <td>101</td>\n",
       "      <td>76</td>\n",
       "      <td>48</td>\n",
       "      <td>180</td>\n",
       "      <td>32.9</td>\n",
       "      <td>0.171</td>\n",
       "      <td>63</td>\n",
       "      <td>0</td>\n",
       "    </tr>\n",
       "    <tr>\n",
       "      <th>764</th>\n",
       "      <td>2</td>\n",
       "      <td>122</td>\n",
       "      <td>70</td>\n",
       "      <td>27</td>\n",
       "      <td>0</td>\n",
       "      <td>36.8</td>\n",
       "      <td>0.340</td>\n",
       "      <td>27</td>\n",
       "      <td>0</td>\n",
       "    </tr>\n",
       "    <tr>\n",
       "      <th>765</th>\n",
       "      <td>5</td>\n",
       "      <td>121</td>\n",
       "      <td>72</td>\n",
       "      <td>23</td>\n",
       "      <td>112</td>\n",
       "      <td>26.2</td>\n",
       "      <td>0.245</td>\n",
       "      <td>30</td>\n",
       "      <td>0</td>\n",
       "    </tr>\n",
       "    <tr>\n",
       "      <th>766</th>\n",
       "      <td>1</td>\n",
       "      <td>126</td>\n",
       "      <td>60</td>\n",
       "      <td>0</td>\n",
       "      <td>0</td>\n",
       "      <td>30.1</td>\n",
       "      <td>0.349</td>\n",
       "      <td>47</td>\n",
       "      <td>1</td>\n",
       "    </tr>\n",
       "    <tr>\n",
       "      <th>767</th>\n",
       "      <td>1</td>\n",
       "      <td>93</td>\n",
       "      <td>70</td>\n",
       "      <td>31</td>\n",
       "      <td>0</td>\n",
       "      <td>30.4</td>\n",
       "      <td>0.315</td>\n",
       "      <td>23</td>\n",
       "      <td>0</td>\n",
       "    </tr>\n",
       "  </tbody>\n",
       "</table>\n",
       "<p>768 rows × 9 columns</p>\n",
       "</div>"
      ],
      "text/plain": [
       "     Pregnancies  Glucose  BloodPressure  SkinThickness  Insulin   BMI  \\\n",
       "0              6      148             72             35        0  33.6   \n",
       "1              1       85             66             29        0  26.6   \n",
       "2              8      183             64              0        0  23.3   \n",
       "3              1       89             66             23       94  28.1   \n",
       "4              0      137             40             35      168  43.1   \n",
       "..           ...      ...            ...            ...      ...   ...   \n",
       "763           10      101             76             48      180  32.9   \n",
       "764            2      122             70             27        0  36.8   \n",
       "765            5      121             72             23      112  26.2   \n",
       "766            1      126             60              0        0  30.1   \n",
       "767            1       93             70             31        0  30.4   \n",
       "\n",
       "     DiabetesPedigreeFunction  Age  Outcome  \n",
       "0                       0.627   50        1  \n",
       "1                       0.351   31        0  \n",
       "2                       0.672   32        1  \n",
       "3                       0.167   21        0  \n",
       "4                       2.288   33        1  \n",
       "..                        ...  ...      ...  \n",
       "763                     0.171   63        0  \n",
       "764                     0.340   27        0  \n",
       "765                     0.245   30        0  \n",
       "766                     0.349   47        1  \n",
       "767                     0.315   23        0  \n",
       "\n",
       "[768 rows x 9 columns]"
      ]
     },
     "execution_count": 4,
     "metadata": {},
     "output_type": "execute_result"
    }
   ],
   "source": [
    "df"
   ]
  },
  {
   "cell_type": "code",
   "execution_count": 5,
   "id": "9eaee2c9",
   "metadata": {},
   "outputs": [
    {
     "data": {
      "text/plain": [
       "array([1, 0], dtype=int64)"
      ]
     },
     "execution_count": 5,
     "metadata": {},
     "output_type": "execute_result"
    }
   ],
   "source": [
    "df['Outcome'].unique()"
   ]
  },
  {
   "cell_type": "code",
   "execution_count": 6,
   "id": "e5fb5e30",
   "metadata": {},
   "outputs": [
    {
     "data": {
      "text/plain": [
       "0    500\n",
       "1    268\n",
       "Name: Outcome, dtype: int64"
      ]
     },
     "execution_count": 6,
     "metadata": {},
     "output_type": "execute_result"
    }
   ],
   "source": [
    "df['Outcome'].value_counts() # 이미 숫자형이라 LabelEncoder 활용할 필요가 없음."
   ]
  },
  {
   "cell_type": "code",
   "execution_count": 8,
   "id": "ae757bf3",
   "metadata": {},
   "outputs": [
    {
     "data": {
      "text/plain": [
       "0      1\n",
       "1      0\n",
       "2      1\n",
       "3      0\n",
       "4      1\n",
       "      ..\n",
       "763    0\n",
       "764    0\n",
       "765    0\n",
       "766    1\n",
       "767    0\n",
       "Name: Outcome, Length: 768, dtype: int64"
      ]
     },
     "execution_count": 8,
     "metadata": {},
     "output_type": "execute_result"
    }
   ],
   "source": [
    "df_target = df.pop('Outcome') # 날리는 데이터를 df_target으로 보냄\n",
    "df_target"
   ]
  },
  {
   "cell_type": "markdown",
   "id": "37f80aa0",
   "metadata": {},
   "source": [
    "계층적 데이터 추출옵션(분류모델에서 추천됨)\n",
    "\n",
    "여러층으로 분할 후 각 층별로 랜덤 데이터를 추출, \n",
    "\n",
    "원래 데이터의 분포와 유사하게 데이터를 추출하는 방식"
   ]
  },
  {
   "cell_type": "code",
   "execution_count": 67,
   "id": "463fc847",
   "metadata": {},
   "outputs": [],
   "source": [
    "x_train, x_test, y_train, y_test = train_test_split(\n",
    "    df, df_target, stratify=df_target,  test_size=0.2, random_state=42\n",
    ") # staratify"
   ]
  },
  {
   "cell_type": "code",
   "execution_count": 68,
   "id": "ec91bd14",
   "metadata": {},
   "outputs": [],
   "source": [
    "x_train, x_val, y_train, y_val = train_test_split(\n",
    "    x_train, y_train, stratify=y_train,  test_size=0.25, random_state=42\n",
    ")"
   ]
  },
  {
   "cell_type": "code",
   "execution_count": 69,
   "id": "66e604f9",
   "metadata": {},
   "outputs": [
    {
     "name": "stdout",
     "output_type": "stream",
     "text": [
      "(460, 8) (460,)\n",
      "(154, 8) (154,)\n",
      "(154, 8) (154,)\n"
     ]
    }
   ],
   "source": [
    "print (x_train.shape, y_train.shape)\n",
    "print (x_test.shape, y_test.shape) # 768의 0.2\n",
    "print (x_val.shape, y_val.shape) # 768의 0.25"
   ]
  },
  {
   "cell_type": "code",
   "execution_count": 70,
   "id": "6ce78e7f",
   "metadata": {},
   "outputs": [
    {
     "data": {
      "text/plain": [
       "0    300\n",
       "1    160\n",
       "Name: Outcome, dtype: int64"
      ]
     },
     "execution_count": 70,
     "metadata": {},
     "output_type": "execute_result"
    }
   ],
   "source": [
    "y_train.value_counts()"
   ]
  },
  {
   "cell_type": "code",
   "execution_count": 71,
   "id": "a09393a8",
   "metadata": {},
   "outputs": [
    {
     "data": {
      "text/plain": [
       "0    100\n",
       "1     54\n",
       "Name: Outcome, dtype: int64"
      ]
     },
     "execution_count": 71,
     "metadata": {},
     "output_type": "execute_result"
    }
   ],
   "source": [
    "y_test.value_counts()"
   ]
  },
  {
   "cell_type": "code",
   "execution_count": 72,
   "id": "b28c3787",
   "metadata": {},
   "outputs": [
    {
     "data": {
      "text/plain": [
       "Pregnancies  Glucose  BloodPressure  SkinThickness  Insulin  BMI   DiabetesPedigreeFunction  Age\n",
       "0            74       52             10             36       27.8  0.269                     22     1\n",
       "5            116      74             0              0        25.6  0.201                     30     1\n",
       "             115      76             0              0        31.2  0.343                     44     1\n",
       "             114      74             0              0        24.9  0.744                     57     1\n",
       "             112      66             0              0        37.8  0.261                     41     1\n",
       "                                                                                                   ..\n",
       "2            68       70             32             66       25.0  0.187                     25     1\n",
       "             56       56             28             45       24.2  0.332                     22     1\n",
       "1            181      78             42             293      40.0  1.258                     22     1\n",
       "                      64             30             180      34.1  0.328                     38     1\n",
       "14           175      62             30             0        33.6  0.212                     38     1\n",
       "Length: 460, dtype: int64"
      ]
     },
     "execution_count": 72,
     "metadata": {},
     "output_type": "execute_result"
    }
   ],
   "source": [
    "x_train.value_counts()"
   ]
  },
  {
   "cell_type": "code",
   "execution_count": 73,
   "id": "2d970f6d",
   "metadata": {},
   "outputs": [
    {
     "data": {
      "text/plain": [
       "Pregnancies  Glucose  BloodPressure  SkinThickness  Insulin  BMI   DiabetesPedigreeFunction  Age\n",
       "0            57       60             0              0        21.7  0.735                     67     1\n",
       "5            124      74             0              0        34.0  0.220                     38     1\n",
       "4            154      62             31             284      32.8  0.237                     23     1\n",
       "             171      72             0              0        43.6  0.479                     26     1\n",
       "             184      78             39             277      37.0  0.264                     31     1\n",
       "                                                                                                   ..\n",
       "2            88       74             19             53       29.0  0.229                     22     1\n",
       "             90       68             42             0        38.2  0.503                     27     1\n",
       "             91       62             0              0        27.3  0.525                     22     1\n",
       "             94       68             18             76       26.0  0.561                     21     1\n",
       "15           136      70             32             110      37.1  0.153                     43     1\n",
       "Length: 154, dtype: int64"
      ]
     },
     "execution_count": 73,
     "metadata": {},
     "output_type": "execute_result"
    }
   ],
   "source": [
    "x_test.value_counts()"
   ]
  },
  {
   "cell_type": "markdown",
   "id": "b634f236",
   "metadata": {},
   "source": [
    "### MinMaxScaler"
   ]
  },
  {
   "cell_type": "code",
   "execution_count": 74,
   "id": "6ac4cf40",
   "metadata": {},
   "outputs": [],
   "source": [
    "from sklearn.preprocessing import MinMaxScaler"
   ]
  },
  {
   "cell_type": "code",
   "execution_count": 75,
   "id": "20885422",
   "metadata": {},
   "outputs": [
    {
     "data": {
      "text/plain": [
       "MinMaxScaler()"
      ]
     },
     "execution_count": 75,
     "metadata": {},
     "output_type": "execute_result"
    }
   ],
   "source": [
    "scaler = MinMaxScaler()\n",
    "scaler.fit(x_train)"
   ]
  },
  {
   "cell_type": "code",
   "execution_count": 76,
   "id": "e2ae5a0e",
   "metadata": {},
   "outputs": [
    {
     "data": {
      "text/plain": [
       "(460, 8)"
      ]
     },
     "execution_count": 76,
     "metadata": {},
     "output_type": "execute_result"
    }
   ],
   "source": [
    "x_train_scale = scaler.transform(x_train)\n",
    "x_val_scale = scaler.transform(x_val)\n",
    "x_train_scale.shape"
   ]
  },
  {
   "cell_type": "markdown",
   "id": "a11508e7",
   "metadata": {},
   "source": [
    "### Drop out"
   ]
  },
  {
   "cell_type": "code",
   "execution_count": 147,
   "id": "587d3e42",
   "metadata": {},
   "outputs": [],
   "source": [
    "model = tf.keras.models.Sequential([\n",
    "      tf.keras.layers.Flatten(input_shape=[ x_train_scale.shape[1] ]),\n",
    "      tf.keras.layers.Dense(60, activation='relu'),\n",
    "      tf.keras.layers.Dropout(0.3), # 70퍼센트만\n",
    "      tf.keras.layers.Dense(30, activation='relu'),\n",
    "      tf.keras.layers.Dense(1, activation='sigmoid')\n",
    "      ])\n",
    "\n",
    "#optimizer = tf.keras.optimizers.RMSprop(0.001)\n",
    "\n",
    "model.compile(loss='binary_crossentropy',\n",
    "            optimizer='adam',\n",
    "            metrics=['accuracy'])"
   ]
  },
  {
   "cell_type": "code",
   "execution_count": 148,
   "id": "a1fe075d",
   "metadata": {},
   "outputs": [
    {
     "name": "stdout",
     "output_type": "stream",
     "text": [
      "Model: \"sequential_8\"\n",
      "_________________________________________________________________\n",
      "Layer (type)                 Output Shape              Param #   \n",
      "=================================================================\n",
      "flatten_8 (Flatten)          (None, 8)                 0         \n",
      "_________________________________________________________________\n",
      "dense_24 (Dense)             (None, 60)                540       \n",
      "_________________________________________________________________\n",
      "dropout_8 (Dropout)          (None, 60)                0         \n",
      "_________________________________________________________________\n",
      "dense_25 (Dense)             (None, 30)                1830      \n",
      "_________________________________________________________________\n",
      "dense_26 (Dense)             (None, 1)                 31        \n",
      "=================================================================\n",
      "Total params: 2,401\n",
      "Trainable params: 2,401\n",
      "Non-trainable params: 0\n",
      "_________________________________________________________________\n"
     ]
    }
   ],
   "source": [
    "model.summary()"
   ]
  },
  {
   "cell_type": "code",
   "execution_count": 149,
   "id": "a43241dd",
   "metadata": {},
   "outputs": [
    {
     "name": "stdout",
     "output_type": "stream",
     "text": [
      "Epoch 1/50\n",
      "15/15 [==============================] - 1s 14ms/step - loss: 0.6885 - accuracy: 0.5860 - val_loss: 0.6720 - val_accuracy: 0.6494\n",
      "Epoch 2/50\n",
      "15/15 [==============================] - 0s 5ms/step - loss: 0.6694 - accuracy: 0.6507 - val_loss: 0.6613 - val_accuracy: 0.6494\n",
      "Epoch 3/50\n",
      "15/15 [==============================] - 0s 5ms/step - loss: 0.6624 - accuracy: 0.6523 - val_loss: 0.6550 - val_accuracy: 0.6494\n",
      "Epoch 4/50\n",
      "15/15 [==============================] - 0s 5ms/step - loss: 0.6488 - accuracy: 0.6598 - val_loss: 0.6486 - val_accuracy: 0.6494\n",
      "Epoch 5/50\n",
      "15/15 [==============================] - 0s 5ms/step - loss: 0.6404 - accuracy: 0.6736 - val_loss: 0.6421 - val_accuracy: 0.6494\n",
      "Epoch 6/50\n",
      "15/15 [==============================] - 0s 5ms/step - loss: 0.6455 - accuracy: 0.6487 - val_loss: 0.6319 - val_accuracy: 0.6558\n",
      "Epoch 7/50\n",
      "15/15 [==============================] - 0s 6ms/step - loss: 0.6537 - accuracy: 0.6336 - val_loss: 0.6238 - val_accuracy: 0.6623\n",
      "Epoch 8/50\n",
      "15/15 [==============================] - 0s 6ms/step - loss: 0.6388 - accuracy: 0.6470 - val_loss: 0.6145 - val_accuracy: 0.6688\n",
      "Epoch 9/50\n",
      "15/15 [==============================] - 0s 5ms/step - loss: 0.6269 - accuracy: 0.6381 - val_loss: 0.6050 - val_accuracy: 0.6623\n",
      "Epoch 10/50\n",
      "15/15 [==============================] - 0s 5ms/step - loss: 0.6160 - accuracy: 0.6756 - val_loss: 0.5966 - val_accuracy: 0.6948\n",
      "Epoch 11/50\n",
      "15/15 [==============================] - 0s 5ms/step - loss: 0.6197 - accuracy: 0.6582 - val_loss: 0.5878 - val_accuracy: 0.7013\n",
      "Epoch 12/50\n",
      "15/15 [==============================] - 0s 5ms/step - loss: 0.6102 - accuracy: 0.6508 - val_loss: 0.5790 - val_accuracy: 0.6948\n",
      "Epoch 13/50\n",
      "15/15 [==============================] - 0s 5ms/step - loss: 0.5949 - accuracy: 0.6801 - val_loss: 0.5682 - val_accuracy: 0.7078\n",
      "Epoch 14/50\n",
      "15/15 [==============================] - 0s 5ms/step - loss: 0.5927 - accuracy: 0.6650 - val_loss: 0.5595 - val_accuracy: 0.7143\n",
      "Epoch 15/50\n",
      "15/15 [==============================] - 0s 5ms/step - loss: 0.5709 - accuracy: 0.6920 - val_loss: 0.5538 - val_accuracy: 0.7078\n",
      "Epoch 16/50\n",
      "15/15 [==============================] - 0s 6ms/step - loss: 0.5984 - accuracy: 0.7006 - val_loss: 0.5489 - val_accuracy: 0.7143\n",
      "Epoch 17/50\n",
      "15/15 [==============================] - 0s 5ms/step - loss: 0.5649 - accuracy: 0.7254 - val_loss: 0.5434 - val_accuracy: 0.7273\n",
      "Epoch 18/50\n",
      "15/15 [==============================] - 0s 5ms/step - loss: 0.5580 - accuracy: 0.6930 - val_loss: 0.5363 - val_accuracy: 0.7338\n",
      "Epoch 19/50\n",
      "15/15 [==============================] - 0s 5ms/step - loss: 0.5773 - accuracy: 0.6903 - val_loss: 0.5290 - val_accuracy: 0.7273\n",
      "Epoch 20/50\n",
      "15/15 [==============================] - 0s 5ms/step - loss: 0.5460 - accuracy: 0.7421 - val_loss: 0.5247 - val_accuracy: 0.7403\n",
      "Epoch 21/50\n",
      "15/15 [==============================] - 0s 5ms/step - loss: 0.5346 - accuracy: 0.7466 - val_loss: 0.5194 - val_accuracy: 0.7208\n",
      "Epoch 22/50\n",
      "15/15 [==============================] - 0s 5ms/step - loss: 0.5199 - accuracy: 0.7481 - val_loss: 0.5162 - val_accuracy: 0.7338\n",
      "Epoch 23/50\n",
      "15/15 [==============================] - 0s 5ms/step - loss: 0.5354 - accuracy: 0.7100 - val_loss: 0.5099 - val_accuracy: 0.7338\n",
      "Epoch 24/50\n",
      "15/15 [==============================] - 0s 5ms/step - loss: 0.5346 - accuracy: 0.7047 - val_loss: 0.5075 - val_accuracy: 0.7403\n",
      "Epoch 25/50\n",
      "15/15 [==============================] - 0s 6ms/step - loss: 0.5119 - accuracy: 0.7518 - val_loss: 0.5021 - val_accuracy: 0.7338\n",
      "Epoch 26/50\n",
      "15/15 [==============================] - 0s 6ms/step - loss: 0.5010 - accuracy: 0.7391 - val_loss: 0.4965 - val_accuracy: 0.7468\n",
      "Epoch 27/50\n",
      "15/15 [==============================] - 0s 6ms/step - loss: 0.5575 - accuracy: 0.7440 - val_loss: 0.4935 - val_accuracy: 0.7597\n",
      "Epoch 28/50\n",
      "15/15 [==============================] - 0s 5ms/step - loss: 0.5225 - accuracy: 0.7539 - val_loss: 0.4904 - val_accuracy: 0.7403\n",
      "Epoch 29/50\n",
      "15/15 [==============================] - 0s 5ms/step - loss: 0.5249 - accuracy: 0.7296 - val_loss: 0.4856 - val_accuracy: 0.7662\n",
      "Epoch 30/50\n",
      "15/15 [==============================] - 0s 5ms/step - loss: 0.4773 - accuracy: 0.8040 - val_loss: 0.4818 - val_accuracy: 0.7662\n",
      "Epoch 31/50\n",
      "15/15 [==============================] - 0s 5ms/step - loss: 0.4885 - accuracy: 0.7561 - val_loss: 0.4760 - val_accuracy: 0.7727\n",
      "Epoch 32/50\n",
      "15/15 [==============================] - 0s 6ms/step - loss: 0.5026 - accuracy: 0.7495 - val_loss: 0.4740 - val_accuracy: 0.7792\n",
      "Epoch 33/50\n",
      "15/15 [==============================] - 0s 6ms/step - loss: 0.5649 - accuracy: 0.7109 - val_loss: 0.4704 - val_accuracy: 0.7792\n",
      "Epoch 34/50\n",
      "15/15 [==============================] - 0s 5ms/step - loss: 0.5394 - accuracy: 0.7204 - val_loss: 0.4685 - val_accuracy: 0.7922\n",
      "Epoch 35/50\n",
      "15/15 [==============================] - 0s 5ms/step - loss: 0.4749 - accuracy: 0.7917 - val_loss: 0.4650 - val_accuracy: 0.7792\n",
      "Epoch 36/50\n",
      "15/15 [==============================] - 0s 6ms/step - loss: 0.4915 - accuracy: 0.7813 - val_loss: 0.4683 - val_accuracy: 0.7727\n",
      "Epoch 37/50\n",
      "15/15 [==============================] - 0s 5ms/step - loss: 0.5380 - accuracy: 0.7257 - val_loss: 0.4638 - val_accuracy: 0.7922\n",
      "Epoch 38/50\n",
      "15/15 [==============================] - 0s 6ms/step - loss: 0.4833 - accuracy: 0.7755 - val_loss: 0.4617 - val_accuracy: 0.7857\n",
      "Epoch 39/50\n",
      "15/15 [==============================] - 0s 6ms/step - loss: 0.5014 - accuracy: 0.7517 - val_loss: 0.4588 - val_accuracy: 0.7792\n",
      "Epoch 40/50\n",
      "15/15 [==============================] - 0s 5ms/step - loss: 0.5463 - accuracy: 0.7067 - val_loss: 0.4562 - val_accuracy: 0.7792\n",
      "Epoch 41/50\n",
      "15/15 [==============================] - 0s 5ms/step - loss: 0.4830 - accuracy: 0.7761 - val_loss: 0.4544 - val_accuracy: 0.7922\n",
      "Epoch 42/50\n",
      "15/15 [==============================] - 0s 5ms/step - loss: 0.4602 - accuracy: 0.7854 - val_loss: 0.4525 - val_accuracy: 0.7922\n",
      "Epoch 43/50\n",
      "15/15 [==============================] - 0s 6ms/step - loss: 0.4922 - accuracy: 0.7862 - val_loss: 0.4510 - val_accuracy: 0.7792\n",
      "Epoch 44/50\n",
      "15/15 [==============================] - 0s 6ms/step - loss: 0.5137 - accuracy: 0.7503 - val_loss: 0.4488 - val_accuracy: 0.7857\n",
      "Epoch 45/50\n",
      "15/15 [==============================] - 0s 5ms/step - loss: 0.4829 - accuracy: 0.7891 - val_loss: 0.4456 - val_accuracy: 0.7857\n",
      "Epoch 46/50\n",
      "15/15 [==============================] - 0s 5ms/step - loss: 0.4942 - accuracy: 0.7910 - val_loss: 0.4461 - val_accuracy: 0.7857\n",
      "Epoch 47/50\n",
      "15/15 [==============================] - 0s 7ms/step - loss: 0.4539 - accuracy: 0.7948 - val_loss: 0.4437 - val_accuracy: 0.7857\n",
      "Epoch 48/50\n",
      "15/15 [==============================] - 0s 5ms/step - loss: 0.4750 - accuracy: 0.7851 - val_loss: 0.4403 - val_accuracy: 0.7857\n",
      "Epoch 49/50\n",
      "15/15 [==============================] - 0s 5ms/step - loss: 0.4638 - accuracy: 0.7720 - val_loss: 0.4407 - val_accuracy: 0.7857\n",
      "Epoch 50/50\n",
      "15/15 [==============================] - 0s 5ms/step - loss: 0.4882 - accuracy: 0.7707 - val_loss: 0.4385 - val_accuracy: 0.7792\n"
     ]
    },
    {
     "data": {
      "text/plain": [
       "<tensorflow.python.keras.callbacks.History at 0x15263bfbc88>"
      ]
     },
     "execution_count": 149,
     "metadata": {},
     "output_type": "execute_result"
    }
   ],
   "source": [
    "model.fit(x_train_scale, y_train, epochs=50, validation_data=(x_val_scale, y_val))"
   ]
  },
  {
   "cell_type": "code",
   "execution_count": 150,
   "id": "02483acb",
   "metadata": {},
   "outputs": [
    {
     "name": "stdout",
     "output_type": "stream",
     "text": [
      "INFO:tensorflow:Assets written to: saved_model/my_model\\assets\n"
     ]
    }
   ],
   "source": [
    "model.save('saved_model/my_model') # 모델 저장"
   ]
  },
  {
   "cell_type": "code",
   "execution_count": 151,
   "id": "9030b73c",
   "metadata": {},
   "outputs": [
    {
     "name": "stdout",
     "output_type": "stream",
     "text": [
      "5/5 [==============================] - 0s 2ms/step - loss: 0.4737 - accuracy: 0.7532\n"
     ]
    },
    {
     "data": {
      "text/plain": [
       "[0.4736891984939575, 0.7532467246055603]"
      ]
     },
     "execution_count": 151,
     "metadata": {},
     "output_type": "execute_result"
    }
   ],
   "source": [
    "x_test_scale = scaler.transform(x_test)\n",
    "model.evaluate(x_test_scale,  y_test)"
   ]
  },
  {
   "cell_type": "code",
   "execution_count": 152,
   "id": "f83f795a",
   "metadata": {},
   "outputs": [
    {
     "name": "stderr",
     "output_type": "stream",
     "text": [
      "C:\\ProgramData\\Anaconda3\\envs\\pydata\\lib\\site-packages\\tensorflow\\python\\keras\\engine\\sequential.py:450: UserWarning: `model.predict_classes()` is deprecated and will be removed after 2021-01-01. Please use instead:* `np.argmax(model.predict(x), axis=-1)`,   if your model does multi-class classification   (e.g. if it uses a `softmax` last-layer activation).* `(model.predict(x) > 0.5).astype(\"int32\")`,   if your model does binary classification   (e.g. if it uses a `sigmoid` last-layer activation).\n",
      "  warnings.warn('`model.predict_classes()` is deprecated and '\n"
     ]
    },
    {
     "data": {
      "text/plain": [
       "array([[1],\n",
       "       [0],\n",
       "       [0],\n",
       "       [0],\n",
       "       [0],\n",
       "       [0],\n",
       "       [0],\n",
       "       [1],\n",
       "       [0],\n",
       "       [1],\n",
       "       [0],\n",
       "       [1],\n",
       "       [0],\n",
       "       [0],\n",
       "       [0],\n",
       "       [0],\n",
       "       [0],\n",
       "       [0],\n",
       "       [1],\n",
       "       [0],\n",
       "       [0],\n",
       "       [1],\n",
       "       [0],\n",
       "       [1],\n",
       "       [0],\n",
       "       [0],\n",
       "       [1],\n",
       "       [0],\n",
       "       [0],\n",
       "       [0],\n",
       "       [0],\n",
       "       [0],\n",
       "       [0],\n",
       "       [1],\n",
       "       [1],\n",
       "       [0],\n",
       "       [0],\n",
       "       [0],\n",
       "       [0],\n",
       "       [1],\n",
       "       [0],\n",
       "       [0],\n",
       "       [0],\n",
       "       [0],\n",
       "       [0],\n",
       "       [0],\n",
       "       [0],\n",
       "       [0],\n",
       "       [0],\n",
       "       [1],\n",
       "       [0],\n",
       "       [1],\n",
       "       [0],\n",
       "       [0],\n",
       "       [0],\n",
       "       [0],\n",
       "       [1],\n",
       "       [0],\n",
       "       [1],\n",
       "       [0],\n",
       "       [1],\n",
       "       [0],\n",
       "       [0],\n",
       "       [1],\n",
       "       [0],\n",
       "       [0],\n",
       "       [1],\n",
       "       [0],\n",
       "       [0],\n",
       "       [1],\n",
       "       [0],\n",
       "       [0],\n",
       "       [0],\n",
       "       [1],\n",
       "       [0],\n",
       "       [1],\n",
       "       [0],\n",
       "       [0],\n",
       "       [0],\n",
       "       [0],\n",
       "       [0],\n",
       "       [0],\n",
       "       [0],\n",
       "       [0],\n",
       "       [0],\n",
       "       [0],\n",
       "       [1],\n",
       "       [0],\n",
       "       [0],\n",
       "       [0],\n",
       "       [1],\n",
       "       [1],\n",
       "       [0],\n",
       "       [0],\n",
       "       [0],\n",
       "       [1],\n",
       "       [0],\n",
       "       [1],\n",
       "       [1],\n",
       "       [0],\n",
       "       [0],\n",
       "       [0],\n",
       "       [0],\n",
       "       [0],\n",
       "       [1],\n",
       "       [0],\n",
       "       [1],\n",
       "       [0],\n",
       "       [1],\n",
       "       [1],\n",
       "       [0],\n",
       "       [1],\n",
       "       [1],\n",
       "       [0],\n",
       "       [0],\n",
       "       [0],\n",
       "       [0],\n",
       "       [0],\n",
       "       [1],\n",
       "       [0],\n",
       "       [1],\n",
       "       [0],\n",
       "       [0],\n",
       "       [1],\n",
       "       [0],\n",
       "       [1],\n",
       "       [1],\n",
       "       [1],\n",
       "       [0],\n",
       "       [0],\n",
       "       [0],\n",
       "       [0],\n",
       "       [0],\n",
       "       [1],\n",
       "       [1],\n",
       "       [0],\n",
       "       [0],\n",
       "       [0],\n",
       "       [0],\n",
       "       [0],\n",
       "       [0],\n",
       "       [0],\n",
       "       [0],\n",
       "       [0],\n",
       "       [0],\n",
       "       [0],\n",
       "       [0],\n",
       "       [1],\n",
       "       [1],\n",
       "       [0],\n",
       "       [0],\n",
       "       [0],\n",
       "       [1],\n",
       "       [0]])"
      ]
     },
     "execution_count": 152,
     "metadata": {},
     "output_type": "execute_result"
    }
   ],
   "source": [
    "model.predict_classes(x_test_scale)"
   ]
  },
  {
   "cell_type": "code",
   "execution_count": 153,
   "id": "35bb6ba8",
   "metadata": {},
   "outputs": [
    {
     "data": {
      "text/plain": [
       "array([0.5       , 0.8071066 , 0.56140351, 0.        , 0.        ,\n",
       "       0.40834575, 0.0935412 , 0.31666667])"
      ]
     },
     "execution_count": 153,
     "metadata": {},
     "output_type": "execute_result"
    }
   ],
   "source": [
    "x_test_scale[0]"
   ]
  },
  {
   "cell_type": "markdown",
   "id": "b9aab868",
   "metadata": {},
   "source": [
    "### 오차행렬"
   ]
  },
  {
   "cell_type": "code",
   "execution_count": 154,
   "id": "dd9bf057",
   "metadata": {},
   "outputs": [],
   "source": [
    "from sklearn.metrics import confusion_matrix, accuracy_score, precision_score, recall_score"
   ]
  },
  {
   "cell_type": "code",
   "execution_count": 155,
   "id": "a44a1faf",
   "metadata": {},
   "outputs": [
    {
     "data": {
      "text/plain": [
       "array([[86, 14],\n",
       "       [24, 30]], dtype=int64)"
      ]
     },
     "execution_count": 155,
     "metadata": {},
     "output_type": "execute_result"
    }
   ],
   "source": [
    "confusion_matrix(y_test ,model.predict_classes(x_test_scale) )"
   ]
  },
  {
   "cell_type": "code",
   "execution_count": 156,
   "id": "686b73b8",
   "metadata": {},
   "outputs": [
    {
     "name": "stderr",
     "output_type": "stream",
     "text": [
      "C:\\ProgramData\\Anaconda3\\envs\\pydata\\lib\\site-packages\\tensorflow\\python\\keras\\engine\\sequential.py:450: UserWarning: `model.predict_classes()` is deprecated and will be removed after 2021-01-01. Please use instead:* `np.argmax(model.predict(x), axis=-1)`,   if your model does multi-class classification   (e.g. if it uses a `softmax` last-layer activation).* `(model.predict(x) > 0.5).astype(\"int32\")`,   if your model does binary classification   (e.g. if it uses a `sigmoid` last-layer activation).\n",
      "  warnings.warn('`model.predict_classes()` is deprecated and '\n"
     ]
    },
    {
     "data": {
      "text/plain": [
       "0.7532467532467533"
      ]
     },
     "execution_count": 156,
     "metadata": {},
     "output_type": "execute_result"
    }
   ],
   "source": [
    "accuracy_score(y_test,model.predict_classes(x_test_scale) )"
   ]
  },
  {
   "cell_type": "code",
   "execution_count": 157,
   "id": "74ce4e40",
   "metadata": {},
   "outputs": [
    {
     "name": "stderr",
     "output_type": "stream",
     "text": [
      "C:\\ProgramData\\Anaconda3\\envs\\pydata\\lib\\site-packages\\tensorflow\\python\\keras\\engine\\sequential.py:450: UserWarning: `model.predict_classes()` is deprecated and will be removed after 2021-01-01. Please use instead:* `np.argmax(model.predict(x), axis=-1)`,   if your model does multi-class classification   (e.g. if it uses a `softmax` last-layer activation).* `(model.predict(x) > 0.5).astype(\"int32\")`,   if your model does binary classification   (e.g. if it uses a `sigmoid` last-layer activation).\n",
      "  warnings.warn('`model.predict_classes()` is deprecated and '\n"
     ]
    },
    {
     "data": {
      "text/plain": [
       "0.6818181818181818"
      ]
     },
     "execution_count": 157,
     "metadata": {},
     "output_type": "execute_result"
    }
   ],
   "source": [
    "# 정밀도\n",
    "# 예측을 Positive로 한 대상 중에 예측과 실제 값이 Positive로 일치한 데이터의 비율\n",
    "precision_score(y_test ,model.predict_classes(x_test_scale) )"
   ]
  },
  {
   "cell_type": "code",
   "execution_count": 158,
   "id": "256d1b87",
   "metadata": {},
   "outputs": [
    {
     "name": "stderr",
     "output_type": "stream",
     "text": [
      "C:\\ProgramData\\Anaconda3\\envs\\pydata\\lib\\site-packages\\tensorflow\\python\\keras\\engine\\sequential.py:450: UserWarning: `model.predict_classes()` is deprecated and will be removed after 2021-01-01. Please use instead:* `np.argmax(model.predict(x), axis=-1)`,   if your model does multi-class classification   (e.g. if it uses a `softmax` last-layer activation).* `(model.predict(x) > 0.5).astype(\"int32\")`,   if your model does binary classification   (e.g. if it uses a `sigmoid` last-layer activation).\n",
      "  warnings.warn('`model.predict_classes()` is deprecated and '\n"
     ]
    },
    {
     "data": {
      "text/plain": [
       "0.5555555555555556"
      ]
     },
     "execution_count": 158,
     "metadata": {},
     "output_type": "execute_result"
    }
   ],
   "source": [
    "# 재현율\n",
    "# 실제 값이 Positive인 대상 중에 예측과 실제 값이 Positive로 일치한 데이터의 비율\n",
    "recall_score(y_test,model.predict_classes(x_test_scale) )"
   ]
  },
  {
   "cell_type": "markdown",
   "id": "e7bd349a",
   "metadata": {},
   "source": [
    "### 정밀도와 재현율 트레이드 오프"
   ]
  },
  {
   "cell_type": "code",
   "execution_count": 159,
   "id": "501d0e83",
   "metadata": {},
   "outputs": [
    {
     "name": "stderr",
     "output_type": "stream",
     "text": [
      "C:\\ProgramData\\Anaconda3\\envs\\pydata\\lib\\site-packages\\tensorflow\\python\\keras\\engine\\sequential.py:425: UserWarning: `model.predict_proba()` is deprecated and will be removed after 2021-01-01. Please use `model.predict()` instead.\n",
      "  warnings.warn('`model.predict_proba()` is deprecated and '\n"
     ]
    },
    {
     "data": {
      "text/plain": [
       "array([[0.6531359 ],\n",
       "       [0.18741041],\n",
       "       [0.2476933 ],\n",
       "       [0.40174642],\n",
       "       [0.0422397 ],\n",
       "       [0.23059002],\n",
       "       [0.3385483 ],\n",
       "       [0.8783926 ],\n",
       "       [0.09169453],\n",
       "       [0.71856856],\n",
       "       [0.24895132],\n",
       "       [0.78860044],\n",
       "       [0.16222593],\n",
       "       [0.14302361],\n",
       "       [0.36909896],\n",
       "       [0.3798227 ],\n",
       "       [0.49417904],\n",
       "       [0.11836416],\n",
       "       [0.8394594 ],\n",
       "       [0.37807548],\n",
       "       [0.22720891],\n",
       "       [0.76192844],\n",
       "       [0.19592416],\n",
       "       [0.86748904],\n",
       "       [0.4185335 ],\n",
       "       [0.0879384 ],\n",
       "       [0.6832818 ],\n",
       "       [0.07094657],\n",
       "       [0.33930945],\n",
       "       [0.05767778],\n",
       "       [0.05463523],\n",
       "       [0.07311481],\n",
       "       [0.46747744],\n",
       "       [0.5142867 ],\n",
       "       [0.7151557 ],\n",
       "       [0.13739127],\n",
       "       [0.26998895],\n",
       "       [0.08453196],\n",
       "       [0.4911453 ],\n",
       "       [0.508893  ],\n",
       "       [0.44859233],\n",
       "       [0.30542856],\n",
       "       [0.11735594],\n",
       "       [0.39652905],\n",
       "       [0.1600163 ],\n",
       "       [0.31907874],\n",
       "       [0.23308364],\n",
       "       [0.12923583],\n",
       "       [0.47431198],\n",
       "       [0.6756669 ],\n",
       "       [0.4783364 ],\n",
       "       [0.8570066 ],\n",
       "       [0.27308342],\n",
       "       [0.09730905],\n",
       "       [0.4459798 ],\n",
       "       [0.3009188 ],\n",
       "       [0.7160119 ],\n",
       "       [0.3472557 ],\n",
       "       [0.6218479 ],\n",
       "       [0.21665585],\n",
       "       [0.736301  ],\n",
       "       [0.20730382],\n",
       "       [0.04678541],\n",
       "       [0.8268634 ],\n",
       "       [0.07289085],\n",
       "       [0.23063797],\n",
       "       [0.88140523],\n",
       "       [0.04816654],\n",
       "       [0.20426676],\n",
       "       [0.58846265],\n",
       "       [0.24093527],\n",
       "       [0.09217638],\n",
       "       [0.29759747],\n",
       "       [0.59214157],\n",
       "       [0.08714354],\n",
       "       [0.58093333],\n",
       "       [0.0863404 ],\n",
       "       [0.38348562],\n",
       "       [0.1707798 ],\n",
       "       [0.07039368],\n",
       "       [0.229918  ],\n",
       "       [0.26480353],\n",
       "       [0.07839221],\n",
       "       [0.3334461 ],\n",
       "       [0.23324937],\n",
       "       [0.23317453],\n",
       "       [0.58774495],\n",
       "       [0.4295137 ],\n",
       "       [0.07572308],\n",
       "       [0.30502373],\n",
       "       [0.6055982 ],\n",
       "       [0.79347944],\n",
       "       [0.16432041],\n",
       "       [0.26542303],\n",
       "       [0.38090587],\n",
       "       [0.619337  ],\n",
       "       [0.44869348],\n",
       "       [0.63410425],\n",
       "       [0.78944546],\n",
       "       [0.10351929],\n",
       "       [0.10708284],\n",
       "       [0.19618767],\n",
       "       [0.17667279],\n",
       "       [0.13986036],\n",
       "       [0.8606173 ],\n",
       "       [0.09231105],\n",
       "       [0.94981277],\n",
       "       [0.13980776],\n",
       "       [0.6962832 ],\n",
       "       [0.59917897],\n",
       "       [0.42798722],\n",
       "       [0.9029537 ],\n",
       "       [0.5087241 ],\n",
       "       [0.28830105],\n",
       "       [0.43610305],\n",
       "       [0.21926916],\n",
       "       [0.34845802],\n",
       "       [0.19371757],\n",
       "       [0.71193546],\n",
       "       [0.3820627 ],\n",
       "       [0.6024959 ],\n",
       "       [0.11458448],\n",
       "       [0.19264668],\n",
       "       [0.73371524],\n",
       "       [0.36928892],\n",
       "       [0.7664758 ],\n",
       "       [0.62118477],\n",
       "       [0.5540716 ],\n",
       "       [0.1426014 ],\n",
       "       [0.08574933],\n",
       "       [0.16119012],\n",
       "       [0.49236017],\n",
       "       [0.18410471],\n",
       "       [0.7383701 ],\n",
       "       [0.70730335],\n",
       "       [0.31677485],\n",
       "       [0.09626642],\n",
       "       [0.14086163],\n",
       "       [0.05552942],\n",
       "       [0.21125025],\n",
       "       [0.10381743],\n",
       "       [0.3629982 ],\n",
       "       [0.18768737],\n",
       "       [0.06813547],\n",
       "       [0.12612751],\n",
       "       [0.20110628],\n",
       "       [0.44118947],\n",
       "       [0.5179711 ],\n",
       "       [0.5570253 ],\n",
       "       [0.05853727],\n",
       "       [0.0805746 ],\n",
       "       [0.22153991],\n",
       "       [0.77815294],\n",
       "       [0.08438793]], dtype=float32)"
      ]
     },
     "execution_count": 159,
     "metadata": {},
     "output_type": "execute_result"
    }
   ],
   "source": [
    "model.predict_proba(x_test_scale)"
   ]
  },
  {
   "cell_type": "code",
   "execution_count": null,
   "id": "c771b29a",
   "metadata": {},
   "outputs": [],
   "source": []
  },
  {
   "cell_type": "code",
   "execution_count": 160,
   "id": "6e5e9ec4",
   "metadata": {},
   "outputs": [],
   "source": [
    "from sklearn.preprocessing import Binarizer"
   ]
  },
  {
   "cell_type": "code",
   "execution_count": 161,
   "id": "24bccb73",
   "metadata": {},
   "outputs": [],
   "source": [
    "custom_threshold = 0.5"
   ]
  },
  {
   "cell_type": "code",
   "execution_count": 162,
   "id": "e5d8537e",
   "metadata": {},
   "outputs": [],
   "source": [
    "pred_proba_1 = model.predict_proba(x_test_scale)[:,-1].reshape(-1,1)\n",
    "binarizer = Binarizer(threshold=custom_threshold).fit(pred_proba_1)\n",
    "custom_predict = binarizer.transform(pred_proba_1)"
   ]
  },
  {
   "cell_type": "code",
   "execution_count": 163,
   "id": "cef3ea7f",
   "metadata": {},
   "outputs": [
    {
     "data": {
      "text/plain": [
       "array([[86, 14],\n",
       "       [24, 30]], dtype=int64)"
      ]
     },
     "execution_count": 163,
     "metadata": {},
     "output_type": "execute_result"
    }
   ],
   "source": [
    "confusion_matrix(y_test, custom_predict )"
   ]
  },
  {
   "cell_type": "code",
   "execution_count": 164,
   "id": "ed327fec",
   "metadata": {},
   "outputs": [
    {
     "name": "stdout",
     "output_type": "stream",
     "text": [
      "[[86 14]\n",
      " [24 30]]\n",
      "0.6818181818181818\n",
      "0.5555555555555556\n",
      "[[77 23]\n",
      " [18 36]]\n",
      "0.6101694915254238\n",
      "0.6666666666666666\n",
      "[[68 32]\n",
      " [ 8 46]]\n",
      "0.5897435897435898\n",
      "0.8518518518518519\n",
      "[[50 50]\n",
      " [ 3 51]]\n",
      "0.504950495049505\n",
      "0.9444444444444444\n"
     ]
    },
    {
     "name": "stderr",
     "output_type": "stream",
     "text": [
      "C:\\ProgramData\\Anaconda3\\envs\\pydata\\lib\\site-packages\\tensorflow\\python\\keras\\engine\\sequential.py:425: UserWarning: `model.predict_proba()` is deprecated and will be removed after 2021-01-01. Please use `model.predict()` instead.\n",
      "  warnings.warn('`model.predict_proba()` is deprecated and '\n",
      "C:\\ProgramData\\Anaconda3\\envs\\pydata\\lib\\site-packages\\tensorflow\\python\\keras\\engine\\sequential.py:425: UserWarning: `model.predict_proba()` is deprecated and will be removed after 2021-01-01. Please use `model.predict()` instead.\n",
      "  warnings.warn('`model.predict_proba()` is deprecated and '\n",
      "C:\\ProgramData\\Anaconda3\\envs\\pydata\\lib\\site-packages\\tensorflow\\python\\keras\\engine\\sequential.py:425: UserWarning: `model.predict_proba()` is deprecated and will be removed after 2021-01-01. Please use `model.predict()` instead.\n",
      "  warnings.warn('`model.predict_proba()` is deprecated and '\n",
      "C:\\ProgramData\\Anaconda3\\envs\\pydata\\lib\\site-packages\\tensorflow\\python\\keras\\engine\\sequential.py:425: UserWarning: `model.predict_proba()` is deprecated and will be removed after 2021-01-01. Please use `model.predict()` instead.\n",
      "  warnings.warn('`model.predict_proba()` is deprecated and '\n"
     ]
    }
   ],
   "source": [
    "for thre in [0.5, 0.4, 0.3, 0.2]:\n",
    "    custom_threshold = thre\n",
    "    pred_proba_1 = model.predict_proba(x_test_scale)[:,-1].reshape(-1,1)\n",
    "    binarizer = Binarizer(threshold=custom_threshold).fit(pred_proba_1)\n",
    "    custom_predict = binarizer.transform(pred_proba_1)\n",
    "    print (confusion_matrix(y_test, custom_predict ))\n",
    "    print (precision_score(y_test, custom_predict ))\n",
    "    print (recall_score(y_test, custom_predict ))"
   ]
  },
  {
   "cell_type": "code",
   "execution_count": 165,
   "id": "2a7a5d95",
   "metadata": {},
   "outputs": [],
   "source": [
    "from sklearn.metrics import precision_recall_curve\n",
    "import numpy as np"
   ]
  },
  {
   "cell_type": "code",
   "execution_count": 166,
   "id": "7aa7c4b0",
   "metadata": {},
   "outputs": [],
   "source": [
    "import matplotlib.pyplot as plt\n",
    "import matplotlib.ticker as ticker\n",
    "\n",
    "\n",
    "def precision_recall_curve_plot(y_test , pred_proba_c1):\n",
    "    # threshold ndarray와 이 threshold에 따른 정밀도, 재현율 ndarray 추출. \n",
    "    precisions, recalls, thresholds = precision_recall_curve( y_test, pred_proba_c1)\n",
    "    \n",
    "    # X축을 threshold값으로, Y축은 정밀도, 재현율 값으로 각각 Plot 수행. 정밀도는 점선으로 표시\n",
    "    plt.figure(figsize=(8,6))\n",
    "    threshold_boundary = thresholds.shape[0]\n",
    "    plt.plot(thresholds, precisions[0:threshold_boundary], linestyle='--', label='precision')\n",
    "    plt.plot(thresholds, recalls[0:threshold_boundary],label='recall')\n",
    "    \n",
    "    # threshold 값 X 축의 Scale을 0.1 단위로 변경\n",
    "    start, end = plt.xlim()\n",
    "    plt.xticks(np.round(np.arange(start, end, 0.1),2))\n",
    "    \n",
    "    # x축, y축 label과 legend, 그리고 grid 설정\n",
    "    plt.xlabel('Threshold value'); plt.ylabel('Precision and Recall value')\n",
    "    plt.legend(); plt.grid()\n",
    "    plt.show()"
   ]
  },
  {
   "cell_type": "code",
   "execution_count": 167,
   "id": "4a3322dd",
   "metadata": {},
   "outputs": [
    {
     "name": "stderr",
     "output_type": "stream",
     "text": [
      "C:\\ProgramData\\Anaconda3\\envs\\pydata\\lib\\site-packages\\tensorflow\\python\\keras\\engine\\sequential.py:425: UserWarning: `model.predict_proba()` is deprecated and will be removed after 2021-01-01. Please use `model.predict()` instead.\n",
      "  warnings.warn('`model.predict_proba()` is deprecated and '\n"
     ]
    },
    {
     "ename": "IndexError",
     "evalue": "index 1 is out of bounds for axis 1 with size 1",
     "output_type": "error",
     "traceback": [
      "\u001b[1;31m---------------------------------------------------------------------------\u001b[0m",
      "\u001b[1;31mIndexError\u001b[0m                                Traceback (most recent call last)",
      "\u001b[1;32m<ipython-input-167-e12e281de9c6>\u001b[0m in \u001b[0;36m<module>\u001b[1;34m\u001b[0m\n\u001b[0;32m      1\u001b[0m \u001b[1;31m# 정밀도와 재현율을 결합한 f1스코어\u001b[0m\u001b[1;33m\u001b[0m\u001b[1;33m\u001b[0m\u001b[1;33m\u001b[0m\u001b[0m\n\u001b[1;32m----> 2\u001b[1;33m \u001b[0mprecision_recall_curve_plot\u001b[0m\u001b[1;33m(\u001b[0m \u001b[0my_test\u001b[0m\u001b[1;33m,\u001b[0m \u001b[0mmodel\u001b[0m\u001b[1;33m.\u001b[0m\u001b[0mpredict_proba\u001b[0m\u001b[1;33m(\u001b[0m\u001b[0mx_test_scale\u001b[0m\u001b[1;33m)\u001b[0m\u001b[1;33m[\u001b[0m\u001b[1;33m:\u001b[0m\u001b[1;33m,\u001b[0m \u001b[1;36m1\u001b[0m\u001b[1;33m]\u001b[0m \u001b[1;33m)\u001b[0m\u001b[1;33m\u001b[0m\u001b[1;33m\u001b[0m\u001b[0m\n\u001b[0m",
      "\u001b[1;31mIndexError\u001b[0m: index 1 is out of bounds for axis 1 with size 1"
     ]
    }
   ],
   "source": [
    "# 정밀도와 재현율을 결합한 f1스코어\n",
    "precision_recall_curve_plot( y_test, model.predict_proba(x_test_scale)[:, 1] )"
   ]
  },
  {
   "cell_type": "code",
   "execution_count": null,
   "id": "2d0bc615",
   "metadata": {},
   "outputs": [],
   "source": []
  }
 ],
 "metadata": {
  "kernelspec": {
   "display_name": "pydata",
   "language": "python",
   "name": "pydata"
  },
  "language_info": {
   "codemirror_mode": {
    "name": "ipython",
    "version": 3
   },
   "file_extension": ".py",
   "mimetype": "text/x-python",
   "name": "python",
   "nbconvert_exporter": "python",
   "pygments_lexer": "ipython3",
   "version": "3.7.10"
  }
 },
 "nbformat": 4,
 "nbformat_minor": 5
}
