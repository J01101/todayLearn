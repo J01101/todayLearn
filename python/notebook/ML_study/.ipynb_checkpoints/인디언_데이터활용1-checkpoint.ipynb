{
 "cells": [
  {
   "cell_type": "code",
   "execution_count": 2,
   "id": "e1838d42",
   "metadata": {},
   "outputs": [],
   "source": [
    "import pandas as pd\n",
    "import tensorflow as tf\n",
    "from sklearn.model_selection import train_test_split"
   ]
  },
  {
   "cell_type": "code",
   "execution_count": 3,
   "id": "2e0cf758",
   "metadata": {},
   "outputs": [],
   "source": [
    "df = pd.read_csv('./data/diabetes.csv')"
   ]
  },
  {
   "cell_type": "code",
   "execution_count": 4,
   "id": "ff3aa180",
   "metadata": {},
   "outputs": [
    {
     "data": {
      "text/html": [
       "<div>\n",
       "<style scoped>\n",
       "    .dataframe tbody tr th:only-of-type {\n",
       "        vertical-align: middle;\n",
       "    }\n",
       "\n",
       "    .dataframe tbody tr th {\n",
       "        vertical-align: top;\n",
       "    }\n",
       "\n",
       "    .dataframe thead th {\n",
       "        text-align: right;\n",
       "    }\n",
       "</style>\n",
       "<table border=\"1\" class=\"dataframe\">\n",
       "  <thead>\n",
       "    <tr style=\"text-align: right;\">\n",
       "      <th></th>\n",
       "      <th>Pregnancies</th>\n",
       "      <th>Glucose</th>\n",
       "      <th>BloodPressure</th>\n",
       "      <th>SkinThickness</th>\n",
       "      <th>Insulin</th>\n",
       "      <th>BMI</th>\n",
       "      <th>DiabetesPedigreeFunction</th>\n",
       "      <th>Age</th>\n",
       "      <th>Outcome</th>\n",
       "    </tr>\n",
       "  </thead>\n",
       "  <tbody>\n",
       "    <tr>\n",
       "      <th>0</th>\n",
       "      <td>6</td>\n",
       "      <td>148</td>\n",
       "      <td>72</td>\n",
       "      <td>35</td>\n",
       "      <td>0</td>\n",
       "      <td>33.6</td>\n",
       "      <td>0.627</td>\n",
       "      <td>50</td>\n",
       "      <td>1</td>\n",
       "    </tr>\n",
       "    <tr>\n",
       "      <th>1</th>\n",
       "      <td>1</td>\n",
       "      <td>85</td>\n",
       "      <td>66</td>\n",
       "      <td>29</td>\n",
       "      <td>0</td>\n",
       "      <td>26.6</td>\n",
       "      <td>0.351</td>\n",
       "      <td>31</td>\n",
       "      <td>0</td>\n",
       "    </tr>\n",
       "    <tr>\n",
       "      <th>2</th>\n",
       "      <td>8</td>\n",
       "      <td>183</td>\n",
       "      <td>64</td>\n",
       "      <td>0</td>\n",
       "      <td>0</td>\n",
       "      <td>23.3</td>\n",
       "      <td>0.672</td>\n",
       "      <td>32</td>\n",
       "      <td>1</td>\n",
       "    </tr>\n",
       "    <tr>\n",
       "      <th>3</th>\n",
       "      <td>1</td>\n",
       "      <td>89</td>\n",
       "      <td>66</td>\n",
       "      <td>23</td>\n",
       "      <td>94</td>\n",
       "      <td>28.1</td>\n",
       "      <td>0.167</td>\n",
       "      <td>21</td>\n",
       "      <td>0</td>\n",
       "    </tr>\n",
       "    <tr>\n",
       "      <th>4</th>\n",
       "      <td>0</td>\n",
       "      <td>137</td>\n",
       "      <td>40</td>\n",
       "      <td>35</td>\n",
       "      <td>168</td>\n",
       "      <td>43.1</td>\n",
       "      <td>2.288</td>\n",
       "      <td>33</td>\n",
       "      <td>1</td>\n",
       "    </tr>\n",
       "    <tr>\n",
       "      <th>...</th>\n",
       "      <td>...</td>\n",
       "      <td>...</td>\n",
       "      <td>...</td>\n",
       "      <td>...</td>\n",
       "      <td>...</td>\n",
       "      <td>...</td>\n",
       "      <td>...</td>\n",
       "      <td>...</td>\n",
       "      <td>...</td>\n",
       "    </tr>\n",
       "    <tr>\n",
       "      <th>763</th>\n",
       "      <td>10</td>\n",
       "      <td>101</td>\n",
       "      <td>76</td>\n",
       "      <td>48</td>\n",
       "      <td>180</td>\n",
       "      <td>32.9</td>\n",
       "      <td>0.171</td>\n",
       "      <td>63</td>\n",
       "      <td>0</td>\n",
       "    </tr>\n",
       "    <tr>\n",
       "      <th>764</th>\n",
       "      <td>2</td>\n",
       "      <td>122</td>\n",
       "      <td>70</td>\n",
       "      <td>27</td>\n",
       "      <td>0</td>\n",
       "      <td>36.8</td>\n",
       "      <td>0.340</td>\n",
       "      <td>27</td>\n",
       "      <td>0</td>\n",
       "    </tr>\n",
       "    <tr>\n",
       "      <th>765</th>\n",
       "      <td>5</td>\n",
       "      <td>121</td>\n",
       "      <td>72</td>\n",
       "      <td>23</td>\n",
       "      <td>112</td>\n",
       "      <td>26.2</td>\n",
       "      <td>0.245</td>\n",
       "      <td>30</td>\n",
       "      <td>0</td>\n",
       "    </tr>\n",
       "    <tr>\n",
       "      <th>766</th>\n",
       "      <td>1</td>\n",
       "      <td>126</td>\n",
       "      <td>60</td>\n",
       "      <td>0</td>\n",
       "      <td>0</td>\n",
       "      <td>30.1</td>\n",
       "      <td>0.349</td>\n",
       "      <td>47</td>\n",
       "      <td>1</td>\n",
       "    </tr>\n",
       "    <tr>\n",
       "      <th>767</th>\n",
       "      <td>1</td>\n",
       "      <td>93</td>\n",
       "      <td>70</td>\n",
       "      <td>31</td>\n",
       "      <td>0</td>\n",
       "      <td>30.4</td>\n",
       "      <td>0.315</td>\n",
       "      <td>23</td>\n",
       "      <td>0</td>\n",
       "    </tr>\n",
       "  </tbody>\n",
       "</table>\n",
       "<p>768 rows × 9 columns</p>\n",
       "</div>"
      ],
      "text/plain": [
       "     Pregnancies  Glucose  BloodPressure  SkinThickness  Insulin   BMI  \\\n",
       "0              6      148             72             35        0  33.6   \n",
       "1              1       85             66             29        0  26.6   \n",
       "2              8      183             64              0        0  23.3   \n",
       "3              1       89             66             23       94  28.1   \n",
       "4              0      137             40             35      168  43.1   \n",
       "..           ...      ...            ...            ...      ...   ...   \n",
       "763           10      101             76             48      180  32.9   \n",
       "764            2      122             70             27        0  36.8   \n",
       "765            5      121             72             23      112  26.2   \n",
       "766            1      126             60              0        0  30.1   \n",
       "767            1       93             70             31        0  30.4   \n",
       "\n",
       "     DiabetesPedigreeFunction  Age  Outcome  \n",
       "0                       0.627   50        1  \n",
       "1                       0.351   31        0  \n",
       "2                       0.672   32        1  \n",
       "3                       0.167   21        0  \n",
       "4                       2.288   33        1  \n",
       "..                        ...  ...      ...  \n",
       "763                     0.171   63        0  \n",
       "764                     0.340   27        0  \n",
       "765                     0.245   30        0  \n",
       "766                     0.349   47        1  \n",
       "767                     0.315   23        0  \n",
       "\n",
       "[768 rows x 9 columns]"
      ]
     },
     "execution_count": 4,
     "metadata": {},
     "output_type": "execute_result"
    }
   ],
   "source": [
    "df"
   ]
  },
  {
   "cell_type": "code",
   "execution_count": 5,
   "id": "d5b0272b",
   "metadata": {},
   "outputs": [
    {
     "data": {
      "text/plain": [
       "array([1, 0], dtype=int64)"
      ]
     },
     "execution_count": 5,
     "metadata": {},
     "output_type": "execute_result"
    }
   ],
   "source": [
    "df['Outcome'].unique()"
   ]
  },
  {
   "cell_type": "code",
   "execution_count": 6,
   "id": "f71a395a",
   "metadata": {},
   "outputs": [
    {
     "data": {
      "text/plain": [
       "0    500\n",
       "1    268\n",
       "Name: Outcome, dtype: int64"
      ]
     },
     "execution_count": 6,
     "metadata": {},
     "output_type": "execute_result"
    }
   ],
   "source": [
    "df['Outcome'].value_counts() # 이미 숫자형이라 LabelEncoder 활용할 필요가 없음."
   ]
  },
  {
   "cell_type": "code",
   "execution_count": 8,
   "id": "d88a9be6",
   "metadata": {},
   "outputs": [
    {
     "data": {
      "text/plain": [
       "0      1\n",
       "1      0\n",
       "2      1\n",
       "3      0\n",
       "4      1\n",
       "      ..\n",
       "763    0\n",
       "764    0\n",
       "765    0\n",
       "766    1\n",
       "767    0\n",
       "Name: Outcome, Length: 768, dtype: int64"
      ]
     },
     "execution_count": 8,
     "metadata": {},
     "output_type": "execute_result"
    }
   ],
   "source": [
    "df_target = df.pop('Outcome') # 날리는 데이터를 df_target으로 보냄\n",
    "df_target"
   ]
  },
  {
   "cell_type": "markdown",
   "id": "9198732b",
   "metadata": {},
   "source": [
    "계층적 데이터 추출옵션(분류모델에서 추천됨)\n",
    "\n",
    "여러층으로 분할 후 각 층별로 랜덤 데이터를 추출, \n",
    "\n",
    "원래 데이터의 분포와 유사하게 데이터를 추출하는 방식"
   ]
  },
  {
   "cell_type": "code",
   "execution_count": 67,
   "id": "0a880284",
   "metadata": {},
   "outputs": [],
   "source": [
    "x_train, x_test, y_train, y_test = train_test_split(\n",
    "    df, df_target, stratify=df_target,  test_size=0.2, random_state=42\n",
    ") # staratify"
   ]
  },
  {
   "cell_type": "code",
   "execution_count": 68,
   "id": "7543f9b0",
   "metadata": {},
   "outputs": [],
   "source": [
    "x_train, x_val, y_train, y_val = train_test_split(\n",
    "    x_train, y_train, stratify=y_train,  test_size=0.25, random_state=42\n",
    ")"
   ]
  },
  {
   "cell_type": "code",
   "execution_count": 69,
   "id": "b58f2801",
   "metadata": {},
   "outputs": [
    {
     "name": "stdout",
     "output_type": "stream",
     "text": [
      "(460, 8) (460,)\n",
      "(154, 8) (154,)\n",
      "(154, 8) (154,)\n"
     ]
    }
   ],
   "source": [
    "print (x_train.shape, y_train.shape)\n",
    "print (x_test.shape, y_test.shape) # 768의 0.2\n",
    "print (x_val.shape, y_val.shape) # 768의 0.25"
   ]
  },
  {
   "cell_type": "code",
   "execution_count": 70,
   "id": "f75de4da",
   "metadata": {},
   "outputs": [
    {
     "data": {
      "text/plain": [
       "0    300\n",
       "1    160\n",
       "Name: Outcome, dtype: int64"
      ]
     },
     "execution_count": 70,
     "metadata": {},
     "output_type": "execute_result"
    }
   ],
   "source": [
    "y_train.value_counts()"
   ]
  },
  {
   "cell_type": "code",
   "execution_count": 71,
   "id": "ffcdcb61",
   "metadata": {},
   "outputs": [
    {
     "data": {
      "text/plain": [
       "0    100\n",
       "1     54\n",
       "Name: Outcome, dtype: int64"
      ]
     },
     "execution_count": 71,
     "metadata": {},
     "output_type": "execute_result"
    }
   ],
   "source": [
    "y_test.value_counts()"
   ]
  },
  {
   "cell_type": "code",
   "execution_count": 72,
   "id": "5f212daa",
   "metadata": {},
   "outputs": [
    {
     "data": {
      "text/plain": [
       "Pregnancies  Glucose  BloodPressure  SkinThickness  Insulin  BMI   DiabetesPedigreeFunction  Age\n",
       "0            74       52             10             36       27.8  0.269                     22     1\n",
       "5            116      74             0              0        25.6  0.201                     30     1\n",
       "             115      76             0              0        31.2  0.343                     44     1\n",
       "             114      74             0              0        24.9  0.744                     57     1\n",
       "             112      66             0              0        37.8  0.261                     41     1\n",
       "                                                                                                   ..\n",
       "2            68       70             32             66       25.0  0.187                     25     1\n",
       "             56       56             28             45       24.2  0.332                     22     1\n",
       "1            181      78             42             293      40.0  1.258                     22     1\n",
       "                      64             30             180      34.1  0.328                     38     1\n",
       "14           175      62             30             0        33.6  0.212                     38     1\n",
       "Length: 460, dtype: int64"
      ]
     },
     "execution_count": 72,
     "metadata": {},
     "output_type": "execute_result"
    }
   ],
   "source": [
    "x_train.value_counts()"
   ]
  },
  {
   "cell_type": "code",
   "execution_count": 73,
   "id": "e46de3cf",
   "metadata": {},
   "outputs": [
    {
     "data": {
      "text/plain": [
       "Pregnancies  Glucose  BloodPressure  SkinThickness  Insulin  BMI   DiabetesPedigreeFunction  Age\n",
       "0            57       60             0              0        21.7  0.735                     67     1\n",
       "5            124      74             0              0        34.0  0.220                     38     1\n",
       "4            154      62             31             284      32.8  0.237                     23     1\n",
       "             171      72             0              0        43.6  0.479                     26     1\n",
       "             184      78             39             277      37.0  0.264                     31     1\n",
       "                                                                                                   ..\n",
       "2            88       74             19             53       29.0  0.229                     22     1\n",
       "             90       68             42             0        38.2  0.503                     27     1\n",
       "             91       62             0              0        27.3  0.525                     22     1\n",
       "             94       68             18             76       26.0  0.561                     21     1\n",
       "15           136      70             32             110      37.1  0.153                     43     1\n",
       "Length: 154, dtype: int64"
      ]
     },
     "execution_count": 73,
     "metadata": {},
     "output_type": "execute_result"
    }
   ],
   "source": [
    "x_test.value_counts()"
   ]
  },
  {
   "cell_type": "markdown",
   "id": "85987ba7",
   "metadata": {},
   "source": [
    "### MinMaxScaler"
   ]
  },
  {
   "cell_type": "code",
   "execution_count": 74,
   "id": "d62509f5",
   "metadata": {},
   "outputs": [],
   "source": [
    "from sklearn.preprocessing import MinMaxScaler"
   ]
  },
  {
   "cell_type": "code",
   "execution_count": 75,
   "id": "73dfd85b",
   "metadata": {},
   "outputs": [
    {
     "data": {
      "text/plain": [
       "MinMaxScaler()"
      ]
     },
     "execution_count": 75,
     "metadata": {},
     "output_type": "execute_result"
    }
   ],
   "source": [
    "scaler = MinMaxScaler()\n",
    "scaler.fit(x_train)"
   ]
  },
  {
   "cell_type": "code",
   "execution_count": 76,
   "id": "fb36343c",
   "metadata": {},
   "outputs": [
    {
     "data": {
      "text/plain": [
       "(460, 8)"
      ]
     },
     "execution_count": 76,
     "metadata": {},
     "output_type": "execute_result"
    }
   ],
   "source": [
    "x_train_scale = scaler.transform(x_train)\n",
    "x_val_scale = scaler.transform(x_val)\n",
    "x_train_scale.shape"
   ]
  },
  {
   "cell_type": "markdown",
   "id": "876204d7",
   "metadata": {},
   "source": [
    "### Drop out"
   ]
  },
  {
   "cell_type": "code",
   "execution_count": 77,
   "id": "2e573154",
   "metadata": {},
   "outputs": [],
   "source": [
    "model = tf.keras.models.Sequential([\n",
    "      tf.keras.layers.Flatten(input_shape=[ x_train_scale.shape[1] ]),\n",
    "      tf.keras.layers.Dense(60, activation='relu'),\n",
    "      tf.keras.layers.Dropout(0.3), # 70퍼센트만\n",
    "      tf.keras.layers.Dense(30, activation='relu'),\n",
    "      tf.keras.layers.Dense(2, activation='softmax')\n",
    "      ])\n",
    "\n",
    "#optimizer = tf.keras.optimizers.RMSprop(0.001)\n",
    "\n",
    "model.compile(loss='sparse_categorical_crossentropy',\n",
    "            optimizer='adam',\n",
    "            metrics=['accuracy'])"
   ]
  },
  {
   "cell_type": "code",
   "execution_count": 78,
   "id": "c576634e",
   "metadata": {},
   "outputs": [
    {
     "name": "stdout",
     "output_type": "stream",
     "text": [
      "Model: \"sequential_3\"\n",
      "_________________________________________________________________\n",
      "Layer (type)                 Output Shape              Param #   \n",
      "=================================================================\n",
      "flatten_3 (Flatten)          (None, 8)                 0         \n",
      "_________________________________________________________________\n",
      "dense_9 (Dense)              (None, 60)                540       \n",
      "_________________________________________________________________\n",
      "dropout_3 (Dropout)          (None, 60)                0         \n",
      "_________________________________________________________________\n",
      "dense_10 (Dense)             (None, 30)                1830      \n",
      "_________________________________________________________________\n",
      "dense_11 (Dense)             (None, 2)                 62        \n",
      "=================================================================\n",
      "Total params: 2,432\n",
      "Trainable params: 2,432\n",
      "Non-trainable params: 0\n",
      "_________________________________________________________________\n"
     ]
    }
   ],
   "source": [
    "model.summary()"
   ]
  },
  {
   "cell_type": "code",
   "execution_count": 79,
   "id": "048ddf69",
   "metadata": {},
   "outputs": [
    {
     "name": "stdout",
     "output_type": "stream",
     "text": [
      "Epoch 1/30\n",
      "15/15 [==============================] - 1s 16ms/step - loss: 0.6880 - accuracy: 0.5368 - val_loss: 0.6704 - val_accuracy: 0.6494\n",
      "Epoch 2/30\n",
      "15/15 [==============================] - 0s 5ms/step - loss: 0.6821 - accuracy: 0.6109 - val_loss: 0.6578 - val_accuracy: 0.6494\n",
      "Epoch 3/30\n",
      "15/15 [==============================] - 0s 5ms/step - loss: 0.6667 - accuracy: 0.6324 - val_loss: 0.6483 - val_accuracy: 0.6494\n",
      "Epoch 4/30\n",
      "15/15 [==============================] - 0s 5ms/step - loss: 0.6505 - accuracy: 0.6548 - val_loss: 0.6362 - val_accuracy: 0.6494\n",
      "Epoch 5/30\n",
      "15/15 [==============================] - 0s 5ms/step - loss: 0.6408 - accuracy: 0.6670 - val_loss: 0.6225 - val_accuracy: 0.6494\n",
      "Epoch 6/30\n",
      "15/15 [==============================] - 0s 5ms/step - loss: 0.6275 - accuracy: 0.6429 - val_loss: 0.6079 - val_accuracy: 0.6753\n",
      "Epoch 7/30\n",
      "15/15 [==============================] - 0s 6ms/step - loss: 0.6065 - accuracy: 0.6748 - val_loss: 0.5960 - val_accuracy: 0.6753\n",
      "Epoch 8/30\n",
      "15/15 [==============================] - 0s 6ms/step - loss: 0.5985 - accuracy: 0.6761 - val_loss: 0.5842 - val_accuracy: 0.6818\n",
      "Epoch 9/30\n",
      "15/15 [==============================] - 0s 5ms/step - loss: 0.6222 - accuracy: 0.6595 - val_loss: 0.5759 - val_accuracy: 0.6883\n",
      "Epoch 10/30\n",
      "15/15 [==============================] - 0s 4ms/step - loss: 0.5940 - accuracy: 0.6874 - val_loss: 0.5663 - val_accuracy: 0.7078\n",
      "Epoch 11/30\n",
      "15/15 [==============================] - 0s 4ms/step - loss: 0.5718 - accuracy: 0.7296 - val_loss: 0.5563 - val_accuracy: 0.7273\n",
      "Epoch 12/30\n",
      "15/15 [==============================] - 0s 5ms/step - loss: 0.6047 - accuracy: 0.6923 - val_loss: 0.5488 - val_accuracy: 0.7078\n",
      "Epoch 13/30\n",
      "15/15 [==============================] - 0s 5ms/step - loss: 0.5785 - accuracy: 0.7139 - val_loss: 0.5420 - val_accuracy: 0.7078\n",
      "Epoch 14/30\n",
      "15/15 [==============================] - 0s 5ms/step - loss: 0.5782 - accuracy: 0.7121 - val_loss: 0.5332 - val_accuracy: 0.7403\n",
      "Epoch 15/30\n",
      "15/15 [==============================] - 0s 5ms/step - loss: 0.5455 - accuracy: 0.7595 - val_loss: 0.5264 - val_accuracy: 0.7273\n",
      "Epoch 16/30\n",
      "15/15 [==============================] - 0s 5ms/step - loss: 0.5911 - accuracy: 0.6836 - val_loss: 0.5207 - val_accuracy: 0.7273\n",
      "Epoch 17/30\n",
      "15/15 [==============================] - 0s 5ms/step - loss: 0.5554 - accuracy: 0.7185 - val_loss: 0.5178 - val_accuracy: 0.7403\n",
      "Epoch 18/30\n",
      "15/15 [==============================] - 0s 5ms/step - loss: 0.5318 - accuracy: 0.7516 - val_loss: 0.5111 - val_accuracy: 0.7403\n",
      "Epoch 19/30\n",
      "15/15 [==============================] - 0s 5ms/step - loss: 0.5403 - accuracy: 0.7325 - val_loss: 0.5052 - val_accuracy: 0.7338\n",
      "Epoch 20/30\n",
      "15/15 [==============================] - 0s 5ms/step - loss: 0.5308 - accuracy: 0.7235 - val_loss: 0.4998 - val_accuracy: 0.7208\n",
      "Epoch 21/30\n",
      "15/15 [==============================] - 0s 4ms/step - loss: 0.5450 - accuracy: 0.7251 - val_loss: 0.4956 - val_accuracy: 0.7338\n",
      "Epoch 22/30\n",
      "15/15 [==============================] - 0s 5ms/step - loss: 0.5157 - accuracy: 0.7580 - val_loss: 0.4871 - val_accuracy: 0.7468\n",
      "Epoch 23/30\n",
      "15/15 [==============================] - 0s 5ms/step - loss: 0.5273 - accuracy: 0.7253 - val_loss: 0.4844 - val_accuracy: 0.7468\n",
      "Epoch 24/30\n",
      "15/15 [==============================] - 0s 5ms/step - loss: 0.5263 - accuracy: 0.7492 - val_loss: 0.4833 - val_accuracy: 0.7597\n",
      "Epoch 25/30\n",
      "15/15 [==============================] - 0s 5ms/step - loss: 0.5213 - accuracy: 0.7410 - val_loss: 0.4787 - val_accuracy: 0.7273\n",
      "Epoch 26/30\n",
      "15/15 [==============================] - 0s 5ms/step - loss: 0.5025 - accuracy: 0.7591 - val_loss: 0.4700 - val_accuracy: 0.7727\n",
      "Epoch 27/30\n",
      "15/15 [==============================] - 0s 5ms/step - loss: 0.5264 - accuracy: 0.7573 - val_loss: 0.4675 - val_accuracy: 0.7727\n",
      "Epoch 28/30\n",
      "15/15 [==============================] - 0s 5ms/step - loss: 0.5544 - accuracy: 0.7062 - val_loss: 0.4721 - val_accuracy: 0.7532\n",
      "Epoch 29/30\n",
      "15/15 [==============================] - 0s 5ms/step - loss: 0.5476 - accuracy: 0.7441 - val_loss: 0.4664 - val_accuracy: 0.7662\n",
      "Epoch 30/30\n",
      "15/15 [==============================] - 0s 5ms/step - loss: 0.5012 - accuracy: 0.7555 - val_loss: 0.4622 - val_accuracy: 0.7727\n"
     ]
    },
    {
     "data": {
      "text/plain": [
       "<tensorflow.python.keras.callbacks.History at 0x15263bc2488>"
      ]
     },
     "execution_count": 79,
     "metadata": {},
     "output_type": "execute_result"
    }
   ],
   "source": [
    "model.fit(x_train_scale, y_train, epochs=30, validation_data=(x_val_scale, y_val))"
   ]
  },
  {
   "cell_type": "code",
   "execution_count": 97,
   "id": "c8c1a52a",
   "metadata": {},
   "outputs": [
    {
     "name": "stdout",
     "output_type": "stream",
     "text": [
      "INFO:tensorflow:Assets written to: saved_model/my_model\\assets\n"
     ]
    }
   ],
   "source": [
    "model.save('saved_model/my_model') # 모델 저장"
   ]
  },
  {
   "cell_type": "code",
   "execution_count": 80,
   "id": "2827a3fa",
   "metadata": {},
   "outputs": [
    {
     "name": "stdout",
     "output_type": "stream",
     "text": [
      "5/5 [==============================] - 0s 1ms/step - loss: 0.5024 - accuracy: 0.7403\n"
     ]
    },
    {
     "data": {
      "text/plain": [
       "[0.502402126789093, 0.7402597665786743]"
      ]
     },
     "execution_count": 80,
     "metadata": {},
     "output_type": "execute_result"
    }
   ],
   "source": [
    "x_test_scale = scaler.transform(x_test)\n",
    "model.evaluate(x_test_scale,  y_test)"
   ]
  },
  {
   "cell_type": "code",
   "execution_count": 81,
   "id": "b90fcb2f",
   "metadata": {},
   "outputs": [
    {
     "name": "stderr",
     "output_type": "stream",
     "text": [
      "C:\\ProgramData\\Anaconda3\\envs\\pydata\\lib\\site-packages\\tensorflow\\python\\keras\\engine\\sequential.py:450: UserWarning: `model.predict_classes()` is deprecated and will be removed after 2021-01-01. Please use instead:* `np.argmax(model.predict(x), axis=-1)`,   if your model does multi-class classification   (e.g. if it uses a `softmax` last-layer activation).* `(model.predict(x) > 0.5).astype(\"int32\")`,   if your model does binary classification   (e.g. if it uses a `sigmoid` last-layer activation).\n",
      "  warnings.warn('`model.predict_classes()` is deprecated and '\n"
     ]
    },
    {
     "data": {
      "text/plain": [
       "array([1, 0, 0, 0, 0, 0, 0, 1, 0, 1, 0, 1, 0, 0, 0, 0, 0, 0, 1, 0, 0, 1,\n",
       "       0, 1, 0, 0, 1, 0, 0, 0, 0, 0, 0, 1, 1, 0, 0, 0, 0, 1, 0, 0, 0, 0,\n",
       "       0, 0, 0, 0, 0, 1, 0, 1, 0, 0, 0, 0, 1, 0, 1, 0, 1, 0, 0, 1, 0, 0,\n",
       "       1, 0, 0, 0, 0, 0, 0, 1, 0, 1, 0, 0, 0, 0, 0, 0, 0, 0, 0, 0, 1, 0,\n",
       "       0, 0, 1, 1, 0, 0, 0, 1, 1, 1, 1, 0, 0, 0, 0, 0, 1, 0, 1, 0, 1, 1,\n",
       "       0, 1, 1, 0, 0, 0, 0, 0, 1, 0, 1, 0, 0, 1, 0, 1, 1, 0, 0, 0, 0, 0,\n",
       "       0, 1, 1, 0, 0, 0, 0, 0, 0, 0, 0, 0, 0, 0, 0, 0, 1, 0, 0, 0, 1, 0],\n",
       "      dtype=int64)"
      ]
     },
     "execution_count": 81,
     "metadata": {},
     "output_type": "execute_result"
    }
   ],
   "source": [
    "model.predict_classes(x_test_scale)"
   ]
  },
  {
   "cell_type": "code",
   "execution_count": 82,
   "id": "38ff9e4b",
   "metadata": {},
   "outputs": [
    {
     "data": {
      "text/plain": [
       "array([0.5       , 0.8071066 , 0.56140351, 0.        , 0.        ,\n",
       "       0.40834575, 0.0935412 , 0.31666667])"
      ]
     },
     "execution_count": 82,
     "metadata": {},
     "output_type": "execute_result"
    }
   ],
   "source": [
    "x_test_scale[0]"
   ]
  },
  {
   "cell_type": "markdown",
   "id": "248dc847",
   "metadata": {},
   "source": [
    "### 오차행렬"
   ]
  },
  {
   "cell_type": "code",
   "execution_count": 83,
   "id": "a8862734",
   "metadata": {},
   "outputs": [],
   "source": [
    "from sklearn.metrics import confusion_matrix, accuracy_score, precision_score, recall_score"
   ]
  },
  {
   "cell_type": "code",
   "execution_count": 84,
   "id": "5d0685fa",
   "metadata": {},
   "outputs": [
    {
     "data": {
      "text/plain": [
       "array([[86, 14],\n",
       "       [26, 28]], dtype=int64)"
      ]
     },
     "execution_count": 84,
     "metadata": {},
     "output_type": "execute_result"
    }
   ],
   "source": [
    "confusion_matrix(y_test ,model.predict_classes(x_test_scale) )"
   ]
  },
  {
   "cell_type": "code",
   "execution_count": 85,
   "id": "6774ee21",
   "metadata": {},
   "outputs": [
    {
     "name": "stderr",
     "output_type": "stream",
     "text": [
      "C:\\ProgramData\\Anaconda3\\envs\\pydata\\lib\\site-packages\\tensorflow\\python\\keras\\engine\\sequential.py:450: UserWarning: `model.predict_classes()` is deprecated and will be removed after 2021-01-01. Please use instead:* `np.argmax(model.predict(x), axis=-1)`,   if your model does multi-class classification   (e.g. if it uses a `softmax` last-layer activation).* `(model.predict(x) > 0.5).astype(\"int32\")`,   if your model does binary classification   (e.g. if it uses a `sigmoid` last-layer activation).\n",
      "  warnings.warn('`model.predict_classes()` is deprecated and '\n"
     ]
    },
    {
     "data": {
      "text/plain": [
       "0.7402597402597403"
      ]
     },
     "execution_count": 85,
     "metadata": {},
     "output_type": "execute_result"
    }
   ],
   "source": [
    "accuracy_score(y_test,model.predict_classes(x_test_scale) )"
   ]
  },
  {
   "cell_type": "code",
   "execution_count": 86,
   "id": "1c030b90",
   "metadata": {},
   "outputs": [
    {
     "name": "stderr",
     "output_type": "stream",
     "text": [
      "C:\\ProgramData\\Anaconda3\\envs\\pydata\\lib\\site-packages\\tensorflow\\python\\keras\\engine\\sequential.py:450: UserWarning: `model.predict_classes()` is deprecated and will be removed after 2021-01-01. Please use instead:* `np.argmax(model.predict(x), axis=-1)`,   if your model does multi-class classification   (e.g. if it uses a `softmax` last-layer activation).* `(model.predict(x) > 0.5).astype(\"int32\")`,   if your model does binary classification   (e.g. if it uses a `sigmoid` last-layer activation).\n",
      "  warnings.warn('`model.predict_classes()` is deprecated and '\n"
     ]
    },
    {
     "data": {
      "text/plain": [
       "0.6666666666666666"
      ]
     },
     "execution_count": 86,
     "metadata": {},
     "output_type": "execute_result"
    }
   ],
   "source": [
    "# 정밀도\n",
    "# 예측을 Positive로 한 대상 중에 예측과 실제 값이 Positive로 일치한 데이터의 비율\n",
    "precision_score(y_test ,model.predict_classes(x_test_scale) )"
   ]
  },
  {
   "cell_type": "code",
   "execution_count": 87,
   "id": "46f44fdd",
   "metadata": {},
   "outputs": [
    {
     "name": "stderr",
     "output_type": "stream",
     "text": [
      "C:\\ProgramData\\Anaconda3\\envs\\pydata\\lib\\site-packages\\tensorflow\\python\\keras\\engine\\sequential.py:450: UserWarning: `model.predict_classes()` is deprecated and will be removed after 2021-01-01. Please use instead:* `np.argmax(model.predict(x), axis=-1)`,   if your model does multi-class classification   (e.g. if it uses a `softmax` last-layer activation).* `(model.predict(x) > 0.5).astype(\"int32\")`,   if your model does binary classification   (e.g. if it uses a `sigmoid` last-layer activation).\n",
      "  warnings.warn('`model.predict_classes()` is deprecated and '\n"
     ]
    },
    {
     "data": {
      "text/plain": [
       "0.5185185185185185"
      ]
     },
     "execution_count": 87,
     "metadata": {},
     "output_type": "execute_result"
    }
   ],
   "source": [
    "# 재현율\n",
    "# 실제 값이 Positive인 대상 중에 예측과 실제 값이 Positive로 일치한 데이터의 비율\n",
    "recall_score(y_test,model.predict_classes(x_test_scale) )"
   ]
  },
  {
   "cell_type": "markdown",
   "id": "25e4a57c",
   "metadata": {},
   "source": [
    "### 정밀도와 재현율 트레이드 오프"
   ]
  },
  {
   "cell_type": "code",
   "execution_count": 88,
   "id": "664e1f9e",
   "metadata": {},
   "outputs": [
    {
     "name": "stderr",
     "output_type": "stream",
     "text": [
      "C:\\ProgramData\\Anaconda3\\envs\\pydata\\lib\\site-packages\\tensorflow\\python\\keras\\engine\\sequential.py:425: UserWarning: `model.predict_proba()` is deprecated and will be removed after 2021-01-01. Please use `model.predict()` instead.\n",
      "  warnings.warn('`model.predict_proba()` is deprecated and '\n"
     ]
    },
    {
     "data": {
      "text/plain": [
       "array([[0.4020986 , 0.5979014 ],\n",
       "       [0.85372823, 0.1462718 ],\n",
       "       [0.74212927, 0.25787067],\n",
       "       [0.6052695 , 0.39473048],\n",
       "       [0.8861045 , 0.11389542],\n",
       "       [0.75077444, 0.24922554],\n",
       "       [0.699107  , 0.30089298],\n",
       "       [0.27121612, 0.72878385],\n",
       "       [0.8934051 , 0.10659495],\n",
       "       [0.37644133, 0.6235587 ],\n",
       "       [0.7948136 , 0.20518644],\n",
       "       [0.2634893 , 0.7365107 ],\n",
       "       [0.8381067 , 0.16189337],\n",
       "       [0.71939284, 0.28060722],\n",
       "       [0.70887196, 0.291128  ],\n",
       "       [0.6305795 , 0.36942056],\n",
       "       [0.50186765, 0.49813238],\n",
       "       [0.8590781 , 0.14092189],\n",
       "       [0.31157687, 0.68842316],\n",
       "       [0.59299123, 0.40700883],\n",
       "       [0.6504589 , 0.34954107],\n",
       "       [0.17685765, 0.82314235],\n",
       "       [0.80334723, 0.19665277],\n",
       "       [0.26176757, 0.7382325 ],\n",
       "       [0.6127759 , 0.38722402],\n",
       "       [0.88007563, 0.11992438],\n",
       "       [0.3633841 , 0.6366158 ],\n",
       "       [0.92319024, 0.07680969],\n",
       "       [0.6280648 , 0.37193522],\n",
       "       [0.9308636 , 0.0691364 ],\n",
       "       [0.9329954 , 0.06700467],\n",
       "       [0.91421026, 0.08578969],\n",
       "       [0.63695884, 0.36304113],\n",
       "       [0.42971364, 0.5702864 ],\n",
       "       [0.45045376, 0.54954624],\n",
       "       [0.8736874 , 0.12631257],\n",
       "       [0.7501551 , 0.24984492],\n",
       "       [0.90746635, 0.09253363],\n",
       "       [0.64754766, 0.35245237],\n",
       "       [0.48439497, 0.5156051 ],\n",
       "       [0.594048  , 0.405952  ],\n",
       "       [0.78447634, 0.2155236 ],\n",
       "       [0.75539386, 0.2446061 ],\n",
       "       [0.6205749 , 0.3794251 ],\n",
       "       [0.8210664 , 0.17893356],\n",
       "       [0.62625474, 0.37374532],\n",
       "       [0.7643675 , 0.23563242],\n",
       "       [0.8818653 , 0.11813472],\n",
       "       [0.53160244, 0.46839762],\n",
       "       [0.42763287, 0.5723672 ],\n",
       "       [0.5685232 , 0.4314768 ],\n",
       "       [0.20034851, 0.7996515 ],\n",
       "       [0.76976675, 0.23023325],\n",
       "       [0.90085715, 0.0991428 ],\n",
       "       [0.6149834 , 0.38501665],\n",
       "       [0.7546303 , 0.2453697 ],\n",
       "       [0.38587713, 0.61412287],\n",
       "       [0.7341209 , 0.2658791 ],\n",
       "       [0.45202392, 0.54797614],\n",
       "       [0.7100396 , 0.2899604 ],\n",
       "       [0.47597125, 0.5240288 ],\n",
       "       [0.7773267 , 0.22267334],\n",
       "       [0.8704848 , 0.12951516],\n",
       "       [0.37968257, 0.62031746],\n",
       "       [0.9016086 , 0.09839135],\n",
       "       [0.7678545 , 0.23214547],\n",
       "       [0.149103  , 0.850897  ],\n",
       "       [0.8979295 , 0.10207053],\n",
       "       [0.80522025, 0.19477978],\n",
       "       [0.5194571 , 0.48054287],\n",
       "       [0.76572484, 0.23427519],\n",
       "       [0.89792717, 0.10207284],\n",
       "       [0.7546574 , 0.24534258],\n",
       "       [0.4165375 , 0.58346254],\n",
       "       [0.88524985, 0.11475015],\n",
       "       [0.44076324, 0.5592368 ],\n",
       "       [0.9015023 , 0.0984977 ],\n",
       "       [0.67020655, 0.32979345],\n",
       "       [0.80215716, 0.1978429 ],\n",
       "       [0.9034401 , 0.09655981],\n",
       "       [0.6994902 , 0.3005098 ],\n",
       "       [0.7394594 , 0.26054054],\n",
       "       [0.8853337 , 0.11466623],\n",
       "       [0.6909574 , 0.30904254],\n",
       "       [0.7280168 , 0.27198318],\n",
       "       [0.7424684 , 0.25753155],\n",
       "       [0.4638741 , 0.53612584],\n",
       "       [0.518111  , 0.48188892],\n",
       "       [0.92889005, 0.07110996],\n",
       "       [0.7309012 , 0.2690988 ],\n",
       "       [0.43632403, 0.56367594],\n",
       "       [0.23640154, 0.7635984 ],\n",
       "       [0.77270705, 0.22729301],\n",
       "       [0.73819286, 0.26180714],\n",
       "       [0.6618547 , 0.3381453 ],\n",
       "       [0.39840376, 0.6015963 ],\n",
       "       [0.4205593 , 0.5794407 ],\n",
       "       [0.46549973, 0.5345003 ],\n",
       "       [0.41088155, 0.5891185 ],\n",
       "       [0.8813503 , 0.11864977],\n",
       "       [0.8788486 , 0.12115137],\n",
       "       [0.83537245, 0.16462755],\n",
       "       [0.784704  , 0.21529591],\n",
       "       [0.82129484, 0.17870517],\n",
       "       [0.20464735, 0.79535264],\n",
       "       [0.8748353 , 0.12516466],\n",
       "       [0.1152858 , 0.8847142 ],\n",
       "       [0.877056  , 0.12294399],\n",
       "       [0.37795272, 0.6220473 ],\n",
       "       [0.39999253, 0.6000075 ],\n",
       "       [0.56844944, 0.4315506 ],\n",
       "       [0.20316376, 0.7968363 ],\n",
       "       [0.32418174, 0.67581826],\n",
       "       [0.74608564, 0.2539143 ],\n",
       "       [0.5683794 , 0.43162063],\n",
       "       [0.7822415 , 0.21775845],\n",
       "       [0.56081337, 0.4391866 ],\n",
       "       [0.78062826, 0.2193717 ],\n",
       "       [0.31869876, 0.6813013 ],\n",
       "       [0.6076277 , 0.39237228],\n",
       "       [0.25641683, 0.7435832 ],\n",
       "       [0.87127626, 0.12872365],\n",
       "       [0.71448344, 0.28551656],\n",
       "       [0.29134488, 0.70865506],\n",
       "       [0.68572867, 0.3142713 ],\n",
       "       [0.39902174, 0.60097826],\n",
       "       [0.49931636, 0.5006836 ],\n",
       "       [0.56134427, 0.43865573],\n",
       "       [0.84113693, 0.15886304],\n",
       "       [0.92355627, 0.07644368],\n",
       "       [0.8279983 , 0.17200173],\n",
       "       [0.56549555, 0.43450445],\n",
       "       [0.8075958 , 0.19240424],\n",
       "       [0.33246684, 0.6675332 ],\n",
       "       [0.36004516, 0.63995486],\n",
       "       [0.6181167 , 0.38188332],\n",
       "       [0.8181399 , 0.18186009],\n",
       "       [0.7460211 , 0.2539789 ],\n",
       "       [0.9081688 , 0.09183119],\n",
       "       [0.6809257 , 0.31907427],\n",
       "       [0.89899683, 0.10100314],\n",
       "       [0.66504174, 0.33495829],\n",
       "       [0.8258473 , 0.17415266],\n",
       "       [0.95153284, 0.04846719],\n",
       "       [0.75461227, 0.24538769],\n",
       "       [0.83624595, 0.16375403],\n",
       "       [0.5533378 , 0.44666225],\n",
       "       [0.557619  , 0.44238102],\n",
       "       [0.46914414, 0.5308559 ],\n",
       "       [0.9146954 , 0.08530465],\n",
       "       [0.88194656, 0.11805351],\n",
       "       [0.6068816 , 0.39311835],\n",
       "       [0.33740386, 0.66259617],\n",
       "       [0.93311816, 0.06688181]], dtype=float32)"
      ]
     },
     "execution_count": 88,
     "metadata": {},
     "output_type": "execute_result"
    }
   ],
   "source": [
    "model.predict_proba(x_test_scale)"
   ]
  },
  {
   "cell_type": "code",
   "execution_count": null,
   "id": "77d459c7",
   "metadata": {},
   "outputs": [],
   "source": []
  },
  {
   "cell_type": "code",
   "execution_count": 89,
   "id": "57ca0153",
   "metadata": {},
   "outputs": [],
   "source": [
    "from sklearn.preprocessing import Binarizer"
   ]
  },
  {
   "cell_type": "code",
   "execution_count": 90,
   "id": "3a8f2d0a",
   "metadata": {},
   "outputs": [],
   "source": [
    "custom_threshold = 0.5"
   ]
  },
  {
   "cell_type": "code",
   "execution_count": 91,
   "id": "8c01e2a0",
   "metadata": {},
   "outputs": [],
   "source": [
    "pred_proba_1 = model.predict_proba(x_test_scale)[:,-1].reshape(-1,1)\n",
    "binarizer = Binarizer(threshold=custom_threshold).fit(pred_proba_1)\n",
    "custom_predict = binarizer.transform(pred_proba_1)"
   ]
  },
  {
   "cell_type": "code",
   "execution_count": 92,
   "id": "9c8aa0c7",
   "metadata": {},
   "outputs": [
    {
     "data": {
      "text/plain": [
       "array([[86, 14],\n",
       "       [26, 28]], dtype=int64)"
      ]
     },
     "execution_count": 92,
     "metadata": {},
     "output_type": "execute_result"
    }
   ],
   "source": [
    "confusion_matrix(y_test, custom_predict )"
   ]
  },
  {
   "cell_type": "code",
   "execution_count": 93,
   "id": "d6fa7e6c",
   "metadata": {},
   "outputs": [
    {
     "name": "stderr",
     "output_type": "stream",
     "text": [
      "C:\\ProgramData\\Anaconda3\\envs\\pydata\\lib\\site-packages\\tensorflow\\python\\keras\\engine\\sequential.py:425: UserWarning: `model.predict_proba()` is deprecated and will be removed after 2021-01-01. Please use `model.predict()` instead.\n",
      "  warnings.warn('`model.predict_proba()` is deprecated and '\n",
      "C:\\ProgramData\\Anaconda3\\envs\\pydata\\lib\\site-packages\\tensorflow\\python\\keras\\engine\\sequential.py:425: UserWarning: `model.predict_proba()` is deprecated and will be removed after 2021-01-01. Please use `model.predict()` instead.\n",
      "  warnings.warn('`model.predict_proba()` is deprecated and '\n",
      "C:\\ProgramData\\Anaconda3\\envs\\pydata\\lib\\site-packages\\tensorflow\\python\\keras\\engine\\sequential.py:425: UserWarning: `model.predict_proba()` is deprecated and will be removed after 2021-01-01. Please use `model.predict()` instead.\n",
      "  warnings.warn('`model.predict_proba()` is deprecated and '\n",
      "C:\\ProgramData\\Anaconda3\\envs\\pydata\\lib\\site-packages\\tensorflow\\python\\keras\\engine\\sequential.py:425: UserWarning: `model.predict_proba()` is deprecated and will be removed after 2021-01-01. Please use `model.predict()` instead.\n",
      "  warnings.warn('`model.predict_proba()` is deprecated and '\n"
     ]
    },
    {
     "name": "stdout",
     "output_type": "stream",
     "text": [
      "[[86 14]\n",
      " [26 28]]\n",
      "0.6666666666666666\n",
      "0.5185185185185185\n",
      "[[78 22]\n",
      " [20 34]]\n",
      "0.6071428571428571\n",
      "0.6296296296296297\n",
      "[[68 32]\n",
      " [ 9 45]]\n",
      "0.5844155844155844\n",
      "0.8333333333333334\n",
      "[[43 57]\n",
      " [ 4 50]]\n",
      "0.4672897196261682\n",
      "0.9259259259259259\n"
     ]
    }
   ],
   "source": [
    "for thre in [0.5, 0.4, 0.3, 0.2]:\n",
    "    custom_threshold = thre\n",
    "    pred_proba_1 = model.predict_proba(x_test_scale)[:,-1].reshape(-1,1)\n",
    "    binarizer = Binarizer(threshold=custom_threshold).fit(pred_proba_1)\n",
    "    custom_predict = binarizer.transform(pred_proba_1)\n",
    "    print (confusion_matrix(y_test, custom_predict ))\n",
    "    print (precision_score(y_test, custom_predict ))\n",
    "    print (recall_score(y_test, custom_predict ))"
   ]
  },
  {
   "cell_type": "code",
   "execution_count": 94,
   "id": "255f2a3a",
   "metadata": {},
   "outputs": [],
   "source": [
    "from sklearn.metrics import precision_recall_curve\n",
    "import numpy as np"
   ]
  },
  {
   "cell_type": "code",
   "execution_count": 95,
   "id": "14311194",
   "metadata": {},
   "outputs": [],
   "source": [
    "import matplotlib.pyplot as plt\n",
    "import matplotlib.ticker as ticker\n",
    "\n",
    "\n",
    "def precision_recall_curve_plot(y_test , pred_proba_c1):\n",
    "    # threshold ndarray와 이 threshold에 따른 정밀도, 재현율 ndarray 추출. \n",
    "    precisions, recalls, thresholds = precision_recall_curve( y_test, pred_proba_c1)\n",
    "    \n",
    "    # X축을 threshold값으로, Y축은 정밀도, 재현율 값으로 각각 Plot 수행. 정밀도는 점선으로 표시\n",
    "    plt.figure(figsize=(8,6))\n",
    "    threshold_boundary = thresholds.shape[0]\n",
    "    plt.plot(thresholds, precisions[0:threshold_boundary], linestyle='--', label='precision')\n",
    "    plt.plot(thresholds, recalls[0:threshold_boundary],label='recall')\n",
    "    \n",
    "    # threshold 값 X 축의 Scale을 0.1 단위로 변경\n",
    "    start, end = plt.xlim()\n",
    "    plt.xticks(np.round(np.arange(start, end, 0.1),2))\n",
    "    \n",
    "    # x축, y축 label과 legend, 그리고 grid 설정\n",
    "    plt.xlabel('Threshold value'); plt.ylabel('Precision and Recall value')\n",
    "    plt.legend(); plt.grid()\n",
    "    plt.show()"
   ]
  },
  {
   "cell_type": "code",
   "execution_count": 96,
   "id": "ccca5481",
   "metadata": {},
   "outputs": [
    {
     "name": "stderr",
     "output_type": "stream",
     "text": [
      "C:\\ProgramData\\Anaconda3\\envs\\pydata\\lib\\site-packages\\tensorflow\\python\\keras\\engine\\sequential.py:425: UserWarning: `model.predict_proba()` is deprecated and will be removed after 2021-01-01. Please use `model.predict()` instead.\n",
      "  warnings.warn('`model.predict_proba()` is deprecated and '\n"
     ]
    },
    {
     "data": {
      "image/png": "[encoded data removed]",
      "text/plain": [
       "<Figure size 576x432 with 1 Axes>"
      ]
     },
     "metadata": {
      "needs_background": "light"
     },
     "output_type": "display_data"
    }
   ],
   "source": [
    "# 정밀도와 재현율을 결합한 f1스코어\n",
    "precision_recall_curve_plot( y_test, model.predict_proba(x_test_scale)[:, 1] )"
   ]
  },
  {
   "cell_type": "code",
   "execution_count": null,
   "id": "5a985d7c",
   "metadata": {},
   "outputs": [],
   "source": []
  }
 ],
 "metadata": {
  "kernelspec": {
   "display_name": "pydata",
   "language": "python",
   "name": "pydata"
  },
  "language_info": {
   "codemirror_mode": {
    "name": "ipython",
    "version": 3
   },
   "file_extension": ".py",
   "mimetype": "text/x-python",
   "name": "python",
   "nbconvert_exporter": "python",
   "pygments_lexer": "ipython3",
   "version": "3.7.10"
  }
 },
 "nbformat": 4,
 "nbformat_minor": 5
}
