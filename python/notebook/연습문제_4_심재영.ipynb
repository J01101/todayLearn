{
 "cells": [
  {
   "cell_type": "code",
   "execution_count": 10,
   "id": "9542b6ba",
   "metadata": {},
   "outputs": [],
   "source": [
    "from bs4 import BeautifulSoup\n",
    "from selenium import webdriver\n",
    "import time\n",
    "import os"
   ]
  },
  {
   "cell_type": "code",
   "execution_count": 11,
   "id": "40a81826",
   "metadata": {},
   "outputs": [
    {
     "name": "stdout",
     "output_type": "stream",
     "text": [
      "크롤링 키워드 >> 빅데이터 pdf\n",
      "크롤링 횟수 >> 10\n",
      "파일 저장 경로 (D:\\SJY\\python\\notebook\\crawlingData\\output)>>D:\\SJY\\python\\notebook\\crawlingData\\output\n",
      "입력한 경로가 존재\n"
     ]
    }
   ],
   "source": [
    "query_text=input('크롤링 키워드 >> ')\n",
    "cnt=input('크롤링 횟수 >> ')\n",
    "f_dir=input('파일 저장 경로 (D:\\\\SJY\\\\python\\\\notebook\\\\crawlingData\\\\output)>>')\n",
    "\n",
    "if os.path.isdir(f_dir):\n",
    "    print(f'입력한 경로가 존재')\n",
    "else:\n",
    "    os.makedirs(f_dir)\n",
    "    print(f'입력한 경로가 존재하지않아서 생성')"
   ]
  },
  {
   "cell_type": "code",
   "execution_count": 12,
   "id": "0f8f6b43",
   "metadata": {},
   "outputs": [
    {
     "name": "stdout",
     "output_type": "stream",
     "text": [
      "10\n"
     ]
    }
   ],
   "source": [
    "path = \"D:\\\\SJY\\\\python\\\\datadown\\\\chromedriver.exe\"\n",
    "driver = webdriver.Chrome(path)\n",
    "driver.get(\"https://google.com\")\n",
    "time.sleep(2)\n",
    "\n",
    "element=driver.find_element_by_css_selector('input.gLFyf.gsfi')\n",
    "element.send_keys(query_text)\n",
    "element.send_keys('\\n')\n",
    "\n",
    "time.sleep(1)\n",
    "html = driver.page_source\n",
    "soup = BeautifulSoup(html, 'html.parser')\n",
    "pdf_src= soup.select('div.yuRUbf > a')\n",
    "\n",
    "print(len(pdf_src))\n",
    "\n",
    "cnt = int(cnt)\n",
    "if cnt > len(pdf_src):\n",
    "    cnt = len(pdf_src)"
   ]
  },
  {
   "cell_type": "markdown",
   "id": "b735b5a7",
   "metadata": {},
   "source": [
    "### 방법1"
   ]
  },
  {
   "cell_type": "code",
   "execution_count": 7,
   "id": "54849519",
   "metadata": {},
   "outputs": [
    {
     "name": "stdout",
     "output_type": "stream",
     "text": [
      "10\n"
     ]
    },
    {
     "data": {
      "text/plain": [
       "'https://cs.kangwon.ac.kr/~ysmoon/courses/2017_1/grad/06.pdf'"
      ]
     },
     "execution_count": 7,
     "metadata": {},
     "output_type": "execute_result"
    }
   ],
   "source": [
    "import urllib.request\n",
    "\n",
    "file_no = 1\n",
    "pdf_src2 = []\n",
    "os.chdir(f_dir)\n",
    "\n",
    "for i in pdf_src:\n",
    "    try:\n",
    "        pdf_src1 = i['href']\n",
    "        pdf_src2.append(pdf_src1)\n",
    "    except Exception as e:\n",
    "        print(e)\n",
    "        \n",
    "print(len(pdf_src2))\n",
    "pdf_src2[0]"
   ]
  },
  {
   "cell_type": "code",
   "execution_count": 9,
   "id": "2bb9cf03",
   "metadata": {},
   "outputs": [
    {
     "name": "stdout",
     "output_type": "stream",
     "text": [
      "3번째 pdf를 저장하는 중입니다...\n",
      "4번째 pdf를 저장하는 중입니다...\n",
      "5번째 pdf를 저장하는 중입니다...\n",
      "HTTP Error 404: Not Found\n",
      "6번째 pdf를 저장하는 중입니다...\n",
      "7번째 pdf를 저장하는 중입니다...\n",
      "8번째 pdf를 저장하는 중입니다...\n",
      "9번째 pdf를 저장하는 중입니다...\n",
      "10번째 pdf를 저장하는 중입니다...\n",
      "HTTP Error 404: 404\n",
      "================================================================================\n",
      "파일이 저장된 폴더 명 : D:\\SJY\\python\\notebook\\crawlingData\\output\n",
      "================================================================================\n"
     ]
    }
   ],
   "source": [
    "for i in range(len(pdf_src2)):\n",
    "    if i == cnt:\n",
    "        break\n",
    "        \n",
    "    try:\n",
    "        urllib.request.urlretrieve(pdf_src2[i], str(file_no) + '.pdf')\n",
    "    except Exception as e:\n",
    "        print(e)\n",
    "        continue\n",
    "        \n",
    "    file_no += 1\n",
    "    time.sleep(0.5)\n",
    "    print(f'{file_no}번째 pdf를 저장하는 중입니다...')\n",
    "    \n",
    "print('='*80)\n",
    "print(f'파일이 저장된 폴더 명 : {f_dir}')\n",
    "print('='*80)\n",
    "\n",
    "driver.close()"
   ]
  },
  {
   "cell_type": "markdown",
   "id": "789e23e5",
   "metadata": {},
   "source": [
    "### 방법 2"
   ]
  },
  {
   "cell_type": "code",
   "execution_count": 13,
   "id": "bc8c83d4",
   "metadata": {},
   "outputs": [
    {
     "name": "stdout",
     "output_type": "stream",
     "text": [
      "10\n"
     ]
    },
    {
     "data": {
      "text/plain": [
       "'https://cs.kangwon.ac.kr/~ysmoon/courses/2017_1/grad/06.pdf'"
      ]
     },
     "execution_count": 13,
     "metadata": {},
     "output_type": "execute_result"
    }
   ],
   "source": [
    "import requests\n",
    "import shutil\n",
    "\n",
    "file_no = 0\n",
    "pdf_src2 = []\n",
    "os.chdir(f_dir)\n",
    "\n",
    "for i in pdf_src:\n",
    "    try:\n",
    "        pdf_src1 = i['href']\n",
    "        pdf_src2.append(pdf_src1)\n",
    "    except Exception as e:\n",
    "        print(e)\n",
    "        \n",
    "print(len(pdf_src2))\n",
    "pdf_src2[0]"
   ]
  },
  {
   "cell_type": "code",
   "execution_count": 15,
   "id": "a0136432",
   "metadata": {},
   "outputs": [
    {
     "name": "stdout",
     "output_type": "stream",
     "text": [
      "2 번째 PDF파일 저장중 ...\n",
      "3 번째 PDF파일 저장중 ...\n",
      "4 번째 PDF파일 저장중 ...\n",
      "5 번째 PDF파일 저장중 ...\n",
      "6 번째 PDF파일 저장중 ...\n",
      "7 번째 PDF파일 저장중 ...\n",
      "8 번째 PDF파일 저장중 ...\n",
      "9 번째 PDF파일 저장중 ...\n",
      "10 번째 PDF파일 저장중 ...\n",
      "11 번째 PDF파일 저장중 ...\n",
      "================================================================================\n",
      "파일이 저장된 폴더명:D:\\SJY\\python\\notebook\\crawlingData\\output\n",
      "================================================================================\n"
     ]
    }
   ],
   "source": [
    "for i in range(len(pdf_src2)):\n",
    "    if i == cnt:\n",
    "        break\n",
    "        \n",
    "    try:\n",
    "          res = requests.get(pdf_src2[i], stream = True)\n",
    "          with open(str(file_no)+'.pdf','wb') as f:\n",
    "            res.raw.decode_content = True\n",
    "            shutil.copyfileobj(res.raw, f)\n",
    "    except Exception as e:\n",
    "        print(e)\n",
    "        continue\n",
    "    \n",
    "    file_no += 1\n",
    "    time.sleep(0.5)\n",
    "    print(f\"{file_no} 번째 PDF파일 저장중 ...\")\n",
    "\n",
    "    \n",
    "print(\"=\"*80)\n",
    "print(f\"파일이 저장된 폴더명:{f_dir}\")\n",
    "print(\"=\"*80)\n",
    "\n",
    "driver.close()"
   ]
  },
  {
   "cell_type": "code",
   "execution_count": null,
   "id": "b649d317",
   "metadata": {},
   "outputs": [],
   "source": []
  }
 ],
 "metadata": {
  "kernelspec": {
   "display_name": "pydata",
   "language": "python",
   "name": "pydata"
  },
  "language_info": {
   "codemirror_mode": {
    "name": "ipython",
    "version": 3
   },
   "file_extension": ".py",
   "mimetype": "text/x-python",
   "name": "python",
   "nbconvert_exporter": "python",
   "pygments_lexer": "ipython3",
   "version": "3.7.10"
  }
 },
 "nbformat": 4,
 "nbformat_minor": 5
}
