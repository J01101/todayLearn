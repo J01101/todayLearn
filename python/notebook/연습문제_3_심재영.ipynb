{
 "cells": [
  {
   "cell_type": "code",
   "execution_count": 35,
   "id": "0090107c",
   "metadata": {},
   "outputs": [],
   "source": [
    "from bs4 import BeautifulSoup\n",
    "from selenium import webdriver\n",
    "import pandas as pd\n",
    "import time\n",
    "import math\n",
    "import sys\n",
    "import os"
   ]
  },
  {
   "cell_type": "code",
   "execution_count": 36,
   "id": "4a219d2a",
   "metadata": {},
   "outputs": [
    {
     "name": "stdout",
     "output_type": "stream",
     "text": [
      "키워드 >> 개냥이\n",
      "크롤링 횟수 >> 20\n",
      "파일 경로 (기본값 : D:\\SJY\\python\\notebook\\crawlingData\\) >> \n"
     ]
    }
   ],
   "source": [
    "keyword = input('키워드 >> ')\n",
    "\n",
    "cnt = int(input(\"크롤링 횟수 >> \"))\n",
    "\n",
    "save_path = 'D:\\\\SJY\\\\python\\\\notebook\\\\crawlingData\\\\'\n",
    "s_path = input('파일 경로 (기본값 : D:\\\\SJY\\\\python\\\\notebook\\\\crawlingData\\\\) >> ')\n",
    "if s_path=='':\n",
    "    s_path = save_path"
   ]
  },
  {
   "cell_type": "code",
   "execution_count": 37,
   "id": "b320f34b",
   "metadata": {},
   "outputs": [],
   "source": [
    "path = \"D:\\\\SJY\\\\python\\\\datadown\\\\chromedriver.exe\"\n",
    "driver = webdriver.Chrome(path)\n",
    "driver.get(\"https://naver.com\")"
   ]
  },
  {
   "cell_type": "code",
   "execution_count": 22,
   "id": "5c0b821c",
   "metadata": {},
   "outputs": [],
   "source": [
    "# 검색창의 이름을 찾아서 검색어 입력 후 검색\n",
    "element = driver.find_element_by_xpath('//*[@id=\"query\"]')\n",
    "element.send_keys(keyword)\n",
    "element.send_keys(\"\\n\")"
   ]
  },
  {
   "cell_type": "code",
   "execution_count": 23,
   "id": "bbf7fcf0",
   "metadata": {},
   "outputs": [],
   "source": [
    "driver.find_element_by_xpath('//*[@id=\"lnb\"]/div[1]/div/ul/li[2]/a').click()"
   ]
  },
  {
   "cell_type": "code",
   "execution_count": 34,
   "id": "07c4c69e",
   "metadata": {},
   "outputs": [
    {
     "data": {
      "text/plain": [
       "[<img alt=\"중성화 후 새로운 취미가 생겨버린 우리 라라,개냥이가 된 것인가!\" class=\"_image _listImage\" data-org-height=\"415\" data-org-width=\"340\" src=\"https://search.pstatic.net/common/?src=http%3A%2F%2Fblogfiles.naver.net%2FMjAyMTAyMTVfMTAy%2FMDAxNjEzMzkyMjI4MTAz.PPJTKHXGMMgxb69NC0xOXGw968ugR3H_aaUvPq5oqbkg.Wzg7MQJ893bCbXR15Edc86yBwomQKAXJXYvb0WY3UY4g.JPEG.kangbo2928%2F20210213%25A3%25DF013750.jpg&amp;type=a340\" style=\"height: 308px; opacity: 1;\"/>,\n",
       " <img alt=\"집사껌딱지 개냥이  집사에게 만져달라고 애교부리는 고양이 안 만져주면 삐지는 고양이\" class=\"_image _listImage\" data-org-height=\"453\" data-org-width=\"340\" src=\"https://search.pstatic.net/common/?src=http%3A%2F%2Fblogfiles.naver.net%2FMjAyMTA0MjFfMjQ3%2FMDAxNjE5MDA5NTQyMzQ2.NLOTiUXzhQv4SEs_ImmS7CoyQAk_5wWXCAoYz-O_3Ewg.2593gkHqQBf_AoiXB_peuBw-_HMUVberg0t8kYPIw8Ug.JPEG.jhljsyjsh123%2FKakaoTalk_20210420_132830632_06.jpg&amp;type=a340\" style=\"height: 336px; opacity: 1;\"/>,\n",
       " <img alt=\"(입양홍보) 나를 두고 개냥이라 논하지말라_ 배레모이야기\" class=\"_image _listImage\" data-org-height=\"255\" data-org-width=\"340\" src=\"https://search.pstatic.net/common/?src=http%3A%2F%2Fblogfiles.naver.net%2FMjAyMTAzMjJfNjAg%2FMDAxNjE2NDAwNzkxOTYz.gbMYxnF0VuO-SoDukCnw10XNjqTphSgq-tRez6fyeWUg.ONkCBSOwYwK2x8rLN4Gzx8cRVPJMW0BupoLrvw80fxgg.JPEG.bababo080601%2F20210322%25A3%25DF170154.jpg&amp;type=a340\" style=\"height: 189px; opacity: 1;\"/>,\n",
       " <img alt=\"인형으로 공 물어오는 개냥이에요!\" class=\"_image _listImage\" data-org-height=\"390\" data-org-width=\"340\" src=\"https://search.pstatic.net/common/?src=http%3A%2F%2Fcafefiles.naver.net%2FMjAyMDA3MjZfNjQg%2FMDAxNTk1NzQzNzIzNzQ3.gKdq5Odc75IdiZA1FI4pHZk7YNUqnYFre5fp689W2Yog.Di_7AHojkeru8DBGWNf6KBBgeHDc3iHpx5J8ndy9ifQg.JPEG%2FexternalFile.jpg&amp;type=a340\" style=\"height: 289px; opacity: 1;\"/>,\n",
       " <img alt=\"친구 아이패드로 드로잉하기, 커플사진 드로잉 그리고 개냥이.(+친구들의 커플티 선물)\" class=\"_image _listImage\" data-org-height=\"361\" data-org-width=\"340\" src=\"https://search.pstatic.net/common/?src=http%3A%2F%2Fblogfiles.naver.net%2FMjAyMTA0MjRfMjcy%2FMDAxNjE5MTkwMzg1MDQ4.zGVDqPl-6xGwARtz5Pvn-5XL4BzusZfsHF00KqN5kC4g.mJy6U195CGrtIQ1SiK-wk8Z0aoiM5cNmrvEVcuLbZN8g.JPEG.mjlzzz%2Fphoto_2021-04-23_22-26-55_%25282%2529.jpg&amp;type=a340\" style=\"height: 268px; opacity: 1;\"/>,\n",
       " <img alt=\"길냥이 ... 아니 개냥이 ♡\" class=\"_image _listImage\" data-org-height=\"600\" data-org-width=\"340\" src=\"https://search.pstatic.net/common/?src=http%3A%2F%2Fblogfiles.naver.net%2FMjAyMDA5MjlfNTEg%2FMDAxNjAxMzQ0MjUzNTk3.t2rYRsxYS2r0txo9jVlwT-6F4n2GKW4YjavPEOaqDV8g.TVtBikoi3rstE1tTQLLaN58V79UcEpVIVZKRQNQQFscg.JPEG.binyanny%2F20200919_155645.jpg&amp;type=ofullfill340_600\" style=\"height: 445px; opacity: 1;\"/>,\n",
       " <img alt=\"개냥이의성이 프로필\" class=\"_image _listImage\" data-org-height=\"453\" data-org-width=\"340\" src=\"https://search.pstatic.net/common/?src=http%3A%2F%2Fblogfiles.naver.net%2FMjAyMTA0MThfMTk5%2FMDAxNjE4NzM2NzE2Nzk4.JUqhRG1kVeKD9LkRdm1AEVYANrjGWP6OC5DFu-m722Eg.hrA2bYmI02ewTEDoE1aF_5uRH7wkW0GI9Yze2WoKBAsg.JPEG.gpdud319%2F20180501%25A3%25DF194207.jpg&amp;type=a340\" style=\"height: 336px; opacity: 1;\"/>,\n",
       " <img alt=\"개냥이 하루를 소개합니다.\" class=\"_image _listImage\" data-org-height=\"348\" data-org-width=\"340\" src=\"https://search.pstatic.net/common/?src=http%3A%2F%2Fblogfiles.naver.net%2FMjAyMDEyMTZfMjM4%2FMDAxNjA4MTEyODI2NTkx.HhGl3KAR9-7Chf16Y-5JmlIk5N79dD1qiQ0HiAmb2d8g.Pf03LOOYnD_j2d_41O1Sc4uh9RJ6tE_qWyRzD1KsJXkg.JPEG.amykim5500%2FC6783DED-92AA-4085-B307-649F5B843466.jpg&amp;type=a340\" style=\"height: 258px; opacity: 1;\"/>,\n",
       " <img alt=\"개냥이\" class=\"_image _listImage\" data-org-height=\"453\" data-org-width=\"340\" src=\"https://search.pstatic.net/common/?src=http%3A%2F%2Fblogfiles.naver.net%2FMjAyMDEyMTBfMjc5%2FMDAxNjA3NjA1ODM5NDg3.9pFc8V-kSnduqeHefNmojIZ_i7SEt24MXWQNR0rBTq8g.AcrPvb4Ehu9D8-VJ0frvm-duSg8mvc4ANcvW2ZAXPpYg.JPEG.int267%2F20201209%25A3%25DF141159.jpg&amp;type=a340\" style=\"height: 336px; opacity: 1;\"/>,\n",
       " <img alt=\"반려묘 개냥이 키우는 사람 모여랏\" class=\"_image _listImage\" data-org-height=\"453\" data-org-width=\"340\" src=\"https://search.pstatic.net/common/?src=http%3A%2F%2Fblogfiles.naver.net%2FMjAyMTA0MDRfOTEg%2FMDAxNjE3NTM3MjU0NDc5.eWcermigTqzTY10K4khCXzfxkchFD3TJGZ7XW8yCSKYg.ZJRwdbh76n7O4eOYv0vp9xU5rRuOMXLnReZ2I8LGRusg.JPEG.dingdong1031%2FKakaoTalk_20210404_005839267.jpg&amp;type=a340\" style=\"height: 336px; opacity: 1;\"/>,\n",
       " <img alt=\"입양임보 - 미묘 개냥이 평생 가족을 찾아요\" class=\"_image _listImage\" data-org-height=\"600\" data-org-width=\"340\" src=\"https://search.pstatic.net/sunny/?src=http%3A%2F%2Fwww.catcare.or.kr%2Ffiles%2Fattach%2Fimages%2F260%2F057%2F885%2F003%2F17851a1b9ceaa1a83622868df56f4ae3.jpg&amp;type=ofullfill340_600\" style=\"height: 445px; opacity: 1;\"/>,\n",
       " <img alt=\"[개인구조] 서울강서)순한 착한 개냥이 쌍비의 평생 가족을 찾습니다 ~!\" class=\"_image _listImage\" data-org-height=\"255\" data-org-width=\"340\" src=\"https://search.pstatic.net/common/?src=http%3A%2F%2Fblogfiles.naver.net%2FMjAyMTAzMThfNTMg%2FMDAxNjE2MDMxNzQ1NTI1.dn6Mw2-5etd2bVgaIcCBW3Wz0b4YFM1G_HDG2mmb5agg.mAC8sOcL_6iVLpgZwpzoyO2-woRvP1oDWVl7UsHabCsg.PNG.animalkara%2Fdownload.png&amp;type=a340\" style=\"height: 189px; opacity: 1;\"/>,\n",
       " <img alt=\"개냥이 구름이네\" class=\"_image _listImage\" data-org-height=\"600\" data-org-width=\"340\" src=\"https://search.pstatic.net/common/?src=http%3A%2F%2Fblogfiles.naver.net%2FMjAyMDExMThfMTc3%2FMDAxNjA1Njg3OTM5Njgz.PZj1A2ghvCaOdN80uQ3JdIHaI-doe9B66Ed8A00KKpwg.f3-d9joYFrraAhHW4bXk-5F-g7efQnHX7MFTo3zy6z4g.JPEG.ecatworld%2F20201116%25A3%25DF125900.jpg&amp;type=ofullfill340_600\" style=\"height: 445px; opacity: 1;\"/>,\n",
       " <img alt=\"임보일기90일째-개냥이될꺼냥\" class=\"_image _listImage\" data-org-height=\"340\" data-org-width=\"340\" src=\"https://search.pstatic.net/common/?src=http%3A%2F%2Fblogfiles.naver.net%2FMjAyMTAzMTNfMjQ0%2FMDAxNjE1NjMxNzExMjky.cVPGhdo3WX5E_bRocJHqfVH1uPSkEuz0VMc2j1vgeKAg.pN2xQKaDWIQ-9bVTeKCIlpEnO5p17x2XKQcwvpu6FT0g.JPEG.sowooko%2F20210305_204141.jpg&amp;type=a340\" style=\"height: 252px; opacity: 1;\"/>,\n",
       " <img alt=\"개냥이\" class=\"_image _listImage\" data-org-height=\"600\" data-org-width=\"340\" src=\"https://search.pstatic.net/common/?src=http%3A%2F%2Fblogfiles.naver.net%2FMjAyMDExMjhfMjk0%2FMDAxNjA2NTQ1NjY3NjA0.g3L3IqtPN0u5t-wzmbLw0corJm5kAazfmU0stQ1Jxzog.3qUsINqIYo_ueqIberJ53qgyrrqqfTxOVEFuCM9dekYg.JPEG.cjzl0109%2F20201127%25A3%25DF123808.jpg&amp;type=ofullfill340_600\" style=\"height: 445px; opacity: 1;\"/>,\n",
       " <img alt=\"산골 개냥이 삼둥이의 여유로운 휴식시간\" class=\"_image _listImage\" data-org-height=\"227\" data-org-width=\"340\" src=\"https://search.pstatic.net/common/?src=http%3A%2F%2Fblogfiles.naver.net%2FMjAyMDExMjdfMjA1%2FMDAxNjA2NDM4Nzc1Mzkx.x4-Cml8PgxiSZAguogYJnlmZ6LKd2wnKpQq_wgGehDEg.2oahs-nrfk8jEwuVtZvd2kthVW8_QGpUMtU1Ia7jsaYg.JPEG.skyfilter%2FDSC_6514.JPG&amp;type=a340\" style=\"height: 168px; opacity: 1;\"/>,\n",
       " <img alt=\"개냥이♥\" class=\"_image _listImage\" data-lazy-src=\"https://search.pstatic.net/common/?src=http%3A%2F%2Fcafefiles.naver.net%2FMjAyMDEyMjJfMjAx%2FMDAxNjA4NjA1MjExMDM2.npNZl-C9rURAfabC-QCJx9zGgTqH7FWj2xvQTn7p4Ycg.5QRl1pdfv6NrrybobdvAaZbLkS18w0NNU7anFkucLyEg.JPEG%2FexternalFile.jpg&amp;type=a340\" data-org-height=\"453\" data-org-width=\"340\" src=\"data:image/gif;base64,R0lGODlhAQABAIAAAAAAAP///yH5BAEAAAAALAAAAAABAAEAAAIBRAA7\" style=\"height: 336px;\"/>,\n",
       " <img alt=\"[입홍]  스토커같은개냥이란 '무진이' 가 찰떡!\" class=\"_image _listImage\" data-lazy-src=\"https://search.pstatic.net/common/?src=http%3A%2F%2Fblogfiles.naver.net%2FMjAyMTA0MTVfMjk2%2FMDAxNjE4NDUzNDA2NjE0.qNomOfcsRZ7eXs3uIT-K_KWBwPqvltOLFUsQSo_Bd-gg.HckuvRqe9LutIIvxIyh8zgVT3FqorsJbDSXmfW_bVpYg.PNG.winsora66%2F007.png&amp;type=a340\" data-org-height=\"227\" data-org-width=\"340\" src=\"data:image/gif;base64,R0lGODlhAQABAIAAAAAAAP///yH5BAEAAAAALAAAAAABAAEAAAIBRAA7\" style=\"height: 168px;\"/>,\n",
       " <img alt=\"에너자이져 개냥이 랙돌 분양해요.(동영상 첨부)\" class=\"_image _listImage\" data-lazy-src=\"https://search.pstatic.net/common/?src=http%3A%2F%2Fimage.nmv.naver.net%2Fcafe_2021_03_21_565%2Fd79c361e-89ef-11eb-850b-a0369ff95ec0_01.jpg&amp;type=ofullfill340_600\" data-org-height=\"600\" data-org-width=\"340\" src=\"data:image/gif;base64,R0lGODlhAQABAIAAAAAAAP///yH5BAEAAAAALAAAAAABAAEAAAIBRAA7\" style=\"height: 445px;\"/>,\n",
       " <img alt=\"개냥이\" class=\"_image _listImage\" data-lazy-src=\"https://search.pstatic.net/common/?src=http%3A%2F%2Fcafefiles.naver.net%2FMjAyMDA3MzBfOTIg%2FMDAxNTk2MDkxNDc2MDA5.sXot0Vk9yO7pbd-aBCxz_clh_y5AO9P_oJyoPJphLcgg.M2RNjsuK2uwwTUnXXBG_YUTVpJagv5zYBg9RTvXpatsg.JPEG%2FB612_20200730_152506_095.jpg&amp;type=a340\" data-org-height=\"453\" data-org-width=\"340\" src=\"data:image/gif;base64,R0lGODlhAQABAIAAAAAAAP///yH5BAEAAAAALAAAAAABAAEAAAIBRAA7\" style=\"height: 336px;\"/>,\n",
       " <img alt=\"뚱냥이 개냥이 자매 상봉\" class=\"_image _listImage\" data-lazy-src=\"https://search.pstatic.net/common/?src=http%3A%2F%2Fblogfiles.naver.net%2FMjAyMDEwMTlfMjk4%2FMDAxNjAzMDc1NjQ3MDYy.SPt3-ZOLtMav3WlhjYgNRjjJE8INzuYl2BtJUmygs0og.aHewhuwGmImwTaYSQXU1OiPVCUULbotYnmc5MkuPoocg.JPEG.chaej79%2F1603075650569.jpg&amp;type=a340\" data-org-height=\"453\" data-org-width=\"340\" src=\"data:image/gif;base64,R0lGODlhAQABAIAAAAAAAP///yH5BAEAAAAALAAAAAABAAEAAAIBRAA7\" style=\"height: 336px;\"/>,\n",
       " <img alt=\"우리집 개냥이\" class=\"_image _listImage\" data-lazy-src=\"https://search.pstatic.net/common/?src=http%3A%2F%2Fblogfiles.naver.net%2FMjAyMTAzMzBfMTQ3%2FMDAxNjE3MTA1ODEwNzc3.gtUl0EiilFRbQWlNB_fJLK2A0uHf9nuzjaj6rq0i8RQg.jUuHNXrEwV4GbVZCfNpGkeT6KyAasE2UAntIIAcUxlAg.JPEG.gpsosh%2FIMG%25A3%25DF20210330%25A3%25DF210232%25A3%25DF412.jpg&amp;type=a340\" data-org-height=\"425\" data-org-width=\"340\" src=\"data:image/gif;base64,R0lGODlhAQABAIAAAAAAAP///yH5BAEAAAAALAAAAAABAAEAAAIBRAA7\" style=\"height: 315px;\"/>,\n",
       " <img alt=\"메인쿤들은 모두 개냥이?\" class=\"_image _listImage\" data-lazy-src=\"https://search.pstatic.net/common/?src=http%3A%2F%2Fblogfiles.naver.net%2FMjAyMTA0MTlfMjU4%2FMDAxNjE4ODM0MDQzMTgz.4gwlu0aJ1-LnUhwP2lNvuP70sCBUN-N8LyJKXCJcZuEg.-h61lktya6TfUeFgHqLtZQcGsB1-MP9YtJkvIkKD_s0g.JPEG.schatziii%2F20210331%25A3%25DF223323.jpg&amp;type=a340\" data-org-height=\"255\" data-org-width=\"340\" src=\"data:image/gif;base64,R0lGODlhAQABAIAAAAAAAP///yH5BAEAAAAALAAAAAABAAEAAAIBRAA7\" style=\"height: 189px;\"/>,\n",
       " <img alt=\"사람좋아하는 개냥이 입양해주세요 ^ ^\" class=\"_image _listImage\" data-lazy-src=\"https://search.pstatic.net/common/?src=http%3A%2F%2Fcafefiles.naver.net%2FMjAyMDA3MDVfMjg4%2FMDAxNTkzOTM5NDMwOTMx.tiV6eJb0mjV_9nUzYHjvPTWBt1b8xHG2TKwqEs7I7_Ug.6rTnOlO4uilPilmJhnlehErb7HGOa1HfNm9vM7AdE6cg.JPEG%2F20200705_174918.jpg&amp;type=ofullfill340_600\" data-org-height=\"600\" data-org-width=\"340\" src=\"data:image/gif;base64,R0lGODlhAQABAIAAAAAAAP///yH5BAEAAAAALAAAAAABAAEAAAIBRAA7\" style=\"height: 445px;\"/>,\n",
       " <img alt=\"개냥이이형제, 셀커크렉스와 하이랜드\" class=\"_image _listImage\" data-lazy-src=\"https://search.pstatic.net/common/?src=http%3A%2F%2Fblogfiles.naver.net%2FMjAyMTAzMDNfMjI2%2FMDAxNjE0NzY2NDE3MTMz.rBlkhlm0A9ZFf6-_1ulLYDdYB4lfWM2AeyCDBMWXxL4g.vJ-Dly1jDF7YtOKJlxdkS_1Mc_sCVdTNHPPEsBMZByUg.JPEG.soonyeongg%2F%25C7%25CF%25B7%25BB%25C0%25CC2.jpg&amp;type=a340\" data-org-height=\"453\" data-org-width=\"340\" src=\"data:image/gif;base64,R0lGODlhAQABAIAAAAAAAP///yH5BAEAAAAALAAAAAABAAEAAAIBRAA7\" style=\"height: 336px;\"/>,\n",
       " <img alt=\"개냥이야옹이는 피곤해_고양이와 함께 추석보내기\" class=\"_image _listImage\" data-lazy-src=\"https://search.pstatic.net/common/?src=http%3A%2F%2Fblogfiles.naver.net%2FMjAyMDEwMDFfMTYz%2FMDAxNjAxNTYwMDEzMjk0.63RcR2DXz4KJ10eCE2AA1XOhuyBQ0pMWjvL_CcPUBA8g.lRgh-Y6n6VgqcqQzx4UypUx5P4ijZI4v-SzYQJLHHy4g.JPEG.vjvmfdb0405%2F1601560014857.jpg&amp;type=a340\" data-org-height=\"590\" data-org-width=\"340\" src=\"data:image/gif;base64,R0lGODlhAQABAIAAAAAAAP///yH5BAEAAAAALAAAAAABAAEAAAIBRAA7\" style=\"height: 437px;\"/>,\n",
       " <img alt=\"[캣츠앤.대구고양이호텔] 사랑스런 세상 개냥이 망고\" class=\"_image _listImage\" data-lazy-src=\"https://search.pstatic.net/common/?src=http%3A%2F%2Fblogfiles.naver.net%2FMjAxOTAxMDZfMjQ3%2FMDAxNTQ2NzI4NjAyMTg0.d-f8tuRYLER_aasNLPw5BKjzGVINkBTRDYSQtJYD4WEg.wNWqi50ptnF5lUscS1UwD-51-RVZB7RAdI5zRbTLeO4g.JPEG.catsn%2F20181228_011104.jpg&amp;type=ofullfill340_600\" data-org-height=\"600\" data-org-width=\"340\" src=\"data:image/gif;base64,R0lGODlhAQABAIAAAAAAAP///yH5BAEAAAAALAAAAAABAAEAAAIBRAA7\" style=\"height: 445px;\"/>,\n",
       " <img alt=\"쌔미 완전 애교쟁이에 개냥이 입양기다려요\" class=\"_image _listImage\" data-lazy-src=\"https://search.pstatic.net/common/?src=http%3A%2F%2Fcafefiles.naver.net%2FMjAyMDA4MDRfNDkg%2FMDAxNTk2NTEwMzIyMDk0.JhrO_epfhtCJ2L_WNJ6a3JlREhVFnFtKRo-F8zVLRKYg.hvKBKVoc1QtxMf3I7MKxbGfewdXEOFfoCfBzUE89XWYg.JPEG%2FexternalFile.jpg&amp;type=a340\" data-org-height=\"453\" data-org-width=\"340\" src=\"data:image/gif;base64,R0lGODlhAQABAIAAAAAAAP///yH5BAEAAAAALAAAAAABAAEAAAIBRAA7\" style=\"height: 336px;\"/>,\n",
       " <img alt=\"라라는 개냥이\" class=\"_image _listImage\" data-lazy-src=\"https://search.pstatic.net/common/?src=http%3A%2F%2Fblogfiles.naver.net%2FMjAyMDEyMDJfMjY5%2FMDAxNjA2OTE2Nzg4MzIy.VmvMGkO4m1fqb6NPDJEGiRLwKORyKjAgfdWvz3yiQqcg.TwXsUXMGeI_13dbkij7Xe_bEQNVRw2pFFh9-6j0W3mQg.JPEG.205-3m%2F20201202%25A3%25DF224540.jpg&amp;type=a340\" data-org-height=\"453\" data-org-width=\"340\" src=\"data:image/gif;base64,R0lGODlhAQABAIAAAAAAAP///yH5BAEAAAAALAAAAAABAAEAAAIBRAA7\" style=\"height: 336px;\"/>,\n",
       " <img alt=\"논산펜션 무수리의 시골밥상 / 개냥이와 개눔  봉구~\" class=\"_image _listImage\" data-lazy-src=\"https://search.pstatic.net/common/?src=http%3A%2F%2Fblogfiles.naver.net%2FMjAyMDA4MjNfMTcg%2FMDAxNTk4MTgxNTc1MTAy.OmWR4MhhaNYUhyLyjFr-Pg8XrnMjiEOoF736-AbgC4sg.iSiG6LDTY7i-XXo_XuWrRiFGt0-2Rr1HFRAsr4N8yjkg.JPEG.jms1cho2%2F1598181573220.jpg&amp;type=l340_165\" data-org-height=\"165\" data-org-width=\"340\" src=\"data:image/gif;base64,R0lGODlhAQABAIAAAAAAAP///yH5BAEAAAAALAAAAAABAAEAAAIBRAA7\" style=\"height: 122px;\"/>,\n",
       " <img alt=\"반려묘 개냥이 방울방울이\" class=\"_image _listImage\" data-lazy-src=\"https://search.pstatic.net/common/?src=http%3A%2F%2Fblogfiles.naver.net%2FMjAyMTAxMjBfMjA1%2FMDAxNjExMTA4MDU1NjA3.TKP5RPwsWjU1VucKpDOPIvxbtSsFVEu3Pn4jk8mpEAUg.M1SMZtKLw4wOi1QYADTH1meQa4s55-PyKmedZipWqJAg.JPEG.mocius4%2FKakaoTalk_20210120_105002587_03.jpg&amp;type=a340\" data-org-height=\"453\" data-org-width=\"340\" src=\"data:image/gif;base64,R0lGODlhAQABAIAAAAAAAP///yH5BAEAAAAALAAAAAABAAEAAAIBRAA7\" style=\"height: 336px;\"/>,\n",
       " <img alt=\"반려묘분양 개냥이를 데려왔어요\" class=\"_image _listImage\" data-lazy-src=\"https://search.pstatic.net/common/?src=http%3A%2F%2Fblogfiles.naver.net%2FMjAyMTA0MTNfMzUg%2FMDAxNjE4Mjk0MzE4NDI2.WeF6O12r0pV_ZIWGuF5BypJNaiQsRMgqXbtMi4GZSKIg.HHodfgAbEJv4VcdgPg45kzCfsqLkySlnKClBkFbsIaUg.JPEG.emongo3o%2F9.jpg&amp;type=a340\" data-org-height=\"302\" data-org-width=\"340\" src=\"data:image/gif;base64,R0lGODlhAQABAIAAAAAAAP///yH5BAEAAAAALAAAAAABAAEAAAIBRAA7\" style=\"height: 224px;\"/>,\n",
       " <img alt=\"하나는 개냥이 하나는 쌩야생\" class=\"_image _listImage\" data-lazy-src=\"https://search.pstatic.net/common/?src=http%3A%2F%2Fcafefiles.naver.net%2FMjAyMDA4MDdfNTQg%2FMDAxNTk2NzgzMDYyMzg4.35kSw7hGDcN03JScepYO2VpsmT2RoqUjuAJTQeNFB-cg.jgaNP-c1D1MbJJSC_pxWdKN_v1RNjjQ-UE71yFuXphwg.JPEG%2FexternalFile.jpg&amp;type=a340\" data-org-height=\"453\" data-org-width=\"340\" src=\"data:image/gif;base64,R0lGODlhAQABAIAAAAAAAP///yH5BAEAAAAALAAAAAABAAEAAAIBRAA7\" style=\"height: 336px;\"/>,\n",
       " <img alt=\"서울)사람에게 상처입은 개냥이 측은지심으로 품어줄 집사님 간절히 찾아요!!\" class=\"_image _listImage\" data-lazy-src=\"https://search.pstatic.net/common/?src=http%3A%2F%2Fcafefiles.naver.net%2FMjAyMDA1MDJfMjU2%2FMDAxNTg4NDAxMDIyNDk3.q30YSwBkuIS992VrQLTQhLqhW4R5bhEa5IE1gMxuZMQg.OoaqkBli2cdkpNDIoKWkmh1aAyJF9uj3f0bajYt-dxAg.JPEG%2FexternalFile.jpg&amp;type=a340\" data-org-height=\"453\" data-org-width=\"340\" src=\"data:image/gif;base64,R0lGODlhAQABAIAAAAAAAP///yH5BAEAAAAALAAAAAABAAEAAAIBRAA7\" style=\"height: 336px;\"/>,\n",
       " <img alt=\"형제 개냥이 가족 찾아요\" class=\"_image _listImage\" data-lazy-src=\"https://search.pstatic.net/common/?src=http%3A%2F%2Fblogfiles.naver.net%2FMjAyMTAyMTBfMTM0%2FMDAxNjEyOTM1NTU0MDI1.KOBVsmgoxCR4c7iOku13J5ELmb0mzUXeEu9Er1GD5nQg.dx1vTpiWPY9sLFlD-p9iWSu-JDW2jQSM7_uaznilftIg.JPEG.erica6844%2F1612934808820.jpg&amp;type=a340\" data-org-height=\"255\" data-org-width=\"340\" src=\"data:image/gif;base64,R0lGODlhAQABAIAAAAAAAP///yH5BAEAAAAALAAAAAABAAEAAAIBRAA7\" style=\"height: 189px;\"/>,\n",
       " <img alt=\"우리집에 개냥이가 산다.\" class=\"_image _listImage\" data-lazy-src=\"https://search.pstatic.net/common/?src=http%3A%2F%2Fblogfiles.naver.net%2FMjAyMDExMDhfMjQ5%2FMDAxNjA0ODM5MzA1OTg4.xLlk3P1-dZbNODQ6PJlol0jMLZpn4LXxFGi27aq4szQg.2hZquq2iw-uUq9WxJM9MoWqPnq4fxGTBUkO8tNaujmkg.JPEG.noma9886%2F20201105%25A3%25DF221833.jpg&amp;type=ofullfill340_600\" data-org-height=\"600\" data-org-width=\"340\" src=\"data:image/gif;base64,R0lGODlhAQABAIAAAAAAAP///yH5BAEAAAAALAAAAAABAAEAAAIBRAA7\" style=\"height: 445px;\"/>,\n",
       " <img alt=\"집사 특집 우리 집 개냥이 두부\" class=\"_image _listImage\" data-lazy-src=\"https://search.pstatic.net/common/?src=http%3A%2F%2Fimage.nmv.naver.net%2Fblog_2020_06_17_1715%2Fdcf728c3-b07c-11ea-8867-48df37ae3dc4_01.jpg&amp;type=ofullfill340_600\" data-org-height=\"600\" data-org-width=\"340\" src=\"data:image/gif;base64,R0lGODlhAQABAIAAAAAAAP///yH5BAEAAAAALAAAAAABAAEAAAIBRAA7\" style=\"height: 445px;\"/>,\n",
       " <img alt=\"개냥이 자매/ 스피츠 밀크씨와 스코티시폴드 라멜냥의 성장일기\" class=\"_image _listImage\" data-lazy-src=\"https://search.pstatic.net/common/?src=http%3A%2F%2Fblogfiles.naver.net%2FMjAyMDA3MThfODgg%2FMDAxNTk0OTk4Njg0NjUy.ygsyT5Bie2dKG256jCDvd6zR9OCzrcGHPz5F2zDV0sQg.of9wLB26LxVec7hYetxcWxkgjeF1eb17gM4NnrchEgcg.JPEG.yourns%2F20200703_004056.jpg&amp;type=a340\" data-org-height=\"191\" data-org-width=\"340\" src=\"data:image/gif;base64,R0lGODlhAQABAIAAAAAAAP///yH5BAEAAAAALAAAAAABAAEAAAIBRAA7\" style=\"height: 142px;\"/>,\n",
       " <img alt='길냥이에서 행복한 개냥이가 된 \"로즈 성장기\"' class=\"_image _listImage\" data-lazy-src=\"https://search.pstatic.net/common/?src=http%3A%2F%2Fblogfiles.naver.net%2FMjAyMDEwMjJfMTcg%2FMDAxNjAzMzM0MDgxNDAz.pGQyMaq3nAzJ1RRGot9JDLxh_fhXfc2Bx-gw7Z2ilcQg.sKgTBsBhNFK4_9A2Twqt7SeU9PZg353VU8O_8wfv6NMg.JPEG.sg15rak%2FKakaoTalk_20201015_135212027.jpg&amp;type=a340\" data-org-height=\"453\" data-org-width=\"340\" src=\"data:image/gif;base64,R0lGODlhAQABAIAAAAAAAP///yH5BAEAAAAALAAAAAABAAEAAAIBRAA7\" style=\"height: 336px;\"/>,\n",
       " <img alt=\"잠자는 개냥이 후추\" class=\"_image _listImage\" data-lazy-src=\"https://search.pstatic.net/common/?src=http%3A%2F%2Fblogfiles.naver.net%2FMjAyMDEyMTRfMjA2%2FMDAxNjA3OTIzOTA2MzU1.THV1IbTGJcjDX1v2ASRvj6CS9fQ2tJBxy8W6gQ5g3csg.5XBEv-NjbN10bCLorOZojHfwxmsWVXSplmtKapK0FWog.JPEG.jmu1127%2F20201211%25A3%25DF211456.jpg&amp;type=a340\" data-org-height=\"453\" data-org-width=\"340\" src=\"data:image/gif;base64,R0lGODlhAQABAIAAAAAAAP///yH5BAEAAAAALAAAAAABAAEAAAIBRAA7\" style=\"height: 336px;\"/>,\n",
       " <img alt=\"[냥줍일기] 개냥이 고영희 산책갈 때 꼭 따라옵니다! 산책냥!\" class=\"_image _listImage\" data-lazy-src=\"https://search.pstatic.net/common/?src=http%3A%2F%2Fblogfiles.naver.net%2FMjAyMDEwMTJfMTc3%2FMDAxNjAyNTA5MTkyNTgz.uiHJ3wRtvJjT4Y0e5WdPkC-q-KFuyPDg2O59ztD9nu0g.y2Gq9HGXKyg_FXL2WqBXTlz6e5LSxKUzmvji_iQNEpEg.GIF.yesomini12%2Fse3_ani_1602509187476_a.gif&amp;type=ofullfill340_600\" data-org-height=\"600\" data-org-width=\"340\" src=\"data:image/gif;base64,R0lGODlhAQABAIAAAAAAAP///yH5BAEAAAAALAAAAAABAAEAAAIBRAA7\" style=\"height: 445px;\"/>,\n",
       " <img alt=\"성격좋은 개냥이 무료분양합니다\" class=\"_image _listImage\" data-lazy-src=\"https://search.pstatic.net/common/?src=http%3A%2F%2Fcafefiles.naver.net%2F20151115_295%2Fsuji6035_1447591657252Gl0JX_JPEG%2FNa1447591497766.jpg&amp;type=a340\" data-org-height=\"453\" data-org-width=\"340\" src=\"data:image/gif;base64,R0lGODlhAQABAIAAAAAAAP///yH5BAEAAAAALAAAAAABAAEAAAIBRAA7\" style=\"height: 336px;\"/>,\n",
       " <img alt=\"개냥이 폭풍성장중\" class=\"_image _listImage\" data-lazy-src=\"https://search.pstatic.net/common/?src=http%3A%2F%2Fblogfiles.naver.net%2FMjAyMDA3MjJfMjgy%2FMDAxNTk1NDE4OTE2MzAx._cLB0WZW9-ArEXKzHhq9SeLx1_ony7BFwDl67isJyk8g.8zMnducLD0zXSTdIwWwZvc54LmlAQoq3b2h25CA7Ma8g.JPEG.youngsu1479%2FIMG_7338.jpg&amp;type=a340\" data-org-height=\"453\" data-org-width=\"340\" src=\"data:image/gif;base64,R0lGODlhAQABAIAAAAAAAP///yH5BAEAAAAALAAAAAABAAEAAAIBRAA7\" style=\"height: 336px;\"/>,\n",
       " <img alt=\"Magazine C. 개냥이 마루\" class=\"_image _listImage\" data-lazy-src=\"https://search.pstatic.net/common/?src=http%3A%2F%2Fpost.phinf.naver.net%2FMjAyMDAyMTJfMjYy%2FMDAxNTgxNDg3NDU4NzUw.3EOj5cU66jIGE064cVgX6KO4JzRd4rDay83jYq3i6Y0g.v47ZqydIMUQij6w8DK-ALQoZgGq7VN7Mkt_cfr8hYOUg.JPEG%2FIVV8tIUB9yRs4UZJzux6Pxgwaqno.jpg&amp;type=a340\" data-org-height=\"453\" data-org-width=\"340\" src=\"data:image/gif;base64,R0lGODlhAQABAIAAAAAAAP///yH5BAEAAAAALAAAAAABAAEAAAIBRAA7\" style=\"height: 336px;\"/>,\n",
       " <img alt=\"서울시립대 개냥이\" class=\"_image _listImage\" data-lazy-src=\"https://search.pstatic.net/common/?src=http%3A%2F%2Fcafefiles.naver.net%2F20140506_297%2Ftjdtn4112_1399373518472OoADk_PNG%2F380758129.png&amp;type=a340\" data-org-height=\"512\" data-org-width=\"340\" src=\"data:image/gif;base64,R0lGODlhAQABAIAAAAAAAP///yH5BAEAAAAALAAAAAABAAEAAAIBRAA7\" style=\"height: 379px;\"/>,\n",
       " <img alt=\"반려동물을 키우고 싶은데 - 개냥이vs강아지\" class=\"_image _listImage\" data-lazy-src=\"https://search.pstatic.net/common/?src=http%3A%2F%2Fblogfiles.naver.net%2FMjAxNzEyMDJfMTY4%2FMDAxNTEyMTg4ODE1MTM3.pBxng0b6iGLKA1N_30EslHdKh7wPTvv2ZmupxMnCxVsg.IppegZP_tBs7RYOMmQxqhwO2iAjqtrBS5X1xkgjei34g.JPEG.daejinno2%2FKakaoTalk_20171202_131232963.jpg&amp;type=a340\" data-org-height=\"446\" data-org-width=\"340\" src=\"data:image/gif;base64,R0lGODlhAQABAIAAAAAAAP///yH5BAEAAAAALAAAAAABAAEAAAIBRAA7\" style=\"height: 331px;\"/>,\n",
       " <img alt=\"입양임보 - 순한 순둥이 개냥이 후추의 평생 가족을 찾아요~\" class=\"_image _listImage\" data-lazy-src=\"https://search.pstatic.net/sunny/?src=http%3A%2F%2Fwww.catcare.or.kr%2Ffiles%2Fattach%2Fimages%2F260%2F610%2F104%2F004%2F36c66c4a33dc378b3b02219f223c7cff.png&amp;type=a340\" data-org-height=\"453\" data-org-width=\"340\" src=\"data:image/gif;base64,R0lGODlhAQABAIAAAAAAAP///yH5BAEAAAAALAAAAAABAAEAAAIBRAA7\" style=\"height: 336px;\"/>,\n",
       " <img alt=\"개냥이 찬이와 벌써 2주째\" class=\"_image _listImage\" data-lazy-src=\"https://search.pstatic.net/common/?src=http%3A%2F%2Fblogfiles.naver.net%2FMjAyMDA5MTBfMjIz%2FMDAxNTk5NzIwMDIyMzA4.MKSlAW7tq377kn7Ae3HXtZyu-XLw0TvGHO-SuOA58UQg.3JJnFiptCbrXTSBZV4HpUAbU874j-jbXO3K8KOd9zSkg.JPEG.wnghk9%2F09B197CE-9AF8-4D08-B1E0-A7F2F020CC82.jpeg&amp;type=a340\" data-org-height=\"453\" data-org-width=\"340\" src=\"data:image/gif;base64,R0lGODlhAQABAIAAAAAAAP///yH5BAEAAAAALAAAAAABAAEAAAIBRAA7\" style=\"height: 336px;\"/>]"
      ]
     },
     "execution_count": 34,
     "metadata": {},
     "output_type": "execute_result"
    }
   ],
   "source": [
    "file_no = 1\n",
    "list_src = []\n",
    "\n",
    "html = driver.page_source\n",
    "soup = BeautifulSoup(html, 'html.parser')\n",
    "\n",
    "os.chdir(s_path)\n",
    "\n",
    "img = soup.find_all('img', '_image', '_listImage')\n",
    "img\n"
   ]
  },
  {
   "cell_type": "code",
   "execution_count": null,
   "id": "5c1b7dbf",
   "metadata": {},
   "outputs": [],
   "source": []
  },
  {
   "cell_type": "code",
   "execution_count": null,
   "id": "265af6b3",
   "metadata": {},
   "outputs": [],
   "source": [
    "'''for i in range(cnt):\n",
    "    driver.find_element_by_xpath('//*[@id=\"main_pack\"]/section/div/div[1]/div[1]/div[{}]/div/div[1]/a/img'.format(i))\n",
    "    time.sleep(2)'''"
   ]
  }
 ],
 "metadata": {
  "kernelspec": {
   "display_name": "pydata",
   "language": "python",
   "name": "pydata"
  },
  "language_info": {
   "codemirror_mode": {
    "name": "ipython",
    "version": 3
   },
   "file_extension": ".py",
   "mimetype": "text/x-python",
   "name": "python",
   "nbconvert_exporter": "python",
   "pygments_lexer": "ipython3",
   "version": "3.7.10"
  }
 },
 "nbformat": 4,
 "nbformat_minor": 5
}
