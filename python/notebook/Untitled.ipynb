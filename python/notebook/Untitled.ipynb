{
 "cells": [
  {
   "cell_type": "code",
   "execution_count": 1,
   "id": "788c865f",
   "metadata": {},
   "outputs": [],
   "source": [
    "import urllib.request"
   ]
  },
  {
   "cell_type": "code",
   "execution_count": 4,
   "id": "2f0695be",
   "metadata": {},
   "outputs": [],
   "source": [
    "def query_sender(localcode, timecode):\n",
    "    url = 'http://apis.data.go.kr/B553881/imprmnHistInfoService/imprmnHistInfoService?'\n",
    "    code_info = 'LAWD_CD='+ localcode + '&DEAL_YMD=' + timecode \n",
    "    key = '&serviceKey=T9rYCAszF3WoioP7ckV0cyBJX2STcYMIbSES9H37hoTE0kOwFktftwtWvXHKg6i7p4IffzIFj73IUs98O6uAOw%3D%3D' \n",
    "    request = urllib.request.Request(url+code_info+key) \n",
    "    request.get_method = lambda: 'GET' \n",
    "    response_body = urllib.request.urlopen(request).read() \n",
    "    u = str(response_body, \"utf-8\") \n",
    "    return u"
   ]
  },
  {
   "cell_type": "code",
   "execution_count": 5,
   "id": "0f4f22d3",
   "metadata": {},
   "outputs": [],
   "source": [
    "s  = query_sender('11110','201612')"
   ]
  },
  {
   "cell_type": "code",
   "execution_count": 6,
   "id": "c0ae6fa9",
   "metadata": {},
   "outputs": [],
   "source": [
    "import xml.etree.ElementTree as ET\n",
    "from xml.etree.ElementTree import parse, Element"
   ]
  },
  {
   "cell_type": "code",
   "execution_count": 7,
   "id": "876df8d9",
   "metadata": {},
   "outputs": [],
   "source": [
    "def xml_to_item_list(xml_string,local_name, timecode):\n",
    "    result = []\n",
    "    root = ET.fromstring(xml_string)\n",
    "    elements = root.findall('body/items/item')\n",
    "    for item in elements:\n",
    "        try:\n",
    "            item_list = []\n",
    "            item_list.append(time_code)\n",
    "            item_list.append(item.find('거래금액').text)\n",
    "            item_list.append(item.find('건축년도').text)\n",
    "            item_list.append(local_name+\" \"+item.find('법정동').text+\" \"+item.find('지번').text)\n",
    "            item_list.append(item.find('아파트').text)\n",
    "            item_list.append(item.find('전용면적').text)\n",
    "            result.append(item_list)\n",
    "        except Exception as e:\n",
    "            print(\"This row will be ignored. \",item_list)            \n",
    "    return result "
   ]
  },
  {
   "cell_type": "code",
   "execution_count": 8,
   "id": "e6e9aff4",
   "metadata": {},
   "outputs": [
    {
     "ename": "NameError",
     "evalue": "name 'xml_string' is not defined",
     "output_type": "error",
     "traceback": [
      "\u001b[1;31m---------------------------------------------------------------------------\u001b[0m",
      "\u001b[1;31mNameError\u001b[0m                                 Traceback (most recent call last)",
      "\u001b[1;32m<ipython-input-8-bcba75271067>\u001b[0m in \u001b[0;36m<module>\u001b[1;34m\u001b[0m\n\u001b[1;32m----> 1\u001b[1;33m \u001b[0mitem_list\u001b[0m \u001b[1;33m=\u001b[0m \u001b[0mxml_to_item_list\u001b[0m\u001b[1;33m(\u001b[0m\u001b[0mxml_string\u001b[0m\u001b[1;33m,\u001b[0m\u001b[1;34m'11110'\u001b[0m\u001b[1;33m,\u001b[0m\u001b[1;34m'201612'\u001b[0m\u001b[1;33m)\u001b[0m\u001b[1;33m\u001b[0m\u001b[1;33m\u001b[0m\u001b[0m\n\u001b[0m",
      "\u001b[1;31mNameError\u001b[0m: name 'xml_string' is not defined"
     ]
    }
   ],
   "source": [
    "item_list = xml_to_item_list(xml_string,'11110','201612')"
   ]
  },
  {
   "cell_type": "code",
   "execution_count": null,
   "id": "da1b09bd",
   "metadata": {},
   "outputs": [],
   "source": []
  }
 ],
 "metadata": {
  "kernelspec": {
   "display_name": "pydata",
   "language": "python",
   "name": "pydata"
  },
  "language_info": {
   "codemirror_mode": {
    "name": "ipython",
    "version": 3
   },
   "file_extension": ".py",
   "mimetype": "text/x-python",
   "name": "python",
   "nbconvert_exporter": "python",
   "pygments_lexer": "ipython3",
   "version": "3.7.10"
  }
 },
 "nbformat": 4,
 "nbformat_minor": 5
}
