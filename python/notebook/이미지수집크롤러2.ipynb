{
 "cells": [
  {
   "cell_type": "code",
   "execution_count": 5,
   "metadata": {},
   "outputs": [
    {
     "name": "stdout",
     "output_type": "stream",
     "text": [
      "사진 저장 폴더 이름 (D:/SJY/python/notebook/data/ 안에 저장) >> \n",
      "0번째 이미지 저장 중...\n",
      "1번째 이미지 저장 중...\n",
      "2번째 이미지 저장 중...\n",
      "================================================================================\n",
      "총 소요시간은 17.6 초 입니다 \n",
      "총 저장 건수는 3 건 입니다 \n",
      "파일 저장 경로: D:/SJY/python/notebook/data/2021-4-15-11-37-14-사진저장 입니다\n",
      "================================================================================\n"
     ]
    }
   ],
   "source": [
    "#이미지 다운로드용 웹크롤러 만들기\n",
    "# Step 1. 필요한 모듈과 라이브러리를 로딩하고 검색어를 입력 받습니다\n",
    "from bs4 import BeautifulSoup\n",
    "from selenium import webdriver\n",
    "import urllib.request\n",
    "import urllib\n",
    "import time\n",
    "import sys\n",
    "import math\n",
    "import os\n",
    "\n",
    "f_path = 'D:/SJY/python/notebook/data/'\n",
    "f_dir = input('사진 저장 폴더 이름 (D:/SJY/python/notebook/data/ 안에 저장) >> ')\n",
    "f_dir = f_path + f_dir\n",
    "query_txt ='사진저장'\n",
    "\n",
    "now = time.localtime()\n",
    "s = '{}-{}-{}-{}-{}-{}'.format(now.tm_year, now.tm_mon, now.tm_mday, now.tm_hour, now.tm_min, now.tm_sec)\n",
    "\n",
    "os.makedirs(f_dir + s + '-' + query_txt)\n",
    "f_result_dir = f_dir + s + '-' + query_txt\n",
    "\n",
    "path = \"D:/SJY/python/datadown/chromedriver.exe\"\n",
    "driver = webdriver.Chrome(path)\n",
    "s_time = time.time( )\n",
    "driver.get('https://korean.visitkorea.or.kr/detail/cs_detail_cos.do?cotid=1923378b-3e45-4ae9-8610-c8235636ba5e&big_category=A01&mid_category=A0100&big_area=39')\n",
    "time.sleep(2)\n",
    "\n",
    "def scroll_down(driver):\n",
    "    driver.execute_script(\"window.scrollTo(0, document.body.scrollHeight)\")\n",
    "    time.sleep(1)\n",
    "\n",
    "scroll_down(driver)\n",
    "\n",
    "file_no = 0 # 이미지의 순서 + 이미지 이름\n",
    "img_src2 = []\n",
    "\n",
    "html = driver.page_source\n",
    "soup = BeautifulSoup(html, 'html.parser')\n",
    "\n",
    "tag = soup.find('div', 'info_area pc').find_all('a')\n",
    "\n",
    "for i in tag:\n",
    "    style = i['style'].split('(')[1].split(')')[0]\n",
    "    img_src2.append(style)\n",
    "\n",
    "os.chdir(f_dir+s+'-'+query_txt) #다운되는 곳의 경로를 생성된 특정 폴더의 경로이동\n",
    "\n",
    "for i in range(0, len(img_src2)):\n",
    "    print('{}번째 이미지 저장 중...'.format(file_no))\n",
    "    try:\n",
    "        urllib.request.urlretrieve(img_src2[i], str(file_no) + '.jpg')\n",
    "    except:\n",
    "        continue\n",
    "    file_no += 1\n",
    "    time.sleep(0.5)\n",
    "    \n",
    "e_time = time.time()\n",
    "t_time = e_time - s_time\n",
    "\n",
    "print(\"=\" *80)\n",
    "print(\"총 소요시간은 {} 초 입니다 \" .format(round(t_time,1)))\n",
    "print(\"총 저장 건수는 {} 건 입니다 \" .format(file_no))\n",
    "print(\"파일 저장 경로: {} 입니다\" .format(f_result_dir))\n",
    "print(\"=\" *80)\n",
    "\n",
    "driver.close( )"
   ]
  },
  {
   "cell_type": "code",
   "execution_count": null,
   "metadata": {},
   "outputs": [],
   "source": []
  }
 ],
 "metadata": {
  "kernelspec": {
   "display_name": "pydata",
   "language": "python",
   "name": "pydata"
  },
  "language_info": {
   "codemirror_mode": {
    "name": "ipython",
    "version": 3
   },
   "file_extension": ".py",
   "mimetype": "text/x-python",
   "name": "python",
   "nbconvert_exporter": "python",
   "pygments_lexer": "ipython3",
   "version": "3.7.10"
  }
 },
 "nbformat": 4,
 "nbformat_minor": 4
}
