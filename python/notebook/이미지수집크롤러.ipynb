{
 "cells": [
  {
   "cell_type": "code",
   "execution_count": 37,
   "metadata": {},
   "outputs": [
    {
     "name": "stdout",
     "output_type": "stream",
     "text": [
      "사진 저장 폴더 이름 (D:/SJY/python/notebook/data/ 안에 저장) >> \n"
     ]
    },
    {
     "ename": "AttributeError",
     "evalue": "'NoneType' object has no attribute 'find_all'",
     "output_type": "error",
     "traceback": [
      "\u001b[1;31m---------------------------------------------------------------------------\u001b[0m",
      "\u001b[1;31mAttributeError\u001b[0m                            Traceback (most recent call last)",
      "\u001b[1;32m<ipython-input-37-60e014203b16>\u001b[0m in \u001b[0;36m<module>\u001b[1;34m\u001b[0m\n\u001b[0;32m     38\u001b[0m \u001b[0mhtml\u001b[0m \u001b[1;33m=\u001b[0m \u001b[0mdriver\u001b[0m\u001b[1;33m.\u001b[0m\u001b[0mpage_source\u001b[0m\u001b[1;33m\u001b[0m\u001b[1;33m\u001b[0m\u001b[0m\n\u001b[0;32m     39\u001b[0m \u001b[0msoup\u001b[0m \u001b[1;33m=\u001b[0m \u001b[0mBeautifulSoup\u001b[0m\u001b[1;33m(\u001b[0m\u001b[0mhtml\u001b[0m\u001b[1;33m,\u001b[0m \u001b[1;34m'html.parser'\u001b[0m\u001b[1;33m)\u001b[0m\u001b[1;33m\u001b[0m\u001b[1;33m\u001b[0m\u001b[0m\n\u001b[1;32m---> 40\u001b[1;33m \u001b[0mimg_src\u001b[0m \u001b[1;33m=\u001b[0m \u001b[0msoup\u001b[0m\u001b[1;33m.\u001b[0m\u001b[0mfind\u001b[0m\u001b[1;33m(\u001b[0m\u001b[1;34m'div'\u001b[0m\u001b[1;33m,\u001b[0m \u001b[1;34m'box_txtPhoto'\u001b[0m\u001b[1;33m)\u001b[0m\u001b[1;33m.\u001b[0m\u001b[0mfind_all\u001b[0m\u001b[1;33m(\u001b[0m\u001b[1;34m'img'\u001b[0m\u001b[1;33m)\u001b[0m\u001b[1;33m\u001b[0m\u001b[1;33m\u001b[0m\u001b[0m\n\u001b[0m\u001b[0;32m     41\u001b[0m \u001b[1;33m\u001b[0m\u001b[0m\n\u001b[0;32m     42\u001b[0m \u001b[1;32mfor\u001b[0m \u001b[0mi\u001b[0m \u001b[1;32min\u001b[0m \u001b[0mimg_src\u001b[0m \u001b[1;33m:\u001b[0m\u001b[1;33m\u001b[0m\u001b[1;33m\u001b[0m\u001b[0m\n",
      "\u001b[1;31mAttributeError\u001b[0m: 'NoneType' object has no attribute 'find_all'"
     ]
    }
   ],
   "source": [
    "#이미지 다운로드용 웹크롤러 만들기\n",
    "# Step 1. 필요한 모듈과 라이브러리를 로딩하고 검색어를 입력 받습니다\n",
    "from bs4 import BeautifulSoup\n",
    "from selenium import webdriver\n",
    "import urllib.request\n",
    "import urllib\n",
    "import time\n",
    "import sys\n",
    "import math\n",
    "import os\n",
    "\n",
    "f_path = 'D:/SJY/python/notebook/data/'\n",
    "f_dir = input('사진 저장 폴더 이름 (D:/SJY/python/notebook/data/ 안에 저장) >> ')\n",
    "f_dir = f_path + f_dir\n",
    "query_txt ='사진저장'\n",
    "\n",
    "now = time.localtime()\n",
    "s = '{}-{}-{}-{}-{}-{}'.format(now.tm_year, now.tm_mon, now.tm_mday, now.tm_hour, now.tm_min, now.tm_sec)\n",
    "\n",
    "os.makedirs(f_dir + s + '-' + query_txt)\n",
    "f_result_dir = f_dir + s + '-' + query_txt\n",
    "\n",
    "path = \"D:/SJY/python/datadown/chromedriver.exe\"\n",
    "driver = webdriver.Chrome(path)\n",
    "s_time = time.time( )\n",
    "driver.get('https://korean.visitkorea.or.kr/detail/rem_detail.do?cotid=a6bc2c12-ecf6-4cda-ab2d-cce404f89a72&con_type=11300')\n",
    "time.sleep(2)\n",
    "\n",
    "def scroll_down(driver):\n",
    "    driver.execute_script(\"window.scrollTo(0, document.body.scrollHeight)\")\n",
    "    time.sleep(1)\n",
    "\n",
    "scroll_down(driver)\n",
    "\n",
    "file_no = 0 # 이미지의 순서 + 이미지 이름\n",
    "img_src2 = []\n",
    "\n",
    "html = driver.page_source\n",
    "soup = BeautifulSoup(html, 'html.parser')\n",
    "img_src = soup.find('div', 'box_txtPhoto').find_all('img')\n",
    "\n",
    "for i in img_src :\n",
    "        img_src1=i['src']\n",
    "        img_src2.append(img_src1)\n",
    "\n",
    "os.chdir(f_dir+s+'-'+query_txt) #다운되는 곳의 경로를 생성된 특정 폴더의 경로이동\n",
    "\n",
    "for i in range(0, len(img_src2)):\n",
    "    print('{}번째 이미지 저장 중...'.format(file_no))\n",
    "    try:\n",
    "        urllib.request.urlretrieve(img_src2[i], str(file_no) + '.jpg')\n",
    "    except:\n",
    "        continue\n",
    "    file_no += 1\n",
    "    time.sleep(0.5)\n",
    "    \n",
    "e_time = time.time()\n",
    "t_time = e_time - s_time\n",
    "\n",
    "print(\"=\" *80)\n",
    "print(\"총 소요시간은 {} 초 입니다 \" .format(round(t_time,1)))\n",
    "print(\"총 저장 건수는 {} 건 입니다 \" .format(file_no))\n",
    "print(\"파일 저장 경로: {} 입니다\" .format(f_result_dir))\n",
    "print(\"=\" *80)\n",
    "\n",
    "driver.close( )"
   ]
  },
  {
   "cell_type": "code",
   "execution_count": null,
   "metadata": {},
   "outputs": [],
   "source": []
  }
 ],
 "metadata": {
  "kernelspec": {
   "display_name": "pydata",
   "language": "python",
   "name": "pydata"
  },
  "language_info": {
   "codemirror_mode": {
    "name": "ipython",
    "version": 3
   },
   "file_extension": ".py",
   "mimetype": "text/x-python",
   "name": "python",
   "nbconvert_exporter": "python",
   "pygments_lexer": "ipython3",
   "version": "3.7.10"
  }
 },
 "nbformat": 4,
 "nbformat_minor": 4
}
