{
 "cells": [
  {
   "cell_type": "code",
   "execution_count": 1,
   "metadata": {},
   "outputs": [],
   "source": [
    "def add_number(n1, n2):\n",
    "   ret = n1+n2\n",
    "   return ret"
   ]
  },
  {
   "cell_type": "code",
   "execution_count": 4,
   "metadata": {},
   "outputs": [],
   "source": [
    "def add_txt(t1, t2):\n",
    "   print(t1+t2)"
   ]
  },
  {
   "cell_type": "code",
   "execution_count": 5,
   "metadata": {},
   "outputs": [
    {
     "name": "stdout",
     "output_type": "stream",
     "text": [
      "25\n",
      "대한민국~만세!!\n"
     ]
    }
   ],
   "source": [
    "ans = add_number(10, 15)\n",
    "print(ans)                   # 25가 출력됨\n",
    "text1 = '대한민국~'\n",
    "text2 ='만세!!'\n",
    "add_txt(text1, text2)     # ‘대한민국~만세!!’가 출력됨"
   ]
  },
  {
   "cell_type": "code",
   "execution_count": 6,
   "metadata": {},
   "outputs": [],
   "source": [
    "def abs(number):\n",
    "    if number < 0:\n",
    "        number = -number\n",
    "    return number"
   ]
  },
  {
   "cell_type": "code",
   "execution_count": 7,
   "metadata": {},
   "outputs": [
    {
     "name": "stdout",
     "output_type": "stream",
     "text": [
      "-3의 절대값 구하기: 3\n",
      "10의 절대값 구하기: 10\n"
     ]
    }
   ],
   "source": [
    "print('-3의 절대값 구하기:', abs(-3))\n",
    "print('10의 절대값 구하기:', abs(10))"
   ]
  },
  {
   "cell_type": "code",
   "execution_count": 8,
   "metadata": {},
   "outputs": [
    {
     "name": "stdout",
     "output_type": "stream",
     "text": [
      "계산 결과: 82.0\n"
     ]
    }
   ],
   "source": [
    "temp = abs(-9)/3 * abs(20) + 3 + abs(-19) \n",
    "print('계산 결과:', temp)"
   ]
  },
  {
   "cell_type": "code",
   "execution_count": 9,
   "metadata": {},
   "outputs": [],
   "source": [
    " def hap(a, b):\n",
    "    result = a + b\n",
    "    print('두 수의 합을 구해 출력해주는 함수입니다')\n",
    "    print(a, b, '의 합은 ', result, '입니다')"
   ]
  },
  {
   "cell_type": "code",
   "execution_count": 10,
   "metadata": {},
   "outputs": [
    {
     "name": "stdout",
     "output_type": "stream",
     "text": [
      "두 수의 합을 구해 출력해주는 함수입니다\n",
      "10 20 의 합은  30 입니다\n"
     ]
    }
   ],
   "source": [
    "hap(10, 20)"
   ]
  },
  {
   "cell_type": "code",
   "execution_count": 11,
   "metadata": {},
   "outputs": [
    {
     "name": "stdout",
     "output_type": "stream",
     "text": [
      "두 수의 합을 구해 출력해주는 함수입니다\n",
      "-87 172 의 합은  85 입니다\n"
     ]
    }
   ],
   "source": [
    "hap(-87, 172)"
   ]
  },
  {
   "cell_type": "code",
   "execution_count": 12,
   "metadata": {},
   "outputs": [
    {
     "name": "stdout",
     "output_type": "stream",
     "text": [
      "<class 'function'>\n"
     ]
    }
   ],
   "source": [
    "print(type(hap))"
   ]
  },
  {
   "cell_type": "code",
   "execution_count": 13,
   "metadata": {},
   "outputs": [
    {
     "data": {
      "text/plain": [
       "True"
      ]
     },
     "execution_count": 13,
     "metadata": {},
     "output_type": "execute_result"
    }
   ],
   "source": [
    "import types \n",
    "type(hap) == types.FunctionType"
   ]
  },
  {
   "cell_type": "code",
   "execution_count": 14,
   "metadata": {},
   "outputs": [
    {
     "data": {
      "text/plain": [
       "'function'"
      ]
     },
     "execution_count": 14,
     "metadata": {},
     "output_type": "execute_result"
    }
   ],
   "source": [
    "types.FunctionType.__name__"
   ]
  },
  {
   "cell_type": "code",
   "execution_count": 15,
   "metadata": {},
   "outputs": [
    {
     "data": {
      "text/plain": [
       "True"
      ]
     },
     "execution_count": 15,
     "metadata": {},
     "output_type": "execute_result"
    }
   ],
   "source": [
    "isinstance(hap,types.FunctionType)"
   ]
  },
  {
   "cell_type": "code",
   "execution_count": 24,
   "metadata": {},
   "outputs": [],
   "source": [
    "# 문자열은 원본값이 변하지 않는다.\n",
    "def changestr(mystr):\n",
    "     mystr = mystr + '_changed'\n",
    "     print ('The string inside the function: {}'.format(mystr))\n",
    "     return"
   ]
  },
  {
   "cell_type": "code",
   "execution_count": 25,
   "metadata": {},
   "outputs": [
    {
     "name": "stdout",
     "output_type": "stream",
     "text": [
      "The string inside the function: hello_changed\n"
     ]
    }
   ],
   "source": [
    "mystr = 'hello'\n",
    "changestr(mystr)"
   ]
  },
  {
   "cell_type": "code",
   "execution_count": 26,
   "metadata": {},
   "outputs": [
    {
     "name": "stdout",
     "output_type": "stream",
     "text": [
      "hello\n"
     ]
    }
   ],
   "source": [
    "print(mystr)"
   ]
  },
  {
   "cell_type": "code",
   "execution_count": 30,
   "metadata": {},
   "outputs": [],
   "source": [
    "def changestr(mystr):\n",
    "     print(id(mystr))\n",
    "     mystr = mystr + '_changed'\n",
    "     print ('The string inside the function: {}'.format(mystr))\n",
    "     print(id(mystr))\n",
    "     return"
   ]
  },
  {
   "cell_type": "code",
   "execution_count": 31,
   "metadata": {},
   "outputs": [
    {
     "name": "stdout",
     "output_type": "stream",
     "text": [
      "1762235175984\n",
      "The string inside the function: hello_changed\n",
      "1762235057008\n"
     ]
    }
   ],
   "source": [
    "mystr = 'hello'\n",
    "changestr(mystr)"
   ]
  },
  {
   "cell_type": "code",
   "execution_count": 32,
   "metadata": {},
   "outputs": [
    {
     "name": "stdout",
     "output_type": "stream",
     "text": [
      "hello\n"
     ]
    }
   ],
   "source": [
    "print(mystr)"
   ]
  },
  {
   "cell_type": "code",
   "execution_count": 33,
   "metadata": {},
   "outputs": [],
   "source": [
    "# 두 개의 값과  함수를 매개변수로 받는 함수를 정의\n",
    "def perform_calc(value1, value2, func):\n",
    "     return func(value1, value2)"
   ]
  },
  {
   "cell_type": "code",
   "execution_count": 34,
   "metadata": {},
   "outputs": [],
   "source": [
    "# 넘겨줄 수학 함수를 정의\n",
    "def mult_values(value1, value2):\n",
    "     return value1 * value2"
   ]
  },
  {
   "cell_type": "code",
   "execution_count": 35,
   "metadata": {},
   "outputs": [
    {
     "name": "stdout",
     "output_type": "stream",
     "text": [
      "8\n"
     ]
    }
   ],
   "source": [
    "#함수 호출\n",
    "print(perform_calc(2, 4, mult_values))"
   ]
  },
  {
   "cell_type": "code",
   "execution_count": 36,
   "metadata": {},
   "outputs": [],
   "source": [
    "#  넘겨줄 또 다른 함수를 정의\n",
    "def add_values(value1, value2):\n",
    "     return value1 + value2"
   ]
  },
  {
   "cell_type": "code",
   "execution_count": 37,
   "metadata": {},
   "outputs": [
    {
     "name": "stdout",
     "output_type": "stream",
     "text": [
      "6\n"
     ]
    }
   ],
   "source": [
    "print(perform_calc(2, 4, add_values))"
   ]
  },
  {
   "cell_type": "code",
   "execution_count": 38,
   "metadata": {},
   "outputs": [],
   "source": [
    "def report(message, who='Everyone'):\n",
    "    print(message, who)"
   ]
  },
  {
   "cell_type": "code",
   "execution_count": 39,
   "metadata": {},
   "outputs": [
    {
     "name": "stdout",
     "output_type": "stream",
     "text": [
      "good morning Everyone\n",
      "good morning Mr. Park\n"
     ]
    }
   ],
   "source": [
    "report('good morning')\n",
    "report('good morning', 'Mr. Park')"
   ]
  },
  {
   "cell_type": "code",
   "execution_count": 40,
   "metadata": {},
   "outputs": [],
   "source": [
    "def func(a,b):\n",
    "    print(a,b,sep=\"-\")"
   ]
  },
  {
   "cell_type": "code",
   "execution_count": 41,
   "metadata": {},
   "outputs": [
    {
     "name": "stdout",
     "output_type": "stream",
     "text": [
      "py-thon\n",
      "py-thon\n"
     ]
    }
   ],
   "source": [
    "func('py','thon')  #위치로 매핑\n",
    "func(b='thon',a='py') #키워드로 매핑"
   ]
  },
  {
   "cell_type": "code",
   "execution_count": 43,
   "metadata": {},
   "outputs": [
    {
     "name": "stdout",
     "output_type": "stream",
     "text": [
      "py-thon\n"
     ]
    }
   ],
   "source": [
    "#func(a='py', 'thon') #<---- 오류\n",
    "func('py', b='thon') #<---- 가능"
   ]
  },
  {
   "cell_type": "code",
   "execution_count": 44,
   "metadata": {},
   "outputs": [],
   "source": [
    "def print_personnel(name, position=\"staff\",nationality=\"Korea\"):\n",
    "       print(\"name = {0}\".format(name))\n",
    "       print(\"position = {0}\".format(position))\n",
    "       print(\"nationality = {0}\".format(nationality))\n",
    "       print(\"\\n\")"
   ]
  },
  {
   "cell_type": "code",
   "execution_count": 45,
   "metadata": {},
   "outputs": [
    {
     "name": "stdout",
     "output_type": "stream",
     "text": [
      "name = 박길동\n",
      "position = staff\n",
      "nationality = Korea\n",
      "\n",
      "\n"
     ]
    }
   ],
   "source": [
    "print_personnel(\"박길동\")"
   ]
  },
  {
   "cell_type": "code",
   "execution_count": 46,
   "metadata": {},
   "outputs": [
    {
     "name": "stdout",
     "output_type": "stream",
     "text": [
      "name = 박길동\n",
      "position = staff\n",
      "nationality = ROK\n",
      "\n",
      "\n"
     ]
    }
   ],
   "source": [
    "print_personnel(nationality=\"ROK\", name=\"박길동\")"
   ]
  },
  {
   "cell_type": "code",
   "execution_count": 47,
   "metadata": {},
   "outputs": [
    {
     "name": "stdout",
     "output_type": "stream",
     "text": [
      "name = 박길동\n",
      "position = 인턴\n",
      "nationality = Korea\n",
      "\n",
      "\n"
     ]
    }
   ],
   "source": [
    "print_personnel(position=\"인턴\", name=\"박길동\")"
   ]
  },
  {
   "cell_type": "code",
   "execution_count": 48,
   "metadata": {},
   "outputs": [],
   "source": [
    "def select_even(*arg):\n",
    "    result = []\n",
    "    for num in arg:\n",
    "        if num%2 == 1:\n",
    "            continue\n",
    "        result.append(num)\n",
    "    return result"
   ]
  },
  {
   "cell_type": "code",
   "execution_count": 49,
   "metadata": {},
   "outputs": [
    {
     "name": "stdout",
     "output_type": "stream",
     "text": [
      "[2, 4]\n"
     ]
    }
   ],
   "source": [
    "print(select_even(1,2,3,4))"
   ]
  },
  {
   "cell_type": "code",
   "execution_count": 50,
   "metadata": {},
   "outputs": [
    {
     "name": "stdout",
     "output_type": "stream",
     "text": [
      "[-12, 2, 48, 20]\n"
     ]
    }
   ],
   "source": [
    "print(select_even(-12, 2, 81, 99, 48, 20))"
   ]
  },
  {
   "cell_type": "code",
   "execution_count": 51,
   "metadata": {},
   "outputs": [
    {
     "name": "stdout",
     "output_type": "stream",
     "text": [
      "[]\n"
     ]
    }
   ],
   "source": [
    "print(select_even())"
   ]
  },
  {
   "cell_type": "code",
   "execution_count": 62,
   "metadata": {},
   "outputs": [],
   "source": [
    "def turnNone(value):\n",
    "    x = value"
   ]
  },
  {
   "cell_type": "code",
   "execution_count": 63,
   "metadata": {},
   "outputs": [],
   "source": [
    "def turnValue(value):\n",
    "    x = value * 10\n",
    "    return x"
   ]
  },
  {
   "cell_type": "code",
   "execution_count": 64,
   "metadata": {},
   "outputs": [],
   "source": [
    "def turnSet(value):\n",
    "    x = {value, value+1, value+2}\n",
    "    return x"
   ]
  },
  {
   "cell_type": "code",
   "execution_count": 65,
   "metadata": {},
   "outputs": [],
   "source": [
    "def turnTuple(value):\n",
    "    return value, value-1, value-2"
   ]
  },
  {
   "cell_type": "code",
   "execution_count": 66,
   "metadata": {},
   "outputs": [
    {
     "name": "stdout",
     "output_type": "stream",
     "text": [
      "None\n"
     ]
    }
   ],
   "source": [
    "print(turnNone(10))"
   ]
  },
  {
   "cell_type": "code",
   "execution_count": 67,
   "metadata": {},
   "outputs": [
    {
     "name": "stdout",
     "output_type": "stream",
     "text": [
      "100\n"
     ]
    }
   ],
   "source": [
    "print(turnValue(10))"
   ]
  },
  {
   "cell_type": "code",
   "execution_count": 68,
   "metadata": {},
   "outputs": [
    {
     "name": "stdout",
     "output_type": "stream",
     "text": [
      "{10, 11, 12}\n"
     ]
    }
   ],
   "source": [
    "print(turnSet(10))"
   ]
  },
  {
   "cell_type": "code",
   "execution_count": 69,
   "metadata": {},
   "outputs": [
    {
     "name": "stdout",
     "output_type": "stream",
     "text": [
      "(10, 9, 8)\n"
     ]
    }
   ],
   "source": [
    "print(turnTuple(10))"
   ]
  },
  {
   "cell_type": "code",
   "execution_count": 70,
   "metadata": {},
   "outputs": [],
   "source": [
    "def print_odd(start, end):\n",
    "    '''주어진 범위에서 홀수를 리스트로 만들어 주는 함수입니다.\n",
    "    start: 시작 값을 지정합니다.\n",
    "    end: 끝 값을 지정합니다.'''\n",
    "    result = []\n",
    "    for num in range(start, end+1):\n",
    "        if num%2 == 0:\n",
    "            continue\n",
    "        result.append(num)\n",
    " \n",
    "    return result"
   ]
  },
  {
   "cell_type": "code",
   "execution_count": 71,
   "metadata": {},
   "outputs": [
    {
     "name": "stdout",
     "output_type": "stream",
     "text": [
      "Help on function print_odd in module __main__:\n",
      "\n",
      "print_odd(start, end)\n",
      "    주어진 범위에서 홀수를 리스트로 만들어 주는 함수입니다.\n",
      "    start: 시작 값을 지정합니다.\n",
      "    end: 끝 값을 지정합니다.\n",
      "\n"
     ]
    }
   ],
   "source": [
    "help(print_odd)"
   ]
  },
  {
   "cell_type": "code",
   "execution_count": 76,
   "metadata": {},
   "outputs": [
    {
     "name": "stdout",
     "output_type": "stream",
     "text": [
      "--------------------------------------------------\n"
     ]
    }
   ],
   "source": [
    "print('-' * 50)\n",
    "print_odd.__doc__ = '''이건 연습삼아서'''"
   ]
  },
  {
   "cell_type": "code",
   "execution_count": 77,
   "metadata": {},
   "outputs": [
    {
     "name": "stdout",
     "output_type": "stream",
     "text": [
      "Help on function print_odd in module __main__:\n",
      "\n",
      "print_odd(start, end)\n",
      "    이건 연습삼아서\n",
      "\n"
     ]
    }
   ],
   "source": [
    "help(print_odd)"
   ]
  },
  {
   "cell_type": "code",
   "execution_count": 78,
   "metadata": {},
   "outputs": [
    {
     "name": "stdout",
     "output_type": "stream",
     "text": [
      "--------------------------------------------------\n",
      "[3, 5, 7, 9, 11, 13, 15, 17, 19]\n"
     ]
    }
   ],
   "source": [
    "print('-' * 50)\n",
    "print(print_odd(3, 19))"
   ]
  },
  {
   "cell_type": "code",
   "execution_count": 2,
   "metadata": {},
   "outputs": [
    {
     "name": "stdout",
     "output_type": "stream",
     "text": [
      "4\n"
     ]
    }
   ],
   "source": [
    "# 이름없는 한줄짜리 함수 만들기(lambda)\n",
    "\n",
    "add = lambda x, y: x+y #매개변수 2개를 받아서 두수를 더한다.\n",
    "ret = add(1, 3)\n",
    "print(ret)    # 4가 출력됨"
   ]
  },
  {
   "cell_type": "code",
   "execution_count": 3,
   "metadata": {},
   "outputs": [
    {
     "name": "stdout",
     "output_type": "stream",
     "text": [
      "Intro.pptx\n",
      "Report.docx\n"
     ]
    }
   ],
   "source": [
    "#list에 들어있는 lambda함수 두개가 있다.\n",
    "funcs = [lambda x: x+'.pptx', lambda x: x+'.docx'] \n",
    "#첫번재 list값 lambda함수 꺼내서 실행한다.\n",
    "ret1 = funcs[0]('Intro')\n",
    "#두번재 list값 lambda함수 꺼내서 실행한다.\n",
    "ret2 = funcs[1]('Report')\n",
    "print(ret1)   # intro.pptx가 출력됨\n",
    "print(ret2)   # Report.docx가 출력됨"
   ]
  },
  {
   "cell_type": "code",
   "execution_count": 4,
   "metadata": {},
   "outputs": [
    {
     "name": "stdout",
     "output_type": "stream",
     "text": [
      "[('Aimy', 9778), ('Bob', 5887), ('Kelly', 7855), ('Mary', 10999), ('Michale', 27115), ('Sams', 2111), ('Tom', 20245)]\n"
     ]
    }
   ],
   "source": [
    "names = {'Mary':10999, 'Sams':2111, 'Aimy':9778, 'Tom':20245, 'Michale':27115, 'Bob':5887, 'Kelly':7855}\n",
    "ret3 = sorted(names.items(), key=lambda x: x[0]) #키로 정렬한다.\n",
    "print(ret3)"
   ]
  },
  {
   "cell_type": "code",
   "execution_count": 5,
   "metadata": {},
   "outputs": [
    {
     "name": "stdout",
     "output_type": "stream",
     "text": [
      "[1, 4, 9, 16, 25]\n"
     ]
    }
   ],
   "source": [
    "f = lambda x: x*x #매개변수 하나를 받아서 거듭제곱하는 함수\n",
    "args = [1, 2, 3, 4, 5]\n",
    "ret = map(f, args) #함수, 함수에 사용할 인자\n",
    "print(list(ret))"
   ]
  },
  {
   "cell_type": "code",
   "execution_count": 6,
   "metadata": {},
   "outputs": [
    {
     "name": "stdout",
     "output_type": "stream",
     "text": [
      "[11, 13, 17, 23, 31]\n"
     ]
    }
   ],
   "source": [
    "f = lambda x,y: x*x + y#매개변수 두개를 받아서 거듭제곱한후 더하는 함수\n",
    "X = [1, 2, 3, 4, 5]\n",
    "Y = [10, 9, 8, 7,6]\n",
    "ret = map(f, X,Y) #함수, 함수에서 사용할 인자값\n",
    "print(list(ret))"
   ]
  },
  {
   "cell_type": "code",
   "execution_count": null,
   "metadata": {},
   "outputs": [],
   "source": []
  }
 ],
 "metadata": {
  "kernelspec": {
   "display_name": "pydata",
   "language": "python",
   "name": "pydata"
  },
  "language_info": {
   "codemirror_mode": {
    "name": "ipython",
    "version": 3
   },
   "file_extension": ".py",
   "mimetype": "text/x-python",
   "name": "python",
   "nbconvert_exporter": "python",
   "pygments_lexer": "ipython3",
   "version": "3.7.10"
  }
 },
 "nbformat": 4,
 "nbformat_minor": 4
}
