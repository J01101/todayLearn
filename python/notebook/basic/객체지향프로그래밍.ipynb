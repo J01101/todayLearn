{
 "cells": [
  {
   "cell_type": "code",
   "execution_count": 1,
   "metadata": {},
   "outputs": [],
   "source": [
    "class  klass: #클래스명 klass\n",
    "    pass      #아무일도 안한다. 임시로 코드 작성시 사용"
   ]
  },
  {
   "cell_type": "code",
   "execution_count": 2,
   "metadata": {},
   "outputs": [
    {
     "data": {
      "text/plain": [
       "__main__.klass"
      ]
     },
     "execution_count": 2,
     "metadata": {},
     "output_type": "execute_result"
    }
   ],
   "source": [
    "klass #클래스 생성"
   ]
  },
  {
   "cell_type": "code",
   "execution_count": 3,
   "metadata": {},
   "outputs": [],
   "source": [
    "k = klass() #첫번째 객체 생성"
   ]
  },
  {
   "cell_type": "code",
   "execution_count": 4,
   "metadata": {},
   "outputs": [
    {
     "data": {
      "text/plain": [
       "<__main__.klass at 0x1c7457d8188>"
      ]
     },
     "execution_count": 4,
     "metadata": {},
     "output_type": "execute_result"
    }
   ],
   "source": [
    "k  #첫번째 객체가 메모리에 생성으로 메로리 주소(참조값)가 할당된다."
   ]
  },
  {
   "cell_type": "code",
   "execution_count": 5,
   "metadata": {},
   "outputs": [
    {
     "data": {
      "text/plain": [
       "<__main__.klass at 0x1c7457d8cc8>"
      ]
     },
     "execution_count": 5,
     "metadata": {},
     "output_type": "execute_result"
    }
   ],
   "source": [
    "k2 = klass() #두번째 객체 생성\n",
    "k2 #두번째 객체가 메모리에 생성으로 메로리 주소(참조값)가 할당된다."
   ]
  },
  {
   "cell_type": "code",
   "execution_count": 6,
   "metadata": {},
   "outputs": [
    {
     "data": {
      "text/plain": [
       "(1955375972744, 1955375975624)"
      ]
     },
     "execution_count": 6,
     "metadata": {},
     "output_type": "execute_result"
    }
   ],
   "source": [
    "id(k), id(k2) #두객체의 참조값(주소)이 서로 다르다."
   ]
  },
  {
   "cell_type": "code",
   "execution_count": 12,
   "metadata": {},
   "outputs": [],
   "source": [
    "class Robot:\n",
    "    name = '홍길순'\n",
    "    weight = 45\n",
    "    \n",
    "    def speak(self):\n",
    "        print('안녕하세요. 홍길순입니다.')\n",
    " \n",
    "    def move(self):\n",
    "        print('홍길동이 이동한다.')"
   ]
  },
  {
   "cell_type": "code",
   "execution_count": 13,
   "metadata": {},
   "outputs": [],
   "source": [
    "robot1 = Robot() #첫번째 객체\n",
    "robot2 = Robot() #두번째 객체\n",
    "robot3 = Robot() #세번째 객체"
   ]
  },
  {
   "cell_type": "code",
   "execution_count": 14,
   "metadata": {},
   "outputs": [
    {
     "name": "stdout",
     "output_type": "stream",
     "text": [
      "<class '__main__.Robot'>\n",
      "안녕하세요. 홍길순입니다.\n"
     ]
    }
   ],
   "source": [
    "print(type(robot1))\n",
    "robot2.speak()"
   ]
  },
  {
   "cell_type": "code",
   "execution_count": 15,
   "metadata": {},
   "outputs": [
    {
     "name": "stdout",
     "output_type": "stream",
     "text": [
      "<class 'int'>\n"
     ]
    }
   ],
   "source": [
    "a = 10\n",
    "print(type(a))"
   ]
  },
  {
   "cell_type": "code",
   "execution_count": 16,
   "metadata": {},
   "outputs": [
    {
     "name": "stdout",
     "output_type": "stream",
     "text": [
      "<class 'int'>\n"
     ]
    }
   ],
   "source": [
    "b = int(10)\n",
    "print(type(b))"
   ]
  },
  {
   "cell_type": "code",
   "execution_count": 17,
   "metadata": {},
   "outputs": [
    {
     "name": "stdout",
     "output_type": "stream",
     "text": [
      "<class 'list'>\n"
     ]
    }
   ],
   "source": [
    "c = [1, 2, 3, 4, 5]\n",
    "print(type(c))"
   ]
  },
  {
   "cell_type": "code",
   "execution_count": 18,
   "metadata": {},
   "outputs": [
    {
     "name": "stdout",
     "output_type": "stream",
     "text": [
      "<class 'function'>\n"
     ]
    }
   ],
   "source": [
    "def func(x):\n",
    "    return x + 1\n",
    "print(type(func))"
   ]
  },
  {
   "cell_type": "code",
   "execution_count": 19,
   "metadata": {},
   "outputs": [
    {
     "name": "stdout",
     "output_type": "stream",
     "text": [
      "<class 'module'>\n"
     ]
    }
   ],
   "source": [
    "import math\n",
    "print(type(math))"
   ]
  },
  {
   "cell_type": "code",
   "execution_count": 20,
   "metadata": {},
   "outputs": [],
   "source": [
    "class Robot: #클래스의 속성은 없음\n",
    "   '''가장 심플한 클래스'''\n",
    "   pass"
   ]
  },
  {
   "cell_type": "code",
   "execution_count": 21,
   "metadata": {},
   "outputs": [],
   "source": [
    "robot1 = Robot()\n",
    "robot1.name = 'gildong 2' #객체의 속성\n",
    "robot1.weight = '45 Kg' #객체의 속성"
   ]
  },
  {
   "cell_type": "code",
   "execution_count": 22,
   "metadata": {},
   "outputs": [],
   "source": [
    "robot2 = Robot()\n",
    "robot2.name = 'gildong 2 plus' #객체의 속성\n",
    "robot2.build_year = '2011년' #객체의 속성"
   ]
  },
  {
   "cell_type": "code",
   "execution_count": 23,
   "metadata": {},
   "outputs": [
    {
     "name": "stdout",
     "output_type": "stream",
     "text": [
      "gildong 2 - 45 Kg\n",
      "gildong 2 plus - 2011년\n"
     ]
    }
   ],
   "source": [
    "print(robot1.name, '-', robot1.weight)\n",
    "print(robot2.name, '-', robot2.build_year)"
   ]
  },
  {
   "cell_type": "code",
   "execution_count": 24,
   "metadata": {},
   "outputs": [],
   "source": [
    "#초기화 함수 __init__() - 객체를 생성할때 자동으로 호출되는 초기화 함수를 이용하면 객체를 생성될때 부터 값을 가지도록 할 수 있다.\n",
    "class Robot:\n",
    "    '''다양한 로봇을 만드는 클래스'''\n",
    "    def __init__(self):\n",
    "        self.name = 'pybot'\n",
    "        self.weight = '45kg'"
   ]
  },
  {
   "cell_type": "code",
   "execution_count": 25,
   "metadata": {},
   "outputs": [],
   "source": [
    "hubo1 = Robot()\n",
    "hubo2 = Robot()"
   ]
  },
  {
   "cell_type": "code",
   "execution_count": 26,
   "metadata": {},
   "outputs": [
    {
     "name": "stdout",
     "output_type": "stream",
     "text": [
      "pybot 45kg\n",
      "pybot 45kg\n"
     ]
    }
   ],
   "source": [
    "print(hubo1.name, hubo1.weight)\n",
    "print(hubo2.name, hubo2.weight)"
   ]
  },
  {
   "cell_type": "code",
   "execution_count": 28,
   "metadata": {},
   "outputs": [
    {
     "name": "stdout",
     "output_type": "stream",
     "text": [
      "minibot 45kg\n",
      "pybot 60kg\n"
     ]
    }
   ],
   "source": [
    "hubo1.name = 'minibot'\n",
    "hubo2.weight = '60kg'\n",
    "print(hubo1.name, hubo1.weight)\n",
    "print(hubo2.name, hubo2.weight)"
   ]
  },
  {
   "cell_type": "code",
   "execution_count": 29,
   "metadata": {},
   "outputs": [
    {
     "data": {
      "text/plain": [
       "'다양한 로봇을 만드는 클래스'"
      ]
     },
     "execution_count": 29,
     "metadata": {},
     "output_type": "execute_result"
    }
   ],
   "source": [
    "Robot.__doc__"
   ]
  },
  {
   "cell_type": "code",
   "execution_count": 30,
   "metadata": {},
   "outputs": [],
   "source": [
    "class Robot:\n",
    "    '''다양한 로봇을 만드는 클래스'''\n",
    "    def __init__(self, name, build_year):\n",
    "        self.maker = 'KAIST'\n",
    "        self.isWalking = True\n",
    "        self.name = name\n",
    "        self.build_year = build_year"
   ]
  },
  {
   "cell_type": "code",
   "execution_count": 31,
   "metadata": {},
   "outputs": [
    {
     "name": "stdout",
     "output_type": "stream",
     "text": [
      "KAIST True shane 2016\n"
     ]
    }
   ],
   "source": [
    "hubo1 = Robot('shane', 2016)\n",
    "print(hubo1.maker, hubo1.isWalking, hubo1.name, hubo1.build_year)"
   ]
  },
  {
   "cell_type": "code",
   "execution_count": 33,
   "metadata": {},
   "outputs": [
    {
     "ename": "TypeError",
     "evalue": "__init__() missing 1 required positional argument: 'build_year'",
     "output_type": "error",
     "traceback": [
      "\u001b[1;31m---------------------------------------------------------------------------\u001b[0m",
      "\u001b[1;31mTypeError\u001b[0m                                 Traceback (most recent call last)",
      "\u001b[1;32m<ipython-input-33-a30cc2f136c8>\u001b[0m in \u001b[0;36m<module>\u001b[1;34m\u001b[0m\n\u001b[1;32m----> 1\u001b[1;33m \u001b[0mhubo2\u001b[0m \u001b[1;33m=\u001b[0m \u001b[0mRobot\u001b[0m\u001b[1;33m(\u001b[0m\u001b[1;36m2016\u001b[0m\u001b[1;33m)\u001b[0m \u001b[1;31m# 인자값이 부족해서 에러가 발생함.\u001b[0m\u001b[1;33m\u001b[0m\u001b[1;33m\u001b[0m\u001b[0m\n\u001b[0m",
      "\u001b[1;31mTypeError\u001b[0m: __init__() missing 1 required positional argument: 'build_year'"
     ]
    }
   ],
   "source": [
    "hubo2 = Robot(2016) # 인자값이 부족해서 에러가 발생함."
   ]
  },
  {
   "cell_type": "code",
   "execution_count": 34,
   "metadata": {},
   "outputs": [
    {
     "name": "stdout",
     "output_type": "stream",
     "text": [
      "KAIST True albert 2018\n"
     ]
    }
   ],
   "source": [
    "hubo2 = Robot('albert', 2018)\n",
    "print(hubo2.maker, hubo2.isWalking, hubo2.name, hubo2.build_year)"
   ]
  },
  {
   "cell_type": "code",
   "execution_count": 35,
   "metadata": {},
   "outputs": [],
   "source": [
    "class Test:\n",
    "    name = '클래스 속성'\n",
    "    def __init__(self):\n",
    "        self.name = \"객체속성\"\n",
    "    def getName(self):\n",
    "        return self.name"
   ]
  },
  {
   "cell_type": "code",
   "execution_count": 36,
   "metadata": {},
   "outputs": [
    {
     "data": {
      "text/plain": [
       "'클래스 속성'"
      ]
     },
     "execution_count": 36,
     "metadata": {},
     "output_type": "execute_result"
    }
   ],
   "source": [
    "Test.name #객체가 생성되기 전"
   ]
  },
  {
   "cell_type": "code",
   "execution_count": 37,
   "metadata": {},
   "outputs": [
    {
     "data": {
      "text/plain": [
       "'객체속성'"
      ]
     },
     "execution_count": 37,
     "metadata": {},
     "output_type": "execute_result"
    }
   ],
   "source": [
    "t = Test()  #객체생성되면서 __init__()호출\n",
    " \n",
    "t.getName() "
   ]
  },
  {
   "cell_type": "code",
   "execution_count": 38,
   "metadata": {},
   "outputs": [
    {
     "data": {
      "text/plain": [
       "'객체속성'"
      ]
     },
     "execution_count": 38,
     "metadata": {},
     "output_type": "execute_result"
    }
   ],
   "source": [
    "t.name"
   ]
  },
  {
   "cell_type": "code",
   "execution_count": 39,
   "metadata": {},
   "outputs": [],
   "source": [
    "class Robot:\n",
    "    '''다양한 로봇을 만드는 클래스'''\n",
    "    def __init__(self, name, build_year): #self 로 객체속성 생성\n",
    "        self.maker = 'KAIST'\n",
    "        self.isWalking = True\n",
    "        self.name = name\n",
    "        self.build_year = build_year\n",
    "        self.xpos = 0\n",
    "        self.ypos = 0\n",
    " \n",
    "    def move(self): #self로 객체속성 접근\n",
    "        if self.isWalking:\n",
    "            self.xpos += 1\n",
    "            self.ypos += 1\n",
    " \n",
    "    def curPosition(self):\n",
    "        print('현재 좌표: ({}, {})'.format(self.xpos, self.ypos))"
   ]
  },
  {
   "cell_type": "code",
   "execution_count": 40,
   "metadata": {},
   "outputs": [
    {
     "name": "stdout",
     "output_type": "stream",
     "text": [
      "현재 좌표: (3, 3)\n"
     ]
    }
   ],
   "source": [
    "hubo = Robot('shane', 2016) # __init__()으로 자동으로 호출\n",
    "hubo.move()\n",
    "hubo.move()\n",
    "hubo.move()\n",
    "hubo.curPosition()"
   ]
  },
  {
   "cell_type": "code",
   "execution_count": 41,
   "metadata": {},
   "outputs": [],
   "source": [
    "# 클래스 메소드 \n",
    "class CMethod:\n",
    "    _name = \"클래스 속성\" # 클래스 변수\n",
    "    def __init__(self, name):\n",
    "        self._name = name\n",
    "    \n",
    "    @classmethod\n",
    "    def name(cls): # cls 라는 클래스가 전달해줌.\n",
    "        return cls._name"
   ]
  },
  {
   "cell_type": "code",
   "execution_count": 42,
   "metadata": {},
   "outputs": [
    {
     "data": {
      "text/plain": [
       "'클래스 속성'"
      ]
     },
     "execution_count": 42,
     "metadata": {},
     "output_type": "execute_result"
    }
   ],
   "source": [
    "CMethod._name"
   ]
  },
  {
   "cell_type": "code",
   "execution_count": 43,
   "metadata": {},
   "outputs": [
    {
     "data": {
      "text/plain": [
       "'클래스 속성'"
      ]
     },
     "execution_count": 43,
     "metadata": {},
     "output_type": "execute_result"
    }
   ],
   "source": [
    "CMethod.name()"
   ]
  },
  {
   "cell_type": "code",
   "execution_count": 44,
   "metadata": {},
   "outputs": [
    {
     "data": {
      "text/plain": [
       "'객체속성'"
      ]
     },
     "execution_count": 44,
     "metadata": {},
     "output_type": "execute_result"
    }
   ],
   "source": [
    "c = CMethod(\"객체속성\") # 객체 생성 -> __init__('홍길동') -> 객체 변수 name = '홍길동'\n",
    "c._name"
   ]
  },
  {
   "cell_type": "code",
   "execution_count": 45,
   "metadata": {},
   "outputs": [
    {
     "data": {
      "text/plain": [
       "'클래스 속성'"
      ]
     },
     "execution_count": 45,
     "metadata": {},
     "output_type": "execute_result"
    }
   ],
   "source": [
    "c.name() #클래스 메소드의 cls 함수는 클래스 영역을 참조함다."
   ]
  },
  {
   "cell_type": "code",
   "execution_count": 46,
   "metadata": {},
   "outputs": [],
   "source": [
    "# @staticmethod 데코레이터 - 정적 메서드를 나타낸다.\n",
    "class SMethod :\n",
    "    _name = \"클래스 속성\"\n",
    "    def __init__(self, name):\n",
    "        self._name = name\n",
    "        \n",
    "    @staticmethod\n",
    "    def name(cls) :\n",
    "        return cls._name\n",
    "    \n",
    "    @staticmethod\n",
    "    def getName(self) :\n",
    "        return self._name\n",
    "    \n",
    "    @staticmethod\n",
    "    def func(x,y) :\n",
    "        return x+y"
   ]
  },
  {
   "cell_type": "code",
   "execution_count": 47,
   "metadata": {},
   "outputs": [
    {
     "data": {
      "text/plain": [
       "'클래스 속성'"
      ]
     },
     "execution_count": 47,
     "metadata": {},
     "output_type": "execute_result"
    }
   ],
   "source": [
    "SMethod.name(SMethod)"
   ]
  },
  {
   "cell_type": "code",
   "execution_count": 48,
   "metadata": {},
   "outputs": [
    {
     "data": {
      "text/plain": [
       "'객체 속성'"
      ]
     },
     "execution_count": 48,
     "metadata": {},
     "output_type": "execute_result"
    }
   ],
   "source": [
    "SMethod.name(SMethod('객체 속성'))"
   ]
  },
  {
   "cell_type": "code",
   "execution_count": 51,
   "metadata": {},
   "outputs": [
    {
     "data": {
      "text/plain": [
       "12"
      ]
     },
     "execution_count": 51,
     "metadata": {},
     "output_type": "execute_result"
    }
   ],
   "source": [
    "SMethod.func(5,7)"
   ]
  },
  {
   "cell_type": "code",
   "execution_count": 52,
   "metadata": {},
   "outputs": [
    {
     "data": {
      "text/plain": [
       "'\\n일반 메소드\\ndef name(self):\\n\\tself.name # 객체 영역의 name 변수를 나타냄\\n\\n클래스 메소드 (@classmathod)\\ndef name(cls):\\n\\tcls.name # 무조건 클래스 영역의 name 변수를 나타냄\\n\\n====================\\n\\n정적 메소드 (@staticmathod)\\n\\ndef name(cls):\\n\\tcls.name # cls 메소드 호출 시 전달 된 cls 값에 따라 객체 영역도 클래스 영역도 접근이 가능함.\\n'"
      ]
     },
     "execution_count": 52,
     "metadata": {},
     "output_type": "execute_result"
    }
   ],
   "source": [
    "'''\n",
    "일반 메소드\n",
    "def name(self):\n",
    "\tself.name # 객체 영역의 name 변수를 나타냄\n",
    "\n",
    "클래스 메소드 (@classmathod)\n",
    "def name(cls):\n",
    "\tcls.name # 무조건 클래스 영역의 name 변수를 나타냄\n",
    "\n",
    "====================\n",
    "\n",
    "정적 메소드 (@staticmathod)\n",
    "\n",
    "def name(cls):\n",
    "\tcls.name # cls 메소드 호출 시 전달 된 cls 값에 따라 객체 영역도 클래스 영역도 접근이 가능함.\n",
    "'''"
   ]
  },
  {
   "cell_type": "code",
   "execution_count": 53,
   "metadata": {},
   "outputs": [
    {
     "name": "stdout",
     "output_type": "stream",
     "text": [
      "This is name\n"
     ]
    }
   ],
   "source": [
    "class klass :\n",
    "    @property\n",
    "    def name(self) :\n",
    "        print(\"This is name\")\n",
    " \n",
    "k = klass()\n",
    "k.name"
   ]
  },
  {
   "cell_type": "code",
   "execution_count": 54,
   "metadata": {},
   "outputs": [],
   "source": [
    "# 하나의 단위로 묶어서 클래스를 만드는 것을 캡슐화라고 한다 - 캡슐화를 위해 @property를 사용할 수 있다.\n",
    "class Property :\n",
    "    def __init__(self,name, age) :\n",
    "        self._name = name\n",
    "        self._age = age\n",
    "    \n",
    "    @property\n",
    "    def name(self) :\n",
    "        return self._name\n",
    "    \n",
    "    @property\n",
    "    def age(self) :\n",
    "        return self._age\n",
    "    \n",
    "    @property\n",
    "    def getter(self) :\n",
    "        return self.name, self.age"
   ]
  },
  {
   "cell_type": "code",
   "execution_count": 55,
   "metadata": {},
   "outputs": [
    {
     "data": {
      "text/plain": [
       "'홍길동'"
      ]
     },
     "execution_count": 55,
     "metadata": {},
     "output_type": "execute_result"
    }
   ],
   "source": [
    "p = Property('홍길동',30)\n",
    "p.name"
   ]
  },
  {
   "cell_type": "code",
   "execution_count": 56,
   "metadata": {},
   "outputs": [
    {
     "data": {
      "text/plain": [
       "30"
      ]
     },
     "execution_count": 56,
     "metadata": {},
     "output_type": "execute_result"
    }
   ],
   "source": [
    "p.age"
   ]
  },
  {
   "cell_type": "code",
   "execution_count": 57,
   "metadata": {},
   "outputs": [
    {
     "data": {
      "text/plain": [
       "('홍길동', 30)"
      ]
     },
     "execution_count": 57,
     "metadata": {},
     "output_type": "execute_result"
    }
   ],
   "source": [
    "p.getter"
   ]
  },
  {
   "cell_type": "code",
   "execution_count": 58,
   "metadata": {},
   "outputs": [],
   "source": [
    "class Property2:\n",
    "    def __init__(self,name) :\n",
    "        self._name = name\n",
    "    \n",
    "    @property\n",
    "    def name(self) :\n",
    "        return self._name\n",
    "    \n",
    "    @name.setter\n",
    "    def name(self, name) :\n",
    "        self._name = name\n",
    "        \n",
    "    @name.deleter    \n",
    "    def name(self) :\n",
    "        del self._name"
   ]
  },
  {
   "cell_type": "code",
   "execution_count": 59,
   "metadata": {},
   "outputs": [
    {
     "data": {
      "text/plain": [
       "'김길동'"
      ]
     },
     "execution_count": 59,
     "metadata": {},
     "output_type": "execute_result"
    }
   ],
   "source": [
    "p2 = Property2('김길동')\n",
    "p2.name"
   ]
  },
  {
   "cell_type": "code",
   "execution_count": 66,
   "metadata": {},
   "outputs": [
    {
     "data": {
      "text/plain": [
       "'아로미'"
      ]
     },
     "execution_count": 66,
     "metadata": {},
     "output_type": "execute_result"
    }
   ],
   "source": [
    "p2.name = '아로미'  #@name.setter 연결함수 호출\n",
    "p2.name #@property 연결함수 호출"
   ]
  },
  {
   "cell_type": "code",
   "execution_count": 67,
   "metadata": {},
   "outputs": [
    {
     "ename": "AttributeError",
     "evalue": "'Property2' object has no attribute '_name'",
     "output_type": "error",
     "traceback": [
      "\u001b[1;31m---------------------------------------------------------------------------\u001b[0m",
      "\u001b[1;31mAttributeError\u001b[0m                            Traceback (most recent call last)",
      "\u001b[1;32m<ipython-input-67-4e05d4f26f36>\u001b[0m in \u001b[0;36m<module>\u001b[1;34m\u001b[0m\n\u001b[0;32m      1\u001b[0m \u001b[1;32mdel\u001b[0m \u001b[0mp2\u001b[0m\u001b[1;33m.\u001b[0m\u001b[0mname\u001b[0m \u001b[1;31m#@name.deleter 연결함수 호출\u001b[0m\u001b[1;33m\u001b[0m\u001b[1;33m\u001b[0m\u001b[0m\n\u001b[1;32m----> 2\u001b[1;33m \u001b[0mp2\u001b[0m\u001b[1;33m.\u001b[0m\u001b[0mname\u001b[0m \u001b[1;31m#@property 연결함수 호출 -> 내부 저장된 속성이 삭제되어 오류남\u001b[0m\u001b[1;33m\u001b[0m\u001b[1;33m\u001b[0m\u001b[0m\n\u001b[0m",
      "\u001b[1;32m<ipython-input-58-cc68bc97ca9c>\u001b[0m in \u001b[0;36mname\u001b[1;34m(self)\u001b[0m\n\u001b[0;32m      5\u001b[0m     \u001b[1;33m@\u001b[0m\u001b[0mproperty\u001b[0m\u001b[1;33m\u001b[0m\u001b[1;33m\u001b[0m\u001b[0m\n\u001b[0;32m      6\u001b[0m     \u001b[1;32mdef\u001b[0m \u001b[0mname\u001b[0m\u001b[1;33m(\u001b[0m\u001b[0mself\u001b[0m\u001b[1;33m)\u001b[0m \u001b[1;33m:\u001b[0m\u001b[1;33m\u001b[0m\u001b[1;33m\u001b[0m\u001b[0m\n\u001b[1;32m----> 7\u001b[1;33m         \u001b[1;32mreturn\u001b[0m \u001b[0mself\u001b[0m\u001b[1;33m.\u001b[0m\u001b[0m_name\u001b[0m\u001b[1;33m\u001b[0m\u001b[1;33m\u001b[0m\u001b[0m\n\u001b[0m\u001b[0;32m      8\u001b[0m \u001b[1;33m\u001b[0m\u001b[0m\n\u001b[0;32m      9\u001b[0m     \u001b[1;33m@\u001b[0m\u001b[0mname\u001b[0m\u001b[1;33m.\u001b[0m\u001b[0msetter\u001b[0m\u001b[1;33m\u001b[0m\u001b[1;33m\u001b[0m\u001b[0m\n",
      "\u001b[1;31mAttributeError\u001b[0m: 'Property2' object has no attribute '_name'"
     ]
    }
   ],
   "source": [
    "del p2.name #@name.deleter 연결함수 호출\n",
    "p2.name #@property 연결함수 호출 -> 내부 저장된 속성이 삭제되어 오류남"
   ]
  },
  {
   "cell_type": "code",
   "execution_count": 68,
   "metadata": {},
   "outputs": [
    {
     "data": {
      "text/plain": [
       "'왕눈이'"
      ]
     },
     "execution_count": 68,
     "metadata": {},
     "output_type": "execute_result"
    }
   ],
   "source": [
    "p2.name= \"왕눈이\" #내부 속성이 갱신됨\n",
    "p2.name"
   ]
  },
  {
   "cell_type": "code",
   "execution_count": 69,
   "metadata": {},
   "outputs": [],
   "source": [
    "class Robot:\n",
    "    '''다양한 로봇을 만드는 클래스'''\n",
    "    def __init__(self, name, build_year):\n",
    "        self.maker = 'KAIST'\n",
    "        self.isWalking = True\n",
    "        self.name = name\n",
    "        self.build_year = build_year\n",
    "        self.xpos = 0\n",
    "        self.ypos = 0\n",
    " \n",
    "    def move(self):\n",
    "        if self.isWalking:\n",
    "            self.xpos += 1\n",
    "            self.ypos += 1\n",
    " \n",
    "    def curPosition(self):\n",
    "        print('현재위치: ({}, {})'.format(self.xpos, self.ypos))\n",
    " \n",
    "    def __str__(self):\n",
    "        sentence = '이름:{}, 제조년:{}, 현재위치: ({}, {})'\\\n",
    "         .format(self.name, self.build_year, self.xpos, self.ypos)\n",
    "        return sentence"
   ]
  },
  {
   "cell_type": "code",
   "execution_count": 70,
   "metadata": {},
   "outputs": [
    {
     "name": "stdout",
     "output_type": "stream",
     "text": [
      "이름:shane, 제조년:2016, 현재위치: (0, 0)\n"
     ]
    }
   ],
   "source": [
    "hubo = Robot('shane', 2016)\n",
    "print(hubo)"
   ]
  },
  {
   "cell_type": "code",
   "execution_count": 71,
   "metadata": {},
   "outputs": [],
   "source": [
    "# 클래스 속성과 인스턴스 속성(객체속성)\n",
    "class Robot:\n",
    "    '''다양한 로봇을 만드는 클래스''' #클래스 설명\n",
    "    population = 0 #클래스 속성(변수)\n",
    "    maker = 'KAIST'  #클래스 속성(변수)\n",
    "    \n",
    "    def __init__(self, name, build_year):\n",
    "        self.isWalking = True #객체 속성(변수)\n",
    "        self.name = name #객체 속성(변수)\n",
    "        self.build_year = build_year #객체 속성(변수)\n",
    "        self.xpos = 0 #객체 속성(변수)\n",
    "        self.ypos = 0 #객체 속성(변수)\n",
    "        Robot.population += 1 #클래스 속성(변수)"
   ]
  },
  {
   "cell_type": "code",
   "execution_count": 72,
   "metadata": {},
   "outputs": [
    {
     "data": {
      "text/plain": [
       "('KAIST', 0)"
      ]
     },
     "execution_count": 72,
     "metadata": {},
     "output_type": "execute_result"
    }
   ],
   "source": [
    "Robot.maker, Robot.population"
   ]
  },
  {
   "cell_type": "code",
   "execution_count": 73,
   "metadata": {},
   "outputs": [],
   "source": [
    "hubo1 = Robot('shane', 2016) #객체 생성, __init__()호출 //  p = 1 \n",
    "hubo2 = Robot('albert', 2018) #객체 생성, __init__()호출 //  p = 2\n",
    "hubo3 = Robot('sol', 2018) #객체 생성, __init__()호출 //  p = 3"
   ]
  },
  {
   "cell_type": "code",
   "execution_count": 77,
   "metadata": {},
   "outputs": [
    {
     "name": "stdout",
     "output_type": "stream",
     "text": [
      "3 클래스 속성\n"
     ]
    }
   ],
   "source": [
    "#객체속성 population이 존재하지 않기 때문에 클래스 속성에 접근\n",
    "hubo1.population\n",
    "print(hubo1.population,\"클래스 속성\") "
   ]
  },
  {
   "cell_type": "code",
   "execution_count": 76,
   "metadata": {},
   "outputs": [
    {
     "name": "stdout",
     "output_type": "stream",
     "text": [
      "KAIST 3 클래스 속성등\n"
     ]
    }
   ],
   "source": [
    "#객체속성이 존재하지 않기때문에 클래스 속성에 접근 \n",
    "print(hubo2.maker, hubo2.population ,\"클래스 속성등\")"
   ]
  },
  {
   "cell_type": "code",
   "execution_count": 87,
   "metadata": {},
   "outputs": [],
   "source": [
    "# 데이터 숨기기, 네임 맹글링 방법 - 파이썬은 기본적으로  public (항상접근) 기능을 가진다.\n",
    "class Robot:\n",
    "    '''다양한 로봇을 만드는 클래스'''\n",
    "    def __init__(self, name, build_year):\n",
    "        self.name = name\n",
    "        self.__build_year = build_year #네임 맹글링 적용\n",
    "        self.xpos = 0\n",
    "        self.ypos = 0\n",
    " \n",
    "    def getYear(self):\n",
    "        return self.__build_year"
   ]
  },
  {
   "cell_type": "code",
   "execution_count": 93,
   "metadata": {},
   "outputs": [
    {
     "name": "stdout",
     "output_type": "stream",
     "text": [
      "albert\n"
     ]
    }
   ],
   "source": [
    "hubo = Robot('shane', 2016)\n",
    "\n",
    "hubo.name = 'albert'\n",
    "print(hubo.name)"
   ]
  },
  {
   "cell_type": "code",
   "execution_count": 94,
   "metadata": {},
   "outputs": [],
   "source": [
    "#네임 맹글링 적용되어 변수명 변경되었음 _Robot__build_year로 접근하면 사용가능\n",
    "#print(hubo.__build_year) "
   ]
  },
  {
   "cell_type": "code",
   "execution_count": 95,
   "metadata": {},
   "outputs": [
    {
     "name": "stdout",
     "output_type": "stream",
     "text": [
      "2016\n"
     ]
    }
   ],
   "source": [
    "print(hubo._Robot__build_year)"
   ]
  },
  {
   "cell_type": "code",
   "execution_count": 96,
   "metadata": {},
   "outputs": [
    {
     "name": "stdout",
     "output_type": "stream",
     "text": [
      "2016\n"
     ]
    }
   ],
   "source": [
    "print(hubo.getYear())"
   ]
  },
  {
   "cell_type": "code",
   "execution_count": 97,
   "metadata": {},
   "outputs": [
    {
     "name": "stdout",
     "output_type": "stream",
     "text": [
      "['_Robot__build_year', '__class__', '__delattr__', '__dict__', '__dir__', '__doc__', '__eq__', '__format__', '__ge__', '__getattribute__', '__gt__', '__hash__', '__init__', '__init_subclass__', '__le__', '__lt__', '__module__', '__ne__', '__new__', '__reduce__', '__reduce_ex__', '__repr__', '__setattr__', '__sizeof__', '__str__', '__subclasshook__', '__weakref__', 'getYear', 'name', 'xpos', 'ypos']\n"
     ]
    }
   ],
   "source": [
    "print(dir(hubo))"
   ]
  },
  {
   "cell_type": "code",
   "execution_count": 98,
   "metadata": {},
   "outputs": [],
   "source": [
    "class klass:\n",
    "    def __new__(cls):\n",
    "        print(\"객체가 생성되었습니다.\") \n",
    "        #초기함수 선언후 자동호출하려면 object 생성자 호출 코드필요 "
   ]
  },
  {
   "cell_type": "code",
   "execution_count": 99,
   "metadata": {},
   "outputs": [
    {
     "name": "stdout",
     "output_type": "stream",
     "text": [
      "객체가 생성되었습니다.\n"
     ]
    }
   ],
   "source": [
    "k = klass()"
   ]
  },
  {
   "cell_type": "code",
   "execution_count": 100,
   "metadata": {},
   "outputs": [],
   "source": [
    "class klass:\n",
    "    def __new__(cls, name, age):\n",
    "        print(\"객체가 생성되었습니다.\")\n",
    "        return object.__new__(cls)\n",
    "    \n",
    "    def __init__(self, name, age):\n",
    "        print(\"객체를 생성시 초기화 됩니다.\")\n",
    "        self.name = name\n",
    "        self.age = age"
   ]
  },
  {
   "cell_type": "code",
   "execution_count": 101,
   "metadata": {},
   "outputs": [
    {
     "name": "stdout",
     "output_type": "stream",
     "text": [
      "객체가 생성되었습니다.\n",
      "객체를 생성시 초기화 됩니다.\n"
     ]
    }
   ],
   "source": [
    "#k = klass() #생성자,초기화 함수의 매개변수와 매칭되게 인자를 보낸다.     \n",
    "k = klass('홍길동', 19)"
   ]
  },
  {
   "cell_type": "code",
   "execution_count": 102,
   "metadata": {},
   "outputs": [
    {
     "data": {
      "text/plain": [
       "<__main__.klass at 0x1c7458b3908>"
      ]
     },
     "execution_count": 102,
     "metadata": {},
     "output_type": "execute_result"
    }
   ],
   "source": [
    "k"
   ]
  },
  {
   "cell_type": "code",
   "execution_count": 103,
   "metadata": {},
   "outputs": [],
   "source": [
    "del k"
   ]
  },
  {
   "cell_type": "code",
   "execution_count": 105,
   "metadata": {},
   "outputs": [
    {
     "ename": "NameError",
     "evalue": "name 'k' is not defined",
     "output_type": "error",
     "traceback": [
      "\u001b[1;31m---------------------------------------------------------------------------\u001b[0m",
      "\u001b[1;31mNameError\u001b[0m                                 Traceback (most recent call last)",
      "\u001b[1;32m<ipython-input-105-141b3ea3f03f>\u001b[0m in \u001b[0;36m<module>\u001b[1;34m\u001b[0m\n\u001b[1;32m----> 1\u001b[1;33m \u001b[0mk\u001b[0m\u001b[1;33m\u001b[0m\u001b[1;33m\u001b[0m\u001b[0m\n\u001b[0m",
      "\u001b[1;31mNameError\u001b[0m: name 'k' is not defined"
     ]
    }
   ],
   "source": [
    "k"
   ]
  },
  {
   "cell_type": "code",
   "execution_count": 106,
   "metadata": {},
   "outputs": [
    {
     "name": "stdout",
     "output_type": "stream",
     "text": [
      "객체가 생성되었습니다.\n",
      "객체를 생성시 초기화 됩니다.\n"
     ]
    }
   ],
   "source": [
    "class klass:\n",
    "    def __new__(cls, name, age) :\n",
    "        print(\"객체가 생성되었습니다.\")\n",
    "        return object.__new__(cls)\n",
    "        \n",
    "    def __init__(self, name, age):\n",
    "        print(\"객체를 생성시 초기화 됩니다.\")\n",
    "        self.name = name\n",
    "        self.age = age\n",
    "        \n",
    "    def __del__(self):\n",
    "        print(\"객체가 삭제됩니다.\")\n",
    "        del self\n",
    "#k = klass()        \n",
    "k2 = klass('홍길동', 19)"
   ]
  },
  {
   "cell_type": "code",
   "execution_count": 107,
   "metadata": {},
   "outputs": [
    {
     "name": "stdout",
     "output_type": "stream",
     "text": [
      "객체가 삭제됩니다.\n"
     ]
    }
   ],
   "source": [
    "del k2"
   ]
  },
  {
   "cell_type": "code",
   "execution_count": 108,
   "metadata": {},
   "outputs": [
    {
     "ename": "NameError",
     "evalue": "name 'k2' is not defined",
     "output_type": "error",
     "traceback": [
      "\u001b[1;31m---------------------------------------------------------------------------\u001b[0m",
      "\u001b[1;31mNameError\u001b[0m                                 Traceback (most recent call last)",
      "\u001b[1;32m<ipython-input-108-e1216666c037>\u001b[0m in \u001b[0;36m<module>\u001b[1;34m\u001b[0m\n\u001b[1;32m----> 1\u001b[1;33m \u001b[0mk2\u001b[0m\u001b[1;33m\u001b[0m\u001b[1;33m\u001b[0m\u001b[0m\n\u001b[0m",
      "\u001b[1;31mNameError\u001b[0m: name 'k2' is not defined"
     ]
    }
   ],
   "source": [
    "k2"
   ]
  },
  {
   "cell_type": "code",
   "execution_count": null,
   "metadata": {},
   "outputs": [],
   "source": []
  }
 ],
 "metadata": {
  "kernelspec": {
   "display_name": "pydata",
   "language": "python",
   "name": "pydata"
  },
  "language_info": {
   "codemirror_mode": {
    "name": "ipython",
    "version": 3
   },
   "file_extension": ".py",
   "mimetype": "text/x-python",
   "name": "python",
   "nbconvert_exporter": "python",
   "pygments_lexer": "ipython3",
   "version": "3.7.10"
  }
 },
 "nbformat": 4,
 "nbformat_minor": 4
}
