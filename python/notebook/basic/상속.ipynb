{
 "cells": [
  {
   "cell_type": "code",
   "execution_count": 1,
   "metadata": {},
   "outputs": [],
   "source": [
    "class Robot:  #부모 클래스\n",
    "    '''다양한 로봇을 만드는 클래스'''\n",
    "    def speak(self):\n",
    "        print('로봇이 말한다.')\n",
    "        \n",
    "    def move(self):\n",
    "        print('로봇이 이동한다.')\n",
    " \n",
    "    def charge(self):\n",
    "        print('로봇이 충전한다.')"
   ]
  },
  {
   "cell_type": "code",
   "execution_count": 2,
   "metadata": {},
   "outputs": [],
   "source": [
    "class CleanRobot(Robot): #자식클래스 \n",
    "    def broom(self):\n",
    "        print('청소로봇이 먼지를 쓸어 담는다.')"
   ]
  },
  {
   "cell_type": "code",
   "execution_count": 3,
   "metadata": {},
   "outputs": [
    {
     "name": "stdout",
     "output_type": "stream",
     "text": [
      "로봇이 이동한다.\n"
     ]
    }
   ],
   "source": [
    "robot = Robot() #부모객체만 생성된다.\n",
    "robot.move()"
   ]
  },
  {
   "cell_type": "code",
   "execution_count": 4,
   "metadata": {},
   "outputs": [
    {
     "name": "stdout",
     "output_type": "stream",
     "text": [
      "청소로봇이 먼지를 쓸어 담는다.\n",
      "로봇이 이동한다.\n"
     ]
    }
   ],
   "source": [
    " #자식객체 생성되면 부모의 객체도 생성됨. 부모의 속성, 메소드 상속받음\n",
    "clean = CleanRobot()\n",
    "clean.broom()\n",
    "clean.move()"
   ]
  },
  {
   "cell_type": "code",
   "execution_count": 5,
   "metadata": {},
   "outputs": [],
   "source": [
    "class Parent :\n",
    "    def __init__(self,name) :\n",
    "        self.name = name"
   ]
  },
  {
   "cell_type": "code",
   "execution_count": 6,
   "metadata": {},
   "outputs": [],
   "source": [
    "class child(Parent) : # Parent 상속\n",
    "    pass"
   ]
  },
  {
   "cell_type": "code",
   "execution_count": 7,
   "metadata": {},
   "outputs": [
    {
     "ename": "TypeError",
     "evalue": "__init__() missing 1 required positional argument: 'name'",
     "output_type": "error",
     "traceback": [
      "\u001b[1;31m---------------------------------------------------------------------------\u001b[0m",
      "\u001b[1;31mTypeError\u001b[0m                                 Traceback (most recent call last)",
      "\u001b[1;32m<ipython-input-7-843e9388992a>\u001b[0m in \u001b[0;36m<module>\u001b[1;34m\u001b[0m\n\u001b[1;32m----> 1\u001b[1;33m \u001b[0mc\u001b[0m \u001b[1;33m=\u001b[0m \u001b[0mchild\u001b[0m\u001b[1;33m(\u001b[0m\u001b[1;33m)\u001b[0m \u001b[1;31m# 부모의 매개변수와 인자값이 달라 오류난다.\u001b[0m\u001b[1;33m\u001b[0m\u001b[1;33m\u001b[0m\u001b[0m\n\u001b[0m",
      "\u001b[1;31mTypeError\u001b[0m: __init__() missing 1 required positional argument: 'name'"
     ]
    }
   ],
   "source": [
    "c = child() # 부모의 매개변수와 인자값이 달라 오류난다."
   ]
  },
  {
   "cell_type": "code",
   "execution_count": 8,
   "metadata": {},
   "outputs": [],
   "source": [
    "c = child('홍길동')"
   ]
  },
  {
   "cell_type": "code",
   "execution_count": 9,
   "metadata": {},
   "outputs": [
    {
     "data": {
      "text/plain": [
       "'홍길동'"
      ]
     },
     "execution_count": 9,
     "metadata": {},
     "output_type": "execute_result"
    }
   ],
   "source": [
    "c.name"
   ]
  },
  {
   "cell_type": "code",
   "execution_count": 10,
   "metadata": {},
   "outputs": [],
   "source": [
    "class Parent :\n",
    "    def __init__(self,name) :\n",
    "        self.name = name"
   ]
  },
  {
   "cell_type": "code",
   "execution_count": 11,
   "metadata": {},
   "outputs": [],
   "source": [
    "class child(Parent) : # Parent 상속\n",
    "    def __init__(self,name, age):\n",
    "        super().__init__(name) #부모의 __init__()호출\n",
    "        self.age = age"
   ]
  },
  {
   "cell_type": "code",
   "execution_count": 12,
   "metadata": {},
   "outputs": [],
   "source": [
    "c = child('김길동',28)"
   ]
  },
  {
   "cell_type": "code",
   "execution_count": 20,
   "metadata": {},
   "outputs": [
    {
     "data": {
      "text/plain": [
       "'김길동'"
      ]
     },
     "execution_count": 20,
     "metadata": {},
     "output_type": "execute_result"
    }
   ],
   "source": [
    "c.name"
   ]
  },
  {
   "cell_type": "code",
   "execution_count": 16,
   "metadata": {},
   "outputs": [
    {
     "data": {
      "text/plain": [
       "28"
      ]
     },
     "execution_count": 16,
     "metadata": {},
     "output_type": "execute_result"
    }
   ],
   "source": [
    "c.age"
   ]
  },
  {
   "cell_type": "code",
   "execution_count": 18,
   "metadata": {},
   "outputs": [],
   "source": [
    "p = Parent('길')"
   ]
  },
  {
   "cell_type": "code",
   "execution_count": 19,
   "metadata": {},
   "outputs": [
    {
     "data": {
      "text/plain": [
       "'길'"
      ]
     },
     "execution_count": 19,
     "metadata": {},
     "output_type": "execute_result"
    }
   ],
   "source": [
    "p.name"
   ]
  },
  {
   "cell_type": "code",
   "execution_count": 21,
   "metadata": {},
   "outputs": [],
   "source": [
    "# super()\n",
    "class Robot:\n",
    "    '''다양한 로봇을 만드는 클래스'''\n",
    "    def __init__(self, name, pos):\n",
    "        self.name = name\n",
    "        self.pos = pos\n",
    "        \n",
    "    def move(self):\n",
    "        print('로봇이 이동한다.')\n",
    " \n",
    "    def charge(self):\n",
    "        print('로봇이 충전한다.')"
   ]
  },
  {
   "cell_type": "code",
   "execution_count": 22,
   "metadata": {},
   "outputs": [],
   "source": [
    "class CleanRobot(Robot):\n",
    "    def __init__(self, name, pos, filtertype):\n",
    "        super().__init__(name, pos)\n",
    "        self.filtertype = filtertype\n",
    "        \n",
    "    def broom(self):\n",
    "        print('청소로봇이 먼지를 쓸어 담는다.')\n",
    " \n",
    "    def __str__(self):\n",
    "        word = '{}를 장착한 {}, {}에서 시작'\\\n",
    "               .format(self.filtertype, self.name, self.pos)\n",
    "        return word"
   ]
  },
  {
   "cell_type": "code",
   "execution_count": 23,
   "metadata": {},
   "outputs": [],
   "source": [
    "clean = CleanRobot('깔끔이로봇', (20, 45), '먼지필터')"
   ]
  },
  {
   "cell_type": "code",
   "execution_count": 24,
   "metadata": {},
   "outputs": [
    {
     "name": "stdout",
     "output_type": "stream",
     "text": [
      "먼지필터를 장착한 깔끔이로봇, (20, 45)에서 시작\n"
     ]
    }
   ],
   "source": [
    "print(clean) #__str__()의 리턴값이 출력된다."
   ]
  },
  {
   "cell_type": "code",
   "execution_count": 25,
   "metadata": {},
   "outputs": [
    {
     "name": "stdout",
     "output_type": "stream",
     "text": [
      "로봇이 이동한다.\n"
     ]
    }
   ],
   "source": [
    "clean.move()"
   ]
  },
  {
   "cell_type": "code",
   "execution_count": 26,
   "metadata": {},
   "outputs": [
    {
     "name": "stdout",
     "output_type": "stream",
     "text": [
      "청소로봇이 먼지를 쓸어 담는다.\n"
     ]
    }
   ],
   "source": [
    "clean.broom()"
   ]
  },
  {
   "cell_type": "code",
   "execution_count": 27,
   "metadata": {},
   "outputs": [],
   "source": [
    "# 메서드 오버라이딩 - 오버라이딩은 부모 클래스로 부터 물려받은 메서드를 자식 클래스에서 재정의 하는 것\n",
    "class Parent:\n",
    "    name=\"Parent\"\n",
    "    def print_name(self) :\n",
    "        print(\"Parent\")"
   ]
  },
  {
   "cell_type": "code",
   "execution_count": 36,
   "metadata": {},
   "outputs": [],
   "source": [
    "class Child(Parent) :\n",
    "    name = \"Child\"\n",
    "    def print_name(self) :\n",
    "        print(\"Child\")\n",
    "        print(self.name)"
   ]
  },
  {
   "cell_type": "code",
   "execution_count": 37,
   "metadata": {},
   "outputs": [],
   "source": [
    "c = Child()"
   ]
  },
  {
   "cell_type": "code",
   "execution_count": 38,
   "metadata": {},
   "outputs": [
    {
     "name": "stdout",
     "output_type": "stream",
     "text": [
      "Child\n"
     ]
    }
   ],
   "source": [
    "print(c.name)"
   ]
  },
  {
   "cell_type": "code",
   "execution_count": 39,
   "metadata": {},
   "outputs": [
    {
     "name": "stdout",
     "output_type": "stream",
     "text": [
      "Child\n",
      "Child\n"
     ]
    }
   ],
   "source": [
    "c.print_name()"
   ]
  },
  {
   "cell_type": "code",
   "execution_count": 41,
   "metadata": {},
   "outputs": [],
   "source": [
    "# 상위클래스의 메소드를 무시하고 재정의된 자식 클래스의 메서드가 호출된다.\n",
    "class Animal :\n",
    "    def say(self, message) :\n",
    "        return message"
   ]
  },
  {
   "cell_type": "code",
   "execution_count": 43,
   "metadata": {},
   "outputs": [],
   "source": [
    "class Dog(Animal) :\n",
    "    def say(self, message) :\n",
    "        print(\"강아지가 소리를 냅니다.\", message)"
   ]
  },
  {
   "cell_type": "code",
   "execution_count": 44,
   "metadata": {},
   "outputs": [],
   "source": [
    "class Bird(Animal) :\n",
    "    def say(self,message) :\n",
    "        print(\"새가 노래를 부룹니다.\", message) "
   ]
  },
  {
   "cell_type": "code",
   "execution_count": 45,
   "metadata": {},
   "outputs": [
    {
     "data": {
      "text/plain": [
       "' 엉엉엉 '"
      ]
     },
     "execution_count": 45,
     "metadata": {},
     "output_type": "execute_result"
    }
   ],
   "source": [
    "animal = Animal()\n",
    "animal.say(\" 엉엉엉 \")"
   ]
  },
  {
   "cell_type": "code",
   "execution_count": 46,
   "metadata": {},
   "outputs": [
    {
     "name": "stdout",
     "output_type": "stream",
     "text": [
      "강아지가 소리를 냅니다.  멍멍멍 \n"
     ]
    }
   ],
   "source": [
    "dog = Dog()\n",
    "dog.say(\" 멍멍멍 \")"
   ]
  },
  {
   "cell_type": "code",
   "execution_count": 47,
   "metadata": {},
   "outputs": [
    {
     "name": "stdout",
     "output_type": "stream",
     "text": [
      "새가 노래를 부룹니다.  짹짹짹 \n"
     ]
    }
   ],
   "source": [
    "bird = Bird()\n",
    "bird.say(\" 짹짹짹 \")"
   ]
  },
  {
   "cell_type": "code",
   "execution_count": 48,
   "metadata": {},
   "outputs": [],
   "source": [
    "class Robot:\n",
    "    '''다양한 로봇을 만드는 클래스'''      \n",
    "    def move(self):\n",
    "        print('로봇이 이동한다.')\n",
    " \n",
    "    def charge(self):\n",
    "        print('로봇이 충전한다.')"
   ]
  },
  {
   "cell_type": "code",
   "execution_count": 50,
   "metadata": {},
   "outputs": [],
   "source": [
    "class CleanRobot(Robot):\n",
    "    def move(self):\n",
    "        print('청소 로봇이 이동한다.')\n",
    "        \n",
    "    def charge(self):\n",
    "        print('청소 로봇이 충전한다.')"
   ]
  },
  {
   "cell_type": "code",
   "execution_count": 51,
   "metadata": {},
   "outputs": [
    {
     "name": "stdout",
     "output_type": "stream",
     "text": [
      "로봇이 이동한다.\n",
      "로봇이 충전한다.\n"
     ]
    }
   ],
   "source": [
    "robot = Robot()\n",
    "robot.move()\n",
    "robot.charge()"
   ]
  },
  {
   "cell_type": "code",
   "execution_count": 52,
   "metadata": {},
   "outputs": [
    {
     "name": "stdout",
     "output_type": "stream",
     "text": [
      "청소 로봇이 이동한다.\n",
      "청소 로봇이 충전한다.\n"
     ]
    }
   ],
   "source": [
    "clean = CleanRobot()\n",
    "clean.move()\n",
    "clean.charge()"
   ]
  },
  {
   "cell_type": "code",
   "execution_count": 53,
   "metadata": {},
   "outputs": [],
   "source": [
    "# 포함관계 - 포함 관계는 한 클래스가 다른 클래스의 멤버로 포함되는 것을 말한다.\n",
    "\n",
    "# Client 클래스에 포함될 클래스\n",
    "class Association :\n",
    "    def other_init(self, other, name) : #client같은 다른 객체의 속성을 생성\n",
    "        other.name = name"
   ]
  },
  {
   "cell_type": "code",
   "execution_count": 54,
   "metadata": {},
   "outputs": [],
   "source": [
    "#Association 클래스를 포함할 클래스\n",
    "class Client:\n",
    "    def __init__(self, name, age) :\n",
    "        _name = Association() #속성값으로 Association의 객체를 할당한다.\n",
    "        _name.other_init(self, name)\n",
    "        self.age = age"
   ]
  },
  {
   "cell_type": "code",
   "execution_count": 55,
   "metadata": {},
   "outputs": [
    {
     "name": "stdout",
     "output_type": "stream",
     "text": [
      "아로미\n"
     ]
    },
    {
     "data": {
      "text/plain": [
       "25"
      ]
     },
     "execution_count": 55,
     "metadata": {},
     "output_type": "execute_result"
    }
   ],
   "source": [
    "c1 = Client(\"아로미\",25)\n",
    "print(c1.name)\n",
    "c1.age"
   ]
  },
  {
   "cell_type": "code",
   "execution_count": 56,
   "metadata": {},
   "outputs": [
    {
     "ename": "AttributeError",
     "evalue": "'Client' object has no attribute 'other_init'",
     "output_type": "error",
     "traceback": [
      "\u001b[1;31m---------------------------------------------------------------------------\u001b[0m",
      "\u001b[1;31mAttributeError\u001b[0m                            Traceback (most recent call last)",
      "\u001b[1;32m<ipython-input-56-3676031f685b>\u001b[0m in \u001b[0;36m<module>\u001b[1;34m\u001b[0m\n\u001b[1;32m----> 1\u001b[1;33m \u001b[0mc1\u001b[0m\u001b[1;33m.\u001b[0m\u001b[0mother_init\u001b[0m\u001b[1;33m(\u001b[0m\u001b[1;33m)\u001b[0m\u001b[1;33m\u001b[0m\u001b[1;33m\u001b[0m\u001b[0m\n\u001b[0m",
      "\u001b[1;31mAttributeError\u001b[0m: 'Client' object has no attribute 'other_init'"
     ]
    }
   ],
   "source": []
  },
  {
   "cell_type": "code",
   "execution_count": 57,
   "metadata": {},
   "outputs": [],
   "source": [
    "import random"
   ]
  },
  {
   "cell_type": "code",
   "execution_count": 58,
   "metadata": {},
   "outputs": [],
   "source": [
    "#Robot에 포함될 클래스\n",
    "class Motor:\n",
    "    def __init__(self):\n",
    "        self.distance = 0\n",
    "        \n",
    "    def forward(self):\n",
    "        print('앞으로 이동한다')\n",
    "        self.distance += 1\n",
    "        \n",
    "    def backward(self):\n",
    "        print('뒤로 이동한다')\n",
    "        self.distance -= 1"
   ]
  },
  {
   "cell_type": "code",
   "execution_count": 59,
   "metadata": {},
   "outputs": [],
   "source": [
    "#Moter 객체를 포함할 클래스        \n",
    "class Robot:\n",
    "    '''다양한 로봇을 만드는 클래스'''\n",
    "    def __init__(self):\n",
    "        self.drive = Motor()\n",
    "        \n",
    "    def __str__(self): #객체출력하면 보여줄 문자열\n",
    "        return '이동거리: {}'.format(self.drive.distance)"
   ]
  },
  {
   "cell_type": "code",
   "execution_count": 60,
   "metadata": {},
   "outputs": [],
   "source": [
    "robot = Robot()"
   ]
  },
  {
   "cell_type": "code",
   "execution_count": 61,
   "metadata": {},
   "outputs": [
    {
     "name": "stdout",
     "output_type": "stream",
     "text": [
      "앞으로 이동한다\n",
      "앞으로 이동한다\n",
      "뒤로 이동한다\n",
      "뒤로 이동한다\n",
      "뒤로 이동한다\n",
      "앞으로 이동한다\n",
      "뒤로 이동한다\n",
      "뒤로 이동한다\n",
      "뒤로 이동한다\n",
      "뒤로 이동한다\n"
     ]
    }
   ],
   "source": [
    "for i in range(10):\n",
    "    #randint(최소, 최대):최소부터 최대까지 중 임의의 정수를 리턴한다\n",
    "    #0,1 둘중 하나의 값이 임의로 나온다. 0 :false, 1 : true  bool()로 확인\n",
    "    if random.randint(0,1): # 1일때\n",
    "        robot.drive.forward()\n",
    "    else: #0일때\n",
    "        robot.drive.backward()"
   ]
  },
  {
   "cell_type": "code",
   "execution_count": 62,
   "metadata": {},
   "outputs": [
    {
     "name": "stdout",
     "output_type": "stream",
     "text": [
      "이동거리: -4\n"
     ]
    }
   ],
   "source": [
    "print(robot) #__str__()가 호출된다."
   ]
  },
  {
   "cell_type": "code",
   "execution_count": 63,
   "metadata": {},
   "outputs": [
    {
     "data": {
      "text/plain": [
       "(False, True)"
      ]
     },
     "execution_count": 63,
     "metadata": {},
     "output_type": "execute_result"
    }
   ],
   "source": [
    "bool(0), bool(1)"
   ]
  },
  {
   "cell_type": "code",
   "execution_count": 64,
   "metadata": {},
   "outputs": [
    {
     "name": "stdout",
     "output_type": "stream",
     "text": [
      "나눌 숫자를 입력하세요 12\n",
      "0.8333333333333334\n",
      "프로그램 정상 종료\n"
     ]
    }
   ],
   "source": [
    "#예외 처리 - 예외란 프로그램 실행 중 발생할 수 있는 오류를 말한다.\n",
    "\n",
    "number = int(input('나눌 숫자를 입력하세요 ')) #0이 아닌숫자, 0, 문자입력\n",
    " \n",
    "try:\n",
    "    result = 10/number\n",
    "except ZeroDivisionError: \n",
    "    print('0으로 나누면 안되요.')\n",
    "else:\n",
    "    print(result)\n",
    "    \n",
    "print(\"프로그램 정상 종료\")    "
   ]
  },
  {
   "cell_type": "code",
   "execution_count": 68,
   "metadata": {},
   "outputs": [
    {
     "name": "stdout",
     "output_type": "stream",
     "text": [
      "나눌 숫자를 입력하세요 \\c\n",
      "숫자만 입력하세요.\n"
     ]
    }
   ],
   "source": [
    "# 다중 except문 사용하기- 예외가 여러 개 예상될때는 해당 오류에 대한 except문을 종류별로 추가한다.\n",
    "\n",
    "try:\n",
    "    number = int(input('나눌 숫자를 입력하세요 '))\n",
    "    result = 10/number\n",
    "except ValueError:\n",
    "    print('숫자만 입력하세요.')\n",
    "except ZeroDivisionError:\n",
    "    print('0으로 나누면 안되요.')\n",
    "except:\n",
    "    print('2가지 외에 개발자가 전혀 예측하지 못한 에러ㅠㅠ')\n",
    "else:\n",
    "    print(result)"
   ]
  },
  {
   "cell_type": "code",
   "execution_count": 69,
   "metadata": {},
   "outputs": [
    {
     "name": "stdout",
     "output_type": "stream",
     "text": [
      "나눌 숫자를 입력하세요 12\n",
      "0.8333333333333334\n"
     ]
    }
   ],
   "source": [
    "try:\n",
    "    number = int(input('나눌 숫자를 입력하세요 '))\n",
    "    result = 10/number\n",
    "except (ValueError,ZeroDivisionError):\n",
    "    print('문자나 0으로 나누면 안되요.')\n",
    "except:\n",
    "    print('2가지 외에 개발자가 전혀 예측하지 못한 에러ㅠㅠ')\n",
    "else:\n",
    "    print(result)"
   ]
  },
  {
   "cell_type": "code",
   "execution_count": 70,
   "metadata": {},
   "outputs": [],
   "source": [
    "# as 문 - 파이썬에서 제공해주는 예외에 대한 정보를 얻을 수 있다.\n",
    "\n",
    "def openFile():\n",
    "    file = open('없는파일.txt')\n",
    "    line = file.readline()\n",
    "    number = int(line.strip()) #strip() 양쪽의 공백과 \\n 없애준다."
   ]
  },
  {
   "cell_type": "code",
   "execution_count": 71,
   "metadata": {},
   "outputs": [
    {
     "name": "stdout",
     "output_type": "stream",
     "text": [
      "시스템 에러:  [Errno 2] No such file or directory: '없는파일.txt'\n"
     ]
    }
   ],
   "source": [
    "try:\n",
    "    openFile()\n",
    "except OSError as err: \n",
    "    print('시스템 에러: ', err)\n",
    "except:\n",
    "    print('내가 예측할 수 없는 오류ㅠ')\n",
    "else:\n",
    "    print(number)"
   ]
  },
  {
   "cell_type": "code",
   "execution_count": 72,
   "metadata": {},
   "outputs": [],
   "source": [
    "# finally 문 - try 문이 실행된 이후 무조건 실행해야 되는 코드는 finally문에 넣는다.\n",
    "\n",
    "def writeFile():\n",
    "    try:\n",
    "        f = open('file', 'w')\n",
    "        try:\n",
    "            f.write('Hello World!')\n",
    "        finally:\n",
    "            f.close()\n",
    "    except OSError:\n",
    "        print('오류 발생!')"
   ]
  },
  {
   "cell_type": "code",
   "execution_count": 73,
   "metadata": {},
   "outputs": [],
   "source": [
    " def readFile():\n",
    "    try:\n",
    "        f = open('file', 'r')\n",
    "        line = f.readline()\n",
    "    except OSError:\n",
    "        print('오류 발생!')\n",
    "    else:\n",
    "        print(line)\n",
    "    finally:\n",
    "        f.close()"
   ]
  },
  {
   "cell_type": "code",
   "execution_count": 74,
   "metadata": {},
   "outputs": [],
   "source": [
    "writeFile()"
   ]
  },
  {
   "cell_type": "code",
   "execution_count": 75,
   "metadata": {},
   "outputs": [
    {
     "name": "stdout",
     "output_type": "stream",
     "text": [
      "Hello World!\n"
     ]
    }
   ],
   "source": [
    "readFile()"
   ]
  },
  {
   "cell_type": "code",
   "execution_count": 76,
   "metadata": {},
   "outputs": [
    {
     "ename": "NameError",
     "evalue": "name 'f' is not defined",
     "output_type": "error",
     "traceback": [
      "\u001b[1;31m---------------------------------------------------------------------------\u001b[0m",
      "\u001b[1;31mNameError\u001b[0m                                 Traceback (most recent call last)",
      "\u001b[1;32m<ipython-input-76-a9fcd54b25e7>\u001b[0m in \u001b[0;36m<module>\u001b[1;34m\u001b[0m\n\u001b[1;32m----> 1\u001b[1;33m \u001b[0mf\u001b[0m\u001b[1;33m\u001b[0m\u001b[1;33m\u001b[0m\u001b[0m\n\u001b[0m",
      "\u001b[1;31mNameError\u001b[0m: name 'f' is not defined"
     ]
    }
   ],
   "source": [
    "f"
   ]
  },
  {
   "cell_type": "code",
   "execution_count": 77,
   "metadata": {},
   "outputs": [
    {
     "name": "stdout",
     "output_type": "stream",
     "text": [
      "인덱스 에러 발생\n"
     ]
    }
   ],
   "source": [
    "# raise 문 - raise문은 개발자가 의도적으로 예외를 발생시킬 때 사용한다.\n",
    " \n",
    "try:\n",
    "    raise IndexError\n",
    "except IndexError :\n",
    "    print('인덱스 에러 발생')    "
   ]
  },
  {
   "cell_type": "code",
   "execution_count": 78,
   "metadata": {},
   "outputs": [
    {
     "name": "stdout",
     "output_type": "stream",
     "text": [
      "인덱스 에러 발생: 시퀀스 인덱스가 범위를 벗어날 때 발생합니다\n"
     ]
    }
   ],
   "source": [
    "try:\n",
    "    raise IndexError('시퀀스 인덱스가 범위를 벗어날 때 발생합니다')\n",
    "except IndexError as err:\n",
    "    print('인덱스 에러 발생:', err)    "
   ]
  },
  {
   "cell_type": "code",
   "execution_count": 79,
   "metadata": {},
   "outputs": [],
   "source": [
    "import math"
   ]
  },
  {
   "cell_type": "code",
   "execution_count": 80,
   "metadata": {},
   "outputs": [],
   "source": [
    "class QuadError(Exception): #Exception 상속받는다.\n",
    "    pass"
   ]
  },
  {
   "cell_type": "code",
   "execution_count": 81,
   "metadata": {},
   "outputs": [],
   "source": [
    "def quad(a,b,c):\n",
    "    if a == 0:\n",
    "        qe = QuadError(\"이차 방정식이 아니에요.\")\n",
    "        qe.member= (a, b, c)\n",
    "        raise qe\n",
    "    if b*b-4*a*c < 0:\n",
    "        qe = QuadError(\"방정식의 근이 없어요.\")\n",
    "        qe.member= (a, b, c)\n",
    "        raise qe\n",
    "    x1 = (-b+math.sqrt(b*b-4*a*c))/(2*a)\n",
    "    x2 = (-b-math.sqrt(b*b-4*a*c))/(2*a)\n",
    "    return (x1, x2)"
   ]
  },
  {
   "cell_type": "code",
   "execution_count": 82,
   "metadata": {},
   "outputs": [],
   "source": [
    "def getQuad( a, b, c ):\n",
    "    try:\n",
    "        x1, x2 = quad( a, b, c )\n",
    "        print(\"방정식의 근은\", x1, x2)\n",
    "    except QuadError as err:\n",
    "        print(err, err.member)"
   ]
  },
  {
   "cell_type": "code",
   "execution_count": 83,
   "metadata": {},
   "outputs": [
    {
     "name": "stdout",
     "output_type": "stream",
     "text": [
      "이차 방정식이 아니에요. (0, 100, 10)\n"
     ]
    }
   ],
   "source": [
    "getQuad(0, 100, 10)"
   ]
  },
  {
   "cell_type": "code",
   "execution_count": null,
   "metadata": {},
   "outputs": [],
   "source": []
  }
 ],
 "metadata": {
  "kernelspec": {
   "display_name": "pydata",
   "language": "python",
   "name": "pydata"
  },
  "language_info": {
   "codemirror_mode": {
    "name": "ipython",
    "version": 3
   },
   "file_extension": ".py",
   "mimetype": "text/x-python",
   "name": "python",
   "nbconvert_exporter": "python",
   "pygments_lexer": "ipython3",
   "version": "3.7.10"
  }
 },
 "nbformat": 4,
 "nbformat_minor": 4
}
