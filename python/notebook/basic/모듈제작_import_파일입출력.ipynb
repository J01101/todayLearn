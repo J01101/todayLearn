{
 "cells": [
  {
   "cell_type": "code",
   "execution_count": 7,
   "metadata": {},
   "outputs": [
    {
     "name": "stdout",
     "output_type": "stream",
     "text": [
      "Overwriting myMath.py\n"
     ]
    }
   ],
   "source": [
    "%%writefile myMath.py\n",
    "'''\n",
    "모듈을 작성합니다.\n",
    "pi 변수와 두개의 함수가 존재함.\n",
    "'''\n",
    "pi = 3.14\n",
    " \n",
    "def oneHapN(end):    # 1부터 N까지의 합을 구해주는 함수\n",
    "    sum = 0\n",
    "    for i in range(end):\n",
    "        sum += i+1\n",
    "    return sum\n",
    " \n",
    "def oneGopN(end):    # 1부터 N까지의 곱을 구해주는 함수\n",
    "    total = 1\n",
    "    for i in range(end):\n",
    "        total *= i+1\n",
    "    return total"
   ]
  },
  {
   "cell_type": "code",
   "execution_count": 8,
   "metadata": {},
   "outputs": [],
   "source": [
    "import myMath"
   ]
  },
  {
   "cell_type": "code",
   "execution_count": 9,
   "metadata": {},
   "outputs": [
    {
     "data": {
      "text/plain": [
       "55"
      ]
     },
     "execution_count": 9,
     "metadata": {},
     "output_type": "execute_result"
    }
   ],
   "source": [
    "myMath.oneHapN(10)"
   ]
  },
  {
   "cell_type": "code",
   "execution_count": 10,
   "metadata": {},
   "outputs": [
    {
     "data": {
      "text/plain": [
       "3628800"
      ]
     },
     "execution_count": 10,
     "metadata": {},
     "output_type": "execute_result"
    }
   ],
   "source": [
    "myMath.oneGopN(10)"
   ]
  },
  {
   "cell_type": "code",
   "execution_count": 12,
   "metadata": {},
   "outputs": [
    {
     "data": {
      "text/plain": [
       "3.14"
      ]
     },
     "execution_count": 12,
     "metadata": {},
     "output_type": "execute_result"
    }
   ],
   "source": [
    "myMath.pi"
   ]
  },
  {
   "cell_type": "code",
   "execution_count": 14,
   "metadata": {},
   "outputs": [
    {
     "name": "stdout",
     "output_type": "stream",
     "text": [
      "3.141592653589793\n"
     ]
    }
   ],
   "source": [
    "import math\n",
    "print(math.pi)"
   ]
  },
  {
   "cell_type": "code",
   "execution_count": 15,
   "metadata": {},
   "outputs": [
    {
     "name": "stdout",
     "output_type": "stream",
     "text": [
      "Writing first.py\n"
     ]
    }
   ],
   "source": [
    "%%writefile first.py\n",
    "''' \n",
    "내가만든  모듈입니다.\n",
    "내부에는 변수와 함수가 하나씩 존재합니다.\n",
    "'''\n",
    " \n",
    "print(__name__) #직접실행하면 __main__출력, import되서 실행되면 모듈명 출력\n",
    " \n",
    "first_value = 100\n",
    " \n",
    "def first_func(x, y):\n",
    "    return x + y\n",
    "\n",
    "if __name__ == '__main__' :\n",
    "    print()\n",
    "    print(__doc__)\n",
    "    print(\"first_value\",first_value)\n",
    "    print(\"first_func\", first_func(1,5))"
   ]
  },
  {
   "cell_type": "code",
   "execution_count": 16,
   "metadata": {},
   "outputs": [
    {
     "name": "stdout",
     "output_type": "stream",
     "text": [
      "__main__\n",
      "\n",
      " \n",
      "내가만든  모듈입니다.\n",
      "내부에는 변수와 함수가 하나씩 존재합니다.\n",
      "\n",
      "first_value 100\n",
      "first_func 6\n"
     ]
    }
   ],
   "source": [
    "%run first.py #직접실행"
   ]
  },
  {
   "cell_type": "code",
   "execution_count": 17,
   "metadata": {},
   "outputs": [
    {
     "name": "stdout",
     "output_type": "stream",
     "text": [
      "first\n"
     ]
    }
   ],
   "source": [
    "import first #import되어 실행"
   ]
  },
  {
   "cell_type": "code",
   "execution_count": 18,
   "metadata": {},
   "outputs": [
    {
     "name": "stdout",
     "output_type": "stream",
     "text": [
      "100\n"
     ]
    },
    {
     "data": {
      "text/plain": [
       "300"
      ]
     },
     "execution_count": 18,
     "metadata": {},
     "output_type": "execute_result"
    }
   ],
   "source": [
    "print(first.first_value)\n",
    "first.first_func(100,200)"
   ]
  },
  {
   "cell_type": "code",
   "execution_count": 19,
   "metadata": {},
   "outputs": [
    {
     "data": {
      "text/plain": [
       "' \\n내가만든  모듈입니다.\\n내부에는 변수와 함수가 하나씩 존재합니다.\\n'"
      ]
     },
     "execution_count": 19,
     "metadata": {},
     "output_type": "execute_result"
    }
   ],
   "source": [
    "first.__doc__"
   ]
  },
  {
   "cell_type": "code",
   "execution_count": 20,
   "metadata": {},
   "outputs": [
    {
     "name": "stdout",
     "output_type": "stream",
     "text": [
      "3.14\n",
      "1부터 10까지의 합: 55\n",
      "1부터 10까지의 곱: 3628800\n"
     ]
    }
   ],
   "source": [
    "#from 방식 - myMath 모듈에서 pi변수와 oneHapN함수만 가져온다.\n",
    "from myMath import pi, oneHapN\n",
    " \n",
    "print(pi)\n",
    " \n",
    "print('1부터 10까지의 합:', oneHapN(10))\n",
    "print('1부터 10까지의 곱:', myMath.oneGopN(10)) #모듈명.함수로 호출하면 에러 안남"
   ]
  },
  {
   "cell_type": "code",
   "execution_count": 21,
   "metadata": {},
   "outputs": [
    {
     "name": "stdout",
     "output_type": "stream",
     "text": [
      "3.14\n",
      "1부터 10까지의 합: 55\n",
      "1부터 10까지의 곱: 3628800\n"
     ]
    }
   ],
   "source": [
    "# from myMath import * - *의미가 모두의 뜻이므로 myMath 모듈의 모든 변수 함수를 가져온다.\n",
    "from myMath import *\n",
    "print(pi)\n",
    " \n",
    "print('1부터 10까지의 합:', oneHapN(10))\n",
    "print('1부터 10까지의 곱:', oneGopN(10)) "
   ]
  },
  {
   "cell_type": "code",
   "execution_count": 22,
   "metadata": {},
   "outputs": [
    {
     "name": "stdout",
     "output_type": "stream",
     "text": [
      "3.14\n"
     ]
    }
   ],
   "source": [
    "from math import *  #math.pi = 3.141592653589793 \n",
    "from myMath import pi #myMath.pi = 3.14\n",
    " \n",
    "print(pi)"
   ]
  },
  {
   "cell_type": "code",
   "execution_count": 23,
   "metadata": {},
   "outputs": [
    {
     "data": {
      "text/plain": [
       "35"
      ]
     },
     "execution_count": 23,
     "metadata": {},
     "output_type": "execute_result"
    }
   ],
   "source": [
    "#keyword 모듈 - keyword 모듈은 파이썬 예약어 관련 기능들을 제공한다.\n",
    "import keyword\n",
    "len(keyword.kwlist)"
   ]
  },
  {
   "cell_type": "code",
   "execution_count": 24,
   "metadata": {},
   "outputs": [
    {
     "data": {
      "text/plain": [
       "['False',\n",
       " 'None',\n",
       " 'True',\n",
       " 'and',\n",
       " 'as',\n",
       " 'assert',\n",
       " 'async',\n",
       " 'await',\n",
       " 'break',\n",
       " 'class',\n",
       " 'continue',\n",
       " 'def',\n",
       " 'del',\n",
       " 'elif',\n",
       " 'else',\n",
       " 'except',\n",
       " 'finally']"
      ]
     },
     "execution_count": 24,
     "metadata": {},
     "output_type": "execute_result"
    }
   ],
   "source": [
    "keyword.kwlist[:17] #0번째부터 16번째까지 키워드 확인"
   ]
  },
  {
   "cell_type": "code",
   "execution_count": 25,
   "metadata": {},
   "outputs": [
    {
     "data": {
      "text/plain": [
       "['for',\n",
       " 'from',\n",
       " 'global',\n",
       " 'if',\n",
       " 'import',\n",
       " 'in',\n",
       " 'is',\n",
       " 'lambda',\n",
       " 'nonlocal',\n",
       " 'not',\n",
       " 'or',\n",
       " 'pass',\n",
       " 'raise',\n",
       " 'return',\n",
       " 'try',\n",
       " 'while',\n",
       " 'with',\n",
       " 'yield']"
      ]
     },
     "execution_count": 25,
     "metadata": {},
     "output_type": "execute_result"
    }
   ],
   "source": [
    "keyword.kwlist[17:] #17번째부터 나머지 키워드 확인"
   ]
  },
  {
   "cell_type": "code",
   "execution_count": 26,
   "metadata": {},
   "outputs": [
    {
     "name": "stdout",
     "output_type": "stream",
     "text": [
      "True\n"
     ]
    }
   ],
   "source": [
    "print(keyword.iskeyword('None'))"
   ]
  },
  {
   "cell_type": "code",
   "execution_count": 27,
   "metadata": {},
   "outputs": [
    {
     "name": "stdout",
     "output_type": "stream",
     "text": [
      "False\n"
     ]
    }
   ],
   "source": [
    "#int 자료형은 예약어는 아니지만 다른용도로 사용은 권장하지 않는다.\n",
    "print(keyword.iskeyword('int'))"
   ]
  },
  {
   "cell_type": "code",
   "execution_count": 28,
   "metadata": {},
   "outputs": [
    {
     "name": "stdout",
     "output_type": "stream",
     "text": [
      "16 45 22 27 12 8 "
     ]
    }
   ],
   "source": [
    "import random\n",
    "\n",
    "for i in range(6):\n",
    "    number = random.randint(1, 45)\n",
    "    print(number, end=' ')"
   ]
  },
  {
   "cell_type": "code",
   "execution_count": 29,
   "metadata": {},
   "outputs": [
    {
     "name": "stdout",
     "output_type": "stream",
     "text": [
      "['A', '2', '3', '4', '5', '6', '7', '8', '9', '10', 'J', 'Q', 'K']\n"
     ]
    }
   ],
   "source": [
    "import random\n",
    " \n",
    "card = ['A', '2', '3', '4', '5', '6', '7', '8', '9', '10', 'J', 'Q', 'K']\n",
    "print(card)"
   ]
  },
  {
   "cell_type": "code",
   "execution_count": 30,
   "metadata": {},
   "outputs": [
    {
     "name": "stdout",
     "output_type": "stream",
     "text": [
      "['A', '7', '3', '10', '9', '8', '6', 'K', '2', 'Q', 'J', '4', '5']\n"
     ]
    }
   ],
   "source": [
    "random.shuffle(card)\n",
    "print(card)"
   ]
  },
  {
   "cell_type": "code",
   "execution_count": 31,
   "metadata": {},
   "outputs": [
    {
     "name": "stdout",
     "output_type": "stream",
     "text": [
      "9\n"
     ]
    }
   ],
   "source": [
    "print(random.choice(card))"
   ]
  },
  {
   "cell_type": "code",
   "execution_count": 2,
   "metadata": {},
   "outputs": [],
   "source": [
    "import random"
   ]
  },
  {
   "cell_type": "code",
   "execution_count": 3,
   "metadata": {},
   "outputs": [
    {
     "name": "stdout",
     "output_type": "stream",
     "text": [
      "['시', '영', '의']\n"
     ]
    }
   ],
   "source": [
    "myStr = \"최고의영화-죽은시인의사회\"\n",
    "print(random.sample(myStr, 3))"
   ]
  },
  {
   "cell_type": "code",
   "execution_count": 5,
   "metadata": {},
   "outputs": [
    {
     "name": "stdout",
     "output_type": "stream",
     "text": [
      "[9, 15, 23, 33, 39, 40]\n"
     ]
    }
   ],
   "source": [
    "# random.sample() - 여러항목을 중복되지 않게 뽑아준다.\n",
    "myList = random.sample(range(1,46), 6)\n",
    "myList.sort()\n",
    "print(myList)"
   ]
  },
  {
   "cell_type": "code",
   "execution_count": 6,
   "metadata": {},
   "outputs": [
    {
     "name": "stdout",
     "output_type": "stream",
     "text": [
      "0.1964869034014859\n",
      "4.9270952911288814\n"
     ]
    }
   ],
   "source": [
    "import random\n",
    "# 0~1 사이 랜덤 출력\n",
    "print(random.random())\n",
    "# uniform() 주어진 값의 범위에서 실수를 임의로 추출한다.\n",
    "print(random.uniform(0, 10))"
   ]
  },
  {
   "cell_type": "code",
   "execution_count": 7,
   "metadata": {},
   "outputs": [
    {
     "name": "stdout",
     "output_type": "stream",
     "text": [
      "현재시각: 1617842013.2813108\n"
     ]
    }
   ],
   "source": [
    "import time\n",
    " \n",
    "print('현재시각:', time.time())"
   ]
  },
  {
   "cell_type": "code",
   "execution_count": 8,
   "metadata": {},
   "outputs": [],
   "source": [
    "# 입력한 초만큼 카운트 했을 때 소요되는 시간 측정하는 함수\n",
    "def manyloop(max):\n",
    "    t1 = time.time() #함수 시작시간 초단위\n",
    "    for a in range(max):\n",
    "        pass\n",
    "    t2 = time.time() #함수 끝날때 시간 초단위\n",
    "    print(t2-t1, '초 경과') #함수 실행 시간 획득"
   ]
  },
  {
   "cell_type": "code",
   "execution_count": 9,
   "metadata": {},
   "outputs": [
    {
     "name": "stdout",
     "output_type": "stream",
     "text": [
      "숫자를 입력하세요: 100\n",
      "0.0 초 경과\n"
     ]
    }
   ],
   "source": [
    "number = int(input('숫자를 입력하세요: '))\n",
    "manyloop(int(number))"
   ]
  },
  {
   "cell_type": "code",
   "execution_count": 10,
   "metadata": {},
   "outputs": [
    {
     "name": "stdout",
     "output_type": "stream",
     "text": [
      "Thu Apr  8 09:35:44 2021\n"
     ]
    }
   ],
   "source": [
    "current = time.ctime() #현재 시간정보\n",
    "print(current)"
   ]
  },
  {
   "cell_type": "code",
   "execution_count": 13,
   "metadata": {},
   "outputs": [
    {
     "name": "stdout",
     "output_type": "stream",
     "text": [
      "Thu\n",
      "Apr\n",
      "\n",
      "8\n",
      "09:35:44\n",
      "2021\n"
     ]
    }
   ],
   "source": [
    "#공백으로 분리해서 시간정보 분리값 획득\n",
    "list_cur = current.split(' ')\n",
    "\n",
    "for t in list_cur:\n",
    "    print(t)"
   ]
  },
  {
   "cell_type": "code",
   "execution_count": 14,
   "metadata": {},
   "outputs": [
    {
     "name": "stdout",
     "output_type": "stream",
     "text": [
      "Thu Apr  8 09:40:28 2021\n",
      "Thu Apr  8 09:40:29 2021\n",
      "Thu Apr  8 09:40:30 2021\n",
      "Thu Apr  8 09:40:31 2021\n",
      "Thu Apr  8 09:40:32 2021\n",
      "Thu Apr  8 09:40:33 2021\n"
     ]
    }
   ],
   "source": [
    "import time\n",
    " \n",
    "for t in range(6): #0~5번까지 반복\n",
    "    print(time.ctime()) #현재 시간정보를 출력\n",
    "    time.sleep(1) #1초동안 딜레이 된다."
   ]
  },
  {
   "cell_type": "code",
   "execution_count": 15,
   "metadata": {},
   "outputs": [
    {
     "name": "stdout",
     "output_type": "stream",
     "text": [
      "2021-04-08 09:45:10.981413\n"
     ]
    }
   ],
   "source": [
    "import datetime\n",
    " \n",
    "d = datetime.datetime.now() #현재시간\n",
    "print(d)"
   ]
  },
  {
   "cell_type": "code",
   "execution_count": 16,
   "metadata": {},
   "outputs": [
    {
     "name": "stdout",
     "output_type": "stream",
     "text": [
      "2021/4/8\n"
     ]
    }
   ],
   "source": [
    "print(d.year, d.month, d.day, sep='/') #얻은 객체로 년,월,일을 얻을 수 있다."
   ]
  },
  {
   "cell_type": "code",
   "execution_count": 17,
   "metadata": {},
   "outputs": [
    {
     "name": "stdout",
     "output_type": "stream",
     "text": [
      "9:45:10:981413\n"
     ]
    }
   ],
   "source": [
    "print(d.hour, d.minute, d.second, d.microsecond, sep=':')#시간,분,초,마이크로초 획득"
   ]
  },
  {
   "cell_type": "code",
   "execution_count": 18,
   "metadata": {},
   "outputs": [
    {
     "name": "stdout",
     "output_type": "stream",
     "text": [
      "3\n"
     ]
    }
   ],
   "source": [
    "print(d.weekday()) #요일을 알려준다."
   ]
  },
  {
   "cell_type": "code",
   "execution_count": 23,
   "metadata": {},
   "outputs": [],
   "source": [
    "# 파일 입출력\n",
    "f = open('D:/SJY/python/datadown/파일입출력_예제/myfile.txt', 'w')"
   ]
  },
  {
   "cell_type": "code",
   "execution_count": 24,
   "metadata": {},
   "outputs": [
    {
     "data": {
      "text/plain": [
       "18"
      ]
     },
     "execution_count": 24,
     "metadata": {},
     "output_type": "execute_result"
    }
   ],
   "source": [
    "f.write('파일을 열었으니 데이터를 저장하자')"
   ]
  },
  {
   "cell_type": "code",
   "execution_count": 25,
   "metadata": {},
   "outputs": [],
   "source": [
    "f.close()"
   ]
  },
  {
   "cell_type": "code",
   "execution_count": 27,
   "metadata": {},
   "outputs": [],
   "source": [
    "s = '''\n",
    "라인1\n",
    "라인2\n",
    "라인3\n",
    "'''"
   ]
  },
  {
   "cell_type": "code",
   "execution_count": 28,
   "metadata": {},
   "outputs": [
    {
     "data": {
      "text/plain": [
       "'\\n라인1\\n라인2\\n라인3\\n'"
      ]
     },
     "execution_count": 28,
     "metadata": {},
     "output_type": "execute_result"
    }
   ],
   "source": [
    "s"
   ]
  },
  {
   "cell_type": "code",
   "execution_count": 29,
   "metadata": {},
   "outputs": [],
   "source": [
    "s2 = ['첫번째\\n', '두번째\\n', '세번째\\n']"
   ]
  },
  {
   "cell_type": "code",
   "execution_count": 30,
   "metadata": {},
   "outputs": [
    {
     "data": {
      "text/plain": [
       "['첫번째\\n', '두번째\\n', '세번째\\n']"
      ]
     },
     "execution_count": 30,
     "metadata": {},
     "output_type": "execute_result"
    }
   ],
   "source": [
    "s2"
   ]
  },
  {
   "cell_type": "code",
   "execution_count": 31,
   "metadata": {},
   "outputs": [],
   "source": [
    "f = open('./files/data.txt', 'x', encoding='utf-8')"
   ]
  },
  {
   "cell_type": "code",
   "execution_count": 32,
   "metadata": {},
   "outputs": [],
   "source": [
    "f.writelines(s)"
   ]
  },
  {
   "cell_type": "code",
   "execution_count": 33,
   "metadata": {},
   "outputs": [],
   "source": [
    "f.writelines(s2)"
   ]
  },
  {
   "cell_type": "code",
   "execution_count": 34,
   "metadata": {},
   "outputs": [],
   "source": [
    "f.close()"
   ]
  },
  {
   "cell_type": "code",
   "execution_count": 36,
   "metadata": {},
   "outputs": [],
   "source": [
    "f = open('./files/myfile.txt', 'w', encoding='utf-8')"
   ]
  },
  {
   "cell_type": "code",
   "execution_count": 37,
   "metadata": {},
   "outputs": [],
   "source": [
    "poem = '''\n",
    "자세히 보아야\n",
    "예쁘다\n",
    "오래 보아야\n",
    "사랑스럽다.\n",
    "너도 그렇다\n",
    " \n",
    "풀꽃-나태주 시인\n",
    "'''"
   ]
  },
  {
   "cell_type": "code",
   "execution_count": 38,
   "metadata": {},
   "outputs": [
    {
     "data": {
      "text/plain": [
       "46"
      ]
     },
     "execution_count": 38,
     "metadata": {},
     "output_type": "execute_result"
    }
   ],
   "source": [
    "f.write(poem)"
   ]
  },
  {
   "cell_type": "code",
   "execution_count": 39,
   "metadata": {},
   "outputs": [],
   "source": [
    "f.close()"
   ]
  },
  {
   "cell_type": "code",
   "execution_count": 40,
   "metadata": {},
   "outputs": [],
   "source": [
    "f = open('./files/myfile.txt', 'r', encoding='utf-8')"
   ]
  },
  {
   "cell_type": "code",
   "execution_count": 41,
   "metadata": {},
   "outputs": [
    {
     "name": "stdout",
     "output_type": "stream",
     "text": [
      "\n",
      "\n",
      "자세히 보아야\n",
      "\n",
      "예쁘다\n",
      "\n",
      "오래 보아야\n",
      "\n",
      "사랑스럽다.\n",
      "\n",
      "너도 그렇다\n",
      "\n",
      " \n",
      "\n",
      "풀꽃-나태주 시인\n",
      "\n"
     ]
    }
   ],
   "source": [
    "while True:\n",
    "    sentence = f.readline()\n",
    "    if not sentence:\n",
    "        break\n",
    "    print(sentence)"
   ]
  },
  {
   "cell_type": "code",
   "execution_count": 42,
   "metadata": {},
   "outputs": [],
   "source": [
    "f.close()"
   ]
  },
  {
   "cell_type": "code",
   "execution_count": 43,
   "metadata": {},
   "outputs": [],
   "source": [
    "f = open('./files/myfile.txt', 'r', encoding='utf-8')"
   ]
  },
  {
   "cell_type": "code",
   "execution_count": 44,
   "metadata": {},
   "outputs": [
    {
     "name": "stdout",
     "output_type": "stream",
     "text": [
      "['\\n', '자세히 보아야\\n', '예쁘다\\n', '오래 보아야\\n', '사랑스럽다.\\n', '너도 그렇다\\n', ' \\n', '풀꽃-나태주 시인\\n']\n"
     ]
    }
   ],
   "source": [
    "# readlines() - 파일의 모든 내용을 한꺼번에 가져온다. - 파일 내용을 줄 단위로 끊어서 리스트 항목으로 만들어서 돌려준다.\n",
    "all = f.readlines()\n",
    "print(all)"
   ]
  },
  {
   "cell_type": "code",
   "execution_count": 45,
   "metadata": {},
   "outputs": [
    {
     "name": "stdout",
     "output_type": "stream",
     "text": [
      "\n",
      "\n",
      "자세히 보아야\n",
      "\n",
      "예쁘다\n",
      "\n",
      "오래 보아야\n",
      "\n",
      "사랑스럽다.\n",
      "\n",
      "너도 그렇다\n",
      "\n",
      " \n",
      "\n",
      "풀꽃-나태주 시인\n",
      "\n"
     ]
    }
   ],
   "source": [
    "for sentence in all:\n",
    "    print(sentence)"
   ]
  },
  {
   "cell_type": "code",
   "execution_count": 46,
   "metadata": {},
   "outputs": [],
   "source": [
    "f.close()"
   ]
  },
  {
   "cell_type": "code",
   "execution_count": 48,
   "metadata": {},
   "outputs": [],
   "source": [
    "f = open('./files/myfile.txt', 'r', encoding=\"utf-8\")"
   ]
  },
  {
   "cell_type": "code",
   "execution_count": 49,
   "metadata": {},
   "outputs": [],
   "source": [
    "# read() - 파일 내용 전체를 문자열로 반환한다.\n",
    "string = f.read()"
   ]
  },
  {
   "cell_type": "code",
   "execution_count": 51,
   "metadata": {},
   "outputs": [
    {
     "name": "stdout",
     "output_type": "stream",
     "text": [
      "\n",
      "자세히 보아야\n",
      "예쁘다\n",
      "오래 보아야\n",
      "사랑스럽다.\n",
      "너도 그렇다\n",
      " \n",
      "풀꽃-나태주 시인\n",
      "\n"
     ]
    }
   ],
   "source": [
    "print(string)"
   ]
  },
  {
   "cell_type": "code",
   "execution_count": 52,
   "metadata": {},
   "outputs": [],
   "source": [
    "f.close()"
   ]
  },
  {
   "cell_type": "code",
   "execution_count": 53,
   "metadata": {},
   "outputs": [],
   "source": [
    "f = open('./files/myfile.txt', 'r', encoding=\"utf-8\")"
   ]
  },
  {
   "cell_type": "code",
   "execution_count": 54,
   "metadata": {},
   "outputs": [
    {
     "name": "stdout",
     "output_type": "stream",
     "text": [
      "\n",
      "자세히 보아야\n",
      "예쁘다\n",
      "오래 보아야\n",
      "사랑스럽다.\n",
      "너도 그렇다\n",
      " \n",
      "풀꽃-나태주 시인\n"
     ]
    }
   ],
   "source": [
    "# 파일객체로 데이터 읽기 - 파일객체 변수에는 파일내용이 줄 단위로 저장되어진다.\n",
    "for line in f:\n",
    "    print(line, end=\"\") # end=\"\"  개행문자 두 번실행되지 않는다."
   ]
  },
  {
   "cell_type": "code",
   "execution_count": 55,
   "metadata": {},
   "outputs": [],
   "source": [
    "f.close()"
   ]
  },
  {
   "cell_type": "code",
   "execution_count": 56,
   "metadata": {},
   "outputs": [
    {
     "data": {
      "text/plain": [
       "['첫번째\\n', '두번째\\n', '세번째\\n']"
      ]
     },
     "execution_count": 56,
     "metadata": {},
     "output_type": "execute_result"
    }
   ],
   "source": [
    "s2"
   ]
  },
  {
   "cell_type": "code",
   "execution_count": 57,
   "metadata": {},
   "outputs": [],
   "source": [
    "fr = open(\"D:/SJY/python/datadown/파일입출력_예제/data2.txt\",\"x\",encoding='utf-8') #data2.txt파일이 존재하면 오류난다."
   ]
  },
  {
   "cell_type": "code",
   "execution_count": 58,
   "metadata": {},
   "outputs": [],
   "source": [
    "fr.writelines(s2)"
   ]
  },
  {
   "cell_type": "code",
   "execution_count": 59,
   "metadata": {},
   "outputs": [],
   "source": [
    "fr.close()"
   ]
  },
  {
   "cell_type": "code",
   "execution_count": 60,
   "metadata": {},
   "outputs": [],
   "source": [
    "fr = open(\"D:/SJY/python/datadown/파일입출력_예제/data2.txt\",\"r\",encoding='utf-8')"
   ]
  },
  {
   "cell_type": "code",
   "execution_count": 61,
   "metadata": {},
   "outputs": [
    {
     "name": "stdout",
     "output_type": "stream",
     "text": [
      "첫번째\n",
      "두번째\n",
      "세번째\n"
     ]
    }
   ],
   "source": [
    "for i in fr:\n",
    "    print (i, end=\"\")"
   ]
  },
  {
   "cell_type": "code",
   "execution_count": 62,
   "metadata": {},
   "outputs": [
    {
     "name": "stdout",
     "output_type": "stream",
     "text": [
      "\n",
      "자세히 보아야\n",
      "예쁘다\n",
      "오래 보아야\n",
      "사랑스럽다.\n",
      "너도 그렇다\n",
      " \n",
      "풀꽃-나태주 시인\n"
     ]
    }
   ],
   "source": [
    "# with 문 사용 - with문을 사용하면 close()을 사용하지 않아도 자동으로 파일을 닫아준다.\n",
    "with open('./files/myfile.txt', 'r', encoding=\"utf-8\") as f:\n",
    "    for line in f:\n",
    "        print(line,end=\"\")"
   ]
  },
  {
   "cell_type": "code",
   "execution_count": 64,
   "metadata": {},
   "outputs": [
    {
     "name": "stdout",
     "output_type": "stream",
     "text": [
      "------ 원본 파일 ------\n",
      "\n",
      "자세히 보아야\n",
      "예쁘다\n",
      "오래 보아야\n",
      "사랑스럽다.\n",
      "너도 그렇다\n",
      " \n",
      "풀꽃-나태주 시인\n",
      "\n"
     ]
    }
   ],
   "source": [
    "with open('./files/myfile.txt', 'r', encoding=\"utf-8\") as f:\n",
    "    print('------ 원본 파일 ------')\n",
    "    print(f.read())"
   ]
  },
  {
   "cell_type": "code",
   "execution_count": 65,
   "metadata": {},
   "outputs": [],
   "source": [
    "poem2 = '''\n",
    " \n",
    "하늘 아래 내가 받은\n",
    "가장 커다란 선물은\n",
    "오늘입니다.\n",
    " \n",
    "오늘 받은 선물 가운데서도\n",
    "가장 아름다운 선물은\n",
    "당신입니다.\n",
    " \n",
    "선물-나태주 시인\n",
    " \n",
    "'''"
   ]
  },
  {
   "cell_type": "code",
   "execution_count": 67,
   "metadata": {},
   "outputs": [],
   "source": [
    "with open('./files/myfile.txt', 'a', encoding=\"utf-8\") as f:\n",
    "    f.write(poem2)"
   ]
  },
  {
   "cell_type": "code",
   "execution_count": 68,
   "metadata": {},
   "outputs": [
    {
     "name": "stdout",
     "output_type": "stream",
     "text": [
      "------ 데이터를 추가한 후 ------\n",
      "\n",
      "자세히 보아야\n",
      "예쁘다\n",
      "오래 보아야\n",
      "사랑스럽다.\n",
      "너도 그렇다\n",
      " \n",
      "풀꽃-나태주 시인\n",
      "\n",
      " \n",
      "하늘 아래 내가 받은\n",
      "가장 커다란 선물은\n",
      "오늘입니다.\n",
      " \n",
      "오늘 받은 선물 가운데서도\n",
      "가장 아름다운 선물은\n",
      "당신입니다.\n",
      " \n",
      "선물-나태주 시인\n",
      " \n",
      "\n"
     ]
    }
   ],
   "source": [
    "with open('./files/myfile.txt', 'r', encoding=\"utf-8\") as f:\n",
    "    print('------ 데이터를 추가한 후 ------')\n",
    "    print(f.read())"
   ]
  },
  {
   "cell_type": "code",
   "execution_count": 70,
   "metadata": {},
   "outputs": [],
   "source": [
    "with open('./files/myfile.txt', 'r', encoding='utf-8') as fr :\n",
    "    with open('./files/myfile_copy.txt', 'w', encoding='utf-8') as fw:\n",
    "        fw.write(fr.read())"
   ]
  },
  {
   "cell_type": "code",
   "execution_count": 72,
   "metadata": {},
   "outputs": [
    {
     "name": "stdout",
     "output_type": "stream",
     "text": [
      "\n",
      "자세히 보아야\n",
      "예쁘다\n",
      "오래 보아야\n",
      "사랑스럽다.\n",
      "너도 그렇다\n",
      " \n",
      "풀꽃-나태주 시인\n",
      "\n",
      " \n",
      "하늘 아래 내가 받은\n",
      "가장 커다란 선물은\n",
      "오늘입니다.\n",
      " \n",
      "오늘 받은 선물 가운데서도\n",
      "가장 아름다운 선물은\n",
      "당신입니다.\n",
      " \n",
      "선물-나태주 시인\n",
      " \n"
     ]
    }
   ],
   "source": [
    "with open('./files/myfile_copy.txt',encoding=\"utf-8\") as fr:\n",
    "    for i in fr :\n",
    "        print(i, end=\"\")"
   ]
  },
  {
   "cell_type": "code",
   "execution_count": 79,
   "metadata": {},
   "outputs": [],
   "source": [
    "bufsize = 1024 \n",
    " \n",
    "with open('./files/sample.jpg', 'rb') as frb :\n",
    "    with open('./files/sample_copy.jpg', 'wb') as fwb:\n",
    "        data = frb.read(bufsize)\n",
    "        while data:\n",
    "            fwb.write(data)\n",
    "            data = frb.read(bufsize)"
   ]
  },
  {
   "cell_type": "code",
   "execution_count": 80,
   "metadata": {},
   "outputs": [],
   "source": [
    "# 파일삭제하기 - 파일삭제는 remove함수를 사용한다. (+) os import해야한다.\n",
    "from os import remove\n",
    "target_file = './files/myfile_copy.txt'"
   ]
  },
  {
   "cell_type": "code",
   "execution_count": 82,
   "metadata": {},
   "outputs": [
    {
     "name": "stdout",
     "output_type": "stream",
     "text": [
      "[./files/myfile_copy.txt] 파일을 삭제하겠습니까? (y/n)y\n",
      "[./files/myfile_copy.txt]를 삭제했습니다.\n"
     ]
    }
   ],
   "source": [
    "#k = input('[%s] 파일을 삭제하겠습니까? (y/n)' %target_file)\n",
    "k = input('[{}] 파일을 삭제하겠습니까? (y/n)'.format(target_file))\n",
    "\n",
    "if k == 'y':\n",
    " \n",
    "    remove(target_file)\n",
    " \n",
    "    print('[%s]를 삭제했습니다.' %target_file)"
   ]
  },
  {
   "cell_type": "code",
   "execution_count": 83,
   "metadata": {},
   "outputs": [
    {
     "name": "stdout",
     "output_type": "stream",
     "text": [
      "새로 생성할 디렉터리 이름을 입력하세요: ../newdir\n",
      "[../newdir] 디렉터리를 새로 생성했습니다.\n"
     ]
    }
   ],
   "source": [
    "# 디렉터리 생성 - 생성할 디렉토리를 입력한다. - notebook/newdir 폴더가 생긴다.\n",
    "import os\n",
    " \n",
    "newfolder = input('새로 생성할 디렉터리 이름을 입력하세요: ')\n",
    " \n",
    "try:\n",
    "    os.mkdir(newfolder)\n",
    "    print('[%s] 디렉터리를 새로 생성했습니다.' %newfolder)\n",
    "except Exception as e:\n",
    "    print(e)"
   ]
  },
  {
   "cell_type": "code",
   "execution_count": 85,
   "metadata": {},
   "outputs": [
    {
     "name": "stdout",
     "output_type": "stream",
     "text": [
      "[../newdir] 디렉터리를 삭제하겠습니까? (y/n)y\n",
      "[../newdir] 디렉터리를 삭제했습니다.\n"
     ]
    }
   ],
   "source": [
    "# 디렉터리 삭제 - notebook/newdir 폴더를 삭제한다.\n",
    "\n",
    "import os\n",
    " \n",
    "target_folder = '../newdir'\n",
    "k = input('[%s] 디렉터리를 삭제하겠습니까? (y/n)' %target_folder)\n",
    " \n",
    "if k == 'y':\n",
    "    try:\n",
    "        os.rmdir(target_folder)\n",
    "        print('[%s] 디렉터리를 삭제했습니다.' %target_folder)\n",
    "    except Exception as e:\n",
    "        print(e)"
   ]
  },
  {
   "cell_type": "code",
   "execution_count": null,
   "metadata": {},
   "outputs": [],
   "source": []
  }
 ],
 "metadata": {
  "kernelspec": {
   "display_name": "pydata",
   "language": "python",
   "name": "pydata"
  },
  "language_info": {
   "codemirror_mode": {
    "name": "ipython",
    "version": 3
   },
   "file_extension": ".py",
   "mimetype": "text/x-python",
   "name": "python",
   "nbconvert_exporter": "python",
   "pygments_lexer": "ipython3",
   "version": "3.7.10"
  }
 },
 "nbformat": 4,
 "nbformat_minor": 4
}
