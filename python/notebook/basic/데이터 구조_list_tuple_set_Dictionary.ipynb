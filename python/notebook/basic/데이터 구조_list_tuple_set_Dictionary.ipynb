{
 "cells": [
  {
   "cell_type": "code",
   "execution_count": 1,
   "metadata": {},
   "outputs": [],
   "source": [
    "# 빈 목록을 정의\n",
    "my_list = []\n",
    "my_list = list()  # 가끔 사용됨"
   ]
  },
  {
   "cell_type": "code",
   "execution_count": 2,
   "metadata": {},
   "outputs": [
    {
     "name": "stdout",
     "output_type": "stream",
     "text": [
      "[1]\n"
     ]
    }
   ],
   "source": [
    "# 하나의 원소를 가진 목록\n",
    "my_list = [1]\n",
    "print(my_list)  "
   ]
  },
  {
   "cell_type": "code",
   "execution_count": 3,
   "metadata": {},
   "outputs": [],
   "source": [
    "# 문자열 값의 목록을 정의\n",
    "my_string_list = ['Hello', 'Python' ,'Lists']"
   ]
  },
  {
   "cell_type": "code",
   "execution_count": 4,
   "metadata": {},
   "outputs": [],
   "source": [
    "# 복수의 자료형을 포함하는 목록을 정의\n",
    "multi_list = [1, 2, 'three', 4, 'five', 'six']"
   ]
  },
  {
   "cell_type": "code",
   "execution_count": 5,
   "metadata": {},
   "outputs": [],
   "source": [
    "# 목록을 포함하는 목록을 정의\n",
    "combo_list = [1, my_string_list, multi_list]"
   ]
  },
  {
   "cell_type": "code",
   "execution_count": 8,
   "metadata": {},
   "outputs": [
    {
     "name": "stdout",
     "output_type": "stream",
     "text": [
      "['new_item1', 'new_item2', [1, 2, 3, 4], 'new_item3']\n"
     ]
    }
   ],
   "source": [
    "# 목록을 포함하는 목록을 한 줄로 정의\n",
    "my_new_list = ['new_item1', 'new_item2', [1, 2, 3, 4], 'new_item3']\n",
    "print (my_new_list)"
   ]
  },
  {
   "cell_type": "code",
   "execution_count": 9,
   "metadata": {},
   "outputs": [
    {
     "name": "stdout",
     "output_type": "stream",
     "text": [
      "Hello\n",
      "Lists\n"
     ]
    }
   ],
   "source": [
    "# 목록에서 원소를 얻기\n",
    "print(my_string_list[0])\n",
    " \n",
    "print(my_string_list[2])"
   ]
  },
  {
   "cell_type": "code",
   "execution_count": 10,
   "metadata": {},
   "outputs": [
    {
     "name": "stdout",
     "output_type": "stream",
     "text": [
      "Lists\n",
      "Python\n"
     ]
    }
   ],
   "source": [
    "# 음수 인덱스는 목록의 마지막 원소에서 시작하여 첫 항목 쪽으로 거슬러 감\n",
    "print(my_string_list[-1])\n",
    " \n",
    "print(my_string_list[-2])"
   ]
  },
  {
   "cell_type": "code",
   "execution_count": 12,
   "metadata": {},
   "outputs": [
    {
     "name": "stdout",
     "output_type": "stream",
     "text": [
      "['Hello', 'Python']\n"
     ]
    }
   ],
   "source": [
    "# 시작 인덱스의 원소는 포함하고 끝 인덱스의 원소는 제외한다\n",
    "print(my_string_list[0:2])"
   ]
  },
  {
   "cell_type": "code",
   "execution_count": 13,
   "metadata": {},
   "outputs": [
    {
     "name": "stdout",
     "output_type": "stream",
     "text": [
      "['Hello', 'Python', 'Lists']\n"
     ]
    }
   ],
   "source": [
    "# 목록의 복사본을 생성\n",
    "my_string_list_copy = my_string_list[:]\n",
    " \n",
    "print(my_string_list_copy)"
   ]
  },
  {
   "cell_type": "code",
   "execution_count": 16,
   "metadata": {},
   "outputs": [],
   "source": [
    "# 새로운 리스트생성\n",
    "new_list=[2, 4, 6, 8, 10, 12, 14, 16, 18, 20]"
   ]
  },
  {
   "cell_type": "code",
   "execution_count": 17,
   "metadata": {},
   "outputs": [
    {
     "name": "stdout",
     "output_type": "stream",
     "text": [
      "[2, 4, 6, 8, 10, 12, 14, 16, 18, 20]\n"
     ]
    }
   ],
   "source": [
    "# 시작인덱스:끝인덱스:간격\n",
    "# 이 예제는 한 칸 씩 이동(step)\n",
    "print(new_list[0:10:1])"
   ]
  },
  {
   "cell_type": "code",
   "execution_count": 18,
   "metadata": {},
   "outputs": [
    {
     "name": "stdout",
     "output_type": "stream",
     "text": [
      "[2, 6, 10, 14, 18]\n"
     ]
    }
   ],
   "source": [
    "# 그리고 여기서는 두 칸 씩 이동\n",
    "print(new_list[0:10:2])"
   ]
  },
  {
   "cell_type": "code",
   "execution_count": 19,
   "metadata": {},
   "outputs": [
    {
     "name": "stdout",
     "output_type": "stream",
     "text": [
      "[2, 6, 10, 14, 18]\n"
     ]
    }
   ],
   "source": [
    "# 시작 인덱스를 비워두면 기본값이 0을 지정한 것과 같이 동작하며, \n",
    "# 끝 인덱스에 대해서는 목록의 길이가 기본값임\n",
    "print(new_list[::2])"
   ]
  },
  {
   "cell_type": "code",
   "execution_count": 20,
   "metadata": {},
   "outputs": [
    {
     "name": "stdout",
     "output_type": "stream",
     "text": [
      "[2, 4, 6, 8, 10, 12, 14, 16, 18, 25]\n"
     ]
    }
   ],
   "source": [
    "# 목록의 원소를 수정. 이 경우는 9번 위치에 있는 원소를 수정함\n",
    "new_list[9] = 25\n",
    "print(new_list)"
   ]
  },
  {
   "cell_type": "code",
   "execution_count": 21,
   "metadata": {},
   "outputs": [
    {
     "name": "stdout",
     "output_type": "stream",
     "text": [
      "['a', 'b', 'c', 'd', 'e', 'f', 'g', 'h']\n"
     ]
    }
   ],
   "source": [
    "# append 메소드를 사용하여 목록에 값들을 추가\n",
    "new_list=['a','b','c','d','e','f','g']\n",
    "new_list.append('h')\n",
    "print (new_list)"
   ]
  },
  {
   "cell_type": "code",
   "execution_count": 22,
   "metadata": {},
   "outputs": [
    {
     "name": "stdout",
     "output_type": "stream",
     "text": [
      "['a', 'b', 'c', 'd', 'e', 'f', 'g', 'h', 'h', 'i', 'j', 'k', 'l', 'm', 'n', 'o', 'p']\n"
     ]
    }
   ],
   "source": [
    "# 다른 목록을 기존 목록에 추가\n",
    "new_list2=['h','i','j','k','l','m','n','o','p']\n",
    "new_list.extend(new_list2)\n",
    "print (new_list)"
   ]
  },
  {
   "cell_type": "code",
   "execution_count": 23,
   "metadata": {},
   "outputs": [
    {
     "name": "stdout",
     "output_type": "stream",
     "text": [
      "['a', 'b', 'c', 'c', 'd', 'e', 'f', 'g', 'h', 'h', 'i', 'j', 'k', 'l', 'm', 'n', 'o', 'p']\n"
     ]
    }
   ],
   "source": [
    "# 인덱스를 통해 특정 위치에 값을 삽입.\n",
    "# 이 예제에서는 'c'를 목록에서 3 번째 위치에 추가\n",
    "# (목록의 인덱스는 0부터 시작하므로, 인덱스 2가 실제로는 세번째 자리를 가리킴을 기억하라)\n",
    "new_list.insert(2,'c')\n",
    "print (new_list)"
   ]
  },
  {
   "cell_type": "code",
   "execution_count": 24,
   "metadata": {},
   "outputs": [
    {
     "name": "stdout",
     "output_type": "stream",
     "text": [
      "['a', 'b', ['a', 'b', 'c', 'c', 'd', 'e', 'f', 'g', 'h', 'h', 'i', 'j', 'k', 'l', 'm', 'n', 'o', 'p'], 'c']\n"
     ]
    }
   ],
   "source": [
    "# 인덱스를 통해 특정한 위치로 목록을 삽입\n",
    "another_list = ['a', 'b', 'c']\n",
    "another_list.insert(2, new_list)\n",
    "print(another_list)"
   ]
  },
  {
   "cell_type": "code",
   "execution_count": 25,
   "metadata": {},
   "outputs": [
    {
     "name": "stdout",
     "output_type": "stream",
     "text": [
      "[500, 600, 700, 800, 300, 400]\n"
     ]
    }
   ],
   "source": [
    "# 썰기 표기법을 사용하여 목록 또는 순서의 일부를 덮어씀\n",
    "new_listA=[100,200,300,400]\n",
    "new_listB=[500,600,700,800]\n",
    "new_listA[0:2]=new_listB\n",
    "print (new_listA)"
   ]
  },
  {
   "cell_type": "code",
   "execution_count": 26,
   "metadata": {},
   "outputs": [
    {
     "name": "stdout",
     "output_type": "stream",
     "text": [
      "['a', 'b', 'c', 'd']\n",
      "['e', 'f']\n"
     ]
    }
   ],
   "source": [
    "one = ['a', 'b', 'c', 'd']\n",
    "two = ['e', 'f']\n",
    "\n",
    "print(one)\n",
    "print(two)"
   ]
  },
  {
   "cell_type": "code",
   "execution_count": 27,
   "metadata": {},
   "outputs": [
    {
     "name": "stdout",
     "output_type": "stream",
     "text": [
      "[]\n"
     ]
    }
   ],
   "source": [
    "# 시작과 종료 위치를 동일하게 하여 목록으로부터 빈 조각을 만들어낸다.\n",
    "# 시작과 끝 위치를 동일하게 쓰는 한, 어느 위치든 상관 없음.\n",
    "print(one[2:2])"
   ]
  },
  {
   "cell_type": "code",
   "execution_count": 28,
   "metadata": {},
   "outputs": [
    {
     "name": "stdout",
     "output_type": "stream",
     "text": [
      "['a', 'b', 'e', 'f', 'c', 'd']\n"
     ]
    }
   ],
   "source": [
    "# 이것에 대해 유용한 점은 이것을 빈 조각에 할당할 수 있다는 것이다.\n",
    "# 이제, 'two' 목록을 'one'목록의 빈 조각에 할당함으로써 실제로는 'two' 목록을 'one' 목록에 삽입한다.\n",
    "one[2:2] = two   # 'one' 목록의 원소 1과 2 사이를 'two' 목록으로 대체\n",
    "print(one)"
   ]
  },
  {
   "cell_type": "code",
   "execution_count": 29,
   "metadata": {},
   "outputs": [
    {
     "name": "stdout",
     "output_type": "stream",
     "text": [
      "['a', 'b', 'd', 'e', 'f']\n"
     ]
    }
   ],
   "source": [
    "# del 구문을 사용하여 값 또는 값의 범위를 목록으로부터 제거\n",
    "# 모든 다른 원소가 이동하여 빈 공간을 채움에 유의\n",
    "new_list3 = ['a','b','c','d','e','f']\n",
    "del new_list3[2]\n",
    "print(new_list3)"
   ]
  },
  {
   "cell_type": "code",
   "execution_count": 30,
   "metadata": {},
   "outputs": [
    {
     "name": "stdout",
     "output_type": "stream",
     "text": [
      "['a', 'e', 'f']\n"
     ]
    }
   ],
   "source": [
    "del new_list3[1:3]\n",
    "print(new_list3)"
   ]
  },
  {
   "cell_type": "code",
   "execution_count": 36,
   "metadata": {},
   "outputs": [
    {
     "name": "stdout",
     "output_type": "stream",
     "text": [
      "[1, 2, 3, 4, 5]\n"
     ]
    }
   ],
   "source": [
    "# del 구문을 사용하여 목록을 제거\n",
    "new_list3=[1,2,3,4,5]\n",
    "print (new_list3)"
   ]
  },
  {
   "cell_type": "code",
   "execution_count": 37,
   "metadata": {},
   "outputs": [],
   "source": [
    "del new_list3\n",
    "#print (new_list3)  #오류"
   ]
  },
  {
   "cell_type": "code",
   "execution_count": 45,
   "metadata": {},
   "outputs": [
    {
     "name": "stdout",
     "output_type": "stream",
     "text": [
      "['a', 'b', 'c', 'd', 'e', 'f', 'g']\n"
     ]
    }
   ],
   "source": [
    "# pop과 remove 함수를 사용하여 목록으로부터 값을 제거\n",
    "new_list=['a','b','c','d','e','f','g']\n",
    "print (new_list)"
   ]
  },
  {
   "cell_type": "code",
   "execution_count": 46,
   "metadata": {},
   "outputs": [
    {
     "name": "stdout",
     "output_type": "stream",
     "text": [
      "c\n",
      "['a', 'b', 'd', 'e', 'f', 'g']\n"
     ]
    }
   ],
   "source": [
    "# 인덱스가 2인 원소를 pop한 값 리턴\n",
    "print(new_list.pop(2))\n",
    "#'c'\n",
    "print (new_list)"
   ]
  },
  {
   "cell_type": "code",
   "execution_count": 47,
   "metadata": {},
   "outputs": [
    {
     "name": "stdout",
     "output_type": "stream",
     "text": [
      "['a', 'b', 'd', 'e', 'f']\n"
     ]
    }
   ],
   "source": [
    "# 목록에서 처음으로 나타나는 'g' 문자를 제거, 리턴안함\n",
    "new_list.remove('g')\n",
    "print (new_list)"
   ]
  },
  {
   "cell_type": "code",
   "execution_count": 48,
   "metadata": {},
   "outputs": [
    {
     "name": "stdout",
     "output_type": "stream",
     "text": [
      "5\n",
      "10\n",
      "15\n",
      "20\n",
      "25\n"
     ]
    }
   ],
   "source": [
    "# pop() 함수를 사용하는 유용한 예제\n",
    "x = 5\n",
    "times_list = [1,2,3,4,5]\n",
    "while times_list:\n",
    "    print (x * times_list.pop(0))"
   ]
  },
  {
   "cell_type": "code",
   "execution_count": 49,
   "metadata": {},
   "outputs": [
    {
     "name": "stdout",
     "output_type": "stream",
     "text": [
      "[]\n"
     ]
    }
   ],
   "source": [
    "print(times_list)"
   ]
  },
  {
   "cell_type": "code",
   "execution_count": 50,
   "metadata": {},
   "outputs": [
    {
     "name": "stdout",
     "output_type": "stream",
     "text": [
      "3\n"
     ]
    }
   ],
   "source": [
    "# 어떤 주어진 값에 대한 인덱스를 반환\n",
    "new_list=[1,2,3,4,5,6,7,8,9,10]\n",
    "print(new_list.index(4))"
   ]
  },
  {
   "cell_type": "code",
   "execution_count": 52,
   "metadata": {},
   "outputs": [
    {
     "name": "stdout",
     "output_type": "stream",
     "text": [
      "[1, 2, 3, 4, 30, 6, 7, 8, 9, 10]\n"
     ]
    }
   ],
   "source": [
    "#  인덱스가 4인 원소의 값을 변경\n",
    "new_list[4] = 30\n",
    "print(new_list)"
   ]
  },
  {
   "cell_type": "code",
   "execution_count": 53,
   "metadata": {},
   "outputs": [
    {
     "name": "stdout",
     "output_type": "stream",
     "text": [
      "[1, 2, 3, 4, 5, 6, 7, 8, 9, 10]\n"
     ]
    }
   ],
   "source": [
    "# 이제, 값을 원상태로 되돌려놓자.\n",
    "new_list[4] = 5\n",
    "print(new_list)"
   ]
  },
  {
   "cell_type": "code",
   "execution_count": 54,
   "metadata": {},
   "outputs": [
    {
     "name": "stdout",
     "output_type": "stream",
     "text": [
      "[1, 2, 3, 4, 5, 6, 7, 8, 9, 10, 6]\n",
      "5\n"
     ]
    }
   ],
   "source": [
    "# 이 목록에 중복된 값을 추가하고 인덱스를 반환\n",
    "# 처음 나타나는 값의 인덱스를 반환함에 유의\n",
    "new_list.append(6)\n",
    "print(new_list)\n",
    " \n",
    "print(new_list.index(6))"
   ]
  },
  {
   "cell_type": "code",
   "execution_count": 55,
   "metadata": {},
   "outputs": [
    {
     "name": "stdout",
     "output_type": "stream",
     "text": [
      "1\n",
      "2\n"
     ]
    }
   ],
   "source": [
    "# 주어진 값과 동등한 원소의 갯수를 반환하도록 count() 함수를 사용\n",
    "print(new_list.count(2))\n",
    " \n",
    "print(new_list.count(6))"
   ]
  },
  {
   "cell_type": "code",
   "execution_count": 56,
   "metadata": {},
   "outputs": [
    {
     "name": "stdout",
     "output_type": "stream",
     "text": [
      "[1, 2, 3, 4, 5, 6, 6, 7, 8, 9, 10]\n"
     ]
    }
   ],
   "source": [
    "# 목록의 값들을 정렬\n",
    "new_list.sort()\n",
    "print(new_list)"
   ]
  },
  {
   "cell_type": "code",
   "execution_count": 57,
   "metadata": {},
   "outputs": [
    {
     "name": "stdout",
     "output_type": "stream",
     "text": [
      "[10, 9, 8, 7, 6, 6, 5, 4, 3, 2, 1]\n"
     ]
    }
   ],
   "source": [
    "# 목록의 값들의 순서를 반대로\n",
    "new_list.reverse()\n",
    "print(new_list)"
   ]
  },
  {
   "cell_type": "code",
   "execution_count": 58,
   "metadata": {},
   "outputs": [
    {
     "name": "stdout",
     "output_type": "stream",
     "text": [
      "[6, 2, 3, 4, 5]\n",
      "안녕하세요\n"
     ]
    }
   ],
   "source": [
    "list1 = [1, 2, 3, 4, 5]\n",
    "\n",
    "list2 = ['a', 'b', 'c']\n",
    "\n",
    "list3 = [1, 'a', 'abc', [1, 2, 3, 4, 5], ['a', 'b', 'c']]\n",
    "\n",
    "list1[0] = 6\n",
    "\n",
    "print(list1)      # [6, 2, 3, 4, 5]가 출력됨\n",
    "\n",
    "def myfunc():\n",
    "\n",
    "      print('안녕하세요')\n",
    "\n",
    "list4 = [1, 2, myfunc]\n",
    "\n",
    "list4[2]()       # ‘안녕하세요’ 가 출력됨"
   ]
  },
  {
   "cell_type": "code",
   "execution_count": 59,
   "metadata": {},
   "outputs": [
    {
     "name": "stdout",
     "output_type": "stream",
     "text": [
      "([1, 2, 3], [4, 5, 6])\n"
     ]
    }
   ],
   "source": [
    "#tuple 생성 \n",
    "t2 = [1,2,3],[4,5,6]\n",
    "print(t2)"
   ]
  },
  {
   "cell_type": "code",
   "execution_count": 60,
   "metadata": {},
   "outputs": [
    {
     "name": "stdout",
     "output_type": "stream",
     "text": [
      "[1, 2, 3]\n"
     ]
    }
   ],
   "source": [
    "print(t2[0])"
   ]
  },
  {
   "cell_type": "code",
   "execution_count": 61,
   "metadata": {},
   "outputs": [],
   "source": [
    "#tuple은 변경할 수 없기때문에 에러남\n",
    "#t2[0] = [7,8,9]"
   ]
  },
  {
   "cell_type": "code",
   "execution_count": 62,
   "metadata": {},
   "outputs": [
    {
     "name": "stdout",
     "output_type": "stream",
     "text": [
      "([7, 2, 3], [4, 5, 6])\n"
     ]
    }
   ],
   "source": [
    "t2[0][0] = 7\n",
    "print(t2)"
   ]
  },
  {
   "cell_type": "code",
   "execution_count": 63,
   "metadata": {},
   "outputs": [
    {
     "name": "stdout",
     "output_type": "stream",
     "text": [
      "('슈퍼맨', 1234, '배트맨', 4321)\n"
     ]
    }
   ],
   "source": [
    "# 변수 movie에 4개의 서로 다른 자료형이 하나의 튜풀로 포장되었다.\n",
    "# 이개념 튜플패키징이라고 하다.\n",
    "movie ='슈퍼맨',1234,'배트맨',4321\n",
    "print(movie)"
   ]
  },
  {
   "cell_type": "code",
   "execution_count": 64,
   "metadata": {},
   "outputs": [
    {
     "name": "stdout",
     "output_type": "stream",
     "text": [
      "슈퍼맨\n",
      "1234\n",
      "배트맨\n",
      "4321\n"
     ]
    }
   ],
   "source": [
    "#반대로 아래 예제 처럼 튜플을 항목별로 각각 풀어서 할당하는 개념을 튜플 언패킹이라고 한다.\n",
    "a,b,c,d = movie\n",
    "print(a)\n",
    "print(b)\n",
    "print(c)\n",
    "print(d)"
   ]
  },
  {
   "cell_type": "code",
   "execution_count": 65,
   "metadata": {},
   "outputs": [],
   "source": [
    "# 숫자 튜풀생성\n",
    "tuple1 = (1, 2, 3, 4, 5)\n",
    "\n",
    "# 문자 튜풀생성\n",
    "tuple2 = ('a', 'b', 'c')\n",
    "\n",
    "# 다양한 타입의 튜풀생성\n",
    "tuple3 = (1, 'a', 'abc', [1, 2, 3, 4, 5], ['a', 'b', 'c'])"
   ]
  },
  {
   "cell_type": "code",
   "execution_count": 66,
   "metadata": {},
   "outputs": [],
   "source": [
    "#오류\n",
    "#tuple1[0] = 6"
   ]
  },
  {
   "cell_type": "code",
   "execution_count": 67,
   "metadata": {},
   "outputs": [],
   "source": [
    "def myfunc():\n",
    "\n",
    "     print('안녕하세요')"
   ]
  },
  {
   "cell_type": "code",
   "execution_count": 68,
   "metadata": {},
   "outputs": [
    {
     "name": "stdout",
     "output_type": "stream",
     "text": [
      "안녕하세요\n"
     ]
    }
   ],
   "source": [
    "#함수도 포함해서 튜풀생성\n",
    "\n",
    "tuple4 = (1, 2, myfunc)\n",
    "\n",
    "tuple4[2]()       # ‘안녕하세요’ 가 출력됨"
   ]
  },
  {
   "cell_type": "code",
   "execution_count": 69,
   "metadata": {},
   "outputs": [
    {
     "name": "stdout",
     "output_type": "stream",
     "text": [
      "{1, 2, 3, 4, 5}\n"
     ]
    }
   ],
   "source": [
    "# 다음의 구문을 써서 집합을 생성한다\n",
    "myset = set([1,2,3,4,5])\n",
    "print(myset)"
   ]
  },
  {
   "cell_type": "code",
   "execution_count": 70,
   "metadata": {},
   "outputs": [
    {
     "name": "stdout",
     "output_type": "stream",
     "text": [
      "{1, 2, 3, 4, 5}\n"
     ]
    }
   ],
   "source": [
    "# 다음의 구문을 써서 집합을 생성한다\n",
    "myset = set([1,2,3,4,5])\n",
    "print(myset)"
   ]
  },
  {
   "cell_type": "code",
   "execution_count": 71,
   "metadata": {},
   "outputs": [
    {
     "name": "stdout",
     "output_type": "stream",
     "text": [
      "{1, 2, 3, 4, 5}\n"
     ]
    }
   ],
   "source": [
    "# 중복되는 원소의 추가를 시도\n",
    "myset.add(4)\n",
    "print(myset)"
   ]
  },
  {
   "cell_type": "code",
   "execution_count": 72,
   "metadata": {},
   "outputs": [],
   "source": [
    "# 두 개의 집합을 생성\n",
    "s1 = set(['python','cpython','ironpython'])\n",
    "s2 = set(['python','ironpython','pypy'])"
   ]
  },
  {
   "cell_type": "code",
   "execution_count": 73,
   "metadata": {},
   "outputs": [
    {
     "name": "stdout",
     "output_type": "stream",
     "text": [
      "{'python', 'cpython', 'ironpython'}\n"
     ]
    }
   ],
   "source": [
    "# 집합의 사본을 만듦\n",
    "s3 = s1.copy()\n",
    "print(s3)"
   ]
  },
  {
   "cell_type": "code",
   "execution_count": 74,
   "metadata": {},
   "outputs": [
    {
     "name": "stdout",
     "output_type": "stream",
     "text": [
      "{'python', 'ironpython'}\n"
     ]
    }
   ],
   "source": [
    "# 두집합의 교집합- & 또는 intersection\n",
    "print(s1.intersection(s2))"
   ]
  },
  {
   "cell_type": "code",
   "execution_count": 75,
   "metadata": {},
   "outputs": [
    {
     "name": "stdout",
     "output_type": "stream",
     "text": [
      "{'cpython'}\n"
     ]
    }
   ],
   "source": [
    "# s1에는 속하지만 s2에는 속하지 않는 모든 원소를 포함하는 새로운 집합을 구함\n",
    "#(차집합- - 또는 difference)\n",
    "print(s1.difference(s2))"
   ]
  },
  {
   "cell_type": "code",
   "execution_count": 76,
   "metadata": {},
   "outputs": [
    {
     "name": "stdout",
     "output_type": "stream",
     "text": [
      "{'python', 'ironpython', 'cpython', 'pypy'}\n"
     ]
    }
   ],
   "source": [
    "# 각 집합의 모든 원소를 포함하는 새로운 집합을 구함(합집합- | 또는 union)\n",
    "print(s1.union(s2))"
   ]
  },
  {
   "cell_type": "code",
   "execution_count": 77,
   "metadata": {},
   "outputs": [
    {
     "name": "stdout",
     "output_type": "stream",
     "text": [
      "{'pypy', 'cpython'}\n"
     ]
    }
   ],
   "source": [
    "# 각 집합에 속하되 양쪽 모두에는 속하지 않는 원소로 이루어진 새로운 집합을 구함\n",
    "# (두집합의 합집합에서 교집합을 뺀다.)\n",
    "print(s1.symmetric_difference(s2))"
   ]
  },
  {
   "cell_type": "code",
   "execution_count": 78,
   "metadata": {},
   "outputs": [],
   "source": [
    "# 세 개의 집합을 생성\n",
    "s1 = set([1, 2, 3, 4, 5, 6, 7, 8, 9, 10])\n",
    "s2 = set([5, 10, 15, 20])\n",
    "s3 = set([2, 4, 6, 8, 10])"
   ]
  },
  {
   "cell_type": "code",
   "execution_count": 79,
   "metadata": {},
   "outputs": [
    {
     "name": "stdout",
     "output_type": "stream",
     "text": [
      "{20, 5, 15}\n"
     ]
    }
   ],
   "source": [
    "# s2로부터 임의의 원소를 제거\n",
    "s2.pop()\n",
    " \n",
    "print(s2)"
   ]
  },
  {
   "cell_type": "code",
   "execution_count": 80,
   "metadata": {},
   "outputs": [
    {
     "name": "stdout",
     "output_type": "stream",
     "text": [
      "{1, 2, 4, 5, 6, 7, 8, 9, 10}\n"
     ]
    }
   ],
   "source": [
    "# s1에 3과 동일한 원소가 존재하는 경우 폐기\n",
    "s1.discard(3)\n",
    "print(s1)"
   ]
  },
  {
   "cell_type": "code",
   "execution_count": 81,
   "metadata": {},
   "outputs": [
    {
     "name": "stdout",
     "output_type": "stream",
     "text": [
      "{5}\n",
      "{20, 5, 15}\n"
     ]
    }
   ],
   "source": [
    "# s1과 s2 양쪽 모두에 속하는 원소들만을 가지도록 s1을 갱신\n",
    "s1.intersection_update(s2)\n",
    "print(s1)\n",
    "print(s2)"
   ]
  },
  {
   "cell_type": "code",
   "execution_count": 82,
   "metadata": {},
   "outputs": [
    {
     "name": "stdout",
     "output_type": "stream",
     "text": [
      "set()\n"
     ]
    }
   ],
   "source": [
    "# s2의 모든 원소를 제거\n",
    "s2.clear()\n",
    "print(s2)"
   ]
  },
  {
   "cell_type": "code",
   "execution_count": 83,
   "metadata": {},
   "outputs": [
    {
     "name": "stdout",
     "output_type": "stream",
     "text": [
      "{2, 4, 5, 6, 8, 10}\n"
     ]
    }
   ],
   "source": [
    "# 집합 s3의 모든 원소를 포함하도록 s1을 갱신\n",
    "s1.update(s3)\n",
    "print(s1)"
   ]
  },
  {
   "cell_type": "code",
   "execution_count": 84,
   "metadata": {},
   "outputs": [
    {
     "name": "stdout",
     "output_type": "stream",
     "text": [
      "dict_values([])\n"
     ]
    }
   ],
   "source": [
    "# 빈 사전 및 채워진 사전을 생성\n",
    "myDict={}\n",
    "print(myDict.values())"
   ]
  },
  {
   "cell_type": "code",
   "execution_count": 85,
   "metadata": {},
   "outputs": [
    {
     "name": "stdout",
     "output_type": "stream",
     "text": [
      "{'one': 'first', 'two': 'second'}\n"
     ]
    }
   ],
   "source": [
    "# 사전에 키-값 쌍을 할당\n",
    "myDict['one'] = 'first'\n",
    "myDict['two'] = 'second'\n",
    "print(myDict)"
   ]
  },
  {
   "cell_type": "code",
   "execution_count": 87,
   "metadata": {},
   "outputs": [
    {
     "name": "stdout",
     "output_type": "stream",
     "text": [
      "False\n"
     ]
    }
   ],
   "source": [
    "# 사전에서 키를 찾아봄\n",
    "print('firstkey' in myDict)"
   ]
  },
  {
   "cell_type": "code",
   "execution_count": 88,
   "metadata": {},
   "outputs": [],
   "source": [
    "# 사전에 키/값 쌍을 추가\n",
    "myDict['firstkey'] = 'firstval'"
   ]
  },
  {
   "cell_type": "code",
   "execution_count": 89,
   "metadata": {},
   "outputs": [
    {
     "name": "stdout",
     "output_type": "stream",
     "text": [
      "dict_values(['first', 'second', 'firstval'])\n"
     ]
    }
   ],
   "source": [
    "# 사전의 값들을 나열\n",
    "print(myDict.values())"
   ]
  },
  {
   "cell_type": "code",
   "execution_count": 90,
   "metadata": {},
   "outputs": [
    {
     "name": "stdout",
     "output_type": "stream",
     "text": [
      "dict_keys(['one', 'two', 'firstkey'])\n"
     ]
    }
   ],
   "source": [
    "# 사전의 키들을 나열\n",
    "print(myDict.keys())"
   ]
  },
  {
   "cell_type": "code",
   "execution_count": 91,
   "metadata": {},
   "outputs": [
    {
     "name": "stdout",
     "output_type": "stream",
     "text": [
      "3\n"
     ]
    }
   ],
   "source": [
    "# 사전의 길이(키/값 쌍이 얼마나 들어있는지)를 표시\n",
    "print(len(myDict))"
   ]
  },
  {
   "cell_type": "code",
   "execution_count": 92,
   "metadata": {},
   "outputs": [
    {
     "name": "stdout",
     "output_type": "stream",
     "text": [
      "{'one': 'first', 'two': 'second', 'firstkey': 'firstval'}\n"
     ]
    }
   ],
   "source": [
    "# 사전의 내용을 출력\n",
    "print(myDict)"
   ]
  },
  {
   "cell_type": "code",
   "execution_count": 93,
   "metadata": {},
   "outputs": [
    {
     "name": "stdout",
     "output_type": "stream",
     "text": [
      "dict_values(['Josh', 'Frank', 'Jim', 'Leo', 'Vic'])\n",
      "Josh\n",
      "Josh\n"
     ]
    }
   ],
   "source": [
    "# 원본 사전을 문자열 기반 키를 가진 사전으로 대체\n",
    "# 다음의 사전은 하키 팀을 표현\n",
    "myDict2 = {'r_wing':'Josh','l_wing':'Frank','center':'Jim','l_defense':'Leo','r_defense':'Vic'}\n",
    "print(myDict2.values())\n",
    " \n",
    "print(myDict2.get('r_wing')) #Josh출력\n",
    " \n",
    "print(myDict2['r_wing'])  #Josh출력"
   ]
  },
  {
   "cell_type": "code",
   "execution_count": 94,
   "metadata": {},
   "outputs": [],
   "source": [
    "# 존재하지 않는 키에 대한 값을 얻기 위해 시도시 오류발생\n",
    "#print(myDict2['goalie']) #오류"
   ]
  },
  {
   "cell_type": "code",
   "execution_count": 95,
   "metadata": {},
   "outputs": [
    {
     "name": "stdout",
     "output_type": "stream",
     "text": [
      "None\n"
     ]
    }
   ],
   "source": [
    "# get()을 사용하여 존재하지 않는 키에 대한 값을 얻기 시도\n",
    "print(myDict2.get('goalie')) #None출력"
   ]
  },
  {
   "cell_type": "code",
   "execution_count": 96,
   "metadata": {},
   "outputs": [
    {
     "name": "stdout",
     "output_type": "stream",
     "text": [
      "Invalid Position\n"
     ]
    }
   ],
   "source": [
    "# 키가 존재하지 않는 경우 기본 메시지를 표시\n",
    "print(myDict2.get('goalie','Invalid Position'))"
   ]
  },
  {
   "cell_type": "code",
   "execution_count": 97,
   "metadata": {},
   "outputs": [
    {
     "name": "stdout",
     "output_type": "stream",
     "text": [
      "('r_wing', 'Josh')\n",
      "('l_wing', 'Frank')\n",
      "('center', 'Jim')\n",
      "('l_defense', 'Leo')\n",
      "('r_defense', 'Vic')\n"
     ]
    }
   ],
   "source": [
    "# 사전의 항목들에 대하여 반복\n",
    "for player in myDict2.items():\n",
    "     print (player)"
   ]
  },
  {
   "cell_type": "code",
   "execution_count": 98,
   "metadata": {},
   "outputs": [
    {
     "name": "stdout",
     "output_type": "stream",
     "text": [
      "r_wing Josh\n",
      "l_wing Frank\n",
      "center Jim\n",
      "l_defense Leo\n",
      "r_defense Vic\n"
     ]
    }
   ],
   "source": [
    "# 키와 값을 독립적인 개체에 할당한 다음 출력\n",
    "for key,value in myDict2.items():\n",
    "     print (key, value)"
   ]
  },
  {
   "cell_type": "code",
   "execution_count": 99,
   "metadata": {},
   "outputs": [
    {
     "name": "stdout",
     "output_type": "stream",
     "text": [
      "1\n"
     ]
    }
   ],
   "source": [
    "#dictionary 생성\n",
    "dict1 = {'a':1, 'b':2, 'c':3}\n",
    "print(dict1['a'])     # 1이 출력됨"
   ]
  },
  {
   "cell_type": "code",
   "execution_count": 100,
   "metadata": {},
   "outputs": [
    {
     "name": "stdout",
     "output_type": "stream",
     "text": [
      "{'a': 1, 'b': 2, 'c': 3, 'd': 4}\n"
     ]
    }
   ],
   "source": [
    "dict1['d'] = 4\n",
    "print(dict1)        # {‘a’:1, ‘b’:2’, ‘c’:3, ‘d’:4}가 출력되나 순서가 틀릴 수 있음"
   ]
  },
  {
   "cell_type": "code",
   "execution_count": 101,
   "metadata": {},
   "outputs": [
    {
     "name": "stdout",
     "output_type": "stream",
     "text": [
      "{'a': 1, 'b': 7, 'c': 3, 'd': 4}\n"
     ]
    }
   ],
   "source": [
    "dict1['b'] = 7\n",
    "print(dict1)        # {‘a’:1, ‘b’:7’, ‘c’:3, ‘d’:4}가 출력되나 순서가 틀릴 수 있음"
   ]
  },
  {
   "cell_type": "code",
   "execution_count": 103,
   "metadata": {},
   "outputs": [
    {
     "name": "stdout",
     "output_type": "stream",
     "text": [
      "4\n"
     ]
    }
   ],
   "source": [
    "print(len(dict1))    # 4가 출력됨"
   ]
  },
  {
   "cell_type": "code",
   "execution_count": null,
   "metadata": {},
   "outputs": [],
   "source": []
  }
 ],
 "metadata": {
  "kernelspec": {
   "display_name": "pydata",
   "language": "python",
   "name": "pydata"
  },
  "language_info": {
   "codemirror_mode": {
    "name": "ipython",
    "version": 3
   },
   "file_extension": ".py",
   "mimetype": "text/x-python",
   "name": "python",
   "nbconvert_exporter": "python",
   "pygments_lexer": "ipython3",
   "version": "3.7.10"
  }
 },
 "nbformat": 4,
 "nbformat_minor": 4
}
