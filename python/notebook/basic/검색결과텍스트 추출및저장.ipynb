{
 "cells": [
  {
   "cell_type": "code",
   "execution_count": 1,
   "metadata": {},
   "outputs": [],
   "source": [
    " #Step 0. 필요한 모듈과 라이브러리를 로딩하고 검색어를 입력 받습니다\n",
    "from bs4 import BeautifulSoup     \n",
    "from selenium import webdriver\n",
    "import time"
   ]
  },
  {
   "cell_type": "code",
   "execution_count": 16,
   "metadata": {},
   "outputs": [
    {
     "name": "stdout",
     "output_type": "stream",
     "text": [
      "크롤링 키워드 >> 봄여행\n",
      "검색 결과를 저장할 파일 경로와 이름 저장 (예_D:\\SJY\\python\\notebook\\data\\test.txt) >> D:\\SJY\\python\\notebook\\data\\spring.txt\n",
      " 요청하신 데이터 수집 작업이 정상적으로 완료되었습니다\n"
     ]
    }
   ],
   "source": [
    "query_txt = input('크롤링 키워드 >> ')\n",
    "f_name = input('''검색 결과를 저장할 파일 경로와 이름 저장 (예_D:\\\\SJY\\\\python\\\\notebook\\\\data\\\\test.txt) >> ''')\n",
    "\n",
    "#Step 1. 크롬 드라이버를 사용해서 웹 브라우저를 실행합니다.\n",
    "path=\"D:/SJY/python/datadown/chromedriver.exe\"\n",
    "driver = webdriver.Chrome(path)\n",
    "driver.get(\"https://korean.visitkorea.or.kr\")\n",
    "time.sleep(2)\n",
    "\n",
    "#코로나 얼럿창 있을 경우 닫기 클릭하기 //*[@id=\"chkForm01\"]\n",
    "try:\n",
    "    driver.find_element_by_xpath('''//*[@id=\"chkForm01\"]''').click()\n",
    "except:\n",
    "    print('코로나 창이 없습니다.')\n",
    "    \n",
    "#Step 2. 검색창의 이름을 찾아서 검색어를 입력합니다\n",
    "element = driver.find_element_by_id('inp_search')\n",
    "element.send_keys(query_txt)\n",
    "element.send_keys('\\n') #Enter 효과\n",
    "\n",
    "time.sleep(1)\n",
    "\n",
    "#학습목표 1: 텍스트를 추출하여 화면에 출력하기\n",
    "# Step 4. 현재 페이지에 있는 내용을 화면에 출력하기\n",
    "full_html = driver.page_source\n",
    "soup = BeautifulSoup(full_html, 'html.parser')\n",
    "\n",
    "content_list = soup.find('ul','list_thumType type1')\n",
    "\n",
    "# 학습목표 2: 텍스트를 추출하여 txt 형식으로 저장하기\n",
    "# Step 5. 현재 페이지에 있는 내용을 txt 형식으로 파일에 저장하기\n",
    "import sys\n",
    "# 출력 방향을 파일로 전환\n",
    "orig_stdout = sys.stdout\n",
    "f = open(f_name, 'a', encoding=\"utf-8\") # append 방식\n",
    "sys.stdout = f\n",
    "\n",
    "time.sleep(1) # 앞선 작업을 위한 잠시의 쉬는시간.\n",
    "\n",
    "# 파일로 저장\n",
    "for i in content_list:\n",
    "    print(i.text.strip())\n",
    "    print(\"\\n\")\n",
    "    \n",
    "# 출력 방향을 모니터로 전환.\n",
    "sys.stdout = orig_stdout # 원래의 방향으로 변환\n",
    "f.close()\n",
    "\n",
    "print(\" 요청하신 데이터 수집 작업이 정상적으로 완료되었습니다\")\n",
    "\n",
    "driver.close()"
   ]
  },
  {
   "cell_type": "code",
   "execution_count": 9,
   "metadata": {},
   "outputs": [
    {
     "name": "stdout",
     "output_type": "stream",
     "text": [
      "[서울] 여름에 더 돋보이는 서울 여행자의 방   서울     #한국관광품질인증#여행기사#여행자의방#추천숙박#혜화1938#어반플레이스강남#게스트하우스서울삼촌#서울#가족#인증숙소#서울숙소#우수숙소#여름휴가_미리보기#8월가볼만한곳 더보기  즐겨찾기 공유하기\n",
      "\n",
      "\n",
      "산골 역과 무쇠다리 마을 여름 여행, 소백산역과 무쇠달마을   경상북도 영주시    #영주가볼만한곳#여름여행#소백산역#무쇠달마을#박물관#공공누리#다자구할머니#가마솥물물교환#기찻길#계곡#죽령옛길#인삼박물관 더보기  즐겨찾기 공유하기\n",
      "\n",
      "\n",
      "[여행 카드] 탐나는 여름 맛 빙수   서울     #서울가볼만한곳#빙수#서울맛집#여름제철음식#이색카페#카페이미#반전형제#부빙#티라벤토#북촌빙수#망고빙수#실타래빙수#옥수수빙수#수박빙수#오렌지빙수#아이와함께#친구와함께#연인과함께#가족여행#먹방여행#미식여행#빙수맛집#맛집여행#여행카드#구석구석미식회#여름휴가_미리보기#6월가볼만한곳 더보기  즐겨찾기 공유하기\n",
      "\n",
      "\n",
      "한국관광공사 추천 7월 걷기여행길, 아름다운 여름의 정취를 물씬 느낄 수 있는 길   경기도 포천시    #한국관광6선#걷기여행길#걷기여행#여름방학가볼만한곳#여름#휴가#풀향기#바다내음#힐링#휴양여행#힐링여행#포천가볼만한곳#주상절리길#한탄강#비둘기낭폭포#한탄강하늘다리#비둘기낭순환코스#곡성가볼만한곳#섬진강둘레길#마천목장군길#트레킹코스#금산가볼만한곳#솔바람길#진천가볼만한곳#진천초롱길#진천농다리#창원가볼만한곳#봉암수원지둘레길#동해가볼만한곳#논골담길#전망대#산책코스#산책로 더보기  즐겨찾기 공유하기\n",
      "\n",
      "\n",
      "\n",
      "\n",
      "\n",
      "한 여름에도 시원한 얼음골, 밀양 여행   경상남도 밀양시    #가지산도립공원#밍양얼음골#표충사#밀양평리산대추마을#조깅#등산로#여름여행#여름휴가#가족여행#힐링#연중무휴#경상권#당일코스#1박2일#2박3일#추천코스   가지산도립공원(밀양) 밀양 얼음골 표충사(밀양) 밀양 평리산 대추마을 더보기  즐겨찾기 공유하기 코스에 담기\n",
      "\n",
      "\n",
      "가족여행에 최적화된 여름 휴가지, 고창 동호해수욕장   전라북도 고창군    #고창가볼만한곳#동호해수욕장#피서여행#물놀이#캠핑장#여름휴가#갯벌체험#백사장#고인돌#세계유산#고창고인돌박물관 더보기  즐겨찾기 공유하기\n",
      "\n",
      "\n",
      "여름방학 가족 여행지 추천. 안동 여행 당일치기 코스!   경상북도 안동시    #화천서원#하회마을#안동#안동가볼만한곳#가족여행#여름방학#여름휴가#월영교#병산서원#도산서원 더보기  즐겨찾기 공유하기\n",
      "\n",
      "\n",
      "[안동 가볼만한 곳] 한적한 여름여행지 안동 1박2일   경상북도 안동시    #안동가볼만한곳#안동여행#안동여행코스#안동1박2일코스#안동1박2일여행코스#여름휴가지추천#국내여행#안동여행지#안동여행코스추천#안동여행지 더보기  즐겨찾기 공유하기\n",
      "\n",
      "\n",
      "[당일치기 섬 여행] 여름을 잊은 그대에게, 트레킹 천국 장봉도   인천 옹진군    #인천가볼만한곳#공공누리#낙조풍경#트레킹#장봉도#갯티길#장봉도당일치기코스#바다풍경#해안길#가막머리#하늘나들길#장봉해안길#여름여행#여름가볼만한곳#봉화대#갯벌품은해변#옹암해변#인천맛집#하늘정원#당일치기섬여행#당일치기여행 더보기  즐겨찾기 공유하기\n",
      "\n",
      "\n",
      "무더운 여름, 시원하게 즐기는 레저여행   경기도 광명시    #광명동굴#뉴서울다이빙풀#광명스피돔#광명새마을시장#여름여행#서울근교여행#재래시장#스포츠센터#가족여행#데이트코스#연인과함께#친구와함께#당일치기여행#레포츠#당일코스#1박2일#2박3일   광명동굴 뉴서울 다이빙 풀 (점심)장수촌 광명스피돔 광명새마을시장 더보기  즐겨찾기 공유하기 코스에 담기\n",
      "\n",
      "\n"
     ]
    }
   ],
   "source": [
    "content_list = soup.find('ul','list_thumType type1')\n",
    "for i in content_list:\n",
    "    print(i.text.strip())\n",
    "    print(\"\\n\")"
   ]
  },
  {
   "cell_type": "code",
   "execution_count": null,
   "metadata": {},
   "outputs": [],
   "source": []
  }
 ],
 "metadata": {
  "kernelspec": {
   "display_name": "pydata",
   "language": "python",
   "name": "pydata"
  },
  "language_info": {
   "codemirror_mode": {
    "name": "ipython",
    "version": 3
   },
   "file_extension": ".py",
   "mimetype": "text/x-python",
   "name": "python",
   "nbconvert_exporter": "python",
   "pygments_lexer": "ipython3",
   "version": "3.7.10"
  }
 },
 "nbformat": 4,
 "nbformat_minor": 4
}
