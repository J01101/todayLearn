{
 "cells": [
  {
   "cell_type": "code",
   "execution_count": 1,
   "metadata": {},
   "outputs": [],
   "source": [
    "class Robot:  #부모 클래스\n",
    "    '''다양한 로봇을 만드는 클래스'''\n",
    "    def speak(self):\n",
    "        print('로봇이 말한다.')\n",
    "        \n",
    "    def move(self):\n",
    "        print('로봇이 이동한다.')\n",
    " \n",
    "    def charge(self):\n",
    "        print('로봇이 충전한다.')"
   ]
  },
  {
   "cell_type": "code",
   "execution_count": 2,
   "metadata": {},
   "outputs": [],
   "source": [
    "class CleanRobot(Robot): #자식클래스 \n",
    "    def broom(self):\n",
    "        print('청소로봇이 먼지를 쓸어 담는다.')"
   ]
  },
  {
   "cell_type": "code",
   "execution_count": 3,
   "metadata": {},
   "outputs": [
    {
     "name": "stdout",
     "output_type": "stream",
     "text": [
      "로봇이 이동한다.\n"
     ]
    }
   ],
   "source": [
    "robot = Robot() #부모객체만 생성된다.\n",
    "robot.move()"
   ]
  },
  {
   "cell_type": "code",
   "execution_count": 4,
   "metadata": {},
   "outputs": [
    {
     "name": "stdout",
     "output_type": "stream",
     "text": [
      "청소로봇이 먼지를 쓸어 담는다.\n",
      "로봇이 이동한다.\n"
     ]
    }
   ],
   "source": [
    " #자식객체 생성되면 부모의 객체도 생성됨. 부모의 속성, 메소드 상속받음\n",
    "clean = CleanRobot()\n",
    "clean.broom()\n",
    "clean.move()"
   ]
  },
  {
   "cell_type": "code",
   "execution_count": 5,
   "metadata": {},
   "outputs": [],
   "source": [
    "class Parent :\n",
    "    def __init__(self,name) :\n",
    "        self.name = name"
   ]
  },
  {
   "cell_type": "code",
   "execution_count": 6,
   "metadata": {},
   "outputs": [],
   "source": [
    "class child(Parent) : # Parent 상속\n",
    "    pass"
   ]
  },
  {
   "cell_type": "code",
   "execution_count": 7,
   "metadata": {},
   "outputs": [
    {
     "ename": "TypeError",
     "evalue": "__init__() missing 1 required positional argument: 'name'",
     "output_type": "error",
     "traceback": [
      "\u001b[1;31m---------------------------------------------------------------------------\u001b[0m",
      "\u001b[1;31mTypeError\u001b[0m                                 Traceback (most recent call last)",
      "\u001b[1;32m<ipython-input-7-843e9388992a>\u001b[0m in \u001b[0;36m<module>\u001b[1;34m\u001b[0m\n\u001b[1;32m----> 1\u001b[1;33m \u001b[0mc\u001b[0m \u001b[1;33m=\u001b[0m \u001b[0mchild\u001b[0m\u001b[1;33m(\u001b[0m\u001b[1;33m)\u001b[0m \u001b[1;31m# 부모의 매개변수와 인자값이 달라 오류난다.\u001b[0m\u001b[1;33m\u001b[0m\u001b[1;33m\u001b[0m\u001b[0m\n\u001b[0m",
      "\u001b[1;31mTypeError\u001b[0m: __init__() missing 1 required positional argument: 'name'"
     ]
    }
   ],
   "source": [
    "c = child() # 부모의 매개변수와 인자값이 달라 오류난다."
   ]
  },
  {
   "cell_type": "code",
   "execution_count": 8,
   "metadata": {},
   "outputs": [],
   "source": [
    "c = child('홍길동')"
   ]
  },
  {
   "cell_type": "code",
   "execution_count": 9,
   "metadata": {},
   "outputs": [
    {
     "data": {
      "text/plain": [
       "'홍길동'"
      ]
     },
     "execution_count": 9,
     "metadata": {},
     "output_type": "execute_result"
    }
   ],
   "source": [
    "c.name"
   ]
  },
  {
   "cell_type": "code",
   "execution_count": 10,
   "metadata": {},
   "outputs": [],
   "source": [
    "class Parent :\n",
    "    def __init__(self,name) :\n",
    "        self.name = name"
   ]
  },
  {
   "cell_type": "code",
   "execution_count": 11,
   "metadata": {},
   "outputs": [],
   "source": [
    "class child(Parent) : # Parent 상속\n",
    "    def __init__(self,name, age):\n",
    "        super().__init__(name) #부모의 __init__()호출\n",
    "        self.age = age"
   ]
  },
  {
   "cell_type": "code",
   "execution_count": 12,
   "metadata": {},
   "outputs": [],
   "source": [
    "c = child('김길동',28)"
   ]
  },
  {
   "cell_type": "code",
   "execution_count": 20,
   "metadata": {},
   "outputs": [
    {
     "data": {
      "text/plain": [
       "'김길동'"
      ]
     },
     "execution_count": 20,
     "metadata": {},
     "output_type": "execute_result"
    }
   ],
   "source": [
    "c.name"
   ]
  },
  {
   "cell_type": "code",
   "execution_count": 16,
   "metadata": {},
   "outputs": [
    {
     "data": {
      "text/plain": [
       "28"
      ]
     },
     "execution_count": 16,
     "metadata": {},
     "output_type": "execute_result"
    }
   ],
   "source": [
    "c.age"
   ]
  },
  {
   "cell_type": "code",
   "execution_count": 18,
   "metadata": {},
   "outputs": [],
   "source": [
    "p = Parent('길')"
   ]
  },
  {
   "cell_type": "code",
   "execution_count": 19,
   "metadata": {},
   "outputs": [
    {
     "data": {
      "text/plain": [
       "'길'"
      ]
     },
     "execution_count": 19,
     "metadata": {},
     "output_type": "execute_result"
    }
   ],
   "source": [
    "p.name"
   ]
  },
  {
   "cell_type": "code",
   "execution_count": 21,
   "metadata": {},
   "outputs": [],
   "source": [
    "# super()\n",
    "class Robot:\n",
    "    '''다양한 로봇을 만드는 클래스'''\n",
    "    def __init__(self, name, pos):\n",
    "        self.name = name\n",
    "        self.pos = pos\n",
    "        \n",
    "    def move(self):\n",
    "        print('로봇이 이동한다.')\n",
    " \n",
    "    def charge(self):\n",
    "        print('로봇이 충전한다.')"
   ]
  },
  {
   "cell_type": "code",
   "execution_count": 22,
   "metadata": {},
   "outputs": [],
   "source": [
    "class CleanRobot(Robot):\n",
    "    def __init__(self, name, pos, filtertype):\n",
    "        super().__init__(name, pos)\n",
    "        self.filtertype = filtertype\n",
    "        \n",
    "    def broom(self):\n",
    "        print('청소로봇이 먼지를 쓸어 담는다.')\n",
    " \n",
    "    def __str__(self):\n",
    "        word = '{}를 장착한 {}, {}에서 시작'\\\n",
    "               .format(self.filtertype, self.name, self.pos)\n",
    "        return word"
   ]
  },
  {
   "cell_type": "code",
   "execution_count": 23,
   "metadata": {},
   "outputs": [],
   "source": [
    "clean = CleanRobot('깔끔이로봇', (20, 45), '먼지필터')"
   ]
  },
  {
   "cell_type": "code",
   "execution_count": 24,
   "metadata": {},
   "outputs": [
    {
     "name": "stdout",
     "output_type": "stream",
     "text": [
      "먼지필터를 장착한 깔끔이로봇, (20, 45)에서 시작\n"
     ]
    }
   ],
   "source": [
    "print(clean) #__str__()의 리턴값이 출력된다."
   ]
  },
  {
   "cell_type": "code",
   "execution_count": 25,
   "metadata": {},
   "outputs": [
    {
     "name": "stdout",
     "output_type": "stream",
     "text": [
      "로봇이 이동한다.\n"
     ]
    }
   ],
   "source": [
    "clean.move()"
   ]
  },
  {
   "cell_type": "code",
   "execution_count": 26,
   "metadata": {},
   "outputs": [
    {
     "name": "stdout",
     "output_type": "stream",
     "text": [
      "청소로봇이 먼지를 쓸어 담는다.\n"
     ]
    }
   ],
   "source": [
    "clean.broom()"
   ]
  },
  {
   "cell_type": "code",
   "execution_count": null,
   "metadata": {},
   "outputs": [],
   "source": []
  }
 ],
 "metadata": {
  "kernelspec": {
   "display_name": "pydata",
   "language": "python",
   "name": "pydata"
  },
  "language_info": {
   "codemirror_mode": {
    "name": "ipython",
    "version": 3
   },
   "file_extension": ".py",
   "mimetype": "text/x-python",
   "name": "python",
   "nbconvert_exporter": "python",
   "pygments_lexer": "ipython3",
   "version": "3.7.10"
  }
 },
 "nbformat": 4,
 "nbformat_minor": 4
}
