{
 "cells": [
  {
   "cell_type": "code",
   "execution_count": 1,
   "metadata": {},
   "outputs": [
    {
     "name": "stdout",
     "output_type": "stream",
     "text": [
      "x는 y보다 큽니다\n"
     ]
    }
   ],
   "source": [
    "x = 3\n",
    "y = 2\n",
    "if x == y:\n",
    "    print ('x는 y와 같습니다')\n",
    "elif x > y:\n",
    "    print ('x는 y보다 큽니다')"
   ]
  },
  {
   "cell_type": "code",
   "execution_count": 2,
   "metadata": {},
   "outputs": [
    {
     "name": "stdout",
     "output_type": "stream",
     "text": [
      "y is 7 less than x\n",
      "y is 6 less than x\n",
      "y is 5 less than x\n",
      "y is 4 less than x\n",
      "y is 3 less than x\n",
      "y is 2 less than x\n",
      "y is 1 less than x\n"
     ]
    }
   ],
   "source": [
    "x = 9\n",
    "y = 2\n",
    "while y < x:\n",
    "     print ('y is %d less than x' % (x-y))\n",
    "     y += 1"
   ]
  },
  {
   "cell_type": "code",
   "execution_count": 3,
   "metadata": {},
   "outputs": [
    {
     "name": "stdout",
     "output_type": "stream",
     "text": [
      "3\n",
      "4\n",
      "5\n",
      "6\n",
      "7\n",
      "8\n"
     ]
    }
   ],
   "source": [
    "x = 0\n",
    "while x < 10:\n",
    "    x = x+1\n",
    "    if x < 3:\n",
    "        continue #while 구문 처음으로 이동하여 반\n",
    "    print(x)\n",
    "    if x > 7:\n",
    "        break #while 구분을 탈출"
   ]
  },
  {
   "cell_type": "code",
   "execution_count": 4,
   "metadata": {},
   "outputs": [
    {
     "name": "stdout",
     "output_type": "stream",
     "text": [
      "447\n",
      "100128\n"
     ]
    }
   ],
   "source": [
    "x = 1\n",
    "total = 0\n",
    "while 1: #True-무한반복\n",
    "    total = total + x\n",
    "    if total > 100000:\n",
    "        print(x)\n",
    "        print(total)\n",
    "        break\n",
    "    x = x + 1"
   ]
  },
  {
   "cell_type": "code",
   "execution_count": 5,
   "metadata": {},
   "outputs": [
    {
     "name": "stdout",
     "output_type": "stream",
     "text": [
      "0\n",
      "1\n",
      "2\n",
      "3\n",
      "4\n",
      "5\n",
      "6\n",
      "7\n",
      "8\n",
      "9\n"
     ]
    }
   ],
   "source": [
    "for x in range(10):\n",
    "    print (x)"
   ]
  },
  {
   "cell_type": "code",
   "execution_count": 6,
   "metadata": {},
   "outputs": [
    {
     "name": "stdout",
     "output_type": "stream",
     "text": [
      "1\n",
      "2\n",
      "3\n",
      "4\n",
      "5\n"
     ]
    }
   ],
   "source": [
    "scope = [1, 2, 3, 4, 5]\n",
    "for x in scope:\n",
    "    print(x)"
   ]
  },
  {
   "cell_type": "code",
   "execution_count": 7,
   "metadata": {},
   "outputs": [
    {
     "name": "stdout",
     "output_type": "stream",
     "text": [
      "a\n",
      "b\n",
      "c\n",
      "d\n",
      "e\n",
      "f\n"
     ]
    }
   ],
   "source": [
    "str2 = 'abcdef'\n",
    "for c in str2:\n",
    "    print(c)"
   ]
  },
  {
   "cell_type": "code",
   "execution_count": 9,
   "metadata": {},
   "outputs": [
    {
     "name": "stdout",
     "output_type": "stream",
     "text": [
      "a : 98\n",
      "b : 100\n",
      "c : 99\n"
     ]
    }
   ],
   "source": [
    "ascii_codes ={\"a\":98,\"b\":100,\"c\":99}\n",
    "for c in ascii_codes:\n",
    "    print(c, ':', ascii_codes[c])  "
   ]
  },
  {
   "cell_type": "code",
   "execution_count": 10,
   "metadata": {},
   "outputs": [
    {
     "name": "stdout",
     "output_type": "stream",
     "text": [
      "1\n",
      "2\n",
      "3\n"
     ]
    }
   ],
   "source": [
    "scope = [1, 2, 3, 4, 5]\n",
    "for x in scope:\n",
    "    print(x)\n",
    "    if x < 3:\n",
    "        continue\n",
    "    else:\n",
    "        break"
   ]
  },
  {
   "cell_type": "code",
   "execution_count": 11,
   "metadata": {},
   "outputs": [
    {
     "name": "stdout",
     "output_type": "stream",
     "text": [
      "1\n",
      "2\n",
      "3\n",
      "Perfect\n"
     ]
    }
   ],
   "source": [
    "scope = [1, 2, 3]\n",
    "for x in scope:\n",
    "    print(x)\n",
    "else:\n",
    "    print('Perfect') # for구문이 다 실행후 실행할 코드"
   ]
  },
  {
   "cell_type": "code",
   "execution_count": 13,
   "metadata": {},
   "outputs": [
    {
     "name": "stdout",
     "output_type": "stream",
     "text": [
      "Enter Your Name >> hong\n",
      "hong\n"
     ]
    }
   ],
   "source": [
    "name = input('Enter Your Name >> ')\n",
    "print(name)"
   ]
  },
  {
   "cell_type": "code",
   "execution_count": 14,
   "metadata": {},
   "outputs": [
    {
     "name": "stdout",
     "output_type": "stream",
     "text": [
      "Please provide an expression: 123\n",
      "123\n"
     ]
    }
   ],
   "source": [
    "# 사용자가 입력한 식을 평가하는 input 함수를 사용\n",
    "val = input ('Please provide an expression: ')\n",
    " \n",
    "print(val)"
   ]
  },
  {
   "cell_type": "code",
   "execution_count": 15,
   "metadata": {},
   "outputs": [
    {
     "data": {
      "text/plain": [
       "'\\n- %s - 문자열\\n- %c - 문자 1개\\n- %d - 정수\\n- %f  - 부동소수점수\\n- %o - 8진수\\n- %x - 16진수\\n- %% - % 자체\\n'"
      ]
     },
     "execution_count": 15,
     "metadata": {},
     "output_type": "execute_result"
    }
   ],
   "source": [
    "'''\n",
    "- %s - 문자열\n",
    "- %c - 문자 1개\n",
    "- %d - 정수\n",
    "- %f  - 부동소수점수\n",
    "- %o - 8진수\n",
    "- %x - 16진수\n",
    "- %% - % 자체\n",
    "'''"
   ]
  },
  {
   "cell_type": "code",
   "execution_count": 16,
   "metadata": {},
   "outputs": [
    {
     "name": "stdout",
     "output_type": "stream",
     "text": [
      "This text will be printed to the command line\n",
      "I love programming in Jython\n"
     ]
    }
   ],
   "source": [
    "print ('This text will be printed to the command line')\n",
    " \n",
    "my_value = 'I love programming in Jython'\n",
    "print (my_value)"
   ]
  },
  {
   "cell_type": "code",
   "execution_count": 19,
   "metadata": {},
   "outputs": [
    {
     "name": "stdout",
     "output_type": "stream",
     "text": [
      "I am a fan of the number: 10\n"
     ]
    }
   ],
   "source": [
    "z = 10\n",
    "#print ('I am a fan of the number: ' + z)\n",
    "print ('I am a fan of the number: ' + str(z))"
   ]
  },
  {
   "cell_type": "code",
   "execution_count": 20,
   "metadata": {},
   "outputs": [
    {
     "name": "stdout",
     "output_type": "stream",
     "text": [
      "Here is a test of the print statement using the values: 5, hello world, and 3.998000\n"
     ]
    }
   ],
   "source": [
    "string_value = 'hello world'\n",
    "float_value = 3.998\n",
    "decimal_value = 5\n",
    "print ('Here is a test of the print statement using the values: %d, %s, and %f' % (decimal_value, string_value, float_value))"
   ]
  },
  {
   "cell_type": "code",
   "execution_count": 21,
   "metadata": {},
   "outputs": [
    {
     "name": "stdout",
     "output_type": "stream",
     "text": [
      "The value of x + y is: 3\n"
     ]
    }
   ],
   "source": [
    "x = 1\n",
    "y = 2\n",
    "print ('The value of x + y is: %d' % (x + y))"
   ]
  },
  {
   "cell_type": "code",
   "execution_count": 23,
   "metadata": {},
   "outputs": [
    {
     "name": "stdout",
     "output_type": "stream",
     "text": [
      "2.3456\n",
      "2\n",
      "2.345600\n"
     ]
    }
   ],
   "source": [
    "x = 2.3456\n",
    "\n",
    "print ('%s' % x)\n",
    " \n",
    "print ('%d' % x)\n",
    " \n",
    "print ('%f' % x) "
   ]
  },
  {
   "cell_type": "code",
   "execution_count": null,
   "metadata": {},
   "outputs": [],
   "source": []
  }
 ],
 "metadata": {
  "kernelspec": {
   "display_name": "pydata",
   "language": "python",
   "name": "pydata"
  },
  "language_info": {
   "codemirror_mode": {
    "name": "ipython",
    "version": 3
   },
   "file_extension": ".py",
   "mimetype": "text/x-python",
   "name": "python",
   "nbconvert_exporter": "python",
   "pygments_lexer": "ipython3",
   "version": "3.7.10"
  }
 },
 "nbformat": 4,
 "nbformat_minor": 4
}
