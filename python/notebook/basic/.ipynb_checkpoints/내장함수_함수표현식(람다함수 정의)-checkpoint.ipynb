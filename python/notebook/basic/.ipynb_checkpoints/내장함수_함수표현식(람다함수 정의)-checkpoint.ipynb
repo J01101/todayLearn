{
 "cells": [
  {
   "cell_type": "code",
   "execution_count": 1,
   "metadata": {},
   "outputs": [],
   "source": [
    "pos = 10\n",
    "neg = -10"
   ]
  },
  {
   "cell_type": "code",
   "execution_count": 2,
   "metadata": {},
   "outputs": [
    {
     "name": "stdout",
     "output_type": "stream",
     "text": [
      "10\n",
      "10\n"
     ]
    }
   ],
   "source": [
    "print(abs(pos))\n",
    "print(abs(neg))"
   ]
  },
  {
   "cell_type": "code",
   "execution_count": 4,
   "metadata": {},
   "outputs": [],
   "source": [
    "if neg > 0 :\n",
    "    print('뒷 걸음질 치다')"
   ]
  },
  {
   "cell_type": "code",
   "execution_count": 5,
   "metadata": {},
   "outputs": [
    {
     "name": "stdout",
     "output_type": "stream",
     "text": [
      "전진하다\n"
     ]
    }
   ],
   "source": [
    "if abs(neg) > 0 :\n",
    "    print('전진하다')"
   ]
  },
  {
   "cell_type": "code",
   "execution_count": 7,
   "metadata": {},
   "outputs": [
    {
     "name": "stdout",
     "output_type": "stream",
     "text": [
      "False\n",
      "True\n",
      "False\n",
      "False\n",
      "True\n",
      "True\n"
     ]
    }
   ],
   "source": [
    "num0 = 0\n",
    "num1 = 1\n",
    "empty_list = []\n",
    "full_list = [1, 2, 3]\n",
    "empty_str = \"\"\n",
    "full_str = \"파이썬\"\n",
    " \n",
    "print(bool(num0))\n",
    "print(bool(num1))\n",
    "print(bool(empty_list))\n",
    "print(bool(full_list))\n",
    "print(bool(empty_str))\n",
    "print(bool(full_str))"
   ]
  },
  {
   "cell_type": "code",
   "execution_count": null,
   "metadata": {},
   "outputs": [],
   "source": []
  }
 ],
 "metadata": {
  "kernelspec": {
   "display_name": "pydata",
   "language": "python",
   "name": "pydata"
  },
  "language_info": {
   "codemirror_mode": {
    "name": "ipython",
    "version": 3
   },
   "file_extension": ".py",
   "mimetype": "text/x-python",
   "name": "python",
   "nbconvert_exporter": "python",
   "pygments_lexer": "ipython3",
   "version": "3.7.10"
  }
 },
 "nbformat": 4,
 "nbformat_minor": 4
}
