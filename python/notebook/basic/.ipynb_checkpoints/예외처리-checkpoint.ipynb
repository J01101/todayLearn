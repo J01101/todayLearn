{
 "cells": [
  {
   "cell_type": "code",
   "execution_count": 4,
   "metadata": {},
   "outputs": [
    {
     "name": "stdout",
     "output_type": "stream",
     "text": [
      "안녕하세요.\n",
      "길동\n"
     ]
    }
   ],
   "source": [
    "#param = '길동'\n",
    "try:\n",
    "   print('안녕하세요.')\n",
    "   print(param)\n",
    "except:\n",
    "   print('예외가 발생했습니다!')"
   ]
  },
  {
   "cell_type": "code",
   "execution_count": 5,
   "metadata": {},
   "outputs": [
    {
     "name": "stdout",
     "output_type": "stream",
     "text": [
      "예외가 발생했습니다.\n"
     ]
    }
   ],
   "source": [
    "try:\n",
    "    print(1/0)\n",
    "except:\n",
    "    print(\"예외가 발생했습니다.\")"
   ]
  },
  {
   "cell_type": "code",
   "execution_count": 6,
   "metadata": {},
   "outputs": [],
   "source": [
    "# 다음 함수는 try-except 문을 통하여 사용자가 0을 분모로 전달하면\n",
    "# 친절한 에러 메세지를 제공한다.\n",
    "\n",
    "def divide_numbers(x, y):\n",
    "    try:\n",
    "            return x/y\n",
    "    except ZeroDivisionError:\n",
    "            return 'You cannot divide by zero, try again'"
   ]
  },
  {
   "cell_type": "code",
   "execution_count": 7,
   "metadata": {},
   "outputs": [
    {
     "name": "stdout",
     "output_type": "stream",
     "text": [
      "2.6666666666666665\n"
     ]
    }
   ],
   "source": [
    "# 8 나누기 3을 시도\n",
    "print(divide_numbers(8,3))"
   ]
  },
  {
   "cell_type": "code",
   "execution_count": 8,
   "metadata": {},
   "outputs": [
    {
     "name": "stdout",
     "output_type": "stream",
     "text": [
      "You cannot divide by zero, try again\n"
     ]
    }
   ],
   "source": [
    "# 8 나누기 0을 시도\n",
    "print(divide_numbers(8, 0))"
   ]
  },
  {
   "cell_type": "code",
   "execution_count": 9,
   "metadata": {},
   "outputs": [
    {
     "name": "stdout",
     "output_type": "stream",
     "text": [
      "안녕하세요.\n",
      "100\n",
      "예외가 발생하지 않았습니다.\n"
     ]
    }
   ],
   "source": [
    "try:\n",
    "   print('안녕하세요.')\n",
    "   param = 100\n",
    "   print(param)\n",
    " \n",
    "except:\n",
    "   print('예외가 발생했습니다!')\n",
    "\n",
    "else:\n",
    "   print('예외가 발생하지 않았습니다.')"
   ]
  },
  {
   "cell_type": "code",
   "execution_count": 17,
   "metadata": {},
   "outputs": [
    {
     "name": "stdout",
     "output_type": "stream",
     "text": [
      "나누어질 수를 입력하세요 >> ㅁ\n",
      "나눌 수를 입력하세요 >> ㅠ\n",
      "에러 _ 숫자를 입력해주세요\n",
      "에러 _ 숫자만 입력해야 합니다.\n"
     ]
    }
   ],
   "source": [
    "# 키보드 입력을 통하여 받은 숫자에 대하여 나눗셈을 수행\n",
    "# 빈값이나 문자를 입력하면 ValueError,TypeError 발행\n",
    "try:\n",
    "    # 작업을 수행\n",
    "    try:\n",
    "        x = input ('나누어질 수를 입력하세요 >> ')\n",
    "        y = input('나눌 수를 입력하세요 >> ')\n",
    "        x = int(x)\n",
    "        y = int(y)\n",
    "    except ValueError:\n",
    "        # 예외를 처리하고 바깥의 try-except로 이동\n",
    "        print ('에러 _ 숫자를 입력해주세요')\n",
    "    z = x / y\n",
    "except ZeroDivisionError:\n",
    "    # handle exception\n",
    "    print ('에러 _ 0으로 나눌 수 없습니다.')\n",
    "except TypeError:\n",
    "    print ('에러 _ 숫자만 입력해야 합니다.')\n",
    "else:\n",
    "    print ('나누기 한 값 >> %d' % (z))"
   ]
  },
  {
   "cell_type": "code",
   "execution_count": 24,
   "metadata": {},
   "outputs": [
    {
     "name": "stdout",
     "output_type": "stream",
     "text": [
      "인덱스 값을 입력해주세요 >> \n",
      "7\n",
      "잘못된 인덱스 값입니다.\n"
     ]
    }
   ],
   "source": [
    "# 복수개의 except절\n",
    "my_list = [1, 2, 3]\n",
    " \n",
    "try:\n",
    "    print(\"인덱스 값을 입력해주세요 >> \")\n",
    "    index = int(input())\n",
    "    print(my_list[index]/0)\n",
    "except ZeroDivisionError:\n",
    "    print(\"0으로 나눌 수 없습니다.\")\n",
    "except IndexError:\n",
    "    print(\"잘못된 인덱스 값입니다.\")"
   ]
  },
  {
   "cell_type": "code",
   "execution_count": null,
   "metadata": {},
   "outputs": [],
   "source": [
    "# as로 예외형식을 받아온다.\n",
    "my_list = [1, 2, 3]\n",
    " \n",
    "try:\n",
    "    print(\"인덱스 값을 입력하세요 >> \")\n",
    "    index = int(input())\n",
    "    print(my_list[index]/0)\n",
    "except ZeroDivisionError as err:\n",
    "    print(\"[에러]_0으로 나눌 수 없습니다. ({0})\".format(err))\n",
    "except IndexError as err:\n",
    "    print(\"[에러]_잘못된 인덱스 값입니다. ({0})\".format(err))"
   ]
  }
 ],
 "metadata": {
  "kernelspec": {
   "display_name": "pydata",
   "language": "python",
   "name": "pydata"
  },
  "language_info": {
   "codemirror_mode": {
    "name": "ipython",
    "version": 3
   },
   "file_extension": ".py",
   "mimetype": "text/x-python",
   "name": "python",
   "nbconvert_exporter": "python",
   "pygments_lexer": "ipython3",
   "version": "3.7.10"
  }
 },
 "nbformat": 4,
 "nbformat_minor": 4
}
