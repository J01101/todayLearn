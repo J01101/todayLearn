{
 "cells": [
  {
   "cell_type": "code",
   "execution_count": 1,
   "metadata": {},
   "outputs": [],
   "source": [
    "import cx_Oracle"
   ]
  },
  {
   "cell_type": "code",
   "execution_count": 2,
   "metadata": {},
   "outputs": [],
   "source": [
    "conn = cx_Oracle.connect('user1234/1234@127.0.0.1:1521/XE')\n",
    "cursor = conn.cursor()"
   ]
  },
  {
   "cell_type": "code",
   "execution_count": 5,
   "metadata": {},
   "outputs": [],
   "source": [
    "# 테이블 생성\n",
    "cursor.execute('''\n",
    "CREATE TABLE crawling(\n",
    "  no    NUMBER(7)   NOT NULL PRIMARY KEY,\n",
    "  name  VARCHAR(32) NOT NULL, \n",
    "  phone VARCHAR(32) NOT NULL, \n",
    "  email VARCHAR(64) NOT NULL,\n",
    "  rdate DATE        NOT NULL\n",
    ")\n",
    "''')"
   ]
  },
  {
   "cell_type": "code",
   "execution_count": 4,
   "metadata": {},
   "outputs": [],
   "source": [
    "# 테이블 삭제\n",
    "cursor.execute('DROP TABLE crawling')  "
   ]
  },
  {
   "cell_type": "code",
   "execution_count": 6,
   "metadata": {},
   "outputs": [],
   "source": [
    "# Sequence 생성 \n",
    "cursor.execute('''\n",
    "CREATE SEQUENCE crawling_seq\n",
    "  START WITH 1           \n",
    "  INCREMENT BY 1         \n",
    "  MAXVALUE 9999999 \n",
    "  CACHE 2             \n",
    "  NOCYCLE            \n",
    "''')"
   ]
  },
  {
   "cell_type": "code",
   "execution_count": null,
   "metadata": {},
   "outputs": [],
   "source": [
    "# Sequence delete\n",
    "cursor.execute('DROP SEQUENCE crawling_seq')"
   ]
  },
  {
   "cell_type": "code",
   "execution_count": 7,
   "metadata": {},
   "outputs": [
    {
     "name": "stdout",
     "output_type": "stream",
     "text": [
      "result: None\n"
     ]
    }
   ],
   "source": [
    "#레코드 생성\n",
    "sql = '''\n",
    "INSERT INTO crawling (no, name, phone, email, rdate) \n",
    "VALUES (crawling_seq.nextval, :name, :phone, :email, sysdate)\n",
    "''' \n",
    " \n",
    "result = cursor.execute(sql, ('홍길순', '021-322-1542', 'mail1@mail.com'))\n",
    "print('result:', result) # None: 정상 처리, Exception: 에러\n",
    " \n",
    "cursor.execute(sql, ('나길순', '021-322-1542', 'mail2@mail.com'))\n",
    "cursor.execute(sql, ('다길순', '021-322-1542', 'mail3@mail.com'))\n",
    " \n",
    "conn.commit()"
   ]
  },
  {
   "cell_type": "code",
   "execution_count": 11,
   "metadata": {},
   "outputs": [
    {
     "data": {
      "text/plain": [
       "<cx_Oracle.Cursor on <cx_Oracle.Connection to user1234@127.0.0.1:1521/XE>>"
      ]
     },
     "execution_count": 11,
     "metadata": {},
     "output_type": "execute_result"
    }
   ],
   "source": [
    "# 목록\n",
    "sql = '''\n",
    "  SELECT no, name, phone, email, rdate\n",
    "  FROM crawling\n",
    "  ORDER BY no ASC\n",
    "'''\n",
    "cursor.execute(sql)"
   ]
  },
  {
   "cell_type": "code",
   "execution_count": 12,
   "metadata": {},
   "outputs": [],
   "source": [
    "rows = cursor.fetchall() # 모든 레코드의 산출"
   ]
  },
  {
   "cell_type": "code",
   "execution_count": 13,
   "metadata": {},
   "outputs": [
    {
     "data": {
      "text/plain": [
       "[(1,\n",
       "  '홍길순',\n",
       "  '021-322-1542',\n",
       "  'mail1@mail.com',\n",
       "  datetime.datetime(2021, 4, 13, 9, 28, 35)),\n",
       " (2,\n",
       "  '나길순',\n",
       "  '021-322-1542',\n",
       "  'mail2@mail.com',\n",
       "  datetime.datetime(2021, 4, 13, 9, 28, 35)),\n",
       " (3,\n",
       "  '다길순',\n",
       "  '021-322-1542',\n",
       "  'mail3@mail.com',\n",
       "  datetime.datetime(2021, 4, 13, 9, 28, 35))]"
      ]
     },
     "execution_count": 13,
     "metadata": {},
     "output_type": "execute_result"
    }
   ],
   "source": [
    "rows"
   ]
  },
  {
   "cell_type": "code",
   "execution_count": 14,
   "metadata": {},
   "outputs": [
    {
     "name": "stdout",
     "output_type": "stream",
     "text": [
      "1, 홍길순, 021-322-1542, mail1@mail.com, 2021-04-13 09:28:35 \n",
      "2, 나길순, 021-322-1542, mail2@mail.com, 2021-04-13 09:28:35 \n",
      "3, 다길순, 021-322-1542, mail3@mail.com, 2021-04-13 09:28:35 \n"
     ]
    }
   ],
   "source": [
    "for row in rows:\n",
    "    fmt = \"{}, {}, {}, {}, {} \"\n",
    "    print (fmt.format(row[0], row[1], row[2], row[3], row[4]))"
   ]
  },
  {
   "cell_type": "code",
   "execution_count": null,
   "metadata": {},
   "outputs": [],
   "source": []
  },
  {
   "cell_type": "markdown",
   "metadata": {},
   "source": [
    "# "
   ]
  },
  {
   "cell_type": "code",
   "execution_count": 15,
   "metadata": {},
   "outputs": [],
   "source": [
    "# 한건의 레코드 조회\n",
    "sql = '''\n",
    "  SELECT no, name, phone, email, rdate\n",
    "  FROM crawling\n",
    "  WHERE no=:no\n",
    "  '''"
   ]
  },
  {
   "cell_type": "code",
   "execution_count": 16,
   "metadata": {},
   "outputs": [
    {
     "data": {
      "text/plain": [
       "<cx_Oracle.Cursor on <cx_Oracle.Connection to user1234@127.0.0.1:1521/XE>>"
      ]
     },
     "execution_count": 16,
     "metadata": {},
     "output_type": "execute_result"
    }
   ],
   "source": [
    "cursor.execute(sql, (1,)) # (1,): Tuple로 인식"
   ]
  },
  {
   "cell_type": "code",
   "execution_count": null,
   "metadata": {},
   "outputs": [],
   "source": []
  }
 ],
 "metadata": {
  "kernelspec": {
   "display_name": "pydata",
   "language": "python",
   "name": "pydata"
  },
  "language_info": {
   "codemirror_mode": {
    "name": "ipython",
    "version": 3
   },
   "file_extension": ".py",
   "mimetype": "text/x-python",
   "name": "python",
   "nbconvert_exporter": "python",
   "pygments_lexer": "ipython3",
   "version": "3.7.10"
  }
 },
 "nbformat": 4,
 "nbformat_minor": 4
}
