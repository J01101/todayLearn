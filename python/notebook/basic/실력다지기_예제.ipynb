{
 "cells": [
  {
   "cell_type": "code",
   "execution_count": 1,
   "metadata": {},
   "outputs": [],
   "source": [
    "txt1 = 'A tale that was not right'"
   ]
  },
  {
   "cell_type": "code",
   "execution_count": 2,
   "metadata": {},
   "outputs": [],
   "source": [
    "txt2 = '이 또한 지나가리라.'"
   ]
  },
  {
   "cell_type": "code",
   "execution_count": 3,
   "metadata": {},
   "outputs": [
    {
     "name": "stdout",
     "output_type": "stream",
     "text": [
      "e\n"
     ]
    }
   ],
   "source": [
    "print(txt1[5])      # ‘e’가 출력됨"
   ]
  },
  {
   "cell_type": "code",
   "execution_count": 4,
   "metadata": {},
   "outputs": [
    {
     "name": "stdout",
     "output_type": "stream",
     "text": [
      "라\n"
     ]
    }
   ],
   "source": [
    "print(txt2[-2])     # ‘라’가 출력됨"
   ]
  },
  {
   "cell_type": "code",
   "execution_count": 5,
   "metadata": {},
   "outputs": [
    {
     "name": "stdout",
     "output_type": "stream",
     "text": [
      "ale \n"
     ]
    }
   ],
   "source": [
    "print(txt1[3:7])      # ‘ale ’이 출력됨"
   ]
  },
  {
   "cell_type": "code",
   "execution_count": 6,
   "metadata": {},
   "outputs": [
    {
     "name": "stdout",
     "output_type": "stream",
     "text": [
      "A tale\n"
     ]
    }
   ],
   "source": [
    "print(txt1[:6])       # ‘A tale’ 이 출력됨"
   ]
  },
  {
   "cell_type": "code",
   "execution_count": 7,
   "metadata": {},
   "outputs": [
    {
     "name": "stdout",
     "output_type": "stream",
     "text": [
      "가리라.\n"
     ]
    }
   ],
   "source": [
    "print(txt2[-4:])      # ‘가리라.’가 출력됨"
   ]
  },
  {
   "cell_type": "code",
   "execution_count": 8,
   "metadata": {},
   "outputs": [
    {
     "name": "stdout",
     "output_type": "stream",
     "text": [
      "p\n",
      "py\n",
      "pyt\n",
      "pyth\n",
      "pytho\n",
      "python\n"
     ]
    }
   ],
   "source": [
    "txt = \"python\"\n",
    "for i in range(len(txt)) :\n",
    "    print(txt[:i+1])"
   ]
  },
  {
   "cell_type": "code",
   "execution_count": 9,
   "metadata": {},
   "outputs": [],
   "source": [
    "txt = 'aAbBcCdDeEfFgGhHiIjJkK'"
   ]
  },
  {
   "cell_type": "code",
   "execution_count": 10,
   "metadata": {},
   "outputs": [
    {
     "name": "stdout",
     "output_type": "stream",
     "text": [
      "abcdefghijk\n"
     ]
    }
   ],
   "source": [
    "ret = txt[::2] #홀수번째만 출력\n",
    "#ret = txt[1::2] #짝수번째만 출력\n",
    "print(ret)       # ‘abcdefghijk’ 가 출력됨"
   ]
  },
  {
   "cell_type": "code",
   "execution_count": 11,
   "metadata": {},
   "outputs": [
    {
     "name": "stdout",
     "output_type": "stream",
     "text": [
      "kjihgfedcba\n"
     ]
    }
   ],
   "source": [
    "txt = 'abcdefghijk'\n",
    "ret = txt[::-1]#뒤에서부터 출력됨\n",
    "#ret = txt[::-2]#뒤에서부터 홀수번째만 출력\n",
    "#ret = txt[-2::-2]#뒤에서부터 짝수번째만 출력\n",
    "print(ret)       # ‘kjihgfedcba’ 가 출력됨"
   ]
  },
  {
   "cell_type": "code",
   "execution_count": 12,
   "metadata": {},
   "outputs": [
    {
     "name": "stdout",
     "output_type": "stream",
     "text": [
      "저장할 파일 이름을 입력하세요: test\n",
      "당신이 저장한 파일은 <test.jpg> 입니다.\n"
     ]
    }
   ],
   "source": [
    "filename = input('저장할 파일 이름을 입력하세요: ')\n",
    "filename = filename + '.jpg'\n",
    "display_msg = '당신이 저장한 파일은 <' + filename + '> 입니다.'\n",
    "print(display_msg)"
   ]
  },
  {
   "cell_type": "code",
   "execution_count": 13,
   "metadata": {},
   "outputs": [
    {
     "name": "stdout",
     "output_type": "stream",
     "text": [
      "여러분, 파이팅!파이팅!파이팅!~!\n"
     ]
    }
   ],
   "source": [
    "msg1 = '여러분'\n",
    "msg2 = '파이팅!'\n",
    "display_msg = msg1 + ', ' + msg2*3 + '~!'\n",
    "print(display_msg)"
   ]
  },
  {
   "cell_type": "code",
   "execution_count": 14,
   "metadata": {},
   "outputs": [
    {
     "name": "stdout",
     "output_type": "stream",
     "text": [
      "임의의 문장을 입력하세요: 123\n",
      "당신이 입력한 문장에는 a가 없습니다.\n"
     ]
    }
   ],
   "source": [
    "msg = input('임의의 문장을 입력하세요: ')\n",
    "if 'a' in msg:\n",
    "   print('당신이 입력한 문장에는 a가 있습니다.')\n",
    "else:\n",
    "   print('당신이 입력한 문장에는 a가 없습니다.')"
   ]
  },
  {
   "cell_type": "code",
   "execution_count": 15,
   "metadata": {},
   "outputs": [
    {
     "name": "stdout",
     "output_type": "stream",
     "text": [
      "임의의 문장을 입력하세요: ㅑㄴ\n",
      "당신이 입력한 문장에는 is가 없습니다.\n"
     ]
    }
   ],
   "source": [
    "msg = input('임의의 문장을 입력하세요: ')\n",
    "if 'is' in msg:\n",
    "   print('당신이 입력한 문장에는 is가 있습니다.')\n",
    "else:\n",
    "   print('당신이 입력한 문장에는 is가 없습니다.')"
   ]
  },
  {
   "cell_type": "code",
   "execution_count": 16,
   "metadata": {},
   "outputs": [],
   "source": [
    "txt1 = 'A'\n",
    "txt2 = '안녕'\n",
    "txt3 = 'Warcraft Three'\n",
    "txt4 = '3PO'"
   ]
  },
  {
   "cell_type": "code",
   "execution_count": 23,
   "metadata": {},
   "outputs": [
    {
     "data": {
      "text/plain": [
       "True"
      ]
     },
     "execution_count": 23,
     "metadata": {},
     "output_type": "execute_result"
    }
   ],
   "source": [
    "txt1.isalpha() #문자만 인식"
   ]
  },
  {
   "cell_type": "code",
   "execution_count": 24,
   "metadata": {},
   "outputs": [
    {
     "data": {
      "text/plain": [
       "True"
      ]
     },
     "execution_count": 24,
     "metadata": {},
     "output_type": "execute_result"
    }
   ],
   "source": [
    "txt2.isalpha() #문자만 인식"
   ]
  },
  {
   "cell_type": "code",
   "execution_count": 25,
   "metadata": {},
   "outputs": [
    {
     "data": {
      "text/plain": [
       "False"
      ]
     },
     "execution_count": 25,
     "metadata": {},
     "output_type": "execute_result"
    }
   ],
   "source": [
    "txt3.isalpha() #문자만 인식"
   ]
  },
  {
   "cell_type": "code",
   "execution_count": 26,
   "metadata": {},
   "outputs": [
    {
     "data": {
      "text/plain": [
       "False"
      ]
     },
     "execution_count": 26,
     "metadata": {},
     "output_type": "execute_result"
    }
   ],
   "source": [
    "txt4.isalpha() #문자만 인식"
   ]
  },
  {
   "cell_type": "code",
   "execution_count": 27,
   "metadata": {},
   "outputs": [],
   "source": [
    "txt1 = '010-1234-5678'\n",
    "txt2 = 'R2D2'\n",
    "txt3 = '1212'"
   ]
  },
  {
   "cell_type": "code",
   "execution_count": 28,
   "metadata": {},
   "outputs": [
    {
     "data": {
      "text/plain": [
       "False"
      ]
     },
     "execution_count": 28,
     "metadata": {},
     "output_type": "execute_result"
    }
   ],
   "source": [
    "txt1.isdigit() #숫자만 인식"
   ]
  },
  {
   "cell_type": "code",
   "execution_count": 29,
   "metadata": {},
   "outputs": [
    {
     "data": {
      "text/plain": [
       "False"
      ]
     },
     "execution_count": 29,
     "metadata": {},
     "output_type": "execute_result"
    }
   ],
   "source": [
    "txt2.isdigit() #숫자만 인식"
   ]
  },
  {
   "cell_type": "code",
   "execution_count": 30,
   "metadata": {},
   "outputs": [
    {
     "data": {
      "text/plain": [
       "True"
      ]
     },
     "execution_count": 30,
     "metadata": {},
     "output_type": "execute_result"
    }
   ],
   "source": [
    "txt3.isdigit() #숫자만 인식"
   ]
  },
  {
   "cell_type": "code",
   "execution_count": 31,
   "metadata": {},
   "outputs": [],
   "source": [
    "txt1 = '안녕하세요?'\n",
    "txt2 = '1. Title-제목을 넣으세요'\n",
    "txt3 = '3피오R2D2'"
   ]
  },
  {
   "cell_type": "code",
   "execution_count": 32,
   "metadata": {},
   "outputs": [
    {
     "data": {
      "text/plain": [
       "False"
      ]
     },
     "execution_count": 32,
     "metadata": {},
     "output_type": "execute_result"
    }
   ],
   "source": [
    "txt1.isalnum() #문자숫자만 인식"
   ]
  },
  {
   "cell_type": "code",
   "execution_count": 33,
   "metadata": {},
   "outputs": [
    {
     "data": {
      "text/plain": [
       "False"
      ]
     },
     "execution_count": 33,
     "metadata": {},
     "output_type": "execute_result"
    }
   ],
   "source": [
    "txt2.isalnum() #문자숫자만 인식"
   ]
  },
  {
   "cell_type": "code",
   "execution_count": 34,
   "metadata": {},
   "outputs": [
    {
     "data": {
      "text/plain": [
       "True"
      ]
     },
     "execution_count": 34,
     "metadata": {},
     "output_type": "execute_result"
    }
   ],
   "source": [
    "txt3.isalnum() #문자숫자만 인식"
   ]
  },
  {
   "cell_type": "code",
   "execution_count": 35,
   "metadata": {},
   "outputs": [],
   "source": [
    "txt = '   양쪽에 공백이 있는 문자열입니다.   '"
   ]
  },
  {
   "cell_type": "code",
   "execution_count": 38,
   "metadata": {},
   "outputs": [
    {
     "data": {
      "text/plain": [
       "'<   양쪽에 공백이 있는 문자열입니다.   >'"
      ]
     },
     "execution_count": 38,
     "metadata": {},
     "output_type": "execute_result"
    }
   ],
   "source": [
    "'<' + txt + '>'"
   ]
  },
  {
   "cell_type": "code",
   "execution_count": 39,
   "metadata": {},
   "outputs": [
    {
     "data": {
      "text/plain": [
       "'<양쪽에 공백이 있는 문자열입니다.   >'"
      ]
     },
     "execution_count": 39,
     "metadata": {},
     "output_type": "execute_result"
    }
   ],
   "source": [
    "'<' + txt.lstrip() + '>'"
   ]
  },
  {
   "cell_type": "code",
   "execution_count": 40,
   "metadata": {},
   "outputs": [
    {
     "data": {
      "text/plain": [
       "'<   양쪽에 공백이 있는 문자열입니다.>'"
      ]
     },
     "execution_count": 40,
     "metadata": {},
     "output_type": "execute_result"
    }
   ],
   "source": [
    "'<' + txt.rstrip() + '>'"
   ]
  },
  {
   "cell_type": "code",
   "execution_count": 41,
   "metadata": {},
   "outputs": [
    {
     "data": {
      "text/plain": [
       "'<양쪽에 공백이 있는 문자열입니다.>'"
      ]
     },
     "execution_count": 41,
     "metadata": {},
     "output_type": "execute_result"
    }
   ],
   "source": [
    "'<' + txt.strip() + '>'"
   ]
  },
  {
   "cell_type": "code",
   "execution_count": 42,
   "metadata": {},
   "outputs": [],
   "source": [
    "num1 = 1234\n",
    "num2 = 3.14"
   ]
  },
  {
   "cell_type": "code",
   "execution_count": 43,
   "metadata": {},
   "outputs": [
    {
     "name": "stdout",
     "output_type": "stream",
     "text": [
      "num1을 문자열로 변환한 값은 “1234” 입니다.\n",
      "num2를 문자열로 변환한 값은 “3.14” 입니다.\n"
     ]
    }
   ],
   "source": [
    "print('num1을 문자열로 변환한 값은 “%s” 입니다.' %str(num1))\n",
    "print('num2를 문자열로 변환한 값은 “%s” 입니다.' %str(num2))"
   ]
  },
  {
   "cell_type": "code",
   "execution_count": 44,
   "metadata": {},
   "outputs": [],
   "source": [
    "txt = 'A lot of things occur each day, every day.'"
   ]
  },
  {
   "cell_type": "code",
   "execution_count": 45,
   "metadata": {},
   "outputs": [
    {
     "data": {
      "text/plain": [
       "3"
      ]
     },
     "execution_count": 45,
     "metadata": {},
     "output_type": "execute_result"
    }
   ],
   "source": [
    "txt.count('o')"
   ]
  },
  {
   "cell_type": "code",
   "execution_count": 46,
   "metadata": {},
   "outputs": [
    {
     "data": {
      "text/plain": [
       "2"
      ]
     },
     "execution_count": 46,
     "metadata": {},
     "output_type": "execute_result"
    }
   ],
   "source": [
    "txt.count('day')"
   ]
  },
  {
   "cell_type": "code",
   "execution_count": 47,
   "metadata": {},
   "outputs": [
    {
     "data": {
      "text/plain": [
       "8"
      ]
     },
     "execution_count": 47,
     "metadata": {},
     "output_type": "execute_result"
    }
   ],
   "source": [
    "txt.count(' ')"
   ]
  },
  {
   "cell_type": "code",
   "execution_count": 48,
   "metadata": {},
   "outputs": [],
   "source": [
    "txt = 'A lot of things occur each day, every day.'"
   ]
  },
  {
   "cell_type": "code",
   "execution_count": 49,
   "metadata": {},
   "outputs": [
    {
     "data": {
      "text/plain": [
       "22"
      ]
     },
     "execution_count": 49,
     "metadata": {},
     "output_type": "execute_result"
    }
   ],
   "source": [
    "txt.find('e')"
   ]
  },
  {
   "cell_type": "code",
   "execution_count": 50,
   "metadata": {},
   "outputs": [
    {
     "data": {
      "text/plain": [
       "27"
      ]
     },
     "execution_count": 50,
     "metadata": {},
     "output_type": "execute_result"
    }
   ],
   "source": [
    "txt.find('day')"
   ]
  },
  {
   "cell_type": "code",
   "execution_count": 52,
   "metadata": {},
   "outputs": [
    {
     "data": {
      "text/plain": [
       "38"
      ]
     },
     "execution_count": 52,
     "metadata": {},
     "output_type": "execute_result"
    }
   ],
   "source": [
    "txt.find('day', 30) # string.find(str, start_pos, end_pos)"
   ]
  },
  {
   "cell_type": "code",
   "execution_count": 56,
   "metadata": {},
   "outputs": [],
   "source": [
    "url = 'http://www.naver.com/news/today=20160831'"
   ]
  },
  {
   "cell_type": "code",
   "execution_count": 57,
   "metadata": {},
   "outputs": [
    {
     "data": {
      "text/plain": [
       "['http:', '', 'www.naver.com', 'news', 'today=20160831']"
      ]
     },
     "execution_count": 57,
     "metadata": {},
     "output_type": "execute_result"
    }
   ],
   "source": [
    "url.split('/')"
   ]
  },
  {
   "cell_type": "code",
   "execution_count": 58,
   "metadata": {},
   "outputs": [],
   "source": [
    "log = 'name:홍길동 age:17 gender:남자 nation:한국'"
   ]
  },
  {
   "cell_type": "code",
   "execution_count": 59,
   "metadata": {},
   "outputs": [
    {
     "name": "stdout",
     "output_type": "stream",
     "text": [
      "name -> 홍길동\n",
      "age -> 17\n",
      "gender -> 남자\n",
      "nation -> 한국\n"
     ]
    }
   ],
   "source": [
    "for data in log.split():\n",
    "   d1, d2 = data.split(':')\n",
    "   print('%s -> %s' %(d1, d2))"
   ]
  },
  {
   "cell_type": "code",
   "execution_count": 62,
   "metadata": {},
   "outputs": [
    {
     "name": "stdout",
     "output_type": "stream",
     "text": [
      "2016/08/26 10:12:11;200;OK;이 또한 지나가리라\n"
     ]
    }
   ],
   "source": [
    "loglist = ['2016/08/26 10:12:11', '200', 'OK', '이 또한 지나가리라']\n",
    "print(';'.join(loglist))"
   ]
  },
  {
   "cell_type": "code",
   "execution_count": 63,
   "metadata": {},
   "outputs": [],
   "source": [
    "txt = 'My password is 1234'"
   ]
  },
  {
   "cell_type": "code",
   "execution_count": 64,
   "metadata": {},
   "outputs": [
    {
     "data": {
      "text/plain": [
       "'My password is 0234'"
      ]
     },
     "execution_count": 64,
     "metadata": {},
     "output_type": "execute_result"
    }
   ],
   "source": [
    "txt.replace('1', '0')"
   ]
  },
  {
   "cell_type": "code",
   "execution_count": 65,
   "metadata": {},
   "outputs": [
    {
     "data": {
      "text/plain": [
       "'My password is python234'"
      ]
     },
     "execution_count": 65,
     "metadata": {},
     "output_type": "execute_result"
    }
   ],
   "source": [
    "txt.replace('1', 'python')"
   ]
  },
  {
   "cell_type": "code",
   "execution_count": 69,
   "metadata": {},
   "outputs": [],
   "source": [
    "txt = '매일 많은 일들이 일어납니다.'"
   ]
  },
  {
   "cell_type": "code",
   "execution_count": 70,
   "metadata": {},
   "outputs": [
    {
     "data": {
      "text/plain": [
       "'항상 많은 일들이 일어납니다.'"
      ]
     },
     "execution_count": 70,
     "metadata": {},
     "output_type": "execute_result"
    }
   ],
   "source": [
    "txt.replace('매일', '항상')"
   ]
  },
  {
   "cell_type": "code",
   "execution_count": 71,
   "metadata": {},
   "outputs": [
    {
     "data": {
      "text/plain": [
       "'매사건 많은 사건들이 사건어납니다.'"
      ]
     },
     "execution_count": 71,
     "metadata": {},
     "output_type": "execute_result"
    }
   ],
   "source": [
    "txt.replace('일', '사건')"
   ]
  },
  {
   "cell_type": "code",
   "execution_count": 72,
   "metadata": {},
   "outputs": [],
   "source": [
    "u_txt = 'I love python'\n",
    "b_txt = u_txt.encode()"
   ]
  },
  {
   "cell_type": "code",
   "execution_count": 73,
   "metadata": {},
   "outputs": [
    {
     "name": "stdout",
     "output_type": "stream",
     "text": [
      "I love python\n"
     ]
    }
   ],
   "source": [
    "print(u_txt)"
   ]
  },
  {
   "cell_type": "code",
   "execution_count": 74,
   "metadata": {},
   "outputs": [
    {
     "name": "stdout",
     "output_type": "stream",
     "text": [
      "b'I love python'\n"
     ]
    }
   ],
   "source": [
    "print(b_txt) #바이트 객체는 문자열 앞에 b'를 붙여 출력된다."
   ]
  },
  {
   "cell_type": "code",
   "execution_count": 75,
   "metadata": {},
   "outputs": [
    {
     "name": "stdout",
     "output_type": "stream",
     "text": [
      "True\n",
      "False\n",
      "True\n"
     ]
    }
   ],
   "source": [
    "ret1 = 'I' == u_txt[0]\n",
    "ret2 = 'I' == b_txt[0]\n",
    "ret3 = 73 == b_txt[0]\n",
    "print(ret1)    # True가 출력됨\n",
    "print(ret2)    # False가 출력됨\n",
    "print(ret3)    # True 가 출력됨"
   ]
  },
  {
   "cell_type": "code",
   "execution_count": 76,
   "metadata": {},
   "outputs": [
    {
     "name": "stdout",
     "output_type": "stream",
     "text": [
      "A lot of things occur each day.\n"
     ]
    }
   ],
   "source": [
    "#바이트를 문자열로 변환\n",
    "b_txt = b'A lot of things occur each day.'\n",
    "u_txt = b_txt.decode()\n",
    "print(u_txt)"
   ]
  },
  {
   "cell_type": "code",
   "execution_count": 80,
   "metadata": {},
   "outputs": [
    {
     "name": "stdout",
     "output_type": "stream",
     "text": [
      "정렬할 문자열을 입력하세요: asda asda\n",
      "정렬 >>  [' ', 'a', 'a', 'a', 'a', 'd', 'd', 's', 's']\n",
      "역정렬 >>  ['s', 's', 'd', 'd', 'a', 'a', 'a', 'a', ' ']\n"
     ]
    }
   ],
   "source": [
    "# 문자열 정렬하기 - sorted(data) : 오름차순으로 정렬하여 list로 리턴된다.\n",
    "\n",
    "strdata = input('정렬할 문자열을 입력하세요: ')\n",
    "ret1 = sorted(strdata)\n",
    "ret2 = sorted(strdata, reverse=True)\n",
    "print('정렬 >> ', ret1)\n",
    "print('역정렬 >> ', ret2)"
   ]
  },
  {
   "cell_type": "code",
   "execution_count": 81,
   "metadata": {},
   "outputs": [
    {
     "name": "stdout",
     "output_type": "stream",
     "text": [
      "오름차순으로 정렬된 문자열은 < aaaaddss> 입니다.\n",
      "내림차순으로 정렬된 문자열은 <ssddaaaa > 입니다.\n"
     ]
    }
   ],
   "source": [
    "ret1 = ''.join(ret1)\n",
    "ret2 = ''.join(ret2)\n",
    "print('오름차순으로 정렬된 문자열은 <' + ret1 + '> 입니다.')\n",
    "print('내림차순으로 정렬된 문자열은 <' + ret2 + '> 입니다.')"
   ]
  },
  {
   "cell_type": "code",
   "execution_count": 86,
   "metadata": {},
   "outputs": [],
   "source": [
    "listdata = [1, 2, 'a', 'b', 'c', [4, 5, 6]]"
   ]
  },
  {
   "cell_type": "code",
   "execution_count": 87,
   "metadata": {},
   "outputs": [
    {
     "data": {
      "text/plain": [
       "2"
      ]
     },
     "execution_count": 87,
     "metadata": {},
     "output_type": "execute_result"
    }
   ],
   "source": [
    "listdata[1]"
   ]
  },
  {
   "cell_type": "code",
   "execution_count": 88,
   "metadata": {},
   "outputs": [
    {
     "data": {
      "text/plain": [
       "'b'"
      ]
     },
     "execution_count": 88,
     "metadata": {},
     "output_type": "execute_result"
    }
   ],
   "source": [
    "listdata[3]"
   ]
  },
  {
   "cell_type": "code",
   "execution_count": 89,
   "metadata": {},
   "outputs": [
    {
     "data": {
      "text/plain": [
       "5"
      ]
     },
     "execution_count": 89,
     "metadata": {},
     "output_type": "execute_result"
    }
   ],
   "source": [
    "listdata[5][1]"
   ]
  },
  {
   "cell_type": "code",
   "execution_count": 90,
   "metadata": {},
   "outputs": [],
   "source": [
    "solarsys = ['태양', '수성', '금성', '지구', '화성', '목성', '토성', '천왕성', '해왕성']"
   ]
  },
  {
   "cell_type": "code",
   "execution_count": 91,
   "metadata": {},
   "outputs": [
    {
     "data": {
      "text/plain": [
       "['수성', '금성', '지구']"
      ]
     },
     "execution_count": 91,
     "metadata": {},
     "output_type": "execute_result"
    }
   ],
   "source": [
    "solarsys[1:4]"
   ]
  },
  {
   "cell_type": "code",
   "execution_count": 92,
   "metadata": {},
   "outputs": [
    {
     "data": {
      "text/plain": [
       "['화성', '목성', '토성', '천왕성', '해왕성']"
      ]
     },
     "execution_count": 92,
     "metadata": {},
     "output_type": "execute_result"
    }
   ],
   "source": [
    "solarsys[4:]"
   ]
  },
  {
   "cell_type": "code",
   "execution_count": 94,
   "metadata": {},
   "outputs": [],
   "source": [
    "# 지구가 두번 들어가 있는 리스트\n",
    "solarsys = ['태양', '수성', '금성', '지구', '화성', '목성', '토성', '천왕성', '해왕성', '지구']"
   ]
  },
  {
   "cell_type": "code",
   "execution_count": 95,
   "metadata": {},
   "outputs": [],
   "source": [
    "planet = '지구'"
   ]
  },
  {
   "cell_type": "code",
   "execution_count": 96,
   "metadata": {},
   "outputs": [
    {
     "name": "stdout",
     "output_type": "stream",
     "text": [
      "지구은(는) 태양계에서 3번째에 위치하고 있습니다.\n"
     ]
    }
   ],
   "source": [
    "pos = solarsys.index('지구')\n",
    "print('%s은(는) 태양계에서 %d번째에 위치하고 있습니다.' %(planet, pos))"
   ]
  },
  {
   "cell_type": "code",
   "execution_count": 97,
   "metadata": {},
   "outputs": [
    {
     "name": "stdout",
     "output_type": "stream",
     "text": [
      "지구은(는) 태양계에서 9번째에 위치하고 있습니다.\n"
     ]
    }
   ],
   "source": [
    "pos = solarsys.index(planet, 5) # 인덱스가 5이상부터 검색한다.\n",
    "print('%s은(는) 태양계에서 %d번째에 위치하고 있습니다.' %(planet, pos))"
   ]
  },
  {
   "cell_type": "code",
   "execution_count": 98,
   "metadata": {},
   "outputs": [
    {
     "name": "stdout",
     "output_type": "stream",
     "text": [
      "[4, 3, 2, 1, 0]\n"
     ]
    }
   ],
   "source": [
    "listdata = list(range(5))\n",
    "listdata.reverse() # 원본데이터 연순으로 변경\n",
    "print(listdata)  # [4, 3, 2, 1, 0]이 출력됨"
   ]
  },
  {
   "cell_type": "code",
   "execution_count": 99,
   "metadata": {},
   "outputs": [
    {
     "name": "stdout",
     "output_type": "stream",
     "text": [
      "원본 리스트 [0, 1, 2, 3, 4]\n",
      "역순 리스트 [4, 3, 2, 1, 0]\n"
     ]
    }
   ],
   "source": [
    "listdata = list(range(5))\n",
    "ret1 = reversed(listdata)\n",
    "print('원본 리스트 ', end='');print(listdata);\n",
    "print('역순 리스트 ', end='');print(list(ret1))"
   ]
  },
  {
   "cell_type": "code",
   "execution_count": 100,
   "metadata": {},
   "outputs": [
    {
     "name": "stdout",
     "output_type": "stream",
     "text": [
      "슬라이싱 이용 [4, 3, 2, 1, 0]\n"
     ]
    }
   ],
   "source": [
    "ret2 = listdata[::-1]  #역순으로 출력\n",
    "print('슬라이싱 이용 ', end='');print(ret2)"
   ]
  },
  {
   "cell_type": "code",
   "execution_count": 103,
   "metadata": {},
   "outputs": [],
   "source": [
    "listdata1 = ['a', 'b', 'c', 'd', 'e']\n",
    "listdata2 = ['f', 'g', 'h', 'i', 'j']"
   ]
  },
  {
   "cell_type": "code",
   "execution_count": 104,
   "metadata": {},
   "outputs": [
    {
     "name": "stdout",
     "output_type": "stream",
     "text": [
      "['a', 'b', 'c', 'd', 'e', 'f', 'g', 'h', 'i', 'j']\n"
     ]
    }
   ],
   "source": [
    "listdata3 = listdata1 + listdata2\n",
    "print(listdata3)"
   ]
  },
  {
   "cell_type": "code",
   "execution_count": 105,
   "metadata": {},
   "outputs": [
    {
     "name": "stdout",
     "output_type": "stream",
     "text": [
      "['f', 'g', 'h', 'i', 'j', 'a', 'b', 'c', 'd', 'e']\n"
     ]
    }
   ],
   "source": [
    "listdata4 = listdata2 + listdata1\n",
    "print(listdata4)"
   ]
  },
  {
   "cell_type": "code",
   "execution_count": 106,
   "metadata": {},
   "outputs": [
    {
     "name": "stdout",
     "output_type": "stream",
     "text": [
      "[0, 1, 2, 0, 1, 2, 0, 1, 2]\n"
     ]
    }
   ],
   "source": [
    "listdata = list(range(3))\n",
    "ret = listdata*3\n",
    "print(ret)   # [0, 1, 2, 0, 1, 2, 0, 1, 2]가 출력됨"
   ]
  },
  {
   "cell_type": "code",
   "execution_count": 107,
   "metadata": {},
   "outputs": [
    {
     "name": "stdout",
     "output_type": "stream",
     "text": [
      "리스트에 추가할 값을 입력하세요[1/3]: 1\n",
      "[0, 1, 2, '1']\n",
      "리스트에 추가할 값을 입력하세요[2/3]: 2\n",
      "[0, 1, 2, '1', '2']\n",
      "리스트에 추가할 값을 입력하세요[3/3]: 3\n",
      "[0, 1, 2, '1', '2', '3']\n"
     ]
    }
   ],
   "source": [
    "for i in range(3):\n",
    "   txt = input('리스트에 추가할 값을 입력하세요[%d/3]: ' %(i+1))\n",
    "   listdata.append(txt)\n",
    "   print(listdata)"
   ]
  },
  {
   "cell_type": "code",
   "execution_count": 109,
   "metadata": {},
   "outputs": [
    {
     "name": "stdout",
     "output_type": "stream",
     "text": [
      "['태양', '수성', '금성', '지구', '화성', '소행성', '목성', '토성', '천왕성', '해왕성']\n"
     ]
    }
   ],
   "source": [
    "solarsys = ['태양', '수성', '금성', '지구', '화성', '목성', '토성', '천왕성', '해왕성']\n",
    "pos = solarsys.index('목성')\n",
    "solarsys.insert(pos, '소행성') # '목성' 앞에 '소행성' 추가\n",
    "print(solarsys)"
   ]
  },
  {
   "cell_type": "code",
   "execution_count": 114,
   "metadata": {},
   "outputs": [],
   "source": [
    "solarsys = ['태양', '수성', '금성', '지구', '화성', '목성', '토성', '천왕성', '해왕성']"
   ]
  },
  {
   "cell_type": "code",
   "execution_count": 115,
   "metadata": {},
   "outputs": [
    {
     "name": "stdout",
     "output_type": "stream",
     "text": [
      "['수성', '금성', '지구', '화성', '목성', '토성', '천왕성', '해왕성']\n"
     ]
    }
   ],
   "source": [
    "del solarsys[0]\n",
    "print(solarsys)"
   ]
  },
  {
   "cell_type": "code",
   "execution_count": 116,
   "metadata": {},
   "outputs": [
    {
     "name": "stdout",
     "output_type": "stream",
     "text": [
      "['수성', '금성', '지구', '화성', '목성', '토성', '해왕성']\n"
     ]
    }
   ],
   "source": [
    "del solarsys[-2] #특정 위치의 요소 삭제\n",
    "print(solarsys)"
   ]
  },
  {
   "cell_type": "code",
   "execution_count": 117,
   "metadata": {},
   "outputs": [
    {
     "name": "stdout",
     "output_type": "stream",
     "text": [
      "['수성', '화성', '목성', '토성', '해왕성']\n"
     ]
    }
   ],
   "source": [
    "del solarsys[1:3] #특정 구간에 있는 모든 요소 삭제\n",
    "print(solarsys)"
   ]
  },
  {
   "cell_type": "code",
   "execution_count": 119,
   "metadata": {},
   "outputs": [],
   "source": [
    "listdata = []\n",
    "listdata = [2, 2, 1, 3, 8, 5, 7, 6, 3, 6, 2, 3, 9, 4, 4]"
   ]
  },
  {
   "cell_type": "code",
   "execution_count": 120,
   "metadata": {},
   "outputs": [],
   "source": [
    "del listdata #리스트 자체 삭제\n",
    "# print(listdata)"
   ]
  },
  {
   "cell_type": "code",
   "execution_count": 121,
   "metadata": {},
   "outputs": [
    {
     "name": "stdout",
     "output_type": "stream",
     "text": [
      "['수성', '금성', '지구', '화성', '목성', '토성', '천왕성', '해왕성']\n"
     ]
    }
   ],
   "source": [
    "solarsys = ['태양', '수성', '금성', '지구', '화성', '목성', '토성', '천왕성', '해왕성']\n",
    "solarsys.remove('태양')\n",
    "print(solarsys)"
   ]
  },
  {
   "cell_type": "code",
   "execution_count": 122,
   "metadata": {},
   "outputs": [
    {
     "name": "stdout",
     "output_type": "stream",
     "text": [
      "15\n"
     ]
    }
   ],
   "source": [
    "listdata = [2, 2, 1, 3, 8, 5, 7, 6, 3, 6, 2, 3, 9, 4, 4]\n",
    "listsize = len(listdata)\n",
    "print(listsize)   # 15가 출력됨"
   ]
  },
  {
   "cell_type": "code",
   "execution_count": 123,
   "metadata": {},
   "outputs": [],
   "source": [
    "listdata = [2, 2, 1, 3, 8, 5, 7, 6, 3, 6, 2, 3, 9, 4, 4]"
   ]
  },
  {
   "cell_type": "code",
   "execution_count": 124,
   "metadata": {},
   "outputs": [
    {
     "data": {
      "text/plain": [
       "3"
      ]
     },
     "execution_count": 124,
     "metadata": {},
     "output_type": "execute_result"
    }
   ],
   "source": [
    "listdata.count(2) #2의 개수"
   ]
  },
  {
   "cell_type": "code",
   "execution_count": 125,
   "metadata": {},
   "outputs": [
    {
     "data": {
      "text/plain": [
       "1"
      ]
     },
     "execution_count": 125,
     "metadata": {},
     "output_type": "execute_result"
    }
   ],
   "source": [
    "listdata.count(7) #3의 개수"
   ]
  },
  {
   "cell_type": "code",
   "execution_count": 127,
   "metadata": {},
   "outputs": [
    {
     "name": "stdout",
     "output_type": "stream",
     "text": [
      "['Aimy', 'Bob', 'Kelly', 'Mary', 'Michale', 'Sams', 'Tom']\n"
     ]
    }
   ],
   "source": [
    "# 리스트 요소 정렬하기(sort, sorted)\n",
    "namelist = ['Mary', 'Sams', 'Aimy', 'Tom', 'Michale', 'Bob', 'Kelly']\n",
    "namelist.sort()\n",
    "print(namelist)"
   ]
  },
  {
   "cell_type": "code",
   "execution_count": 128,
   "metadata": {},
   "outputs": [
    {
     "name": "stdout",
     "output_type": "stream",
     "text": [
      "['Mary', 'Sams', 'Aimy', 'Tom', 'Michale', 'Bob', 'Kelly']\n",
      "['Aimy', 'Bob', 'Kelly', 'Mary', 'Michale', 'Sams', 'Tom']\n",
      "['Tom', 'Sams', 'Michale', 'Mary', 'Kelly', 'Bob', 'Aimy']\n"
     ]
    }
   ],
   "source": [
    "namelist = ['Mary', 'Sams', 'Aimy', 'Tom', 'Michale', 'Bob', 'Kelly']\n",
    "ret1 = sorted(namelist)\n",
    "ret2 = sorted(namelist, reverse=True) #내림차순으로 정렬한다.\n",
    "print(namelist)\n",
    "print(ret1)\n",
    "print(ret2)"
   ]
  },
  {
   "cell_type": "code",
   "execution_count": 129,
   "metadata": {},
   "outputs": [
    {
     "name": "stdout",
     "output_type": "stream",
     "text": [
      "[5, 1, 10, 4, 7, 2, 3, 9, 6, 8]\n",
      "[6, 4, 8, 10, 3, 5, 9, 2, 7, 1]\n",
      "[9, 1, 4, 6, 2, 8, 5, 7, 10, 3]\n"
     ]
    }
   ],
   "source": [
    "from random import shuffle\n",
    " \n",
    "listdata = list(range(1, 11))\n",
    "for i in range(3):\n",
    "   shuffle(listdata)\n",
    "   print(listdata)    # 출력 결과는 실행할 때마다 달라짐"
   ]
  },
  {
   "cell_type": "code",
   "execution_count": 130,
   "metadata": {},
   "outputs": [
    {
     "name": "stdout",
     "output_type": "stream",
     "text": [
      "[(0, '태양'), (1, '수성'), (2, '금성'), (3, '지구'), (4, '화성'), (5, '목성'), (6, '토성'), (7, '천왕성'), (8, '해왕성')]\n",
      "태양계의 0번째 천체: 태양\n",
      "태양계의 1번째 천체: 수성\n",
      "태양계의 2번째 천체: 금성\n",
      "태양계의 3번째 천체: 지구\n",
      "태양계의 4번째 천체: 화성\n",
      "태양계의 5번째 천체: 목성\n",
      "태양계의 6번째 천체: 토성\n",
      "태양계의 7번째 천체: 천왕성\n",
      "태양계의 8번째 천체: 해왕성\n"
     ]
    }
   ],
   "source": [
    "#리스트의 모든 요소를 인덱스와 쌍으로 추출하기(enumerate)\n",
    "\n",
    "solarsys = ['태양', '수성', '금성', '지구', '화성', '목성', '토성', '천왕성', '해왕성']\n",
    "ret = list(enumerate(solarsys))\n",
    "print(ret)\n",
    " \n",
    "for i, body in enumerate(solarsys):\n",
    "   print('태양계의 %d번째 천체: %s' %(i, body))"
   ]
  },
  {
   "cell_type": "code",
   "execution_count": 131,
   "metadata": {},
   "outputs": [
    {
     "name": "stdout",
     "output_type": "stream",
     "text": [
      "65\n"
     ]
    }
   ],
   "source": [
    "listdata = [2, 2, 1, 3, 8, 5, 7, 6, 3, 6, 2, 3, 9, 4, 4]\n",
    "ret = sum(listdata)\n",
    "print(ret)    # 65가 출력됨"
   ]
  },
  {
   "cell_type": "code",
   "execution_count": 132,
   "metadata": {},
   "outputs": [
    {
     "name": "stdout",
     "output_type": "stream",
     "text": [
      "False\n",
      "True\n",
      "True\n",
      "True\n",
      "False\n",
      "False\n"
     ]
    }
   ],
   "source": [
    "# 리스트 요소가 모두 참인지 확인하기(all, any)\n",
    "listdata1 = [0, 1, 2, 3, 4] #0만 False 0이상 True\n",
    "listdata2 = [True, True, True]\n",
    "listdata3 = ['', [], (), {}, None, False]\n",
    "print(all(listdata1))   # False가 출력됨\n",
    "print(any(listdata1))  # True가 출력됨\n",
    "print(all(listdata2))   # True가 출력됨\n",
    "print(any(listdata2))  # True가 출력됨\n",
    "print(all(listdata3))   # False가 출력됨\n",
    "print(any(listdata3))  # False가 출력됨"
   ]
  },
  {
   "cell_type": "code",
   "execution_count": 133,
   "metadata": {},
   "outputs": [
    {
     "name": "stdout",
     "output_type": "stream",
     "text": [
      "{'태양': 'Sun', '수성': 'Mercury', '금성': 'Venus', '지구': 'Earth', '화성': 'Mars', '목성': 'Jupiter', '토성': 'Saturn', '천왕성': 'Uranus', '해왕성': 'Neptune'}\n"
     ]
    }
   ],
   "source": [
    "solar1 = ['태양', '수성', '금성', '지구', '화성', '목성', '토성', '천왕성', '해왕성']\n",
    "solar2 = ['Sun', 'Mercury', 'Venus', 'Earth', 'Mars', 'Jupiter', 'Saturn', 'Uranus', 'Neptune']\n",
    "solardict = {} #빈 사전 객체\n",
    "for i, k in enumerate(solar1): #인덱스-i,값-k  -> 1 '태양' ,2  '수성 '\n",
    "   val = solar2[i]\n",
    "   solardict[k] = val #사전에 새로운 요소 추가\n",
    " \n",
    "print(solardict)"
   ]
  },
  {
   "cell_type": "code",
   "execution_count": 134,
   "metadata": {},
   "outputs": [
    {
     "name": "stdout",
     "output_type": "stream",
     "text": [
      "{'Mary': 10999, 'Sams': 2111, 'Aimy': 10000, 'Tom': 20245, 'Michale': 27115, 'Bob': 5887, 'Kelly': 7855}\n"
     ]
    }
   ],
   "source": [
    "names = {'Mary':10999, 'Sams':2111, 'Aimy':9778, 'Tom':20245, \n",
    "'Michale':27115, 'Bob':5887, 'Kelly':7855} #{아기이름:출생아 수}\n",
    "names['Aimy'] = 10000\n",
    "print(names)"
   ]
  },
  {
   "cell_type": "code",
   "execution_count": 135,
   "metadata": {},
   "outputs": [
    {
     "name": "stdout",
     "output_type": "stream",
     "text": [
      "{'Mary': 10999, 'Aimy': 9778, 'Tom': 20245, 'Michale': 27115, 'Bob': 5887, 'Kelly': 7855}\n"
     ]
    }
   ],
   "source": [
    "# 사전에서 특정 요소 제거(del), 사전의 모든 요소 제거하기(clear)\n",
    "names = {'Mary':10999, 'Sams':2111, 'Aimy':9778, 'Tom':20245, \n",
    "'Michale':27115, 'Bob':5887, 'Kelly':7855}\n",
    "del names['Sams']  #Sams인 키와 값만 삭제\n",
    "print(names)"
   ]
  },
  {
   "cell_type": "code",
   "execution_count": 136,
   "metadata": {},
   "outputs": [
    {
     "name": "stdout",
     "output_type": "stream",
     "text": [
      "{}\n"
     ]
    }
   ],
   "source": [
    "names.clear() #names의 모든 요소 삭제\n",
    "print(names)"
   ]
  },
  {
   "cell_type": "code",
   "execution_count": 138,
   "metadata": {},
   "outputs": [
    {
     "name": "stdout",
     "output_type": "stream",
     "text": [
      "dict_keys(['Mary', 'Sams', 'Aimy', 'Tom', 'Michale', 'Bob', 'Kelly'])\n"
     ]
    }
   ],
   "source": [
    "# 사전에서 키만 추출하기(keys), 사전에서 값만 추출하기(values), 사전요소를 모두 추출하기\n",
    "names = {'Mary':10999, 'Sams':2111, 'Aimy':9778, 'Tom':20245, \n",
    "'Michale':27115, 'Bob':5887, 'Kelly':7855}\n",
    "ks = names.keys() #키만 추출\n",
    "print(ks)"
   ]
  },
  {
   "cell_type": "code",
   "execution_count": 139,
   "metadata": {},
   "outputs": [
    {
     "name": "stdout",
     "output_type": "stream",
     "text": [
      "Key:Mary \tValue:10999\n",
      "Key:Sams \tValue:2111\n",
      "Key:Aimy \tValue:9778\n",
      "Key:Tom \tValue:20245\n",
      "Key:Michale \tValue:27115\n",
      "Key:Bob \tValue:5887\n",
      "Key:Kelly \tValue:7855\n"
     ]
    }
   ],
   "source": [
    "for k in ks:\n",
    "   print('Key:%s \\tValue:%d' %(k, names[k]))"
   ]
  },
  {
   "cell_type": "code",
   "execution_count": 140,
   "metadata": {},
   "outputs": [
    {
     "name": "stdout",
     "output_type": "stream",
     "text": [
      "dict_values([10999, 2111, 9778, 20245, 27115, 5887, 7855])\n",
      "출생아수 총계: 83990\n"
     ]
    }
   ],
   "source": [
    "vals = names.values() #값만 추출\n",
    "print(vals)\n",
    " \n",
    "vals_list = list(vals)\n",
    "ret = sum(vals_list)\n",
    "print('출생아수 총계: %d' %ret)"
   ]
  },
  {
   "cell_type": "code",
   "execution_count": 142,
   "metadata": {},
   "outputs": [
    {
     "name": "stdout",
     "output_type": "stream",
     "text": [
      "dict_items([('Mary', 10999), ('Sams', 2111), ('Aimy', 9778), ('Tom', 20245), ('Michale', 27115), ('Bob', 5887), ('Kelly', 7855)])\n",
      "('Mary', 10999)\n",
      "('Sams', 2111)\n",
      "('Aimy', 9778)\n",
      "('Tom', 20245)\n",
      "('Michale', 27115)\n",
      "('Bob', 5887)\n",
      "('Kelly', 7855)\n"
     ]
    }
   ],
   "source": [
    "names = {'Mary':10999, 'Sams':2111, 'Aimy':9778, 'Tom':20245, \n",
    "'Michale':27115, 'Bob':5887, 'Kelly':7855}\n",
    "items = names.items() #names의 모든 요소를 사전 뷰 객체로 리턴된다.\n",
    "print(items)\n",
    " \n",
    "for item in items:\n",
    "   print(item)"
   ]
  },
  {
   "cell_type": "code",
   "execution_count": 143,
   "metadata": {},
   "outputs": [
    {
     "name": "stdout",
     "output_type": "stream",
     "text": [
      "이름을 입력하세요: ㅇ\n",
      "자료에 <ㅇ>인 이름이 존재하지 않습니다.\n"
     ]
    }
   ],
   "source": [
    "# 사전에 특정 키가 존재하는지 확인하기(in)\n",
    "names = {'Mary':10999, 'Sams':2111, 'Aimy':9778, 'Tom':20245, \n",
    "'Michale':27115, 'Bob':5887, 'Kelly':7855}\n",
    "k = input('이름을 입력하세요: ')\n",
    "if k in names:\n",
    "   print('이름이 <%s>인 출생아수는 <%d>명 입니다.' %(k, names[k]))\n",
    "else:\n",
    "   print('자료에 <%s>인 이름이 존재하지 않습니다.' %k)"
   ]
  },
  {
   "cell_type": "code",
   "execution_count": 144,
   "metadata": {},
   "outputs": [
    {
     "name": "stdout",
     "output_type": "stream",
     "text": [
      "['Aimy', 'Bob', 'Kelly', 'Mary', 'Michale', 'Sams', 'Tom']\n"
     ]
    }
   ],
   "source": [
    "# 사전 정렬하기(sorted) - sorted()는 키를 오름차순으로 정렬하여 리스트로 리턴한다.\n",
    "\n",
    "names = {'Mary':10999, 'Sams':2111, 'Aimy':9778, 'Tom':20245, 'Michale':27115, 'Bob':5887, 'Kelly':7855}\n",
    "ret1 = sorted(names) # 오름차순으로 키만 정렬\n",
    "#ret1 = sorted(names.keys()) #키만 오름차순으로 정렬\n",
    "#ret1 = sorted(names.values()) #값만 오름차순으로 정렬\n",
    "print(ret1)"
   ]
  },
  {
   "cell_type": "code",
   "execution_count": 145,
   "metadata": {},
   "outputs": [],
   "source": [
    "def f1(x):\n",
    "   return x[0]#names.items()결과에서 키만 리턴\n",
    " \n",
    "def f2(x):\n",
    "   return x[1] #names.items()결과에서 값만 리턴"
   ]
  },
  {
   "cell_type": "code",
   "execution_count": 146,
   "metadata": {},
   "outputs": [
    {
     "name": "stdout",
     "output_type": "stream",
     "text": [
      "[('Aimy', 9778), ('Bob', 5887), ('Kelly', 7855), ('Mary', 10999), ('Michale', 27115), ('Sams', 2111), ('Tom', 20245)]\n"
     ]
    }
   ],
   "source": [
    "#ret2 = sorted(names.items())#키를 기준으로 오름차순으로 정렬\n",
    "ret2 = sorted(names.items(), key=f1)#키를 기준으로 오름차순으로 정렬\n",
    "print(ret2)"
   ]
  },
  {
   "cell_type": "code",
   "execution_count": 147,
   "metadata": {},
   "outputs": [
    {
     "name": "stdout",
     "output_type": "stream",
     "text": [
      "[('Sams', 2111), ('Bob', 5887), ('Kelly', 7855), ('Aimy', 9778), ('Mary', 10999), ('Tom', 20245), ('Michale', 27115)]\n"
     ]
    }
   ],
   "source": [
    "ret3 = sorted(names.items(), key=f2) #값을 기준으로 오름차순으로 정렬\n",
    "print(ret3)"
   ]
  },
  {
   "cell_type": "code",
   "execution_count": 148,
   "metadata": {},
   "outputs": [
    {
     "name": "stdout",
     "output_type": "stream",
     "text": [
      "[('Michale', 27115), ('Tom', 20245), ('Mary', 10999), ('Aimy', 9778), ('Kelly', 7855), ('Bob', 5887), ('Sams', 2111)]\n"
     ]
    }
   ],
   "source": [
    "ret4 = sorted(names.items(), key=f2, reverse=True) #값을 기준으로 내림차순으로 정렬\n",
    "print(ret4)"
   ]
  },
  {
   "cell_type": "code",
   "execution_count": 149,
   "metadata": {},
   "outputs": [
    {
     "name": "stdout",
     "output_type": "stream",
     "text": [
      "문자를 1개 입력하세요: 65\n",
      "문자: 6 \t코드값: 54 [0x36]\n"
     ]
    }
   ],
   "source": [
    "# 문자 코드값 구하기(ord), 코드값(아스키, 유니코드)에 대응하는 문자 얻기(chr) ord() 문자의 아스키 코드값이 결과로 나온다.\n",
    "\n",
    "ch = input('문자를 1개 입력하세요: ')\n",
    "if len(ch) != 0:\n",
    "   ch = ch[0]\n",
    "   chv = ord(ch)\n",
    "   print('문자: %s \\t코드값: %d [%s]' %(ch, chv, hex(chv)))"
   ]
  },
  {
   "cell_type": "code",
   "execution_count": 151,
   "metadata": {},
   "outputs": [
    {
     "data": {
      "text/plain": [
       "5"
      ]
     },
     "execution_count": 151,
     "metadata": {},
     "output_type": "execute_result"
    }
   ],
   "source": [
    "# 문자열로 된 식을 실행하기(eval)\n",
    "\n",
    "expr1 = '2+3'\n",
    "eval(expr1) # <2+3>를 eval()로 실행한 결과"
   ]
  },
  {
   "cell_type": "code",
   "execution_count": 152,
   "metadata": {},
   "outputs": [
    {
     "data": {
      "text/plain": [
       "4"
      ]
     },
     "execution_count": 152,
     "metadata": {},
     "output_type": "execute_result"
    }
   ],
   "source": [
    "expr2 = 'round(3.7)'\n",
    "eval(expr2) # <round(3.7)>를 eval()로 실행한 결과"
   ]
  },
  {
   "cell_type": "code",
   "execution_count": 153,
   "metadata": {},
   "outputs": [
    {
     "name": "stdout",
     "output_type": "stream",
     "text": [
      "4\n"
     ]
    }
   ],
   "source": [
    "# 이름없는 한줄짜리 함수 만들기(lambda)\n",
    "\n",
    "add = lambda x, y: x+y #매개변수 2개를 받아서 두수를 더한다.\n",
    "ret = add(1, 3)\n",
    "print(ret)    # 4가 출력됨"
   ]
  },
  {
   "cell_type": "code",
   "execution_count": 154,
   "metadata": {},
   "outputs": [
    {
     "name": "stdout",
     "output_type": "stream",
     "text": [
      "Intro.pptx\n",
      "Report.docx\n"
     ]
    }
   ],
   "source": [
    "#list에 들어있는 lambda함수 두개가 있다.\n",
    "funcs = [lambda x: x+'.pptx', lambda x: x+'.docx'] \n",
    "#첫번재 list값 lambda함수 꺼내서 실행한다.\n",
    "ret1 = funcs[0]('Intro')\n",
    "#두번재 list값 lambda함수 꺼내서 실행한다.\n",
    "ret2 = funcs[1]('Report')\n",
    "print(ret1)   # intro.pptx가 출력됨\n",
    "print(ret2)   # Report.docx가 출력됨"
   ]
  },
  {
   "cell_type": "code",
   "execution_count": 155,
   "metadata": {},
   "outputs": [
    {
     "name": "stdout",
     "output_type": "stream",
     "text": [
      "[('Aimy', 9778), ('Bob', 5887), ('Kelly', 7855), ('Mary', 10999), ('Michale', 27115), ('Sams', 2111), ('Tom', 20245)]\n"
     ]
    }
   ],
   "source": [
    "names = {'Mary':10999, 'Sams':2111, 'Aimy':9778, 'Tom':20245, 'Michale':27115,\n",
    "          'Bob':5887, 'Kelly':7855}\n",
    "ret3 = sorted(names.items(), key=lambda x: x[0]) #키로 정렬한다.\n",
    "print(ret3)"
   ]
  },
  {
   "cell_type": "code",
   "execution_count": 156,
   "metadata": {},
   "outputs": [
    {
     "name": "stdout",
     "output_type": "stream",
     "text": [
      "[1, 4, 9, 16, 25]\n"
     ]
    }
   ],
   "source": [
    "# 함수와 함수의 인자를  map의 인자로 전달하여 함수를 실행한다.(map)\n",
    "\n",
    "f = lambda x: x*x #매개변수 하나를 받아서 거듭제곱하는 함수\n",
    "args = [1, 2, 3, 4, 5]\n",
    "ret = map(f, args) #함수, 함수에 사용할 인자\n",
    "print(list(ret))"
   ]
  },
  {
   "cell_type": "code",
   "execution_count": 157,
   "metadata": {},
   "outputs": [
    {
     "name": "stdout",
     "output_type": "stream",
     "text": [
      "[11, 13, 17, 23, 31]\n"
     ]
    }
   ],
   "source": [
    "f = lambda x,y: x*x + y#매개변수 두개를 받아서 거듭제곱한후 더하는 함수\n",
    "X = [1, 2, 3, 4, 5]\n",
    "Y = [10, 9, 8, 7,6]\n",
    "ret = map(f, X,Y) #함수, 함수에서 사용할 인자값\n",
    "print(list(ret))"
   ]
  },
  {
   "cell_type": "code",
   "execution_count": null,
   "metadata": {},
   "outputs": [],
   "source": []
  }
 ],
 "metadata": {
  "kernelspec": {
   "display_name": "pydata",
   "language": "python",
   "name": "pydata"
  },
  "language_info": {
   "codemirror_mode": {
    "name": "ipython",
    "version": 3
   },
   "file_extension": ".py",
   "mimetype": "text/x-python",
   "name": "python",
   "nbconvert_exporter": "python",
   "pygments_lexer": "ipython3",
   "version": "3.7.10"
  }
 },
 "nbformat": 4,
 "nbformat_minor": 4
}
