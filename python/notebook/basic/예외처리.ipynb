{
 "cells": [
  {
   "cell_type": "code",
   "execution_count": 4,
   "metadata": {},
   "outputs": [
    {
     "name": "stdout",
     "output_type": "stream",
     "text": [
      "안녕하세요.\n",
      "길동\n"
     ]
    }
   ],
   "source": [
    "#param = '길동'\n",
    "try:\n",
    "   print('안녕하세요.')\n",
    "   print(param)\n",
    "except:\n",
    "   print('예외가 발생했습니다!')"
   ]
  },
  {
   "cell_type": "code",
   "execution_count": 5,
   "metadata": {},
   "outputs": [
    {
     "name": "stdout",
     "output_type": "stream",
     "text": [
      "예외가 발생했습니다.\n"
     ]
    }
   ],
   "source": [
    "try:\n",
    "    print(1/0)\n",
    "except:\n",
    "    print(\"예외가 발생했습니다.\")"
   ]
  },
  {
   "cell_type": "code",
   "execution_count": 6,
   "metadata": {},
   "outputs": [],
   "source": [
    "# 다음 함수는 try-except 문을 통하여 사용자가 0을 분모로 전달하면\n",
    "# 친절한 에러 메세지를 제공한다.\n",
    "\n",
    "def divide_numbers(x, y):\n",
    "    try:\n",
    "            return x/y\n",
    "    except ZeroDivisionError:\n",
    "            return 'You cannot divide by zero, try again'"
   ]
  },
  {
   "cell_type": "code",
   "execution_count": 7,
   "metadata": {},
   "outputs": [
    {
     "name": "stdout",
     "output_type": "stream",
     "text": [
      "2.6666666666666665\n"
     ]
    }
   ],
   "source": [
    "# 8 나누기 3을 시도\n",
    "print(divide_numbers(8,3))"
   ]
  },
  {
   "cell_type": "code",
   "execution_count": 8,
   "metadata": {},
   "outputs": [
    {
     "name": "stdout",
     "output_type": "stream",
     "text": [
      "You cannot divide by zero, try again\n"
     ]
    }
   ],
   "source": [
    "# 8 나누기 0을 시도\n",
    "print(divide_numbers(8, 0))"
   ]
  },
  {
   "cell_type": "code",
   "execution_count": 9,
   "metadata": {},
   "outputs": [
    {
     "name": "stdout",
     "output_type": "stream",
     "text": [
      "안녕하세요.\n",
      "100\n",
      "예외가 발생하지 않았습니다.\n"
     ]
    }
   ],
   "source": [
    "try:\n",
    "   print('안녕하세요.')\n",
    "   param = 100\n",
    "   print(param)\n",
    " \n",
    "except:\n",
    "   print('예외가 발생했습니다!')\n",
    "\n",
    "else:\n",
    "   print('예외가 발생하지 않았습니다.')"
   ]
  },
  {
   "cell_type": "code",
   "execution_count": 17,
   "metadata": {},
   "outputs": [
    {
     "name": "stdout",
     "output_type": "stream",
     "text": [
      "나누어질 수를 입력하세요 >> ㅁ\n",
      "나눌 수를 입력하세요 >> ㅠ\n",
      "에러 _ 숫자를 입력해주세요\n",
      "에러 _ 숫자만 입력해야 합니다.\n"
     ]
    }
   ],
   "source": [
    "# 키보드 입력을 통하여 받은 숫자에 대하여 나눗셈을 수행\n",
    "# 빈값이나 문자를 입력하면 ValueError,TypeError 발행\n",
    "try:\n",
    "    # 작업을 수행\n",
    "    try:\n",
    "        x = input ('나누어질 수를 입력하세요 >> ')\n",
    "        y = input('나눌 수를 입력하세요 >> ')\n",
    "        x = int(x)\n",
    "        y = int(y)\n",
    "    except ValueError:\n",
    "        # 예외를 처리하고 바깥의 try-except로 이동\n",
    "        print ('에러 _ 숫자를 입력해주세요')\n",
    "    z = x / y\n",
    "except ZeroDivisionError:\n",
    "    # handle exception\n",
    "    print ('에러 _ 0으로 나눌 수 없습니다.')\n",
    "except TypeError:\n",
    "    print ('에러 _ 숫자만 입력해야 합니다.')\n",
    "else:\n",
    "    print ('나누기 한 값 >> %d' % (z))"
   ]
  },
  {
   "cell_type": "code",
   "execution_count": 24,
   "metadata": {},
   "outputs": [
    {
     "name": "stdout",
     "output_type": "stream",
     "text": [
      "인덱스 값을 입력해주세요 >> \n",
      "7\n",
      "잘못된 인덱스 값입니다.\n"
     ]
    }
   ],
   "source": [
    "# 복수개의 except절\n",
    "my_list = [1, 2, 3]\n",
    " \n",
    "try:\n",
    "    print(\"인덱스 값을 입력해주세요 >> \")\n",
    "    index = int(input())\n",
    "    print(my_list[index]/0)\n",
    "except ZeroDivisionError:\n",
    "    print(\"0으로 나눌 수 없습니다.\")\n",
    "except IndexError:\n",
    "    print(\"잘못된 인덱스 값입니다.\")"
   ]
  },
  {
   "cell_type": "code",
   "execution_count": 26,
   "metadata": {},
   "outputs": [
    {
     "name": "stdout",
     "output_type": "stream",
     "text": [
      "인덱스 값을 입력하세요 >> \n",
      "123\n",
      "[에러]_잘못된 인덱스 값입니다. (list index out of range)\n"
     ]
    }
   ],
   "source": [
    "# as로 예외형식을 받아온다.\n",
    "my_list = [1, 2, 3]\n",
    " \n",
    "try:\n",
    "    print(\"인덱스 값을 입력하세요 >> \")\n",
    "    index = int(input())\n",
    "    print(my_list[index]/0)\n",
    "except ZeroDivisionError as err:\n",
    "    print(\"[에러]_0으로 나눌 수 없습니다. ({0})\".format(err))\n",
    "except IndexError as err:\n",
    "    print(\"[에러]_잘못된 인덱스 값입니다. ({0})\".format(err))"
   ]
  },
  {
   "cell_type": "code",
   "execution_count": 27,
   "metadata": {},
   "outputs": [
    {
     "name": "stdout",
     "output_type": "stream",
     "text": [
      "인덱스 값을 입력하세요 >> \n",
      "159\n",
      "[에러]_예외가 발생했습니다.(list index out of range)\n"
     ]
    }
   ],
   "source": [
    "#Exception 클래스는 모든 예외를 다 받을 수 있다.\n",
    "my_list = [1, 2, 3]\n",
    " \n",
    "try:\n",
    "    print(\"인덱스 값을 입력하세요 >> \")\n",
    "    index = int(input())\n",
    "    print(my_list[index]/0)\n",
    "except ZeroDivisionError as err:\n",
    "    print(\"[에러]_0으로 나눌 수 없습니다. ({0})\".format(err))\n",
    "except Exception as err :\n",
    "    print(\"[에러]_예외가 발생했습니다.({0})\".format(err))"
   ]
  },
  {
   "cell_type": "code",
   "execution_count": 29,
   "metadata": {},
   "outputs": [
    {
     "name": "stdout",
     "output_type": "stream",
     "text": [
      "인덱스 값을 입력하세요 >> \n",
      "7\n",
      "[에러]_예외가 발생했습니다 (list index out of range)\n",
      "어떤 일이 있어도 마무리합니다.\n"
     ]
    }
   ],
   "source": [
    "#else는 except절을 만나지 않으면 실행되는 블럭이고, finally는 무조건 실행되는 블럭이다.\n",
    "my_list = [1, 2, 3]\n",
    " \n",
    "try:\n",
    "    print(\"인덱스 값을 입력하세요 >> \")\n",
    "    index = int(input())\n",
    "    print(\"my_list[{0}]: {1}\".format(index, my_list[index]))\n",
    "except Exception as err:\n",
    "    print(\"[에러]_예외가 발생했습니다 ({0})\".format(err))\n",
    "else:\n",
    "    print(\"리스트의 요소 출력에 성공했습니다.\")\n",
    "finally:\n",
    "    print(\"어떤 일이 있어도 마무리합니다.\")"
   ]
  },
  {
   "cell_type": "code",
   "execution_count": 31,
   "metadata": {},
   "outputs": [
    {
     "name": "stdout",
     "output_type": "stream",
     "text": [
      "1~10 사이의 수를 입력하세요:\n",
      "123\n",
      "예외가 발생했습니다. 유효하지 않은 숫자입니다.: 123\n"
     ]
    }
   ],
   "source": [
    "# 예외 일으키기 (raise)\n",
    "def some_function():\n",
    "    print(\"1~10 사이의 수를 입력하세요:\")\n",
    "    num = int(input())\n",
    "    if num < 1 or num > 10:\n",
    "        raise Exception(\"유효하지 않은 숫자입니다.: {0}\".format(num))\n",
    "    else:\n",
    "        print(\"입력한 수는 {0}입니다.\".format(num))\n",
    " \n",
    "try:\n",
    "    some_function()\n",
    "except Exception as err:\n",
    "    print(\"예외가 발생했습니다. {0}\".format(err))"
   ]
  },
  {
   "cell_type": "code",
   "execution_count": 33,
   "metadata": {},
   "outputs": [],
   "source": [
    "def some_function2():\n",
    "    print(\"1~10 사이의 수를 입력하세요:\")\n",
    "    num = int(input())\n",
    "    if num < 1 or num > 10:\n",
    "        raise Exception(\"유효하지 않은 숫자입니다.: {0}\".format(num))\n",
    "    else:\n",
    "        print(\"입력한 수는 {0}입니다.\".format(num))"
   ]
  },
  {
   "cell_type": "code",
   "execution_count": 35,
   "metadata": {},
   "outputs": [],
   "source": [
    "def some_function_caller():\n",
    "    try:\n",
    "        some_function2()\n",
    "    except Exception as err:\n",
    "        print(\"1) 예외가 발생했습니다. {0}\".format(err))\n",
    "        raise "
   ]
  },
  {
   "cell_type": "code",
   "execution_count": 36,
   "metadata": {},
   "outputs": [
    {
     "name": "stdout",
     "output_type": "stream",
     "text": [
      "1~10 사이의 수를 입력하세요:\n",
      "7\n",
      "입력한 수는 7입니다.\n"
     ]
    }
   ],
   "source": [
    "try:\n",
    "    some_function_caller()\n",
    "except Exception as err:\n",
    "    print(\"2) 예외가 발생했습니다. {0}\".format(err))"
   ]
  },
  {
   "cell_type": "code",
   "execution_count": null,
   "metadata": {},
   "outputs": [],
   "source": []
  }
 ],
 "metadata": {
  "kernelspec": {
   "display_name": "pydata",
   "language": "python",
   "name": "pydata"
  },
  "language_info": {
   "codemirror_mode": {
    "name": "ipython",
    "version": 3
   },
   "file_extension": ".py",
   "mimetype": "text/x-python",
   "name": "python",
   "nbconvert_exporter": "python",
   "pygments_lexer": "ipython3",
   "version": "3.7.10"
  }
 },
 "nbformat": 4,
 "nbformat_minor": 4
}
