{
 "cells": [
  {
   "cell_type": "code",
   "execution_count": 1,
   "metadata": {},
   "outputs": [
    {
     "data": {
      "text/plain": [
       "'\\n- 특정 게시글의 상세한 내역을 추출하여 다양한 형태의 파일로 저장한다.\\n- 데이터 수집할 사이트는 한국관광공사의 특정 페이지 이다.\\n- URL : https://korean.visitkorea.or.kr/detail/rem_detail.do?cotid=df3f6275-06a8-4d1c-ae7e-40a2b5276bcd&temp=\\n'"
      ]
     },
     "execution_count": 1,
     "metadata": {},
     "output_type": "execute_result"
    }
   ],
   "source": [
    "'''\n",
    "- 특정 게시글의 상세한 내역을 추출하여 다양한 형태의 파일로 저장한다.\n",
    "- 데이터 수집할 사이트는 한국관광공사의 특정 페이지 이다.\n",
    "- URL : https://korean.visitkorea.or.kr/detail/rem_detail.do?cotid=df3f6275-06a8-4d1c-ae7e-40a2b5276bcd&temp=\n",
    "'''"
   ]
  },
  {
   "cell_type": "code",
   "execution_count": 15,
   "metadata": {},
   "outputs": [
    {
     "name": "stdout",
     "output_type": "stream",
     "text": [
      "파일 이름 (D:\\SJY\\python\\notebook\\data 안에 저장) >> selectC\n",
      "\n",
      "\n",
      "================================================================================\n",
      "총 소요시간은 6.838911771774292 초 입니다 \n",
      "파일 저장 완료: txt 파일명 : D:/SJY/python/notebook/data/selectC.txt \n",
      "파일 저장 완료: csv 파일명 : D:/SJY/python/notebook/data/selectC.csv \n",
      "파일 저장 완료: xls 파일명 : D:/SJY/python/notebook/data/selectC.xlsx \n",
      "================================================================================\n"
     ]
    }
   ],
   "source": [
    "from bs4 import BeautifulSoup\n",
    "from selenium import webdriver\n",
    "import pandas as pd\n",
    "import math\n",
    "import time\n",
    "\n",
    "f_path = 'D:/SJY/python/notebook/data/'\n",
    "f_name = input('파일 이름 (D:\\\\SJY\\\\python\\\\notebook\\\\data 안에 저장) >> ')\n",
    "ft_name = f_path + f_name + '.txt'\n",
    "fc_name = f_path + f_name + '.csv'\n",
    "fx_name = f_path + f_name + '.xlsx'\n",
    "\n",
    "s_time = time.time() # 크롤링 한 시간 측정을 위해 시작시간 검출\n",
    "\n",
    "path = \"D:/SJY/python/datadown/chromedriver.exe\"\n",
    "driver = webdriver.Chrome(path)\n",
    "# 제주도 걷기길 열기\n",
    "driver.get(\"https://korean.visitkorea.or.kr/detail/rem_detail.do?cotid=7765dc87-c1ba-4899-9a6b-c4fcc009d524&con_type=10300\")\n",
    "\n",
    "time.sleep(2)\n",
    "\n",
    "html = driver.page_source\n",
    "soup = BeautifulSoup(html, 'html.parser')\n",
    "content_list = soup.find_all('div','txt_p') #텍스트 내용 있는 태구\n",
    "content_list\n",
    "\n",
    "korea_trip = pd.DataFrame()\n",
    "korea_trip['내용'] = pd.Series(contents2)\n",
    "korea_trip['태그'] = pd.Series(tags2)\n",
    "\n",
    "#print(korea_trip)\n",
    " \n",
    "korea_trip.to_csv(fc_name,encoding=\"utf-8-sig\" , index=False)\n",
    "korea_trip.to_excel(fx_name , index=False)\n",
    "\n",
    "# Step 4. 요약 정보 보여주기\n",
    "e_time = time.time( )     # 검색이 종료된 시점의 timestamp 를 지정합니다\n",
    "t_time = e_time - s_time\n",
    "\n",
    "print(\"\\n\") \n",
    "print(\"=\" *80)\n",
    "print(\"총 소요시간은 {} 초 입니다 \" .format(t_time))\n",
    "print(\"파일 저장 완료: txt 파일명 : {} \" .format(ft_name))\n",
    "print(\"파일 저장 완료: csv 파일명 : {} \" .format(fc_name))\n",
    "print(\"파일 저장 완료: xls 파일명 : {} \" .format(fx_name))\n",
    "print(\"=\" *80)\n",
    " \n",
    "driver.close( )"
   ]
  },
  {
   "cell_type": "code",
   "execution_count": null,
   "metadata": {},
   "outputs": [],
   "source": []
  }
 ],
 "metadata": {
  "kernelspec": {
   "display_name": "pydata",
   "language": "python",
   "name": "pydata"
  },
  "language_info": {
   "codemirror_mode": {
    "name": "ipython",
    "version": 3
   },
   "file_extension": ".py",
   "mimetype": "text/x-python",
   "name": "python",
   "nbconvert_exporter": "python",
   "pygments_lexer": "ipython3",
   "version": "3.7.10"
  }
 },
 "nbformat": 4,
 "nbformat_minor": 4
}
