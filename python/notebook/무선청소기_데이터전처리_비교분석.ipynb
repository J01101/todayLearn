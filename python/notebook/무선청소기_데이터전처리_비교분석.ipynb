{
 "cells": [
  {
   "cell_type": "code",
   "execution_count": 23,
   "id": "caroline-girlfriend",
   "metadata": {
    "scrolled": true
   },
   "outputs": [
    {
     "name": "stdout",
     "output_type": "stream",
     "text": [
      "<class 'pandas.core.frame.DataFrame'>\n",
      "RangeIndex: 440 entries, 0 to 439\n",
      "Data columns (total 3 columns):\n",
      " #   Column  Non-Null Count  Dtype \n",
      "---  ------  --------------  ----- \n",
      " 0   상품명     410 non-null    object\n",
      " 1   스펙 목록   410 non-null    object\n",
      " 2   가격      440 non-null    int64 \n",
      "dtypes: int64(1), object(2)\n",
      "memory usage: 10.4+ KB\n"
     ]
    }
   ],
   "source": [
    "import pandas as pd\n",
    "data = pd.read_excel(\"data3/danawa_crawling_result.xlsx\")\n",
    "data.info()"
   ]
  },
  {
   "cell_type": "code",
   "execution_count": 24,
   "id": "manual-cleveland",
   "metadata": {},
   "outputs": [
    {
     "data": {
      "text/html": [
       "<div>\n",
       "<style scoped>\n",
       "    .dataframe tbody tr th:only-of-type {\n",
       "        vertical-align: middle;\n",
       "    }\n",
       "\n",
       "    .dataframe tbody tr th {\n",
       "        vertical-align: top;\n",
       "    }\n",
       "\n",
       "    .dataframe thead th {\n",
       "        text-align: right;\n",
       "    }\n",
       "</style>\n",
       "<table border=\"1\" class=\"dataframe\">\n",
       "  <thead>\n",
       "    <tr style=\"text-align: right;\">\n",
       "      <th></th>\n",
       "      <th>상품명</th>\n",
       "      <th>스펙 목록</th>\n",
       "      <th>가격</th>\n",
       "    </tr>\n",
       "  </thead>\n",
       "  <tbody>\n",
       "    <tr>\n",
       "      <th>0</th>\n",
       "      <td>LG전자 오브제컬렉션 코드제로 ThinQ A9S AO9571</td>\n",
       "      <td>핸디/스틱청소기 / 핸디+스틱형 / 무선형 / 흡입+걸레겸용 / [성능] 2중터보싸...</td>\n",
       "      <td>1203710</td>\n",
       "    </tr>\n",
       "    <tr>\n",
       "      <th>1</th>\n",
       "      <td>샤오미 CLEANFLY 차량용 무선 청소기 3세대 (해외구매)</td>\n",
       "      <td>차량용청소기 / 무선 / 흡입력: 16,800Pa / 최대출력: 120W / 헤파필...</td>\n",
       "      <td>50080</td>\n",
       "    </tr>\n",
       "    <tr>\n",
       "      <th>2</th>\n",
       "      <td>샤오미 미지아 차량용 핸디 무선 청소기 (해외구매)</td>\n",
       "      <td>차량용청소기 / 무선 / 흡입력: 13,000Pa / 최대출력: 120W / 헤파필...</td>\n",
       "      <td>36230</td>\n",
       "    </tr>\n",
       "    <tr>\n",
       "      <th>3</th>\n",
       "      <td>mp0mgdh43Z</td>\n",
       "      <td>mp0mgdh43Z339160</td>\n",
       "      <td>339160</td>\n",
       "    </tr>\n",
       "    <tr>\n",
       "      <th>4</th>\n",
       "      <td>LG전자 코드제로 A9 A9100S</td>\n",
       "      <td>핸디/스틱청소기 / 핸디+스틱형 / 무선형 / 흡입+걸레겸용 / [성능] 2중터보싸...</td>\n",
       "      <td>462570</td>\n",
       "    </tr>\n",
       "  </tbody>\n",
       "</table>\n",
       "</div>"
      ],
      "text/plain": [
       "                                  상품명  \\\n",
       "0   LG전자 오브제컬렉션 코드제로 ThinQ A9S AO9571   \n",
       "1  샤오미 CLEANFLY 차량용 무선 청소기 3세대 (해외구매)   \n",
       "2        샤오미 미지아 차량용 핸디 무선 청소기 (해외구매)   \n",
       "3                          mp0mgdh43Z   \n",
       "4                 LG전자 코드제로 A9 A9100S   \n",
       "\n",
       "                                               스펙 목록       가격  \n",
       "0  핸디/스틱청소기 / 핸디+스틱형 / 무선형 / 흡입+걸레겸용 / [성능] 2중터보싸...  1203710  \n",
       "1  차량용청소기 / 무선 / 흡입력: 16,800Pa / 최대출력: 120W / 헤파필...    50080  \n",
       "2  차량용청소기 / 무선 / 흡입력: 13,000Pa / 최대출력: 120W / 헤파필...    36230  \n",
       "3                                   mp0mgdh43Z339160   339160  \n",
       "4  핸디/스틱청소기 / 핸디+스틱형 / 무선형 / 흡입+걸레겸용 / [성능] 2중터보싸...   462570  "
      ]
     },
     "execution_count": 24,
     "metadata": {},
     "output_type": "execute_result"
    }
   ],
   "source": [
    "data.head()"
   ]
  },
  {
   "cell_type": "code",
   "execution_count": 25,
   "id": "fitting-baking",
   "metadata": {},
   "outputs": [
    {
     "data": {
      "text/plain": [
       "0     LG전자 오브제컬렉션 코드제로 ThinQ A9S AO9571\n",
       "1    샤오미 CLEANFLY 차량용 무선 청소기 3세대 (해외구매)\n",
       "2          샤오미 미지아 차량용 핸디 무선 청소기 (해외구매)\n",
       "3                            mp0mgdh43Z\n",
       "4                   LG전자 코드제로 A9 A9100S\n",
       "5                           샤오미 드리미 V10\n",
       "6                                   NaN\n",
       "7                 삼성전자 제트 VS20T9278S3CS\n",
       "8             LG전자 코드제로 ThinQ A9S A9700\n",
       "9      샤오미 LYDSTO 핸디형 에어펌프 진공청소기 (해외구매)\n",
       "Name: 상품명, dtype: object"
      ]
     },
     "execution_count": 25,
     "metadata": {},
     "output_type": "execute_result"
    }
   ],
   "source": [
    "data['상품명'][:10]"
   ]
  },
  {
   "cell_type": "code",
   "execution_count": 26,
   "id": "adjustable-crash",
   "metadata": {},
   "outputs": [
    {
     "data": {
      "text/plain": [
       "['사오미', '드리미 V10']"
      ]
     },
     "execution_count": 26,
     "metadata": {},
     "output_type": "execute_result"
    }
   ],
   "source": [
    "title = '사오미 드리미 V10'\n",
    "info = title.split(\" \",1)\n",
    "info"
   ]
  },
  {
   "cell_type": "code",
   "execution_count": 27,
   "id": "effective-horse",
   "metadata": {},
   "outputs": [
    {
     "name": "stdout",
     "output_type": "stream",
     "text": [
      "440\n",
      "400\n",
      "400\n",
      "400\n"
     ]
    }
   ],
   "source": [
    "company_list = []#회사명저장\n",
    "product_list = []#상품명저장\n",
    "price_list = [] #가격 저장\n",
    "for index, title in enumerate(data['상품명']): #인젝스와 , value로 나누어 가져온다\n",
    "    try:\n",
    "        title_info = title.split(' ',1)\n",
    "#         print(title_info)\n",
    "        company_name = title_info[0]\n",
    "        product_name = title_info[1]\n",
    "        company_list.append(company_name)\n",
    "        product_list.append(product_name)\n",
    "        price_list.append(data['가격'][index])\n",
    "        \n",
    "    except:\n",
    "        continue\n",
    "    \n",
    "print(len(data))\n",
    "print(len(company_list))\n",
    "print(len(product_list))\n",
    "print(len(price_list))"
   ]
  },
  {
   "cell_type": "code",
   "execution_count": 29,
   "id": "breeding-color",
   "metadata": {},
   "outputs": [
    {
     "data": {
      "text/plain": [
       "'핸디/스틱청소기 / 핸디+스틱형 / 무선형 / 흡입+걸레겸용 / [성능] 2중터보싸이클론 / 스마트인버터모터 / 흡입력: 210W / 소비전력: 590W / [배터리] 분리형 / 리튬이온 (2개) / 전압: 25.2V / 충전시간: 4시간 / 사용시간: 1시간(개당) / [필터] 헤파필터 / 5단계여과 / [기능] 자동물공급 / 디스플레이표시창 / 배터리잔량표시 / WiFi / [구성품] 바닥 / 물걸레 / 침구 / 솔형 / 틈새 / 올인원타워 / [부가] 알레르기인증(BAF) / 미세먼지인증(SLG) / 색상: 카밍베이지 / 무게: 2.6kg / 먼지통자동비움 / 크기(가로x세로x깊이): 250x1120x260mm'"
      ]
     },
     "execution_count": 29,
     "metadata": {},
     "output_type": "execute_result"
    }
   ],
   "source": [
    "data['스펙 목록'][0]"
   ]
  },
  {
   "cell_type": "code",
   "execution_count": 30,
   "id": "enclosed-sector",
   "metadata": {},
   "outputs": [
    {
     "data": {
      "text/plain": [
       "['핸디/스틱청소기',\n",
       " '핸디+스틱형',\n",
       " '무선형',\n",
       " '흡입+걸레겸용',\n",
       " '[성능] 2중터보싸이클론',\n",
       " '스마트인버터모터',\n",
       " '흡입력: 210W',\n",
       " '소비전력: 590W',\n",
       " '[배터리] 분리형',\n",
       " '리튬이온 (2개)',\n",
       " '전압: 25.2V',\n",
       " '충전시간: 4시간',\n",
       " '사용시간: 1시간(개당)',\n",
       " '[필터] 헤파필터',\n",
       " '5단계여과',\n",
       " '[기능] 자동물공급',\n",
       " '디스플레이표시창',\n",
       " '배터리잔량표시',\n",
       " 'WiFi',\n",
       " '[구성품] 바닥',\n",
       " '물걸레',\n",
       " '침구',\n",
       " '솔형',\n",
       " '틈새',\n",
       " '올인원타워',\n",
       " '[부가] 알레르기인증(BAF)',\n",
       " '미세먼지인증(SLG)',\n",
       " '색상: 카밍베이지',\n",
       " '무게: 2.6kg',\n",
       " '먼지통자동비움',\n",
       " '크기(가로x세로x깊이): 250x1120x260mm']"
      ]
     },
     "execution_count": 30,
     "metadata": {},
     "output_type": "execute_result"
    }
   ],
   "source": [
    "spec_list = data['스펙 목록'][0].split(' / ')\n",
    "spec_list"
   ]
  },
  {
   "cell_type": "code",
   "execution_count": 31,
   "id": "seasonal-intellectual",
   "metadata": {},
   "outputs": [
    {
     "data": {
      "text/plain": [
       "'핸디/스틱청소기'"
      ]
     },
     "execution_count": 31,
     "metadata": {},
     "output_type": "execute_result"
    }
   ],
   "source": [
    "category = spec_list[0]\n",
    "category"
   ]
  },
  {
   "cell_type": "code",
   "execution_count": 32,
   "id": "secret-firewall",
   "metadata": {},
   "outputs": [
    {
     "name": "stdout",
     "output_type": "stream",
     "text": [
      "사용시간: 1시간(개당)\n",
      "흡입력: 210W\n"
     ]
    }
   ],
   "source": [
    "for spec in spec_list:\n",
    "    if '사용시간' in spec:\n",
    "        use_time_spec = spec\n",
    "    elif '흡입력' in spec:\n",
    "        suction_spec = spec\n",
    "        \n",
    "print(use_time_spec)\n",
    "print(suction_spec)"
   ]
  },
  {
   "cell_type": "code",
   "execution_count": 33,
   "id": "dominican-pantyhose",
   "metadata": {},
   "outputs": [
    {
     "name": "stdout",
     "output_type": "stream",
     "text": [
      "1시간(개당)\n",
      "210W\n"
     ]
    }
   ],
   "source": [
    "use_time_value = use_time_spec.split(\" \")[1].strip()\n",
    "suction_value = suction_spec.split(' ')[1].strip()\n",
    "print(use_time_value)\n",
    "print(suction_value)"
   ]
  },
  {
   "cell_type": "code",
   "execution_count": 34,
   "id": "premium-castle",
   "metadata": {},
   "outputs": [
    {
     "data": {
      "text/plain": [
       "0      핸디/스틱청소기 / 핸디+스틱형 / 무선형 / 흡입+걸레겸용 / [성능] 2중터보싸...\n",
       "1      차량용청소기 / 무선 / 흡입력: 16,800Pa / 최대출력: 120W / 헤파필...\n",
       "2      차량용청소기 / 무선 / 흡입력: 13,000Pa / 최대출력: 120W / 헤파필...\n",
       "3                                       mp0mgdh43Z339160\n",
       "4      핸디/스틱청소기 / 핸디+스틱형 / 무선형 / 흡입+걸레겸용 / [성능] 2중터보싸...\n",
       "                             ...                        \n",
       "435    진공청소기 / 무선형 / 전압: 32.85V / [성능] 헤파필터 / 먼지통 / 먼...\n",
       "436    핸디/스틱청소기 / 핸디+스틱형 / 무선형 / [성능] 흡입력: 12000Pa / ...\n",
       "437    핸디/스틱청소기 / 핸디형 / 무선형 / [배터리] 리튬이온 / 전압: 7.4V /...\n",
       "438    차량용청소기 / 무선 / 흡입력: 5,800Pa / 최대출력: 80W / 헤파필터 ...\n",
       "439    차량용청소기 / 무선 / 흡입력: 8,000Pa / 헤파필터 / 추가노즐: 틈새, ...\n",
       "Name: 스펙 목록, Length: 440, dtype: object"
      ]
     },
     "execution_count": 34,
     "metadata": {},
     "output_type": "execute_result"
    }
   ],
   "source": [
    "data['스펙 목록']"
   ]
  },
  {
   "cell_type": "code",
   "execution_count": 35,
   "id": "aboriginal-technical",
   "metadata": {},
   "outputs": [],
   "source": [
    "#카테고리, 사용시간, 흡입력 추출 \n",
    "category_list = []\n",
    "use_time_list = []\n",
    "suction_list = []\n",
    "for spec_data in data['스펙 목록']:\n",
    "    try:\n",
    "        \n",
    "        # ' / ' 기준으로 스펙 분리하기 \n",
    "        spec_list = spec_data.split(' / ')\n",
    "        if len(spec_list) > 1:\n",
    "            # 카테고리 추출하기\n",
    "            category = spec_list[0]\n",
    "            category_list.append(category)\n",
    "            # 사용시간, 흡입력 추출 \n",
    "            # 사용시간, 흡입력 정보가 없는 제품을 위해 변수를 생성 \n",
    "            use_time_value = None\n",
    "            suction_value = None\n",
    "            # spec_list의 각 원소에서 사용시간, 흡입력 수치 추출\n",
    "            for spec in spec_list:\n",
    "                if '사용시간' in spec:\n",
    "                    use_time_value = spec.split(' ')[1].strip()\n",
    "                if '흡입력' in spec:\n",
    "                    suction_value = spec.split(' ')[1].strip()\n",
    "\n",
    "\n",
    "            use_time_list.append(use_time_value)\n",
    "            suction_list.append(suction_value)\n",
    "    except:\n",
    "        continue"
   ]
  },
  {
   "cell_type": "code",
   "execution_count": 36,
   "id": "demanding-geography",
   "metadata": {},
   "outputs": [
    {
     "name": "stdout",
     "output_type": "stream",
     "text": [
      "카테고리: 400 ['핸디/스틱청소기', '차량용청소기', '차량용청소기', '핸디/스틱청소기', '핸디/스틱청소기']\n",
      "사용시간: 400 ['1시간(개당)', '25분', '9~30분', '40분(개당)', '1시간(개당)']\n",
      "흡입력: 400 ['210W', '16,800Pa', '13,000Pa', None, '22000Pa']\n"
     ]
    }
   ],
   "source": [
    "print('카테고리:',len(category_list),category_list[0:5])\n",
    "print('사용시간:',len(use_time_list), use_time_list[0:5])\n",
    "print('흡입력:',len(suction_list),suction_list[0:5])"
   ]
  },
  {
   "cell_type": "code",
   "execution_count": 37,
   "id": "spoken-hacker",
   "metadata": {},
   "outputs": [],
   "source": [
    "def convert_time_minute(time):\n",
    "    try:\n",
    "        #시간에 ~ 있을때\n",
    "        if '~' in time:\n",
    "            hour_m = time.split('~')[0] #1시간30분\n",
    "            if '시간' in hour_m:\n",
    "                hour = hour_m.split('시간')[0] #1\n",
    "                if '분' in hour_m:\n",
    "                    minute = hour_m.split('시간')[-1].split('분')[0]\n",
    "                    if '~' in minute:\n",
    "                        minute = minute.split('~')[1]\n",
    "                else:\n",
    "                    minute = 0\n",
    "            else:\n",
    "                hour = 0\n",
    "                minute = hour_m.split('분')[0]\n",
    "                if '~' in minute:\n",
    "                    minute = minute.split('~')[1]\n",
    "\n",
    "        \n",
    "        #시간에 ~ 없을때\n",
    "        else:\n",
    "            if '시간' in time:\n",
    "                hour = time.split('시간')[0]\n",
    "                if '분' in time:\n",
    "                    minute = time.split('시간')[-1].split('분')[0]\n",
    "                    if '~' in minute:\n",
    "                        minute = minute.split('~')[1]\n",
    "                else:\n",
    "                    minute = 0\n",
    "\n",
    "            else:\n",
    "                hour = 0\n",
    "                minute = time.split('분')[0]\n",
    "                if '~' in minute:\n",
    "                    minute = minute.split('~')[1]\n",
    "\n",
    "        return int(hour) * 60 + int(minute)\n",
    "    except Exception as e:\n",
    "        print(e)"
   ]
  },
  {
   "cell_type": "code",
   "execution_count": 38,
   "id": "offshore-taste",
   "metadata": {},
   "outputs": [
    {
     "name": "stdout",
     "output_type": "stream",
     "text": [
      "40분(개당) = 40\n",
      "4분 = 4\n",
      "1시간30분(개당) = 90\n",
      "9~10분 = 9\n",
      "argument of type 'NoneType' is not iterable\n",
      "None = None\n",
      "1시간20분~30분(개당) = 80\n",
      "1시간30분~2시간(개당) = 90\n"
     ]
    }
   ],
   "source": [
    "times = ['40분(개당)', '4분', '1시간30분(개당)', '9~10분', None, '1시간20분~30분(개당)', '1시간30분~2시간(개당)']\n",
    "for time in times:\n",
    "    time_value = convert_time_minute(time)\n",
    "    print(time,\"=\",time_value)"
   ]
  },
  {
   "cell_type": "code",
   "execution_count": 39,
   "id": "usual-retirement",
   "metadata": {},
   "outputs": [
    {
     "name": "stdout",
     "output_type": "stream",
     "text": [
      "argument of type 'NoneType' is not iterable\n",
      "argument of type 'NoneType' is not iterable\n",
      "argument of type 'NoneType' is not iterable\n",
      "argument of type 'NoneType' is not iterable\n",
      "argument of type 'NoneType' is not iterable\n",
      "argument of type 'NoneType' is not iterable\n",
      "argument of type 'NoneType' is not iterable\n",
      "argument of type 'NoneType' is not iterable\n",
      "argument of type 'NoneType' is not iterable\n",
      "argument of type 'NoneType' is not iterable\n",
      "argument of type 'NoneType' is not iterable\n",
      "argument of type 'NoneType' is not iterable\n",
      "argument of type 'NoneType' is not iterable\n",
      "argument of type 'NoneType' is not iterable\n",
      "argument of type 'NoneType' is not iterable\n",
      "invalid literal for int() with base 10: '사용'\n",
      "argument of type 'NoneType' is not iterable\n",
      "argument of type 'NoneType' is not iterable\n",
      "argument of type 'NoneType' is not iterable\n",
      "argument of type 'NoneType' is not iterable\n",
      "argument of type 'NoneType' is not iterable\n",
      "argument of type 'NoneType' is not iterable\n",
      "argument of type 'NoneType' is not iterable\n",
      "argument of type 'NoneType' is not iterable\n",
      "argument of type 'NoneType' is not iterable\n",
      "400\n",
      "[60, 25, 9, 40, 60, 60, 60, 15, 60, 60, 45, 60, 40, 180, 20, 30, 17, 60, 15, 42]\n"
     ]
    }
   ],
   "source": [
    "new_use_time_list = []\n",
    "for time in use_time_list:\n",
    "    time_value = convert_time_minute(time)\n",
    "    new_use_time_list.append(time_value)\n",
    "    \n",
    "print(len(new_use_time_list))\n",
    "print(new_use_time_list[:20])"
   ]
  },
  {
   "cell_type": "code",
   "execution_count": 40,
   "id": "killing-bachelor",
   "metadata": {},
   "outputs": [
    {
     "data": {
      "text/plain": [
       "['210W',\n",
       " '16,800Pa',\n",
       " '13,000Pa',\n",
       " None,\n",
       " '22000Pa',\n",
       " '200W',\n",
       " '200W',\n",
       " '10,000Pa',\n",
       " '200W',\n",
       " '210W']"
      ]
     },
     "execution_count": 40,
     "metadata": {},
     "output_type": "execute_result"
    }
   ],
   "source": [
    "suction_list[:10]"
   ]
  },
  {
   "cell_type": "code",
   "execution_count": 41,
   "id": "wooden-insulin",
   "metadata": {},
   "outputs": [],
   "source": [
    "def get_suction(value):\n",
    "    try:\n",
    "        value = value.upper()\n",
    "        if 'AW' in value or 'W' in value:\n",
    "            result = value.replace('W',\"\").replace(\"A\",\"\")\n",
    "            result = int(result.replace(\",\",\"\"))\n",
    "        elif 'PA' in value:\n",
    "            result = value.replace('PA',\"\")\n",
    "            result = int(result.replace(\",\",\"\"))/100\n",
    "        else:\n",
    "            result = None\n",
    "        return result\n",
    "    except Exception  as er:\n",
    "        print(er)\n",
    "        return None"
   ]
  },
  {
   "cell_type": "code",
   "execution_count": 42,
   "id": "knowing-excitement",
   "metadata": {},
   "outputs": [
    {
     "name": "stdout",
     "output_type": "stream",
     "text": [
      "100w = 100\n",
      "10aw = 10\n",
      "12,000pa = 120.0\n"
     ]
    }
   ],
   "source": [
    "suction = ['100w', '10aw', '12,000pa']\n",
    "for power in suction:\n",
    "    value = get_suction(power)\n",
    "    print(power,\"=\", value)"
   ]
  },
  {
   "cell_type": "code",
   "execution_count": 43,
   "id": "optimum-frame",
   "metadata": {},
   "outputs": [
    {
     "name": "stdout",
     "output_type": "stream",
     "text": [
      "'NoneType' object has no attribute 'upper'\n",
      "'NoneType' object has no attribute 'upper'\n",
      "'NoneType' object has no attribute 'upper'\n",
      "'NoneType' object has no attribute 'upper'\n",
      "'NoneType' object has no attribute 'upper'\n",
      "'NoneType' object has no attribute 'upper'\n",
      "'NoneType' object has no attribute 'upper'\n",
      "'NoneType' object has no attribute 'upper'\n",
      "'NoneType' object has no attribute 'upper'\n",
      "'NoneType' object has no attribute 'upper'\n",
      "'NoneType' object has no attribute 'upper'\n",
      "'NoneType' object has no attribute 'upper'\n",
      "'NoneType' object has no attribute 'upper'\n",
      "'NoneType' object has no attribute 'upper'\n",
      "'NoneType' object has no attribute 'upper'\n",
      "'NoneType' object has no attribute 'upper'\n",
      "'NoneType' object has no attribute 'upper'\n",
      "'NoneType' object has no attribute 'upper'\n",
      "'NoneType' object has no attribute 'upper'\n",
      "'NoneType' object has no attribute 'upper'\n",
      "'NoneType' object has no attribute 'upper'\n",
      "'NoneType' object has no attribute 'upper'\n",
      "'NoneType' object has no attribute 'upper'\n",
      "'NoneType' object has no attribute 'upper'\n",
      "'NoneType' object has no attribute 'upper'\n",
      "'NoneType' object has no attribute 'upper'\n",
      "'NoneType' object has no attribute 'upper'\n",
      "'NoneType' object has no attribute 'upper'\n",
      "'NoneType' object has no attribute 'upper'\n",
      "'NoneType' object has no attribute 'upper'\n",
      "'NoneType' object has no attribute 'upper'\n",
      "'NoneType' object has no attribute 'upper'\n",
      "'NoneType' object has no attribute 'upper'\n",
      "'NoneType' object has no attribute 'upper'\n",
      "'NoneType' object has no attribute 'upper'\n",
      "'NoneType' object has no attribute 'upper'\n",
      "'NoneType' object has no attribute 'upper'\n",
      "'NoneType' object has no attribute 'upper'\n",
      "'NoneType' object has no attribute 'upper'\n",
      "'NoneType' object has no attribute 'upper'\n",
      "'NoneType' object has no attribute 'upper'\n",
      "'NoneType' object has no attribute 'upper'\n",
      "'NoneType' object has no attribute 'upper'\n",
      "'NoneType' object has no attribute 'upper'\n",
      "'NoneType' object has no attribute 'upper'\n",
      "'NoneType' object has no attribute 'upper'\n",
      "'NoneType' object has no attribute 'upper'\n",
      "'NoneType' object has no attribute 'upper'\n",
      "'NoneType' object has no attribute 'upper'\n",
      "'NoneType' object has no attribute 'upper'\n",
      "'NoneType' object has no attribute 'upper'\n",
      "'NoneType' object has no attribute 'upper'\n",
      "'NoneType' object has no attribute 'upper'\n",
      "'NoneType' object has no attribute 'upper'\n",
      "'NoneType' object has no attribute 'upper'\n",
      "'NoneType' object has no attribute 'upper'\n",
      "'NoneType' object has no attribute 'upper'\n",
      "'NoneType' object has no attribute 'upper'\n",
      "'NoneType' object has no attribute 'upper'\n",
      "'NoneType' object has no attribute 'upper'\n",
      "'NoneType' object has no attribute 'upper'\n",
      "'NoneType' object has no attribute 'upper'\n",
      "'NoneType' object has no attribute 'upper'\n",
      "'NoneType' object has no attribute 'upper'\n",
      "'NoneType' object has no attribute 'upper'\n",
      "'NoneType' object has no attribute 'upper'\n",
      "'NoneType' object has no attribute 'upper'\n",
      "'NoneType' object has no attribute 'upper'\n",
      "'NoneType' object has no attribute 'upper'\n",
      "'NoneType' object has no attribute 'upper'\n",
      "'NoneType' object has no attribute 'upper'\n",
      "'NoneType' object has no attribute 'upper'\n",
      "'NoneType' object has no attribute 'upper'\n",
      "'NoneType' object has no attribute 'upper'\n",
      "'NoneType' object has no attribute 'upper'\n",
      "'NoneType' object has no attribute 'upper'\n",
      "'NoneType' object has no attribute 'upper'\n",
      "'NoneType' object has no attribute 'upper'\n",
      "'NoneType' object has no attribute 'upper'\n",
      "'NoneType' object has no attribute 'upper'\n",
      "'NoneType' object has no attribute 'upper'\n",
      "'NoneType' object has no attribute 'upper'\n",
      "'NoneType' object has no attribute 'upper'\n",
      "'NoneType' object has no attribute 'upper'\n",
      "'NoneType' object has no attribute 'upper'\n",
      "'NoneType' object has no attribute 'upper'\n",
      "'NoneType' object has no attribute 'upper'\n",
      "'NoneType' object has no attribute 'upper'\n",
      "'NoneType' object has no attribute 'upper'\n",
      "'NoneType' object has no attribute 'upper'\n",
      "'NoneType' object has no attribute 'upper'\n",
      "'NoneType' object has no attribute 'upper'\n",
      "'NoneType' object has no attribute 'upper'\n",
      "'NoneType' object has no attribute 'upper'\n",
      "'NoneType' object has no attribute 'upper'\n",
      "'NoneType' object has no attribute 'upper'\n",
      "'NoneType' object has no attribute 'upper'\n",
      "'NoneType' object has no attribute 'upper'\n",
      "'NoneType' object has no attribute 'upper'\n",
      "'NoneType' object has no attribute 'upper'\n",
      "'NoneType' object has no attribute 'upper'\n",
      "'NoneType' object has no attribute 'upper'\n",
      "'NoneType' object has no attribute 'upper'\n",
      "'NoneType' object has no attribute 'upper'\n",
      "'NoneType' object has no attribute 'upper'\n",
      "'NoneType' object has no attribute 'upper'\n",
      "'NoneType' object has no attribute 'upper'\n",
      "'NoneType' object has no attribute 'upper'\n",
      "'NoneType' object has no attribute 'upper'\n",
      "'NoneType' object has no attribute 'upper'\n",
      "'NoneType' object has no attribute 'upper'\n",
      "'NoneType' object has no attribute 'upper'\n",
      "'NoneType' object has no attribute 'upper'\n",
      "'NoneType' object has no attribute 'upper'\n",
      "'NoneType' object has no attribute 'upper'\n",
      "'NoneType' object has no attribute 'upper'\n",
      "'NoneType' object has no attribute 'upper'\n",
      "'NoneType' object has no attribute 'upper'\n",
      "'NoneType' object has no attribute 'upper'\n",
      "'NoneType' object has no attribute 'upper'\n",
      "'NoneType' object has no attribute 'upper'\n",
      "'NoneType' object has no attribute 'upper'\n",
      "'NoneType' object has no attribute 'upper'\n",
      "'NoneType' object has no attribute 'upper'\n",
      "'NoneType' object has no attribute 'upper'\n",
      "'NoneType' object has no attribute 'upper'\n",
      "'NoneType' object has no attribute 'upper'\n",
      "'NoneType' object has no attribute 'upper'\n",
      "'NoneType' object has no attribute 'upper'\n",
      "'NoneType' object has no attribute 'upper'\n",
      "'NoneType' object has no attribute 'upper'\n",
      "'NoneType' object has no attribute 'upper'\n",
      "'NoneType' object has no attribute 'upper'\n",
      "'NoneType' object has no attribute 'upper'\n",
      "'NoneType' object has no attribute 'upper'\n",
      "'NoneType' object has no attribute 'upper'\n",
      "'NoneType' object has no attribute 'upper'\n",
      "'NoneType' object has no attribute 'upper'\n",
      "'NoneType' object has no attribute 'upper'\n",
      "'NoneType' object has no attribute 'upper'\n",
      "'NoneType' object has no attribute 'upper'\n",
      "'NoneType' object has no attribute 'upper'\n",
      "'NoneType' object has no attribute 'upper'\n",
      "'NoneType' object has no attribute 'upper'\n",
      "'NoneType' object has no attribute 'upper'\n",
      "'NoneType' object has no attribute 'upper'\n",
      "'NoneType' object has no attribute 'upper'\n",
      "'NoneType' object has no attribute 'upper'\n",
      "'NoneType' object has no attribute 'upper'\n",
      "'NoneType' object has no attribute 'upper'\n",
      "'NoneType' object has no attribute 'upper'\n",
      "'NoneType' object has no attribute 'upper'\n",
      "'NoneType' object has no attribute 'upper'\n",
      "400\n",
      "[210, 168.0, 130.0, None, 220.0, 200, 200, 100.0, 200, 210, None, 200.0, 100, None, None, 120.0, 120.0, None, 150.0, None]\n"
     ]
    }
   ],
   "source": [
    "new_suction_list = []\n",
    "for power in suction_list:\n",
    "    value = get_suction(power)\n",
    "    new_suction_list.append(value)\n",
    "    \n",
    "print(len(new_suction_list))\n",
    "print(new_suction_list[:20])"
   ]
  },
  {
   "cell_type": "code",
   "execution_count": 44,
   "id": "manual-pendant",
   "metadata": {},
   "outputs": [
    {
     "name": "stdout",
     "output_type": "stream",
     "text": [
      "400\n",
      "400\n",
      "400\n",
      "400\n",
      "400\n",
      "400\n"
     ]
    }
   ],
   "source": [
    "print(len(company_list))\n",
    "print(len(category_list))\n",
    "print(len(product_list))\n",
    "print(len(price_list)) #가격을 다른 데이터와 같은 인덱스의 값으로 가져온다.\n",
    "print(len(new_use_time_list))\n",
    "print(len(new_suction_list))"
   ]
  },
  {
   "cell_type": "code",
   "execution_count": 45,
   "id": "distributed-strength",
   "metadata": {},
   "outputs": [
    {
     "data": {
      "text/html": [
       "<div>\n",
       "<style scoped>\n",
       "    .dataframe tbody tr th:only-of-type {\n",
       "        vertical-align: middle;\n",
       "    }\n",
       "\n",
       "    .dataframe tbody tr th {\n",
       "        vertical-align: top;\n",
       "    }\n",
       "\n",
       "    .dataframe thead th {\n",
       "        text-align: right;\n",
       "    }\n",
       "</style>\n",
       "<table border=\"1\" class=\"dataframe\">\n",
       "  <thead>\n",
       "    <tr style=\"text-align: right;\">\n",
       "      <th></th>\n",
       "      <th>카테고리</th>\n",
       "      <th>회사명</th>\n",
       "      <th>제품</th>\n",
       "      <th>가격</th>\n",
       "      <th>사용시간</th>\n",
       "      <th>흡입력</th>\n",
       "    </tr>\n",
       "  </thead>\n",
       "  <tbody>\n",
       "    <tr>\n",
       "      <th>14</th>\n",
       "      <td>핸디/스틱청소기</td>\n",
       "      <td>무궁화전자</td>\n",
       "      <td>바로바로 MC-B250</td>\n",
       "      <td>36870</td>\n",
       "      <td>20.0</td>\n",
       "      <td>NaN</td>\n",
       "    </tr>\n",
       "    <tr>\n",
       "      <th>15</th>\n",
       "      <td>차량용청소기</td>\n",
       "      <td>샤오미</td>\n",
       "      <td>SHUNZAO 차량용 무선청소기 2세대 Z1 PRO (해외구매)</td>\n",
       "      <td>42370</td>\n",
       "      <td>30.0</td>\n",
       "      <td>120.0</td>\n",
       "    </tr>\n",
       "    <tr>\n",
       "      <th>16</th>\n",
       "      <td>차량용청소기</td>\n",
       "      <td>카렉스</td>\n",
       "      <td>파워스톰 미니 무선청소기</td>\n",
       "      <td>75490</td>\n",
       "      <td>17.0</td>\n",
       "      <td>120.0</td>\n",
       "    </tr>\n",
       "    <tr>\n",
       "      <th>17</th>\n",
       "      <td>핸디/스틱청소기</td>\n",
       "      <td>샤오미</td>\n",
       "      <td>TROUVER POWER 11</td>\n",
       "      <td>136730</td>\n",
       "      <td>60.0</td>\n",
       "      <td>NaN</td>\n",
       "    </tr>\n",
       "    <tr>\n",
       "      <th>18</th>\n",
       "      <td>차량용청소기</td>\n",
       "      <td>리하스</td>\n",
       "      <td>차량용 미니 무선 청소기 TEB-4120</td>\n",
       "      <td>99000</td>\n",
       "      <td>15.0</td>\n",
       "      <td>150.0</td>\n",
       "    </tr>\n",
       "    <tr>\n",
       "      <th>19</th>\n",
       "      <td>핸디/스틱청소기</td>\n",
       "      <td>일렉트로룩스</td>\n",
       "      <td>ZB3302AK</td>\n",
       "      <td>128780</td>\n",
       "      <td>42.0</td>\n",
       "      <td>NaN</td>\n",
       "    </tr>\n",
       "    <tr>\n",
       "      <th>20</th>\n",
       "      <td>욕실청소기</td>\n",
       "      <td>한샘</td>\n",
       "      <td>트리플 플러스 HSBC-6000W</td>\n",
       "      <td>50310</td>\n",
       "      <td>100.0</td>\n",
       "      <td>NaN</td>\n",
       "    </tr>\n",
       "  </tbody>\n",
       "</table>\n",
       "</div>"
      ],
      "text/plain": [
       "        카테고리     회사명                                   제품      가격   사용시간  \\\n",
       "14  핸디/스틱청소기   무궁화전자                         바로바로 MC-B250   36870   20.0   \n",
       "15    차량용청소기     샤오미  SHUNZAO 차량용 무선청소기 2세대 Z1 PRO (해외구매)   42370   30.0   \n",
       "16    차량용청소기     카렉스                        파워스톰 미니 무선청소기   75490   17.0   \n",
       "17  핸디/스틱청소기     샤오미                     TROUVER POWER 11  136730   60.0   \n",
       "18    차량용청소기     리하스               차량용 미니 무선 청소기 TEB-4120   99000   15.0   \n",
       "19  핸디/스틱청소기  일렉트로룩스                             ZB3302AK  128780   42.0   \n",
       "20     욕실청소기      한샘                   트리플 플러스 HSBC-6000W   50310  100.0   \n",
       "\n",
       "      흡입력  \n",
       "14    NaN  \n",
       "15  120.0  \n",
       "16  120.0  \n",
       "17    NaN  \n",
       "18  150.0  \n",
       "19    NaN  \n",
       "20    NaN  "
      ]
     },
     "execution_count": 45,
     "metadata": {},
     "output_type": "execute_result"
    }
   ],
   "source": [
    "\n",
    "pd_data = pd.DataFrame()\n",
    "pd_data['카테고리'] = category_list\n",
    "pd_data['회사명']=company_list\n",
    "pd_data[\"제품\"]=product_list\n",
    "pd_data['가격']= price_list\n",
    "pd_data['사용시간']=new_use_time_list\n",
    "pd_data['흡입력']=new_suction_list\n",
    "pd_data.iloc[14:21,]"
   ]
  },
  {
   "cell_type": "code",
   "execution_count": 46,
   "id": "cardiovascular-edgar",
   "metadata": {},
   "outputs": [
    {
     "data": {
      "text/plain": [
       "핸디/스틱청소기          295\n",
       "차량용청소기             41\n",
       "물걸레청소기             36\n",
       "침구청소기              11\n",
       "욕실청소기               9\n",
       "업소용청소기              3\n",
       "로봇청소기               3\n",
       "진공청소기               1\n",
       "핸디/스틱청소기+로봇청소기      1\n",
       "Name: 카테고리, dtype: int64"
      ]
     },
     "execution_count": 46,
     "metadata": {},
     "output_type": "execute_result"
    }
   ],
   "source": [
    "pd_data['카테고리'].value_counts()"
   ]
  },
  {
   "cell_type": "code",
   "execution_count": 47,
   "id": "israeli-ownership",
   "metadata": {},
   "outputs": [
    {
     "data": {
      "text/plain": [
       "295"
      ]
     },
     "execution_count": 47,
     "metadata": {},
     "output_type": "execute_result"
    }
   ],
   "source": [
    "pd_data_final = pd_data[pd_data['카테고리'].isin(['핸디/스틱청소기'])]\n",
    "len(pd_data_final)"
   ]
  },
  {
   "cell_type": "code",
   "execution_count": 48,
   "id": "separate-coordinate",
   "metadata": {},
   "outputs": [
    {
     "data": {
      "text/plain": [
       "핸디/스틱청소기    295\n",
       "Name: 카테고리, dtype: int64"
      ]
     },
     "execution_count": 48,
     "metadata": {},
     "output_type": "execute_result"
    }
   ],
   "source": [
    "pd_data_final['카테고리'].value_counts()"
   ]
  },
  {
   "cell_type": "code",
   "execution_count": 49,
   "id": "israeli-greenhouse",
   "metadata": {},
   "outputs": [],
   "source": [
    "pd_data_final.to_excel('data3/danawa_data_final.xlsx', index=False)"
   ]
  },
  {
   "cell_type": "markdown",
   "id": "anonymous-double",
   "metadata": {},
   "source": [
    "## 무선청소기 모델별 비교분석"
   ]
  },
  {
   "cell_type": "code",
   "execution_count": 50,
   "id": "backed-jacksonville",
   "metadata": {},
   "outputs": [
    {
     "name": "stdout",
     "output_type": "stream",
     "text": [
      "<class 'pandas.core.frame.DataFrame'>\n",
      "RangeIndex: 295 entries, 0 to 294\n",
      "Data columns (total 6 columns):\n",
      " #   Column  Non-Null Count  Dtype  \n",
      "---  ------  --------------  -----  \n",
      " 0   카테고리    295 non-null    object \n",
      " 1   회사명     295 non-null    object \n",
      " 2   제품      295 non-null    object \n",
      " 3   가격      295 non-null    int64  \n",
      " 4   사용시간    281 non-null    float64\n",
      " 5   흡입력     177 non-null    float64\n",
      "dtypes: float64(2), int64(1), object(3)\n",
      "memory usage: 14.0+ KB\n"
     ]
    }
   ],
   "source": [
    "# 데이터 살펴보기\n",
    "danawa_data = pd.read_excel('data3/danawa_data_final.xlsx')\n",
    "danawa_data.info()"
   ]
  },
  {
   "cell_type": "code",
   "execution_count": 51,
   "id": "standard-little",
   "metadata": {},
   "outputs": [
    {
     "data": {
      "text/html": [
       "<div>\n",
       "<style scoped>\n",
       "    .dataframe tbody tr th:only-of-type {\n",
       "        vertical-align: middle;\n",
       "    }\n",
       "\n",
       "    .dataframe tbody tr th {\n",
       "        vertical-align: top;\n",
       "    }\n",
       "\n",
       "    .dataframe thead th {\n",
       "        text-align: right;\n",
       "    }\n",
       "</style>\n",
       "<table border=\"1\" class=\"dataframe\">\n",
       "  <thead>\n",
       "    <tr style=\"text-align: right;\">\n",
       "      <th></th>\n",
       "      <th>카테고리</th>\n",
       "      <th>회사명</th>\n",
       "      <th>제품</th>\n",
       "      <th>가격</th>\n",
       "      <th>사용시간</th>\n",
       "      <th>흡입력</th>\n",
       "    </tr>\n",
       "  </thead>\n",
       "  <tbody>\n",
       "    <tr>\n",
       "      <th>290</th>\n",
       "      <td>핸디/스틱청소기</td>\n",
       "      <td>유니맥스</td>\n",
       "      <td>UVC-1686A</td>\n",
       "      <td>31390</td>\n",
       "      <td>NaN</td>\n",
       "      <td>NaN</td>\n",
       "    </tr>\n",
       "    <tr>\n",
       "      <th>291</th>\n",
       "      <td>핸디/스틱청소기</td>\n",
       "      <td>캐치웰</td>\n",
       "      <td>THC-1000</td>\n",
       "      <td>39900</td>\n",
       "      <td>28.0</td>\n",
       "      <td>80.0</td>\n",
       "    </tr>\n",
       "    <tr>\n",
       "      <th>292</th>\n",
       "      <td>핸디/스틱청소기</td>\n",
       "      <td>홈마블</td>\n",
       "      <td>H80BL</td>\n",
       "      <td>79000</td>\n",
       "      <td>45.0</td>\n",
       "      <td>115.0</td>\n",
       "    </tr>\n",
       "    <tr>\n",
       "      <th>293</th>\n",
       "      <td>핸디/스틱청소기</td>\n",
       "      <td>비브르</td>\n",
       "      <td>스톰파워 VE12</td>\n",
       "      <td>119000</td>\n",
       "      <td>40.0</td>\n",
       "      <td>NaN</td>\n",
       "    </tr>\n",
       "    <tr>\n",
       "      <th>294</th>\n",
       "      <td>핸디/스틱청소기</td>\n",
       "      <td>대웅모닝컴</td>\n",
       "      <td>DWM-HV74N</td>\n",
       "      <td>34300</td>\n",
       "      <td>15.0</td>\n",
       "      <td>NaN</td>\n",
       "    </tr>\n",
       "  </tbody>\n",
       "</table>\n",
       "</div>"
      ],
      "text/plain": [
       "         카테고리    회사명         제품      가격  사용시간    흡입력\n",
       "290  핸디/스틱청소기   유니맥스  UVC-1686A   31390   NaN    NaN\n",
       "291  핸디/스틱청소기    캐치웰   THC-1000   39900  28.0   80.0\n",
       "292  핸디/스틱청소기    홈마블      H80BL   79000  45.0  115.0\n",
       "293  핸디/스틱청소기    비브르  스톰파워 VE12  119000  40.0    NaN\n",
       "294  핸디/스틱청소기  대웅모닝컴  DWM-HV74N   34300  15.0    NaN"
      ]
     },
     "execution_count": 51,
     "metadata": {},
     "output_type": "execute_result"
    }
   ],
   "source": [
    "danawa_data.tail()"
   ]
  },
  {
   "cell_type": "code",
   "execution_count": 52,
   "id": "industrial-pathology",
   "metadata": {},
   "outputs": [
    {
     "data": {
      "text/html": [
       "<div>\n",
       "<style scoped>\n",
       "    .dataframe tbody tr th:only-of-type {\n",
       "        vertical-align: middle;\n",
       "    }\n",
       "\n",
       "    .dataframe tbody tr th {\n",
       "        vertical-align: top;\n",
       "    }\n",
       "\n",
       "    .dataframe thead th {\n",
       "        text-align: right;\n",
       "    }\n",
       "</style>\n",
       "<table border=\"1\" class=\"dataframe\">\n",
       "  <thead>\n",
       "    <tr style=\"text-align: right;\">\n",
       "      <th></th>\n",
       "      <th>카테고리</th>\n",
       "      <th>회사명</th>\n",
       "      <th>제품</th>\n",
       "      <th>가격</th>\n",
       "      <th>사용시간</th>\n",
       "      <th>흡입력</th>\n",
       "    </tr>\n",
       "  </thead>\n",
       "  <tbody>\n",
       "    <tr>\n",
       "      <th>127</th>\n",
       "      <td>핸디/스틱청소기</td>\n",
       "      <td>리하스</td>\n",
       "      <td>LH20</td>\n",
       "      <td>299000</td>\n",
       "      <td>120.0</td>\n",
       "      <td>330.0</td>\n",
       "    </tr>\n",
       "    <tr>\n",
       "      <th>247</th>\n",
       "      <td>핸디/스틱청소기</td>\n",
       "      <td>퍼피유</td>\n",
       "      <td>T12R</td>\n",
       "      <td>309590</td>\n",
       "      <td>60.0</td>\n",
       "      <td>290.0</td>\n",
       "    </tr>\n",
       "    <tr>\n",
       "      <th>231</th>\n",
       "      <td>핸디/스틱청소기</td>\n",
       "      <td>캐치웰</td>\n",
       "      <td>NEW F8</td>\n",
       "      <td>199000</td>\n",
       "      <td>25.0</td>\n",
       "      <td>290.0</td>\n",
       "    </tr>\n",
       "    <tr>\n",
       "      <th>120</th>\n",
       "      <td>핸디/스틱청소기</td>\n",
       "      <td>DIBEA</td>\n",
       "      <td>차이슨 ALLNEW29000</td>\n",
       "      <td>249000</td>\n",
       "      <td>48.0</td>\n",
       "      <td>290.0</td>\n",
       "    </tr>\n",
       "    <tr>\n",
       "      <th>17</th>\n",
       "      <td>핸디/스틱청소기</td>\n",
       "      <td>샤오미</td>\n",
       "      <td>드리미 V12</td>\n",
       "      <td>309430</td>\n",
       "      <td>90.0</td>\n",
       "      <td>270.0</td>\n",
       "    </tr>\n",
       "  </tbody>\n",
       "</table>\n",
       "</div>"
      ],
      "text/plain": [
       "         카테고리    회사명               제품      가격   사용시간    흡입력\n",
       "127  핸디/스틱청소기    리하스             LH20  299000  120.0  330.0\n",
       "247  핸디/스틱청소기    퍼피유             T12R  309590   60.0  290.0\n",
       "231  핸디/스틱청소기    캐치웰           NEW F8  199000   25.0  290.0\n",
       "120  핸디/스틱청소기  DIBEA  차이슨 ALLNEW29000  249000   48.0  290.0\n",
       "17   핸디/스틱청소기    샤오미          드리미 V12  309430   90.0  270.0"
      ]
     },
     "execution_count": 52,
     "metadata": {},
     "output_type": "execute_result"
    }
   ],
   "source": [
    "top_list = danawa_data.sort_values(['흡입력'], ascending=False)\n",
    "top_list.head()"
   ]
  },
  {
   "cell_type": "code",
   "execution_count": 53,
   "id": "tamil-vector",
   "metadata": {},
   "outputs": [
    {
     "data": {
      "text/html": [
       "<div>\n",
       "<style scoped>\n",
       "    .dataframe tbody tr th:only-of-type {\n",
       "        vertical-align: middle;\n",
       "    }\n",
       "\n",
       "    .dataframe tbody tr th {\n",
       "        vertical-align: top;\n",
       "    }\n",
       "\n",
       "    .dataframe thead th {\n",
       "        text-align: right;\n",
       "    }\n",
       "</style>\n",
       "<table border=\"1\" class=\"dataframe\">\n",
       "  <thead>\n",
       "    <tr style=\"text-align: right;\">\n",
       "      <th></th>\n",
       "      <th>카테고리</th>\n",
       "      <th>회사명</th>\n",
       "      <th>제품</th>\n",
       "      <th>가격</th>\n",
       "      <th>사용시간</th>\n",
       "      <th>흡입력</th>\n",
       "    </tr>\n",
       "  </thead>\n",
       "  <tbody>\n",
       "    <tr>\n",
       "      <th>127</th>\n",
       "      <td>핸디/스틱청소기</td>\n",
       "      <td>리하스</td>\n",
       "      <td>LH20</td>\n",
       "      <td>299000</td>\n",
       "      <td>120.0</td>\n",
       "      <td>330.0</td>\n",
       "    </tr>\n",
       "    <tr>\n",
       "      <th>119</th>\n",
       "      <td>핸디/스틱청소기</td>\n",
       "      <td>샤오미</td>\n",
       "      <td>드리미 V11</td>\n",
       "      <td>242730</td>\n",
       "      <td>90.0</td>\n",
       "      <td>250.0</td>\n",
       "    </tr>\n",
       "    <tr>\n",
       "      <th>165</th>\n",
       "      <td>핸디/스틱청소기</td>\n",
       "      <td>로보락</td>\n",
       "      <td>H6</td>\n",
       "      <td>439000</td>\n",
       "      <td>90.0</td>\n",
       "      <td>250.0</td>\n",
       "    </tr>\n",
       "    <tr>\n",
       "      <th>17</th>\n",
       "      <td>핸디/스틱청소기</td>\n",
       "      <td>샤오미</td>\n",
       "      <td>드리미 V12</td>\n",
       "      <td>309430</td>\n",
       "      <td>90.0</td>\n",
       "      <td>270.0</td>\n",
       "    </tr>\n",
       "    <tr>\n",
       "      <th>257</th>\n",
       "      <td>핸디/스틱청소기</td>\n",
       "      <td>도노</td>\n",
       "      <td>SY-306</td>\n",
       "      <td>179000</td>\n",
       "      <td>80.0</td>\n",
       "      <td>220.0</td>\n",
       "    </tr>\n",
       "  </tbody>\n",
       "</table>\n",
       "</div>"
      ],
      "text/plain": [
       "         카테고리  회사명       제품      가격   사용시간    흡입력\n",
       "127  핸디/스틱청소기  리하스     LH20  299000  120.0  330.0\n",
       "119  핸디/스틱청소기  샤오미  드리미 V11  242730   90.0  250.0\n",
       "165  핸디/스틱청소기  로보락       H6  439000   90.0  250.0\n",
       "17   핸디/스틱청소기  샤오미  드리미 V12  309430   90.0  270.0\n",
       "257  핸디/스틱청소기   도노   SY-306  179000   80.0  220.0"
      ]
     },
     "execution_count": 53,
     "metadata": {},
     "output_type": "execute_result"
    }
   ],
   "source": [
    "top_list = danawa_data.sort_values(['사용시간'], ascending=False)\n",
    "top_list.head()"
   ]
  },
  {
   "cell_type": "code",
   "execution_count": 54,
   "id": "suburban-cover",
   "metadata": {},
   "outputs": [
    {
     "data": {
      "text/html": [
       "<div>\n",
       "<style scoped>\n",
       "    .dataframe tbody tr th:only-of-type {\n",
       "        vertical-align: middle;\n",
       "    }\n",
       "\n",
       "    .dataframe tbody tr th {\n",
       "        vertical-align: top;\n",
       "    }\n",
       "\n",
       "    .dataframe thead th {\n",
       "        text-align: right;\n",
       "    }\n",
       "</style>\n",
       "<table border=\"1\" class=\"dataframe\">\n",
       "  <thead>\n",
       "    <tr style=\"text-align: right;\">\n",
       "      <th></th>\n",
       "      <th>카테고리</th>\n",
       "      <th>회사명</th>\n",
       "      <th>제품</th>\n",
       "      <th>가격</th>\n",
       "      <th>사용시간</th>\n",
       "      <th>흡입력</th>\n",
       "    </tr>\n",
       "  </thead>\n",
       "  <tbody>\n",
       "    <tr>\n",
       "      <th>127</th>\n",
       "      <td>핸디/스틱청소기</td>\n",
       "      <td>리하스</td>\n",
       "      <td>LH20</td>\n",
       "      <td>299000</td>\n",
       "      <td>120.0</td>\n",
       "      <td>330.0</td>\n",
       "    </tr>\n",
       "    <tr>\n",
       "      <th>17</th>\n",
       "      <td>핸디/스틱청소기</td>\n",
       "      <td>샤오미</td>\n",
       "      <td>드리미 V12</td>\n",
       "      <td>309430</td>\n",
       "      <td>90.0</td>\n",
       "      <td>270.0</td>\n",
       "    </tr>\n",
       "    <tr>\n",
       "      <th>119</th>\n",
       "      <td>핸디/스틱청소기</td>\n",
       "      <td>샤오미</td>\n",
       "      <td>드리미 V11</td>\n",
       "      <td>242730</td>\n",
       "      <td>90.0</td>\n",
       "      <td>250.0</td>\n",
       "    </tr>\n",
       "    <tr>\n",
       "      <th>165</th>\n",
       "      <td>핸디/스틱청소기</td>\n",
       "      <td>로보락</td>\n",
       "      <td>H6</td>\n",
       "      <td>439000</td>\n",
       "      <td>90.0</td>\n",
       "      <td>250.0</td>\n",
       "    </tr>\n",
       "    <tr>\n",
       "      <th>257</th>\n",
       "      <td>핸디/스틱청소기</td>\n",
       "      <td>도노</td>\n",
       "      <td>SY-306</td>\n",
       "      <td>179000</td>\n",
       "      <td>80.0</td>\n",
       "      <td>220.0</td>\n",
       "    </tr>\n",
       "  </tbody>\n",
       "</table>\n",
       "</div>"
      ],
      "text/plain": [
       "         카테고리  회사명       제품      가격   사용시간    흡입력\n",
       "127  핸디/스틱청소기  리하스     LH20  299000  120.0  330.0\n",
       "17   핸디/스틱청소기  샤오미  드리미 V12  309430   90.0  270.0\n",
       "119  핸디/스틱청소기  샤오미  드리미 V11  242730   90.0  250.0\n",
       "165  핸디/스틱청소기  로보락       H6  439000   90.0  250.0\n",
       "257  핸디/스틱청소기   도노   SY-306  179000   80.0  220.0"
      ]
     },
     "execution_count": 54,
     "metadata": {},
     "output_type": "execute_result"
    }
   ],
   "source": [
    "top_list = danawa_data.sort_values(['사용시간','흡입력'], ascending=False)\n",
    "top_list.head()"
   ]
  },
  {
   "cell_type": "code",
   "execution_count": 55,
   "id": "broadband-facing",
   "metadata": {},
   "outputs": [
    {
     "name": "stdout",
     "output_type": "stream",
     "text": [
      "가격 평균값: 381915.0779661017\n",
      "흡입력 평균값: 175.28813559322035\n",
      "사용시간 평균값: 42.754448398576514\n"
     ]
    }
   ],
   "source": [
    "price_mean_value = danawa_data['가격'].mean()\n",
    "suction_mean_value = danawa_data['흡입력'].mean()\n",
    "use_time_mean_value = danawa_data['사용시간'].mean()\n",
    "print(\"가격 평균값:\",price_mean_value)\n",
    "print(\"흡입력 평균값:\",suction_mean_value)\n",
    "print(\"사용시간 평균값:\",use_time_mean_value)"
   ]
  },
  {
   "cell_type": "code",
   "execution_count": 56,
   "id": "located-muscle",
   "metadata": {},
   "outputs": [
    {
     "data": {
      "text/html": [
       "<div>\n",
       "<style scoped>\n",
       "    .dataframe tbody tr th:only-of-type {\n",
       "        vertical-align: middle;\n",
       "    }\n",
       "\n",
       "    .dataframe tbody tr th {\n",
       "        vertical-align: top;\n",
       "    }\n",
       "\n",
       "    .dataframe thead th {\n",
       "        text-align: right;\n",
       "    }\n",
       "</style>\n",
       "<table border=\"1\" class=\"dataframe\">\n",
       "  <thead>\n",
       "    <tr style=\"text-align: right;\">\n",
       "      <th></th>\n",
       "      <th>카테고리</th>\n",
       "      <th>회사명</th>\n",
       "      <th>제품</th>\n",
       "      <th>가격</th>\n",
       "      <th>사용시간</th>\n",
       "      <th>흡입력</th>\n",
       "    </tr>\n",
       "  </thead>\n",
       "  <tbody>\n",
       "    <tr>\n",
       "      <th>2</th>\n",
       "      <td>핸디/스틱청소기</td>\n",
       "      <td>샤오미</td>\n",
       "      <td>드리미 V10</td>\n",
       "      <td>156320</td>\n",
       "      <td>60.0</td>\n",
       "      <td>220.0</td>\n",
       "    </tr>\n",
       "    <tr>\n",
       "      <th>8</th>\n",
       "      <td>핸디/스틱청소기</td>\n",
       "      <td>샤오미</td>\n",
       "      <td>드리미 V9</td>\n",
       "      <td>108760</td>\n",
       "      <td>60.0</td>\n",
       "      <td>200.0</td>\n",
       "    </tr>\n",
       "    <tr>\n",
       "      <th>17</th>\n",
       "      <td>핸디/스틱청소기</td>\n",
       "      <td>샤오미</td>\n",
       "      <td>드리미 V12</td>\n",
       "      <td>309430</td>\n",
       "      <td>90.0</td>\n",
       "      <td>270.0</td>\n",
       "    </tr>\n",
       "    <tr>\n",
       "      <th>30</th>\n",
       "      <td>핸디/스틱청소기</td>\n",
       "      <td>샤오미</td>\n",
       "      <td>로이드미 Z1</td>\n",
       "      <td>268000</td>\n",
       "      <td>60.0</td>\n",
       "      <td>220.0</td>\n",
       "    </tr>\n",
       "    <tr>\n",
       "      <th>39</th>\n",
       "      <td>핸디/스틱청소기</td>\n",
       "      <td>샤오미</td>\n",
       "      <td>드리미 V10 ARES</td>\n",
       "      <td>205760</td>\n",
       "      <td>60.0</td>\n",
       "      <td>220.0</td>\n",
       "    </tr>\n",
       "    <tr>\n",
       "      <th>50</th>\n",
       "      <td>핸디/스틱청소기</td>\n",
       "      <td>샤오미</td>\n",
       "      <td>SHUNZAO Z11</td>\n",
       "      <td>145100</td>\n",
       "      <td>60.0</td>\n",
       "      <td>260.0</td>\n",
       "    </tr>\n",
       "    <tr>\n",
       "      <th>59</th>\n",
       "      <td>핸디/스틱청소기</td>\n",
       "      <td>샤오미</td>\n",
       "      <td>드리미 V10P</td>\n",
       "      <td>224900</td>\n",
       "      <td>60.0</td>\n",
       "      <td>220.0</td>\n",
       "    </tr>\n",
       "    <tr>\n",
       "      <th>60</th>\n",
       "      <td>핸디/스틱청소기</td>\n",
       "      <td>샤오미</td>\n",
       "      <td>SHUNZAO Z11 PRO</td>\n",
       "      <td>232990</td>\n",
       "      <td>60.0</td>\n",
       "      <td>260.0</td>\n",
       "    </tr>\n",
       "    <tr>\n",
       "      <th>82</th>\n",
       "      <td>핸디/스틱청소기</td>\n",
       "      <td>샤오미</td>\n",
       "      <td>로이드미 제로</td>\n",
       "      <td>216380</td>\n",
       "      <td>60.0</td>\n",
       "      <td>220.0</td>\n",
       "    </tr>\n",
       "    <tr>\n",
       "      <th>90</th>\n",
       "      <td>핸디/스틱청소기</td>\n",
       "      <td>원더스리빙</td>\n",
       "      <td>원더스 다이나킹 Z9</td>\n",
       "      <td>299000</td>\n",
       "      <td>65.0</td>\n",
       "      <td>220.0</td>\n",
       "    </tr>\n",
       "  </tbody>\n",
       "</table>\n",
       "</div>"
      ],
      "text/plain": [
       "        카테고리    회사명               제품      가격  사용시간    흡입력\n",
       "2   핸디/스틱청소기    샤오미          드리미 V10  156320  60.0  220.0\n",
       "8   핸디/스틱청소기    샤오미           드리미 V9  108760  60.0  200.0\n",
       "17  핸디/스틱청소기    샤오미          드리미 V12  309430  90.0  270.0\n",
       "30  핸디/스틱청소기    샤오미          로이드미 Z1  268000  60.0  220.0\n",
       "39  핸디/스틱청소기    샤오미     드리미 V10 ARES  205760  60.0  220.0\n",
       "50  핸디/스틱청소기    샤오미      SHUNZAO Z11  145100  60.0  260.0\n",
       "59  핸디/스틱청소기    샤오미         드리미 V10P  224900  60.0  220.0\n",
       "60  핸디/스틱청소기    샤오미  SHUNZAO Z11 PRO  232990  60.0  260.0\n",
       "82  핸디/스틱청소기    샤오미          로이드미 제로  216380  60.0  220.0\n",
       "90  핸디/스틱청소기  원더스리빙      원더스 다이나킹 Z9  299000  65.0  220.0"
      ]
     },
     "execution_count": 56,
     "metadata": {},
     "output_type": "execute_result"
    }
   ],
   "source": [
    "#가성비 좋은 제품 탐색\n",
    "condition_data = danawa_data[\n",
    "    (danawa_data['가격'] <= price_mean_value) &\n",
    "    (danawa_data['흡입력'] >= suction_mean_value) &\n",
    "    (danawa_data['사용시간'] >= use_time_mean_value)]\n",
    "\n",
    "condition_data.head(10)"
   ]
  },
  {
   "cell_type": "code",
   "execution_count": 57,
   "id": "entitled-power",
   "metadata": {},
   "outputs": [
    {
     "data": {
      "text/plain": [
       "173"
      ]
     },
     "execution_count": 57,
     "metadata": {},
     "output_type": "execute_result"
    }
   ],
   "source": [
    "#데이터 시각화\n",
    "#결측값제거\n",
    "\n",
    "chart_data = danawa_data.dropna(axis=0)\n",
    "len(chart_data)\n"
   ]
  },
  {
   "cell_type": "code",
   "execution_count": 58,
   "id": "arctic-scheduling",
   "metadata": {},
   "outputs": [],
   "source": [
    "# 흡입력, 사용시간 최대, 최소\n",
    "suction_max_value = chart_data['흡입력'].max()\n",
    "suction_mean_value = chart_data['흡입력'].mean()\n",
    "use_time_max_value = chart_data['사용시간'].max()\n",
    "use_time_mean_value = chart_data['사용시간'].mean()"
   ]
  },
  {
   "cell_type": "code",
   "execution_count": 59,
   "id": "bearing-flash",
   "metadata": {},
   "outputs": [],
   "source": [
    "#라이브러리 임포트 및 한글 글꼴 설정\n",
    "from matplotlib import font_manager, rc\n",
    "import matplotlib.pyplot as plt\n",
    "import seaborn as sns\n",
    "import platform \n",
    "# 그래프에서 한글 표기를 위한 글꼴 변경(윈도우, macOS에 대해 처리)\n",
    "font_path = ''\n",
    "if platform.system() == 'Windows': \n",
    "    font_path = 'c:/Windows/Fonts/malgun.ttf'\n",
    "    font_name = font_manager.FontProperties(fname = font_path).get_name()\n",
    "    rc('font', family = font_name)\n",
    "elif platform.system() == 'Darwin':\n",
    "    font_path = '/Users/$USER/Library/Fonts/AppleGothic.ttf'\n",
    "    rc('font', family = 'AppleGothic')\n",
    "else: \n",
    "    print('Check your OS system')\n",
    "    "
   ]
  },
  {
   "cell_type": "code",
   "execution_count": 60,
   "id": "sudden-motivation",
   "metadata": {},
   "outputs": [
    {
     "data": {
      "image/png": "[encoded data removed]",
      "text/plain": [
       "<Figure size 1440x720 with 1 Axes>"
      ]
     },
     "metadata": {
      "needs_background": "light"
     },
     "output_type": "display_data"
    }
   ],
   "source": [
    "#청소기 성능 시각화\n",
    "plt.figure(figsize=(20, 10))\n",
    "plt.title(\"무선 핸디/스틱청소기 차트\")\n",
    "sns.scatterplot(x='흡입력', y='사용시간', size='가격', hue=chart_data['회사명'],data = chart_data, sizes=(10,1000),legend=False)\n",
    "plt.plot([0, suction_max_value], \n",
    "          [use_time_mean_value, use_time_mean_value], \n",
    "          'r--', \n",
    "          lw = 1 ) #사용시간평균선\n",
    "plt.plot([suction_mean_value, suction_mean_value], \n",
    "          [0, use_time_max_value], \n",
    "          'r--', \n",
    "          lw = 1 ) #흡입력 평균선\n",
    "plt.show()"
   ]
  },
  {
   "cell_type": "code",
   "execution_count": 61,
   "id": "seventh-retail",
   "metadata": {},
   "outputs": [
    {
     "data": {
      "text/plain": [
       "20"
      ]
     },
     "execution_count": 61,
     "metadata": {},
     "output_type": "execute_result"
    }
   ],
   "source": [
    "chart_data_selected = chart_data[:20]\n",
    "len(chart_data_selected)"
   ]
  },
  {
   "cell_type": "code",
   "execution_count": 62,
   "id": "choice-habitat",
   "metadata": {},
   "outputs": [
    {
     "name": "stdout",
     "output_type": "stream",
     "text": [
      "흡입력 max 270.0\n",
      "흡입력 mean 194.8\n",
      "사용시간 max 90.0\n",
      "사용시간 mean 59.5\n"
     ]
    }
   ],
   "source": [
    "# 흡입력, 사용시간의 최댓값, 최솟값 구하기\n",
    "suction_max_value = chart_data_selected['흡입력'].max()\n",
    "suction_mean_value = chart_data_selected['흡입력'].mean()\n",
    "use_time_max_value = chart_data_selected['사용시간'].max()\n",
    "use_time_mean_value = chart_data_selected['사용시간'].mean()\n",
    "print(\"흡입력 max\",suction_max_value)\n",
    "print(\"흡입력 mean\",suction_mean_value)\n",
    "print(\"사용시간 max\",use_time_max_value)\n",
    "print(\"사용시간 mean\",use_time_mean_value)"
   ]
  },
  {
   "cell_type": "code",
   "execution_count": 63,
   "id": "understood-breast",
   "metadata": {},
   "outputs": [
    {
     "data": {
      "image/png": "[encoded data removed]",
      "text/plain": [
       "<Figure size 1440x720 with 1 Axes>"
      ]
     },
     "metadata": {
      "needs_background": "light"
     },
     "output_type": "display_data"
    }
   ],
   "source": [
    "plt.figure(figsize=(20, 10))\n",
    "plt.title(\"무선 핸디/스틱청소기 TOP 20\")\n",
    "sns.scatterplot(x = '흡입력', \n",
    "                  y = '사용시간', \n",
    "                  size = '가격', \n",
    "                  hue = chart_data_selected['회사명'], \n",
    "                  data = chart_data_selected, sizes = (10, 1000))\n",
    "plt.plot([60, suction_max_value], \n",
    "          [use_time_mean_value, use_time_mean_value], \n",
    "          'r--', \n",
    "          lw = 1 )\n",
    "plt.plot([suction_mean_value, suction_mean_value], \n",
    "          [20, use_time_max_value], \n",
    "          'r--', \n",
    "          lw = 1 )\n",
    "for index, row in chart_data_selected.iterrows():\n",
    "    x = row['흡입력']\n",
    "    y = row['사용시간']\n",
    "    s = row['제품'].split(' ')[0]\n",
    "    plt.text(x, y, s)\n",
    "plt.show()"
   ]
  },
  {
   "cell_type": "code",
   "execution_count": null,
   "id": "adolescent-logging",
   "metadata": {},
   "outputs": [],
   "source": []
  }
 ],
 "metadata": {
  "kernelspec": {
   "display_name": "pydata",
   "language": "python",
   "name": "pydata"
  },
  "language_info": {
   "codemirror_mode": {
    "name": "ipython",
    "version": 3
   },
   "file_extension": ".py",
   "mimetype": "text/x-python",
   "name": "python",
   "nbconvert_exporter": "python",
   "pygments_lexer": "ipython3",
   "version": "3.7.10"
  }
 },
 "nbformat": 4,
 "nbformat_minor": 5
}
