{
 "cells": [
  {
   "cell_type": "code",
   "execution_count": 1,
   "id": "3f9ee97f",
   "metadata": {},
   "outputs": [],
   "source": [
    "# SGDClassifier\n",
    "# 확률적 경사 하강법을 사용한 분류 모델을 만들어본다.\n",
    "# fish_csv_data 파일에서 판단스 데이터 프레임을 만든다.\n",
    "\n",
    "import pandas as pd\n",
    " \n",
    "fish = pd.read_csv('data/fish.csv')"
   ]
  },
  {
   "cell_type": "code",
   "execution_count": 2,
   "id": "796e58c1",
   "metadata": {},
   "outputs": [],
   "source": [
    "# 입력데이터와 타깃데이터 생성\n",
    "fish_input = fish[['Weight','Length','Diagonal','Height','Width']].to_numpy()\n",
    "fish_target = fish['Species'].to_numpy()"
   ]
  },
  {
   "cell_type": "code",
   "execution_count": 3,
   "id": "29f0f19d",
   "metadata": {},
   "outputs": [],
   "source": [
    "# 훈련세트와 테스트 세트로 나눈다\n",
    "from sklearn.model_selection import train_test_split\n",
    " \n",
    "train_input, test_input, train_target, test_target = train_test_split(\n",
    "    fish_input, fish_target, random_state=42\n",
    ")"
   ]
  },
  {
   "cell_type": "code",
   "execution_count": 4,
   "id": "c822f2a6",
   "metadata": {},
   "outputs": [],
   "source": [
    "# 훈련세트와 테스트 세트의 특성을 표준화 처리한다.\n",
    "# 훈련세트에서 학습한 통계값으로 테스트 세트도 변환한다.\n",
    " \n",
    "from sklearn.preprocessing import StandardScaler\n",
    " \n",
    "ss = StandardScaler()\n",
    "ss.fit(train_input)\n",
    "train_scaled = ss.transform(train_input)\n",
    "test_scaled = ss.transform(test_input)"
   ]
  },
  {
   "cell_type": "code",
   "execution_count": 17,
   "id": "ed84f4ee",
   "metadata": {},
   "outputs": [
    {
     "data": {
      "text/plain": [
       "SGDClassifier(loss='log', max_iter=100, random_state=42)"
      ]
     },
     "execution_count": 17,
     "metadata": {},
     "output_type": "execute_result"
    }
   ],
   "source": [
    "# GDClassifier 클래스로 확률적 경사 하강법 사용한다.\n",
    "# 객체생성시 매개변수 2개 지정한다. loss는 손실함수의 종류를 지정한다.\n",
    "# 로지스틱 손실함수 지정한다.\n",
    "# max_iter는 수행할 에포크 회수를 지정한다. 10으로 지정하면 전체 훈련세트를 10회 반복\n",
    "from sklearn.linear_model import SGDClassifier\n",
    "\n",
    "sc = SGDClassifier(loss='log', max_iter=100, random_state=42)\n",
    "sc.fit(train_scaled, train_target)"
   ]
  },
  {
   "cell_type": "code",
   "execution_count": 18,
   "id": "64691aad",
   "metadata": {},
   "outputs": [
    {
     "name": "stdout",
     "output_type": "stream",
     "text": [
      "0.8403361344537815\n",
      "0.8\n"
     ]
    }
   ],
   "source": [
    "print(sc.score(train_scaled, train_target))\n",
    "print(sc.score(test_scaled, test_target))"
   ]
  },
  {
   "cell_type": "markdown",
   "id": "c31ac716",
   "metadata": {},
   "source": [
    "### 에포크와 과대/과소적합"
   ]
  },
  {
   "cell_type": "code",
   "execution_count": 19,
   "id": "2aada1d0",
   "metadata": {},
   "outputs": [],
   "source": [
    "# 확률적 경사 하강법을 사용한 모델은 에포크 회수에 따라 과소적합이나 \n",
    "# 과대적합이 될 수 있다.\n",
    "\n",
    "# 적은 에포크 횟수는 과소적합될 수 있다. 많은 에포크 횟수는 과대적합될 수있다.\n",
    "import numpy as np\n",
    " \n",
    "sc = SGDClassifier(loss='log', random_state=42) # 1000회 기본값\n",
    " \n",
    "train_score = []\n",
    "test_score = []\n",
    " \n",
    "classes = np.unique(train_target)"
   ]
  },
  {
   "cell_type": "code",
   "execution_count": 20,
   "id": "340a7451",
   "metadata": {},
   "outputs": [],
   "source": [
    "for _ in range(0, 300):\n",
    "    sc.partial_fit(train_scaled, train_target, classes=classes)\n",
    "    \n",
    "    train_score.append(sc.score(train_scaled, train_target))\n",
    "    test_score.append(sc.score(test_scaled, test_target))"
   ]
  },
  {
   "cell_type": "code",
   "execution_count": 21,
   "id": "fe10903b",
   "metadata": {},
   "outputs": [
    {
     "data": {
      "image/png": "[encoded data removed]",
      "text/plain": [
       "<Figure size 432x288 with 1 Axes>"
      ]
     },
     "metadata": {
      "needs_background": "light"
     },
     "output_type": "display_data"
    }
   ],
   "source": [
    "# 300번 에포크 동안 기록한 훈련세트와 테스트세트의 점수를 그래프로 그린다.\n",
    "import matplotlib.pyplot as plt\n",
    " \n",
    "plt.plot(train_score, label='train')\n",
    "plt.plot(test_score, label='test')\n",
    "plt.legend()\n",
    "plt.xlabel('epoch')\n",
    "plt.ylabel('accuracy')\n",
    "plt.show()"
   ]
  },
  {
   "cell_type": "code",
   "execution_count": 22,
   "id": "68cc4d17",
   "metadata": {},
   "outputs": [
    {
     "name": "stdout",
     "output_type": "stream",
     "text": [
      "0.957983193277311\n",
      "0.925\n"
     ]
    }
   ],
   "source": [
    "sc = SGDClassifier(loss='log', max_iter=100, tol=None, random_state=42)\n",
    "sc.fit(train_scaled, train_target)\n",
    " \n",
    "print(sc.score(train_scaled, train_target))\n",
    "print(sc.score(test_scaled, test_target))"
   ]
  },
  {
   "cell_type": "code",
   "execution_count": null,
   "id": "a1f89483",
   "metadata": {},
   "outputs": [],
   "source": []
  }
 ],
 "metadata": {
  "kernelspec": {
   "display_name": "pydata",
   "language": "python",
   "name": "pydata"
  },
  "language_info": {
   "codemirror_mode": {
    "name": "ipython",
    "version": 3
   },
   "file_extension": ".py",
   "mimetype": "text/x-python",
   "name": "python",
   "nbconvert_exporter": "python",
   "pygments_lexer": "ipython3",
   "version": "3.7.10"
  }
 },
 "nbformat": 4,
 "nbformat_minor": 5
}
