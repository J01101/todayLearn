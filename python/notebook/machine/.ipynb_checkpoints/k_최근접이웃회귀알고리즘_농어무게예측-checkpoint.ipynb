{
 "cells": [
  {
   "cell_type": "code",
   "execution_count": 1,
   "id": "afb4dfc8",
   "metadata": {},
   "outputs": [],
   "source": [
    "# 지도학습 알고리즘은 크게 분류와 회귀(regression)으로 나뉜다\n",
    "\n",
    "# 회귀는 클래스 중 하나로 분류하는 것이 아니라 임의의 어떤 숫자를 예측하는 문제이다.\n",
    "\n",
    "# k-최근접 이웃 회귀 알고리즘\n",
    "#   - 분류와 똑같이 예측하려는 샘플에 가장 가까운 샘플 k개를 선택한다.\n",
    "#   - 회귀는 이웃한 샘플의 타깃은 어떤 클래스가 아니라 임의의 수치이다.\n",
    "#   - 이웃 샘플의 수치들의 평균을 구해서 예측 타깃값을 얻는다."
   ]
  },
  {
   "cell_type": "code",
   "execution_count": 2,
   "id": "3d00e2a6",
   "metadata": {},
   "outputs": [],
   "source": [
    "# 농어 56마리의 정보\n",
    "import numpy as np\n",
    "perch_length = np.array(\n",
    "    [8.4, 13.7, 15.0, 16.2, 17.4, 18.0, 18.7, 19.0, 19.6, 20.0, \n",
    "     21.0, 21.0, 21.0, 21.3, 22.0, 22.0, 22.0, 22.0, 22.0, 22.5, \n",
    "     22.5, 22.7, 23.0, 23.5, 24.0, 24.0, 24.6, 25.0, 25.6, 26.5, \n",
    "     27.3, 27.5, 27.5, 27.5, 28.0, 28.7, 30.0, 32.8, 34.5, 35.0, \n",
    "     36.5, 36.0, 37.0, 37.0, 39.0, 39.0, 39.0, 40.0, 40.0, 40.0, \n",
    "     40.0, 42.0, 43.0, 43.0, 43.5, 44.0]\n",
    "     )\n",
    "perch_weight = np.array(\n",
    "    [5.9, 32.0, 40.0, 51.5, 70.0, 100.0, 78.0, 80.0, 85.0, 85.0, \n",
    "     110.0, 115.0, 125.0, 130.0, 120.0, 120.0, 130.0, 135.0, 110.0, \n",
    "     130.0, 150.0, 145.0, 150.0, 170.0, 225.0, 145.0, 188.0, 180.0, \n",
    "     197.0, 218.0, 300.0, 260.0, 265.0, 250.0, 250.0, 300.0, 320.0, \n",
    "     514.0, 556.0, 840.0, 685.0, 700.0, 700.0, 690.0, 900.0, 650.0, \n",
    "     820.0, 850.0, 900.0, 1015.0, 820.0, 1100.0, 1000.0, 1100.0, \n",
    "     1000.0, 1000.0]\n",
    "     )"
   ]
  },
  {
   "cell_type": "code",
   "execution_count": 3,
   "id": "c4e9fbb0",
   "metadata": {},
   "outputs": [
    {
     "data": {
      "image/png": "[encoded data removed]",
      "text/plain": [
       "<Figure size 432x288 with 1 Axes>"
      ]
     },
     "metadata": {
      "needs_background": "light"
     },
     "output_type": "display_data"
    }
   ],
   "source": [
    "import matplotlib.pyplot as plt\n",
    "\n",
    "# 농어의 길이가 커짐에 따라 무게도 늘어난다.\n",
    "plt.scatter(perch_length, perch_weight)\n",
    "plt.xlabel('length')\n",
    "plt.ylabel('weight')\n",
    "plt.show()"
   ]
  },
  {
   "cell_type": "code",
   "execution_count": 4,
   "id": "cca90030",
   "metadata": {},
   "outputs": [
    {
     "name": "stdout",
     "output_type": "stream",
     "text": [
      "(4,)\n"
     ]
    }
   ],
   "source": [
    "test_array = np.array([1,2,3,4])\n",
    "print(test_array.shape)"
   ]
  },
  {
   "cell_type": "code",
   "execution_count": 5,
   "id": "783e0ca2",
   "metadata": {},
   "outputs": [
    {
     "name": "stdout",
     "output_type": "stream",
     "text": [
      "[[1 2]\n",
      " [3 4]]\n",
      "(2, 2)\n"
     ]
    }
   ],
   "source": [
    "# 배열 정리\n",
    "test_array = test_array.reshape(2, 2)\n",
    "print(test_array)\n",
    "print(test_array.shape)"
   ]
  },
  {
   "cell_type": "code",
   "execution_count": 6,
   "id": "6af7b582",
   "metadata": {},
   "outputs": [],
   "source": [
    "from sklearn.model_selection import train_test_split\n",
    "\n",
    "train_input, test_input, train_target, test_target = train_test_split(\n",
    "    perch_length, perch_weight, random_state = 42\n",
    ")"
   ]
  },
  {
   "cell_type": "code",
   "execution_count": 7,
   "id": "4f578693",
   "metadata": {},
   "outputs": [
    {
     "name": "stdout",
     "output_type": "stream",
     "text": [
      "(42,) (14,)\n"
     ]
    }
   ],
   "source": [
    "print(train_input.shape, test_input.shape)"
   ]
  },
  {
   "cell_type": "code",
   "execution_count": 8,
   "id": "6de9c92c",
   "metadata": {},
   "outputs": [
    {
     "name": "stdout",
     "output_type": "stream",
     "text": [
      "(42, 1) (14, 1)\n"
     ]
    }
   ],
   "source": [
    "train_input = train_input.reshape(-1, 1)\n",
    "test_input = test_input.reshape(-1, 1)\n",
    " \n",
    "print(train_input.shape, test_input.shape)"
   ]
  },
  {
   "cell_type": "markdown",
   "id": "7b1876a2",
   "metadata": {},
   "source": [
    "### 머신러닝 모델 만들기"
   ]
  },
  {
   "cell_type": "code",
   "execution_count": 9,
   "id": "308e7107",
   "metadata": {},
   "outputs": [
    {
     "data": {
      "text/plain": [
       "0.992809406101064"
      ]
     },
     "execution_count": 9,
     "metadata": {},
     "output_type": "execute_result"
    }
   ],
   "source": [
    "# KNeighborsRegressor 클래스로 k-최근접 이웃 회귀 알고리즘을 구현한다.\n",
    "# fit()으로 훈련하고 socre()로 모델을 테스트 해서 점수를 확인한다.\n",
    "from sklearn.neighbors import KNeighborsRegressor\n",
    "\n",
    "knr = KNeighborsRegressor()\n",
    "\n",
    "# k-최근접 이웃 회귀 모델을 훈련합니다\n",
    "knr.fit(train_input, train_target)\n",
    "knr.score(test_input, test_target)"
   ]
  },
  {
   "cell_type": "code",
   "execution_count": 11,
   "id": "68f5b493",
   "metadata": {},
   "outputs": [
    {
     "name": "stdout",
     "output_type": "stream",
     "text": [
      "19.157142857142862\n"
     ]
    }
   ],
   "source": [
    "# 분류에서 정확도는 정답을 맞힌 개수의 비율이다. \n",
    "# 회귀에서 정확한 숫자를 맞힌다는 것이 불가능하기 때문에 평가하는 방법이 조금 다르다\n",
    "# 회귀는 결정계수(confficient of determinatioin)라는 걸로 평가한다. \n",
    "# R2라고 부르기도 한다.\n",
    "\n",
    "from sklearn.metrics import mean_absolute_error\n",
    "\n",
    "# 테스트 세트에 대한 예측\n",
    "test_prediction = knr.predict(test_input)\n",
    "# 테스트 세트에 대한 평균 절댓값 오차 계산\n",
    "mae = mean_absolute_error(test_target, test_prediction)\n",
    "\n",
    "print(mae) # 19g 정도 타깃값과 다르다는것을 나타냄"
   ]
  },
  {
   "cell_type": "markdown",
   "id": "dc0576fd",
   "metadata": {},
   "source": [
    "### 과대적합과 과소적합"
   ]
  },
  {
   "cell_type": "code",
   "execution_count": null,
   "id": "7720222b",
   "metadata": {},
   "outputs": [],
   "source": [
    "'''\n",
    "(1) 과대적합\n",
    "- 모델을 훈련세트에 훈련하면 훈련세트에 잘 맞는 모델이 만들어진다.\n",
    "- 이 모델을 훈련세트와 테스트 세트에서 평가하면 훈련 세트에서 모델을 훈련했기\n",
    "  때문에 훈련세트의 점수가 조금 높게 나온다.\n",
    "- 훈련세트에서 평가 점수가 굉장히 높았는데 테스트 세트에서는 점수가 굉장히\n",
    "  나쁘다면 모델이 훈련세트에 과대 적합(Overfiting) 되었다고 할 수 있다.\n",
    "- 훈련세트에 잘 맞는 모델이라 테스트 세트나 나중에 실저에 투입하여 새로운 샘플\n",
    "  에 대한 예측을 만들때 잘 동작하지 않는다\n",
    "\n",
    "(2) 과소 적합\n",
    "- 훈련세트보다 테스트 세트의 점수가 높거나 두 점수가 모두 너무 낮은 경우는 모델이\n",
    "  훈련세트에 과소 적합(underfiting)되었다고 한다.\n",
    "- 모델이 너무 단순하여 훈련세트에 적절히 훈련되지 않은 경우 이다.\n",
    "- 훈련세트가 전체 데이터를 대표한다고 가정하기 때문에 훈련세트를 잘 학습하는\n",
    "  것이 중요한다.\n",
    "- 훈련세트와 테스트 세트의 크기가 매우 작을때도 과소적합이 일어난다.\n",
    "- 농어 무게를 예측하는 모델을 평가한 모델은 훈편세트 보다 테스트 세트의 점수가\n",
    "  높아 과소적합한다. \n",
    "'''"
   ]
  },
  {
   "cell_type": "code",
   "execution_count": 12,
   "id": "3576c41a",
   "metadata": {},
   "outputs": [
    {
     "data": {
      "text/plain": [
       "0.992809406101064"
      ]
     },
     "execution_count": 12,
     "metadata": {},
     "output_type": "execute_result"
    }
   ],
   "source": [
    "# 테스트 세트 점수\n",
    "knr.score(test_input, test_target)"
   ]
  },
  {
   "cell_type": "code",
   "execution_count": 13,
   "id": "01a4db92",
   "metadata": {},
   "outputs": [
    {
     "data": {
      "text/plain": [
       "0.9698823289099254"
      ]
     },
     "execution_count": 13,
     "metadata": {},
     "output_type": "execute_result"
    }
   ],
   "source": [
    "# 훈련 세트 점수\n",
    "knr.score(train_input, train_target)"
   ]
  },
  {
   "cell_type": "code",
   "execution_count": 17,
   "id": "91e8d2b9",
   "metadata": {},
   "outputs": [
    {
     "data": {
      "text/plain": [
       "0.9804899950518966"
      ]
     },
     "execution_count": 17,
     "metadata": {},
     "output_type": "execute_result"
    }
   ],
   "source": [
    "# 이웃의 개수를 줄이면 훈련세트에 있는 국지적인 패턴에 민감해지고, 이웃 개수를 \n",
    "# 늘리면 데이터 전반에 있는 일반적인 패턴을 따르게 된다. 이웃의 개수를 5에서\n",
    "# 3으로 낮춘다.\n",
    "\n",
    "# 이웃의 갯수를 3으로 설정합니다\n",
    "knr.n_neighbors = 3\n",
    "\n",
    "# 모델을 다시 훈련합니다\n",
    "knr.fit(train_input, train_target)\n",
    "knr.score(train_input, train_target)"
   ]
  },
  {
   "cell_type": "code",
   "execution_count": 16,
   "id": "4241cc77",
   "metadata": {},
   "outputs": [
    {
     "data": {
      "text/plain": [
       "0.9746459963987609"
      ]
     },
     "execution_count": 16,
     "metadata": {},
     "output_type": "execute_result"
    }
   ],
   "source": [
    "knr.score(test_input, test_target)"
   ]
  },
  {
   "cell_type": "code",
   "execution_count": null,
   "id": "5d4e21c7",
   "metadata": {},
   "outputs": [],
   "source": []
  }
 ],
 "metadata": {
  "kernelspec": {
   "display_name": "pydata",
   "language": "python",
   "name": "pydata"
  },
  "language_info": {
   "codemirror_mode": {
    "name": "ipython",
    "version": 3
   },
   "file_extension": ".py",
   "mimetype": "text/x-python",
   "name": "python",
   "nbconvert_exporter": "python",
   "pygments_lexer": "ipython3",
   "version": "3.7.10"
  }
 },
 "nbformat": 4,
 "nbformat_minor": 5
}
