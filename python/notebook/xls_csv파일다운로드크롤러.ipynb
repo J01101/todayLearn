{
 "cells": [
  {
   "cell_type": "code",
   "execution_count": 1,
   "metadata": {},
   "outputs": [
    {
     "name": "stdout",
     "output_type": "stream",
     "text": [
      "====================================================================================================\n",
      " 예제: 파일 다운로드용 크롤러 만들기 - xls 와 csv 형식 다운로드\n",
      "====================================================================================================\n"
     ]
    }
   ],
   "source": [
    "#예제 :파일 다운로드용 크롤러 만들기 - xls 와 csv 형식 다운로드\n",
    "print(\"=\" *100)\n",
    "print(\" 예제: 파일 다운로드용 크롤러 만들기 - xls 와 csv 형식 다운로드\")\n",
    "print(\"=\" *100)"
   ]
  },
  {
   "cell_type": "code",
   "execution_count": 2,
   "metadata": {},
   "outputs": [],
   "source": [
    "from bs4 import BeautifulSoup\n",
    "from selenium import webdriver\n",
    "import time\n",
    "import os"
   ]
  },
  {
   "cell_type": "code",
   "execution_count": 4,
   "metadata": {},
   "outputs": [
    {
     "name": "stdout",
     "output_type": "stream",
     "text": [
      "1. 파일 다운로드 할 웹 페이지 주소를 입력하세요\n",
      "(기본 : http://data.krx.co.kr/contents/MDC/MDI/mdiLoader/index.cmd?menuId=MDC0201020301) : http://data.krx.co.kr/contents/MDC/MDI/mdiLoader/index.cmd?menuId=MDC0201020301\n",
      "2. 파일이 저장될 경로를 작성해주세요\n",
      "(예 : D:\\SJY\\python\\notebook\\data\\xls_csv\\) : D:\\SJY\\python\\notebook\\data\\xls_csv\\\n",
      "입력하신 경로가 존재하여 D:\\SJY\\python\\notebook\\data\\xls_csv\\ 폴더에 저장합니다.\n",
      "1. 전체      2. KOSPI     3. KOSDAQ     4. KONEX     \n",
      "3. 위 번호 중 조회할 시장의 번호를 입력하세요.2\n",
      "1. xlsx 형식으로 저장하기     2.csv 형식으로 저장하기     \n",
      "4. 위 번호 중 저장할 파일 형식의 번호를 선택하세요 : 1\n",
      "\n",
      "\n",
      "요청하신 데이터를 수집 중이오니 잠시만 기다려주십시오.\n"
     ]
    }
   ],
   "source": [
    "url_addr = input('1. 파일 다운로드 할 웹 페이지 주소를 입력하세요\\n(기본 : http://data.krx.co.kr/contents/MDC/MDI/mdiLoader/index.cmd?menuId=MDC0201020301) : ')\n",
    "f_dir = input('2. 파일이 저장될 경로를 작성해주세요\\n(예 : D:\\\\SJY\\\\python\\\\notebook\\\\data\\\\xls_csv\\\\) : ')\n",
    "\n",
    "if os.path.isdir(f_dir):\n",
    "    print('입력하신 경로가 존재하여 {} 폴더에 저장합니다.'.format(f_dir))\n",
    "else:\n",
    "    os.makedirs(f_dir)\n",
    "    print('입력하신 경로가 존재하지 않아 {} 폴더에 저장합니다.'.format(f_dir))\n",
    "    \n",
    "choice = input('1. 전체      2. KOSPI     3. KOSDAQ     4. KONEX     \\n3. 위 번호 중 조회할 시장의 번호를 입력하세요.')\n",
    "f_choice = input('1. xlsx 형식으로 저장하기     2.csv 형식으로 저장하기     \\n4. 위 번호 중 저장할 파일 형식의 번호를 선택하세요 : ')\n",
    "\n",
    "print(\"\\n\")\n",
    "print(\"요청하신 데이터를 수집 중이오니 잠시만 기다려주십시오.\")"
   ]
  },
  {
   "cell_type": "code",
   "execution_count": 5,
   "metadata": {},
   "outputs": [],
   "source": [
    "s_time = time.time( )\n",
    " \n",
    "options = webdriver.ChromeOptions()\n",
    " \n",
    "path = \"D:/SJY/python/datadown/chromedriver.exe\"\n",
    "driver = webdriver.Chrome(path,options=options)\n",
    "\n",
    "#다운로드 될 파일의 저장폴더지정,\n",
    "##propmt 창이 뜨지 않는다.\n",
    "#pdf형식이 다운로드되면 브라우저에서 보이지 않고 무조건 다운로드된다.\n",
    "options.add_experimental_option(\"prefs\", {\n",
    "      \"download.default_directory\": f_dir,\n",
    "      \"download.prompt_for_download\": False,\n",
    "      \"plugins.always_open_pdf_externally\": True \n",
    "})\n",
    " \n",
    "#크롬 드라이버는 악의적인 행동을 예방하기 위해 소프트웨어가 컴퓨터에서 파일을 다운로드 하지 못하도록 한다.\n",
    "#이를 해결하기 위해 크롬 커맨드라인에 다운로드를 허용하는 명령을 추가해야 한다.(\n",
    " \n",
    "driver.command_executor._commands[\"send_command\"] = (\"POST\", '/session/$sessionId/chromium/send_command')\n",
    "params = {'cmd': 'Page.setDownloadBehavior', 'params': {'behavior': 'allow', 'downloadPath': f_dir}}\n",
    "command_result = driver.execute(\"send_command\", params)\n",
    " \n",
    "driver.get(url_addr)\n",
    "time.sleep(10)\n",
    "\n",
    "driver.maximize_window()"
   ]
  },
  {
   "cell_type": "code",
   "execution_count": 6,
   "metadata": {},
   "outputs": [],
   "source": [
    "# chrome driver로 열린 브라우저의 개발자 도구에서 id를 새롭게 복사해온다\n",
    "# Angular로 작성된 요소에서 click ()호출 위해 WebDriverWait에서 element_to_be_clickable ()사용\n",
    "from selenium.webdriver.support.ui import WebDriverWait\n",
    "from selenium.webdriver.common.by import By\n",
    "from selenium.webdriver.support import expected_conditions as EC"
   ]
  },
  {
   "cell_type": "code",
   "execution_count": 7,
   "metadata": {},
   "outputs": [],
   "source": [
    "#Step 4. 전체 / KOSPI / KOSDAQ /KONEx 라디오 버튼 선택 후 조회 버튼 누르기\n",
    "if choice == '1' :\n",
    "    WebDriverWait(driver, 20).until(EC.element_to_be_clickable((By.CSS_SELECTOR, \"label[for='mktId_0_0']\"))).click()\n",
    "    driver.find_element_by_id(\"jsSearchButton\").click() #검색버튼\n",
    "elif choice == '2' :\n",
    "    WebDriverWait(driver, 20).until(EC.element_to_be_clickable((By.CSS_SELECTOR, \"label[for='mktId_0_1']\"))).click()\n",
    "    driver.find_element_by_id(\"jsSearchButton\").click()#검색버튼\n",
    "elif choice =='3' :\n",
    "    WebDriverWait(driver, 20).until(EC.element_to_be_clickable((By.CSS_SELECTOR, \"label[for='mktId_0_2']\"))).click()\n",
    "    driver.find_element_by_id(\"jsSearchButton\").click()#검색버튼\n",
    "elif choice =='4' :\n",
    "    WebDriverWait(driver, 20).until(EC.element_to_be_clickable((By.CSS_SELECTOR, \"label[for='mktId_0_3']\"))).click()\n",
    "    driver.find_element_by_id(\"jsSearchButton\").click()#검색버튼\n",
    "else :\n",
    "    print('번호를 다시 확인해 주세요')"
   ]
  },
  {
   "cell_type": "code",
   "execution_count": 8,
   "metadata": {},
   "outputs": [],
   "source": [
    "# chrome driver로 열린 브라우저의 개발자 도구에서 xpath를 새롭게 복사해온다\n",
    "# 이부분을 먼저 실행해서 xlsx와 csv형태를 선택하는 팝업창을 연다.\n",
    "WebDriverWait(driver, 20).until(EC.element_to_be_clickable((By.XPATH, '//*[@id=\"MDCSTAT022_FORM\"]/div[2]/div/p[2]/button[2]/img'))).click()"
   ]
  },
  {
   "cell_type": "code",
   "execution_count": 10,
   "metadata": {},
   "outputs": [
    {
     "name": "stdout",
     "output_type": "stream",
     "text": [
      "====================================================================================================\n",
      "총 소요시간은 821.7 초 입니다 \n",
      "파일이 저장된 폴더명 : D:\\SJY\\python\\notebook\\data\\xls_csv\\ \n",
      "====================================================================================================\n"
     ]
    }
   ],
   "source": [
    "#chrome driver로 열린 브라우저의 개발자 도구에서 xpath를 새롭게 복사해온다\n",
    "# 팝업창의 위치를 변경하면 xpath값도 변경되므로 열려진 채로 그대로 작업한다.\n",
    "#Step 5. xls 형태와 csv 형태의 파일로 다운로드 받기                                   \n",
    "if f_choice == '1' :\n",
    "    WebDriverWait(driver, 20).until(EC.element_to_be_clickable((By.XPATH, '//*[@id=\"ui-id-1\"]/div/div[1]'))).click()                                   \n",
    "elif choice == '2' :\n",
    "    WebDriverWait(driver, 20).until(EC.element_to_be_clickable((By.XPATH, '//*[@id=\"ui-id-1\"]/div/div[2]'))).click()\n",
    "    \n",
    "time.sleep(10)\n",
    " \n",
    "e_time = time.time( )\n",
    "t_time = e_time - s_time\n",
    " \n",
    "#Step 6. 요약 정보 보여주기\n",
    "print(\"=\" *80)\n",
    "print(\"총 소요시간은 %s 초 입니다 \" %round(t_time,1))\n",
    "print(\"파일이 저장된 폴더명 : %s \" %f_dir)\n",
    "print(\"=\" *80)\n",
    " \n",
    "driver.close( )"
   ]
  },
  {
   "cell_type": "code",
   "execution_count": null,
   "metadata": {},
   "outputs": [],
   "source": []
  }
 ],
 "metadata": {
  "kernelspec": {
   "display_name": "pydata",
   "language": "python",
   "name": "pydata"
  },
  "language_info": {
   "codemirror_mode": {
    "name": "ipython",
    "version": 3
   },
   "file_extension": ".py",
   "mimetype": "text/x-python",
   "name": "python",
   "nbconvert_exporter": "python",
   "pygments_lexer": "ipython3",
   "version": "3.7.10"
  }
 },
 "nbformat": 4,
 "nbformat_minor": 4
}
