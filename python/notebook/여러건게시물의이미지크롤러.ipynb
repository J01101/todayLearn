{
 "cells": [
  {
   "cell_type": "code",
   "execution_count": 1,
   "metadata": {},
   "outputs": [],
   "source": [
    "from bs4 import BeautifulSoup\n",
    "from selenium import webdriver\n",
    "import pandas as pd\n",
    "import time\n",
    "import math\n",
    "import os\n",
    "import random"
   ]
  },
  {
   "cell_type": "code",
   "execution_count": 2,
   "metadata": {
    "scrolled": true
   },
   "outputs": [
    {
     "name": "stdout",
     "output_type": "stream",
     "text": [
      "================================================================================\n",
      "예제:대한민국 구석구석 사이트의 여행지 정보 수집하기\n",
      "================================================================================\n",
      "크롤링할 키워드는 무엇입니까?:정동진 해변\n",
      "크롤링할 건수는 몇건입니까?30\n",
      "출력될 페이지수: 3\n"
     ]
    }
   ],
   "source": [
    "print(\"=\"*80)\n",
    "print(\"예제:대한민국 구석구석 사이트의 여행지 정보 이미지 수집하기\")\n",
    "print(\"=\"*80)\n",
    "query_txt = input(\"크롤링할 키워드는 무엇입니까?:\")\n",
    "cnt = int(input(\"크롤링할 건수는 몇건입니까?\"))\n",
    "page_cnt = math.ceil(cnt/10)\n",
    "print(\"출력될 페이지수:\",page_cnt)"
   ]
  },
  {
   "cell_type": "code",
   "execution_count": 4,
   "metadata": {},
   "outputs": [
    {
     "name": "stdout",
     "output_type": "stream",
     "text": [
      "결과파일을 저장할 폴더명을 쓰세요(C:\\study\\python\\notebook\\data\\):C:\\study\\python\\notebook\\data\\\n"
     ]
    },
    {
     "data": {
      "text/plain": [
       "'C:\\\\study\\\\python\\\\notebook\\\\data\\\\2021-4-15-17-30-49-정동진 해변'"
      ]
     },
     "execution_count": 4,
     "metadata": {},
     "output_type": "execute_result"
    }
   ],
   "source": [
    "f_dir = input('결과파일을 저장할 폴더명을 쓰세요(C:\\\\study\\\\python\\\\notebook\\\\data\\\\):')\n",
    "n = time.localtime()\n",
    "s = '{}-{}-{}-{}-{}-{}'.format(n.tm_year,n.tm_mon, n.tm_mday, n.tm_hour, n.tm_min, n.tm_sec)\n",
    "result_dir = f_dir+s+'-'+query_txt\n",
    "os.makedirs(f_dir+s+'-'+query_txt)\n",
    "# ff_name = f_dir+s+'-'+query_txt+'\\\\'+s+'-'+query_txt+\".txt\"\n",
    "# fc_name = f_dir+s+'-'+query_txt+'\\\\'+s+'-'+query_txt+\".csv\"\n",
    "# fx_name = f_dir+s+'-'+query_txt+'\\\\'+s+'-'+query_txt+\".xlsx\"\n",
    "result_dir"
   ]
  },
  {
   "cell_type": "code",
   "execution_count": 5,
   "metadata": {},
   "outputs": [
    {
     "name": "stdout",
     "output_type": "stream",
     "text": [
      "================================================================================\n",
      "크롤링할 키워드: 정동진 해변\n",
      "크롤링할 총 페이지 번호: 3\n",
      "================================================================================\n"
     ]
    }
   ],
   "source": [
    "s_time = time.time()\n",
    "path = \"c:/study/python/datadown/chromedriver.exe\"\n",
    "driver = webdriver.Chrome(path)\n",
    "driver.get('https://korean.visitkorea.or.kr')\n",
    "time.sleep(random.randrange(1,3))\n",
    "\n",
    "try :\n",
    "    driver.find_element_by_xpath(\"\"\"//*[@id=\"chkForm01\"]\"\"\").click()\n",
    "except :\n",
    "    print(\"코로나 창이 없습니다\")\n",
    "    \n",
    "element  = driver.find_element_by_id('inp_search')\n",
    "element.send_keys(query_txt)\n",
    "element.send_keys(\"\\n\")\n",
    "\n",
    "html = driver.page_source\n",
    "soup = BeautifulSoup(html, 'html.parser')\n",
    "\n",
    "print(\"=\"*80)\n",
    "print('크롤링할 키워드:',query_txt)\n",
    "print('크롤링할 총 페이지 번호:',page_cnt)\n",
    "print(\"=\"*80)"
   ]
  },
  {
   "cell_type": "code",
   "execution_count": 31,
   "metadata": {},
   "outputs": [
    {
     "name": "stdout",
     "output_type": "stream",
     "text": [
      "1페이지 내용 수집 시작합니다.=====================\n",
      "1 : 김해에 들어서면 분산 정상에 가야 시대 산성으로 추정되는 분산성이 눈에 들어온다. 분산 반대편에는 가야의 모든 것을 즐길 수 있는 김해가야테마파크가 자리한다. 지난 2010년 방영한 드라마 〈김수로〉 촬영지로 시작해 얼마 전 공연과 전시, 체험, 놀이 시설을 갖춘 대규모 테마파크로 새롭게 탄생했다.\n",
      "\n",
      "\n",
      "2 : 김해천문대는 김수로왕의 탄생설화를 모티브로 설계됐다. 하늘이 내린 여섯 개 알 가운데 하나에서 태어난 김수로왕을 상징해 천문대 전시동을 둥근 구형으로 제작했고, 그의 둘째 아들 허석 왕자가 진례성에 쌓은 천체관측 시설인 비비단에서 힌트를 얻어 천문대 캐릭터 이름을 ‘비다니’로 지었다. 가야와 천문의 인연은 여기서 끝나지 않는다. <삼국유사> ‘가락국기’에 따르면 김수로왕의 부인인 허황옥은 인도에서 가야국까지 낮에는 바다의 섬을, 밤에는 하늘의 북극성을 길잡이 삼아 항해했다고 전한다. 2000년 전 만들어진 천체관측 시설인 비비단, 그리고 천문을 통해 인도에서 가락국까지 항해한 허황옥. 이들의 이야기가 하나 되어 만들어진 공간이 김해천문대인 것이다. 김해천문대에서 운영하는 ‘비비단으로 떠나는 별빛여행’은 가야와 천문, 그리스 신화를 아우르는 천문여행이자 생태여행이다.\n",
      "\n",
      "\n",
      "3 : 김해천문대는 영남지역 유일의 시민천문대다. 김수로왕의 탄생설화를 바탕으로 한 원형의 전시동을 중심으로 관측동과 천체투영실을 갖췄다. 김해천문대에서 진행하는 비비단으로 떠나는 별빛 여행은 천문과 생태를 아우르는 휴식(힐링) 여행이다. 밤하늘을 수놓은 아름다운 별빛에 흠뻑 취하고, 멋진 축제도 즐긴다. 비비단은 2000년 전, 김수로왕의 둘째 아들인 허석 왕자가 천문을 살피기 위해 진례성에 쌓았다는 관측시설이다. 김해천문대 캐릭터인 ‘비다니’는 여기에서 따온 이름이다. \n",
      "\n",
      "\n",
      "4 : <자동차 이동 거리> 김해낙동강레일파크(와인터널, 열차카페) → 자동차 25분 19km → 김해가야테마파크 → 자동차 13분 4.7km → 국립김해박물관(어린이박물관, 구지봉공원, 김해 수로왕비릉) → 자동차 18분 12.8km → 김해목재문화체험장 → 자동차 22분 13km → 클레이아크김해미술관(김해분청도자관) \n",
      "\n",
      "\n",
      "5 : 가야 유적지 따라가는 김해여행은 그만! 김해의 로맨틱한 여행코스로 커플 여행을 떠나보세요. 미술관부터 맛집이 가득한 봉리단길, 별을 볼 수 있는 천문대까지. 어느 것 하나 놓칠 수 없는 김해 여행코스, 지금 바로 소개합니다.★추천여행코스 : 클레이아크 김해미술관 - 김해 봉리단길 - 대성동 고분군 왕따나무 - 김해건설공업고등학교 매화꽃길 - 김해가야테마파크 - 김해천문대 \n",
      "\n",
      "\n",
      "6 :     김해 한옥체험관은 우리나라의 전통 문화와 한옥의 운치를 고스란히 느낄 수 있는 한옥 체험 숙소이다. 안채, 사랑채, 별채에 마련된 객실은 저마다 특징이 달라 취향에 따라 선택할 수 있다. 안채에 마련된 객실은 고가구와 방석, 편지꽂이, 등잔 등 전통 소품으로 장식해 옛 선조들의 일상을 엿볼 수 있다. 널찍한 대청마루는 회의실로 이용 가능하다. 사랑채 객실은 안채에 비해 아담하고 소박하지만 소파와 테이블이 놓인 누마루가 있어 바깥 풍경을 즐기며 휴식을 취하기 좋다. 김해한옥체험관에서 가장 고풍스러운 객실은 별채에 자리한 월파실과 함허실이다. 객실에 들어서면 커다란 병풍이 둘러쳐진 전통 보료(앉는 자리에 늘 깔아두는 두툼한 요)가 눈길을 사로잡는다. 사극에서 봤음직한 옛날 방 풍경을 그대로 옮겨놓은 듯하다. 전통 한옥이지만 모든 객실에 TV, 냉장고, 에어컨, 현대식 화장실을 갖춰 편리함을 더했다. 때때로 전통 체험 프로그램을 운영하며 외국인 여행객을 위해 영어, 일본어 안내 서비스를 제공한다. \n",
      "\n",
      "\n",
      "7 : 김해천문대는 수천 년을 이어오는 별 보기 좋은 명당이다. 옛 가락국 왕자가 ‘비비단’이라는 천체관측소를 쌓아서 별을 관측하던 곳이다. 거대한 우주선을 닮은 천문대 건물은 가락국을 세운 수로왕이 탄생했다는 알을 모티브로 만들었다. 둥근 지붕 위로 별빛이 쏟아지는 밤이면 하늘로 솟아오를 듯 신비롭게 보인다. 천체투영관에서 수많은 별자리를 보고, 대형 망원경으로 밤하늘 우주쇼를 관찰하고 나면 진짜 우주선을 탄 기분이다. 천체망원경을 직접 조립해보고, 종이 망원경을 만들어 달을 관찰하고, 별탐험대와 함께 우리가 살고 있는 우주이야기에 빠지다 보면 시간 가는 줄 모른다. \n",
      "\n",
      "\n",
      "2페이지 내용 수집 시작합니다.=====================\n",
      "8 : 삼국시대 철기 문화로 잠깐 빛났던 가야. 김해는 가야의 가장 큰 세력을 거머쥐었던 금관가야의 옛 위치입니다. 그래서 여전히 김해에는 옛 가야에 관련된 유적지들이 많으며 이 특징을 살려 축제도 열리곤 하지요. 가족여행 떠나기 좋은 여름, 삼국시대 가야의 흔적을 발견하러 김해로 떠나보세요.\n",
      "\n",
      "\n",
      "9 : 매화는 봄을 알리는 꽃이다. 매서운 추위를 뚫고 피어 강인함과 지조를 상징하기도 하고, 기품 있는 자태로 고고함을 대표하기도 한다. ‘세한삼우’라 하여 소나무, 대나무와 함께 절개를 상징하기도 한다.\n",
      "\n",
      "\n",
      "10 : 강남에 가로수길이 있다면, 경남에는 장유 율하 카페거리가 있다. 단언컨대 요즈음 경남 최고의 핫 플레이스로 손꼽히는 곳이다. 율하 카페거리는 김해시 장유면 율하신도시에 위치하는데 창원, 부산, 거제 등 여러 도시와 인접해 외지 사람들까지 많이 찾아든다. 서울과 경기도 신도시에 들어선 카페거리와 달리 율하 카페거리에는 카페 그 이상의 즐길거리가 가득하다. 카페만이 아니라 자연, 문화, 유적 등 알찬 콘텐츠를 품고 있어 더욱 마음이 끌린다.\n",
      "\n",
      "\n",
      "11 : 전체 이동 경로 봉하마을 - 자동차 20분 약 11.9km - 김해낙동강레일파크- 자동차 20분 약 19.3km - 김해한옥체험관- 자동차 15분 약 6.8km - 김해가야테마파크\n",
      "\n",
      "\n",
      "12 : 국립김해박물관은 역사 속에 잃어버린 왕국, 가야를 만나는 공간이다. 가야는 고구려와 백제, 신라 삼국에 가려 제대로 빛을 보지 못한 고대 왕국 가운데 하나다. 새해를 맞이하며 찬란하게 빛난 가야로 시간 여행을 떠나보자.\n",
      "\n",
      "\n",
      "3페이지 내용 수집 시작합니다.=====================\n",
      "13 : \n",
      "\n",
      "\n",
      "4페이지 내용 수집 시작합니다.=====================\n",
      "14 : \n",
      "\n",
      "\n",
      "15 : 6.25전쟁으로 수많은 이야기가 켜켜이 쌓인 부산, '잃어버린 나라' 가야를 품은 김해는 그 자체로 고장의 속살을 느껴보기에 충분하다. 복작거리는 시장과 과거로 돌아간 듯한 부산원도심과 김해의 화려하던 가야의 문화를 차분히 만나보자.<1일차> 부산10:00 감천문화마을12:00 점심식사13:30 보수동책방골목15:00 국제시장17:00 부평깡통시장19:00 저녁식사 및 숙박<2일차> 부산09:00 부산히스토리투어 만디버스12:00 점심식사15:00 키자니아 부산(3.8km, 10분)18:00 SEA LIFE 부산아쿠아리움19:30 저녁식사 및 숙박<3일차> 김해09:00 클레이아크김해미술관(26.8km, 34분)10:30 김해가야테마파크(14.1km, 20분)13:00 점심식사14:00 김해롯데워터파크17:00 귀가\n",
      "\n",
      "\n",
      "5페이지 내용 수집 시작합니다.=====================\n"
     ]
    }
   ],
   "source": [
    "no2 = []\n",
    "contents2 = []\n",
    "no = 1\n",
    "\n",
    "for x in range(1, page_cnt + 1):\n",
    "    print(\"{}페이지 이미지 수집 시작합니다.=====================\".format(x))\n",
    "    for i in range(1,11):\n",
    "        if no > cnt:\n",
    "            break\n",
    "        #제목이름의 폴더 생성\n",
    "        title = soup.select(\"#listBody > ul > li:nth-child({}) > div.area_txt > div.tit > a\".format(i))[0]\n",
    "        print(title.get_text())\n",
    "        tdir = title.get_text()\n",
    "        os.makedirs(result_dir+'\\\\'+tdir)\n",
    "        \n",
    "        \n",
    "        try:\n",
    "            driver.find_element_by_xpath(\"\"\"//*[@id=\"listBody\"]/ul/li[{}]/div[2]/div[1]/a\"\"\".format(i)).click()\n",
    "        except:\n",
    "            continue\n",
    "         \n",
    "        \n",
    "        #상세페이지로 이동\n",
    "        time.sleep(random.randrange(1,3)) \n",
    "        \n",
    "        driver.maximize_window()\n",
    "        \n",
    "        html = driver.page_source\n",
    "        soup = BeautifulSoup(html,'html.parser')\n",
    "        img_src2 = []\n",
    "        \n",
    "        #이미지 주소추출\n",
    "        try:\n",
    "           img_src = soup.find('div','box_txtPhoto').find_all('img')\n",
    " \n",
    "            for i in img_src:\n",
    "                img_src1 = i['src']\n",
    "                img_src2.append(img_src1)\n",
    "        except:\n",
    "            try:\n",
    "                img_src = soup.find('div','swiper-wrapper cosList').find_all('a') \n",
    "                print(img_src)\n",
    "                for i in img_src:\n",
    "                    style = i['style'].split('(')[1].split(')')[0]\n",
    "                    img_src2.append(style)\n",
    "            except:\n",
    "                driver.back()\n",
    "                continue\n",
    "           \n",
    "        #이미지 다운로드\n",
    "        \n",
    "        os.chdir(result_dir+'\\\\'+tdir)\n",
    "\n",
    "        #이미지 다운로드 실행\n",
    "        for i in range(0,len(img_src2)):\n",
    "            try:\n",
    "                urllib.request.urlretrieve(img_src2[i],str(file_no)+'.jpg')\n",
    "            except:\n",
    "                continue\n",
    "            file_no += 1\n",
    "            time.sleep(0.5)\n",
    "            print(\"{} 번째 이미지가 저장중 입니다.=====================\".format(file_no))\n",
    "\n",
    "              \n",
    "        driver.back()\n",
    "        time.sleep(2)\n",
    "        \n",
    "        no += 1\n",
    "    \n",
    "    if x > page_cnt + 1:\n",
    "        break\n",
    "        \n",
    "    x += 1\n",
    "              \n",
    "    time.sleep(1)     \n",
    "    if(x % 5 == 1):\n",
    "        driver.find_element_by_link_text(\"다음\").click()\n",
    "    else:\n",
    "        driver.find_element_by_link_text(\"{}\".format(x)).click()\n",
    "        \n",
    "    time.sleep(2)"
   ]
  },
  {
   "cell_type": "code",
   "execution_count": 13,
   "metadata": {
    "scrolled": true
   },
   "outputs": [
    {
     "name": "stdout",
     "output_type": "stream",
     "text": [
      "\n",
      "\n",
      "================================================================================\n",
      "총 소요시간 427.7초 입니다.\n",
      "파일저장 완료:txt파일명:C:\\study\\python\\notebook\\data\\2021-4-14-16-49-16-강화도 여행\\2021-4-14-16-49-16-강화도 여행.txt\n",
      "파일저장 완료:csv파일명:C:\\study\\python\\notebook\\data\\2021-4-14-16-49-16-강화도 여행\\2021-4-14-16-49-16-강화도 여행.csv\n",
      "파일저장 완료:xlsx파일명:C:\\study\\python\\notebook\\data\\2021-4-14-16-49-16-강화도 여행\\2021-4-14-16-49-16-강화도 여행.xlsx\n",
      "================================================================================\n"
     ]
    }
   ],
   "source": [
    "korea = pd.DataFrame()\n",
    "korea['번호']=no2\n",
    "korea['내용']=contents2\n",
    "korea.to_csv(fc_name,encoding=\"utf-8-sig\", index=False)\n",
    "korea.to_excel(fx_name,index=False)\n",
    "\n",
    "e_time = time.time()\n",
    "t_time = e_time - s_time\n",
    "\n",
    "print(\"\\n\")\n",
    "print(\"=\"*80)\n",
    "print(\"총 소요시간 {}초 입니다.\".format(round(t_time,1)))\n",
    "print(\"파일저장 완료:txt파일명:{}\".format(ff_name))\n",
    "print(\"파일저장 완료:csv파일명:{}\".format(fc_name))\n",
    "print(\"파일저장 완료:xlsx파일명:{}\".format(fx_name))\n",
    "print(\"=\"*80)\n",
    "\n",
    "driver.close()"
   ]
  },
  {
   "cell_type": "code",
   "execution_count": null,
   "metadata": {},
   "outputs": [],
   "source": []
  }
 ],
 "metadata": {
  "kernelspec": {
   "display_name": "pydata",
   "language": "python",
   "name": "pydata"
  },
  "language_info": {
   "codemirror_mode": {
    "name": "ipython",
    "version": 3
   },
   "file_extension": ".py",
   "mimetype": "text/x-python",
   "name": "python",
   "nbconvert_exporter": "python",
   "pygments_lexer": "ipython3",
   "version": "3.7.10"
  }
 },
 "nbformat": 4,
 "nbformat_minor": 5
}
