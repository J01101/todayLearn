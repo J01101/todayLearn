{
 "cells": [
  {
   "cell_type": "code",
   "execution_count": 1,
   "id": "bf67b40d",
   "metadata": {},
   "outputs": [],
   "source": [
    "from selenium import webdriver\n",
    "from bs4 import BeautifulSoup\n",
    "import time\n",
    " \n",
    "driver = webdriver.Chrome('D:\\\\SJY\\\\python\\\\datadown\\\\chromedriver.exe')\n",
    "url = \"https://www.koreabaseball.com/Player/Search.aspx\"\n",
    "driver.get(url)"
   ]
  },
  {
   "cell_type": "code",
   "execution_count": 18,
   "id": "7deaaed8",
   "metadata": {},
   "outputs": [],
   "source": [
    "for i in range(2,12): # 팀 전체 반복\n",
    "    driver.find_element_by_xpath('//*[@id=\"cphContents_cphContents_cphContents_ddlTeam\"]/option[{}]'.format(i)).click()\n",
    "    "
   ]
  },
  {
   "cell_type": "code",
   "execution_count": 31,
   "id": "47efd458",
   "metadata": {},
   "outputs": [],
   "source": [
    "driver.find_element_by_xpath('//*[@id=\"cphContents_cphContents_cphContents_ddlTeam\"]/option[2]').click()"
   ]
  },
  {
   "cell_type": "code",
   "execution_count": null,
   "id": "08565741",
   "metadata": {},
   "outputs": [],
   "source": [
    "//*[@id=\"cphContents_cphContents_cphContents_udpRecord\"]/div[2]/table/tbody/tr[1]/td[2]/a\n",
    "//*[@id=\"cphContents_cphContents_cphContents_udpRecord\"]/div[2]/table/tbody/tr[2]/td[2]/a\n",
    "//*[@id=\"cphContents_cphContents_cphContents_udpRecord\"]/div[2]/table/tbody/tr[3]/td[2]/a"
   ]
  },
  {
   "cell_type": "code",
   "execution_count": 33,
   "id": "af68b5a5",
   "metadata": {},
   "outputs": [
    {
     "name": "stdout",
     "output_type": "stream",
     "text": [
      "['선수명', '강동연']\n",
      "['등번호', 'No.21']\n",
      "['생년월일', '1992년 12월 18일']\n",
      "['포지션', '투수(우투우타)']\n",
      "['신장/체중', '195cm/94kg']\n",
      "['경력', '진북초-덕수중-유신고-두산-상무-두산']\n",
      "['입단 계약금', '']\n",
      "['연봉', '4400만원']\n",
      "['지명순위', '11 두산 육성선수']\n",
      "['입단년도', '12두산']\n",
      "404\n",
      "['선수명', '강진성']\n",
      "['등번호', 'No.49']\n",
      "['생년월일', '1993년 10월 19일']\n",
      "['포지션', '내야수(우투우타)']\n",
      "['신장/체중', '180cm/81kg']\n",
      "['경력', '가동초-잠신중-경기고-NC-경찰']\n",
      "['입단 계약금', '7000만원']\n",
      "['연봉', '12000만원']\n",
      "['지명순위', '12 NC 4라운드 33순위']\n",
      "['입단년도', '12NC']\n",
      "404\n"
     ]
    },
    {
     "ename": "KeyboardInterrupt",
     "evalue": "",
     "output_type": "error",
     "traceback": [
      "\u001b[1;31m---------------------------------------------------------------------------\u001b[0m",
      "\u001b[1;31mKeyboardInterrupt\u001b[0m                         Traceback (most recent call last)",
      "\u001b[1;32m<ipython-input-33-bff62ec5794b>\u001b[0m in \u001b[0;36m<module>\u001b[1;34m\u001b[0m\n\u001b[0;32m     12\u001b[0m         \u001b[1;32mcontinue\u001b[0m\u001b[1;33m\u001b[0m\u001b[1;33m\u001b[0m\u001b[0m\n\u001b[0;32m     13\u001b[0m \u001b[1;33m\u001b[0m\u001b[0m\n\u001b[1;32m---> 14\u001b[1;33m     \u001b[0mtime\u001b[0m\u001b[1;33m.\u001b[0m\u001b[0msleep\u001b[0m\u001b[1;33m(\u001b[0m\u001b[1;36m1\u001b[0m\u001b[1;33m)\u001b[0m\u001b[1;33m\u001b[0m\u001b[1;33m\u001b[0m\u001b[0m\n\u001b[0m\u001b[0;32m     15\u001b[0m \u001b[1;33m\u001b[0m\u001b[0m\n\u001b[0;32m     16\u001b[0m     \u001b[0mhtml\u001b[0m \u001b[1;33m=\u001b[0m \u001b[0mdriver\u001b[0m\u001b[1;33m.\u001b[0m\u001b[0mpage_source\u001b[0m\u001b[1;33m\u001b[0m\u001b[1;33m\u001b[0m\u001b[0m\n",
      "\u001b[1;31mKeyboardInterrupt\u001b[0m: "
     ]
    }
   ],
   "source": [
    "count = driver.find_element_by_xpath('//*[@id=\"cphContents_cphContents_cphContents_udpRecord\"]/div[2]/p/strong/span').text\n",
    "count = int(count)\n",
    "\n",
    "for x in range(1, 80):\n",
    "    time.sleep(1)\n",
    "    \n",
    "    driver.find_element_by_xpath('//*[@id=\"cphContents_cphContents_cphContents_ddlTeam\"]/option[2]').click()\n",
    "    try:\n",
    "        driver.find_element_by_xpath('//*[@id=\"cphContents_cphContents_cphContents_udpRecord\"]/div[2]/table/tbody/tr[{}]/td[2]/a'.format(x)).click()\n",
    "    except:\n",
    "        print('404')\n",
    "        continue\n",
    "        \n",
    "    time.sleep(1)\n",
    "        \n",
    "    html = driver.page_source\n",
    "    soup = BeautifulSoup(html, 'html.parser')\n",
    "\n",
    "    result = soup.select('div.player_basic > ul > li')\n",
    "    for x in result:\n",
    "        print(x.text.split(\": \"))\n",
    "        \n",
    "    driver.back()\n",
    "        \n"
   ]
  },
  {
   "cell_type": "code",
   "execution_count": 43,
   "id": "fad30f9b",
   "metadata": {},
   "outputs": [],
   "source": [
    "driver.find_element_by_xpath('//*[@id=\"cphContents_cphContents_cphContents_udpRecord\"]/div[2]/table/tbody/tr[1]/td[2]/a').click()"
   ]
  },
  {
   "cell_type": "code",
   "execution_count": 110,
   "id": "3955bc2b",
   "metadata": {},
   "outputs": [
    {
     "data": {
      "text/plain": [
       "[   팀명   ERA  G  CG  SHO  W  L  SV  HLD  WPCT  TBF   NP      IP   H  2B  3B  HR\n",
       " 0  NC  6.75  4   0    0  2  2   0    0   0.5   67  274  14 2/3  16   2   0   3,\n",
       "    SAC  SF  BB  IBB  SO  WP  BK   R  ER  BSV  WHIP    AVG  QS\n",
       " 0    0   2   6    0  10   1   0  12  11    0   1.5  0.271   0,\n",
       "       일자   상대  결과    ERA  TBF      IP   H  HR  BB  HBP  SO   R  ER    AVG\n",
       " 0  04.30   키움   패  15.43   12   2 1/3   2   0   2    0   2   4   4  0.222\n",
       " 1  04.24   두산   패  13.50   23       4   9   2   2    0   0   6   6  0.450\n",
       " 2  04.13  SSG   승   1.80   18       5   2   1   1    0   4   2   1  0.118\n",
       " 3  04.07   롯데   승   0.00   14   3 1/3   3   0   1    0   4   0   0  0.231\n",
       " 4     합계   합계  합계   6.75   67  14 2/3  16   3   6    0  10  12  11  0.271,\n",
       "           연도         항목         기록         순위\n",
       " 0  기록이 없습니다.  기록이 없습니다.  기록이 없습니다.  기록이 없습니다.,\n",
       "      구분          시작          종료  일수\n",
       " 0    NC  2021-04-07  2021-04-13   7\n",
       " 1    NC  2021-04-24  2021-05-01   8\n",
       " 2  시즌합계         NaN         NaN  15,\n",
       "      구분          시작          종료  일수\n",
       " 0    NC  2021-04-03  2021-04-06   4\n",
       " 1    NC  2021-04-14  2021-04-23  10\n",
       " 2    NC  2021-05-02  2021-05-03   2\n",
       " 3  시즌합계         NaN         NaN  16]"
      ]
     },
     "execution_count": 110,
     "metadata": {},
     "output_type": "execute_result"
    }
   ],
   "source": [
    "import requests\n",
    "import pandas as pd\n",
    "\n",
    "url = driver.current_url\n",
    "\n",
    "header = {'user-agent': \n",
    "          'Mozilla/5.0 (Windows NT 10.0; Win64; x64) AppleWebKit/537.36 (KHTML, like Gecko) Chrome/90.0.4430.93 Safari/537.36'}\n",
    "\n",
    "r=requests.get(url, headers=header)\n",
    "pd.read_html(r.text)"
   ]
  },
  {
   "cell_type": "code",
   "execution_count": 109,
   "id": "3b2e54ab",
   "metadata": {},
   "outputs": [
    {
     "name": "stdout",
     "output_type": "stream",
     "text": [
      "['선수명', '강동연']\n",
      "['등번호', 'No.21']\n",
      "['생년월일', '1992년 12월 18일']\n",
      "['포지션', '투수(우투우타)']\n",
      "['신장/체중', '195cm/94kg']\n",
      "['경력', '진북초-덕수중-유신고-두산-상무-두산']\n",
      "['입단 계약금', '']\n",
      "['연봉', '4400만원']\n",
      "['지명순위', '11 두산 육성선수']\n",
      "['입단년도', '12두산']\n"
     ]
    }
   ],
   "source": [
    "html = driver.page_source\n",
    "soup = BeautifulSoup(html, 'html.parser')\n",
    "\n",
    "result = soup.select('div.player_basic > ul > li')\n",
    "for x in result:\n",
    "    print(x.text.split(\": \"))"
   ]
  },
  {
   "cell_type": "code",
   "execution_count": 9,
   "id": "5df3ce53",
   "metadata": {},
   "outputs": [
    {
     "ename": "NoSuchElementException",
     "evalue": "Message: no such element: Unable to locate element: {\"method\":\"xpath\",\"selector\":\"//*[@id=\"cphContents_cphContents_cphContents_udpRecord\"]/div[2]/table/tbody/tr[1]/td[2]/a\"}\n  (Session info: chrome=90.0.4430.93)\n",
     "output_type": "error",
     "traceback": [
      "\u001b[1;31m---------------------------------------------------------------------------\u001b[0m",
      "\u001b[1;31mNoSuchElementException\u001b[0m                    Traceback (most recent call last)",
      "\u001b[1;32m<ipython-input-9-b7cab038e9d3>\u001b[0m in \u001b[0;36m<module>\u001b[1;34m\u001b[0m\n\u001b[0;32m      1\u001b[0m \u001b[0mdriver\u001b[0m\u001b[1;33m.\u001b[0m\u001b[0mfind_element_by_xpath\u001b[0m\u001b[1;33m(\u001b[0m\u001b[1;34m'//*[@id=\"cphContents_cphContents_cphContents_ddlTeam\"]/option[2]'\u001b[0m\u001b[1;33m)\u001b[0m\u001b[1;33m.\u001b[0m\u001b[0mclick\u001b[0m\u001b[1;33m(\u001b[0m\u001b[1;33m)\u001b[0m\u001b[1;33m\u001b[0m\u001b[1;33m\u001b[0m\u001b[0m\n\u001b[1;32m----> 2\u001b[1;33m \u001b[0mdriver\u001b[0m\u001b[1;33m.\u001b[0m\u001b[0mfind_element_by_xpath\u001b[0m\u001b[1;33m(\u001b[0m\u001b[1;34m'//*[@id=\"cphContents_cphContents_cphContents_udpRecord\"]/div[2]/table/tbody/tr[1]/td[2]/a'\u001b[0m\u001b[1;33m)\u001b[0m\u001b[1;33m.\u001b[0m\u001b[0mclick\u001b[0m\u001b[1;33m(\u001b[0m\u001b[1;33m)\u001b[0m\u001b[1;33m\u001b[0m\u001b[1;33m\u001b[0m\u001b[0m\n\u001b[0m\u001b[0;32m      3\u001b[0m \u001b[1;33m\u001b[0m\u001b[0m\n\u001b[0;32m      4\u001b[0m \u001b[0mtime\u001b[0m\u001b[1;33m.\u001b[0m\u001b[0msleep\u001b[0m\u001b[1;33m(\u001b[0m\u001b[1;36m1\u001b[0m\u001b[1;33m)\u001b[0m\u001b[1;33m\u001b[0m\u001b[1;33m\u001b[0m\u001b[0m\n\u001b[0;32m      5\u001b[0m \u001b[1;33m\u001b[0m\u001b[0m\n",
      "\u001b[1;32mC:\\ProgramData\\Anaconda3\\envs\\pydata\\lib\\site-packages\\selenium\\webdriver\\remote\\webdriver.py\u001b[0m in \u001b[0;36mfind_element_by_xpath\u001b[1;34m(self, xpath)\u001b[0m\n\u001b[0;32m    392\u001b[0m             \u001b[0melement\u001b[0m \u001b[1;33m=\u001b[0m \u001b[0mdriver\u001b[0m\u001b[1;33m.\u001b[0m\u001b[0mfind_element_by_xpath\u001b[0m\u001b[1;33m(\u001b[0m\u001b[1;34m'//div/td[1]'\u001b[0m\u001b[1;33m)\u001b[0m\u001b[1;33m\u001b[0m\u001b[1;33m\u001b[0m\u001b[0m\n\u001b[0;32m    393\u001b[0m         \"\"\"\n\u001b[1;32m--> 394\u001b[1;33m         \u001b[1;32mreturn\u001b[0m \u001b[0mself\u001b[0m\u001b[1;33m.\u001b[0m\u001b[0mfind_element\u001b[0m\u001b[1;33m(\u001b[0m\u001b[0mby\u001b[0m\u001b[1;33m=\u001b[0m\u001b[0mBy\u001b[0m\u001b[1;33m.\u001b[0m\u001b[0mXPATH\u001b[0m\u001b[1;33m,\u001b[0m \u001b[0mvalue\u001b[0m\u001b[1;33m=\u001b[0m\u001b[0mxpath\u001b[0m\u001b[1;33m)\u001b[0m\u001b[1;33m\u001b[0m\u001b[1;33m\u001b[0m\u001b[0m\n\u001b[0m\u001b[0;32m    395\u001b[0m \u001b[1;33m\u001b[0m\u001b[0m\n\u001b[0;32m    396\u001b[0m     \u001b[1;32mdef\u001b[0m \u001b[0mfind_elements_by_xpath\u001b[0m\u001b[1;33m(\u001b[0m\u001b[0mself\u001b[0m\u001b[1;33m,\u001b[0m \u001b[0mxpath\u001b[0m\u001b[1;33m)\u001b[0m\u001b[1;33m:\u001b[0m\u001b[1;33m\u001b[0m\u001b[1;33m\u001b[0m\u001b[0m\n",
      "\u001b[1;32mC:\\ProgramData\\Anaconda3\\envs\\pydata\\lib\\site-packages\\selenium\\webdriver\\remote\\webdriver.py\u001b[0m in \u001b[0;36mfind_element\u001b[1;34m(self, by, value)\u001b[0m\n\u001b[0;32m    976\u001b[0m         return self.execute(Command.FIND_ELEMENT, {\n\u001b[0;32m    977\u001b[0m             \u001b[1;34m'using'\u001b[0m\u001b[1;33m:\u001b[0m \u001b[0mby\u001b[0m\u001b[1;33m,\u001b[0m\u001b[1;33m\u001b[0m\u001b[1;33m\u001b[0m\u001b[0m\n\u001b[1;32m--> 978\u001b[1;33m             'value': value})['value']\n\u001b[0m\u001b[0;32m    979\u001b[0m \u001b[1;33m\u001b[0m\u001b[0m\n\u001b[0;32m    980\u001b[0m     \u001b[1;32mdef\u001b[0m \u001b[0mfind_elements\u001b[0m\u001b[1;33m(\u001b[0m\u001b[0mself\u001b[0m\u001b[1;33m,\u001b[0m \u001b[0mby\u001b[0m\u001b[1;33m=\u001b[0m\u001b[0mBy\u001b[0m\u001b[1;33m.\u001b[0m\u001b[0mID\u001b[0m\u001b[1;33m,\u001b[0m \u001b[0mvalue\u001b[0m\u001b[1;33m=\u001b[0m\u001b[1;32mNone\u001b[0m\u001b[1;33m)\u001b[0m\u001b[1;33m:\u001b[0m\u001b[1;33m\u001b[0m\u001b[1;33m\u001b[0m\u001b[0m\n",
      "\u001b[1;32mC:\\ProgramData\\Anaconda3\\envs\\pydata\\lib\\site-packages\\selenium\\webdriver\\remote\\webdriver.py\u001b[0m in \u001b[0;36mexecute\u001b[1;34m(self, driver_command, params)\u001b[0m\n\u001b[0;32m    319\u001b[0m         \u001b[0mresponse\u001b[0m \u001b[1;33m=\u001b[0m \u001b[0mself\u001b[0m\u001b[1;33m.\u001b[0m\u001b[0mcommand_executor\u001b[0m\u001b[1;33m.\u001b[0m\u001b[0mexecute\u001b[0m\u001b[1;33m(\u001b[0m\u001b[0mdriver_command\u001b[0m\u001b[1;33m,\u001b[0m \u001b[0mparams\u001b[0m\u001b[1;33m)\u001b[0m\u001b[1;33m\u001b[0m\u001b[1;33m\u001b[0m\u001b[0m\n\u001b[0;32m    320\u001b[0m         \u001b[1;32mif\u001b[0m \u001b[0mresponse\u001b[0m\u001b[1;33m:\u001b[0m\u001b[1;33m\u001b[0m\u001b[1;33m\u001b[0m\u001b[0m\n\u001b[1;32m--> 321\u001b[1;33m             \u001b[0mself\u001b[0m\u001b[1;33m.\u001b[0m\u001b[0merror_handler\u001b[0m\u001b[1;33m.\u001b[0m\u001b[0mcheck_response\u001b[0m\u001b[1;33m(\u001b[0m\u001b[0mresponse\u001b[0m\u001b[1;33m)\u001b[0m\u001b[1;33m\u001b[0m\u001b[1;33m\u001b[0m\u001b[0m\n\u001b[0m\u001b[0;32m    322\u001b[0m             response['value'] = self._unwrap_value(\n\u001b[0;32m    323\u001b[0m                 response.get('value', None))\n",
      "\u001b[1;32mC:\\ProgramData\\Anaconda3\\envs\\pydata\\lib\\site-packages\\selenium\\webdriver\\remote\\errorhandler.py\u001b[0m in \u001b[0;36mcheck_response\u001b[1;34m(self, response)\u001b[0m\n\u001b[0;32m    240\u001b[0m                 \u001b[0malert_text\u001b[0m \u001b[1;33m=\u001b[0m \u001b[0mvalue\u001b[0m\u001b[1;33m[\u001b[0m\u001b[1;34m'alert'\u001b[0m\u001b[1;33m]\u001b[0m\u001b[1;33m.\u001b[0m\u001b[0mget\u001b[0m\u001b[1;33m(\u001b[0m\u001b[1;34m'text'\u001b[0m\u001b[1;33m)\u001b[0m\u001b[1;33m\u001b[0m\u001b[1;33m\u001b[0m\u001b[0m\n\u001b[0;32m    241\u001b[0m             \u001b[1;32mraise\u001b[0m \u001b[0mexception_class\u001b[0m\u001b[1;33m(\u001b[0m\u001b[0mmessage\u001b[0m\u001b[1;33m,\u001b[0m \u001b[0mscreen\u001b[0m\u001b[1;33m,\u001b[0m \u001b[0mstacktrace\u001b[0m\u001b[1;33m,\u001b[0m \u001b[0malert_text\u001b[0m\u001b[1;33m)\u001b[0m\u001b[1;33m\u001b[0m\u001b[1;33m\u001b[0m\u001b[0m\n\u001b[1;32m--> 242\u001b[1;33m         \u001b[1;32mraise\u001b[0m \u001b[0mexception_class\u001b[0m\u001b[1;33m(\u001b[0m\u001b[0mmessage\u001b[0m\u001b[1;33m,\u001b[0m \u001b[0mscreen\u001b[0m\u001b[1;33m,\u001b[0m \u001b[0mstacktrace\u001b[0m\u001b[1;33m)\u001b[0m\u001b[1;33m\u001b[0m\u001b[1;33m\u001b[0m\u001b[0m\n\u001b[0m\u001b[0;32m    243\u001b[0m \u001b[1;33m\u001b[0m\u001b[0m\n\u001b[0;32m    244\u001b[0m     \u001b[1;32mdef\u001b[0m \u001b[0m_value_or_default\u001b[0m\u001b[1;33m(\u001b[0m\u001b[0mself\u001b[0m\u001b[1;33m,\u001b[0m \u001b[0mobj\u001b[0m\u001b[1;33m,\u001b[0m \u001b[0mkey\u001b[0m\u001b[1;33m,\u001b[0m \u001b[0mdefault\u001b[0m\u001b[1;33m)\u001b[0m\u001b[1;33m:\u001b[0m\u001b[1;33m\u001b[0m\u001b[1;33m\u001b[0m\u001b[0m\n",
      "\u001b[1;31mNoSuchElementException\u001b[0m: Message: no such element: Unable to locate element: {\"method\":\"xpath\",\"selector\":\"//*[@id=\"cphContents_cphContents_cphContents_udpRecord\"]/div[2]/table/tbody/tr[1]/td[2]/a\"}\n  (Session info: chrome=90.0.4430.93)\n"
     ]
    }
   ],
   "source": [
    "driver.find_element_by_xpath('//*[@id=\"cphContents_cphContents_cphContents_ddlTeam\"]/option[2]').click()\n",
    "driver.find_element_by_xpath('//*[@id=\"cphContents_cphContents_cphContents_udpRecord\"]/div[2]/table/tbody/tr[1]/td[2]/a').click()\n",
    "        \n",
    "time.sleep(1)\n",
    "        \n",
    "html = driver.page_source\n",
    "soup = BeautifulSoup(html, 'html.parser')\n",
    "\n",
    "result = soup.select('div.player_basic > ul > li')\n",
    "for x in result:\n",
    "    print(x.text.split(\": \"))"
   ]
  },
  {
   "cell_type": "code",
   "execution_count": 8,
   "id": "0883e0e2",
   "metadata": {},
   "outputs": [],
   "source": [
    "driver.back()"
   ]
  },
  {
   "cell_type": "code",
   "execution_count": null,
   "id": "1a860f59",
   "metadata": {},
   "outputs": [],
   "source": []
  }
 ],
 "metadata": {
  "kernelspec": {
   "display_name": "pydata",
   "language": "python",
   "name": "pydata"
  },
  "language_info": {
   "codemirror_mode": {
    "name": "ipython",
    "version": 3
   },
   "file_extension": ".py",
   "mimetype": "text/x-python",
   "name": "python",
   "nbconvert_exporter": "python",
   "pygments_lexer": "ipython3",
   "version": "3.7.10"
  }
 },
 "nbformat": 4,
 "nbformat_minor": 5
}
