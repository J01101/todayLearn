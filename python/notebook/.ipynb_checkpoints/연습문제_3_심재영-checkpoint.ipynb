{
 "cells": [
  {
   "cell_type": "code",
   "execution_count": 1,
   "id": "ea65a56b",
   "metadata": {},
   "outputs": [],
   "source": [
    "from bs4 import BeautifulSoup\n",
    "from selenium import webdriver\n",
    "import pandas as pd\n",
    "import time\n",
    "import math\n",
    "import sys"
   ]
  },
  {
   "cell_type": "code",
   "execution_count": 2,
   "id": "9574e6a7",
   "metadata": {},
   "outputs": [
    {
     "name": "stdout",
     "output_type": "stream",
     "text": [
      "키워드 >> 개냥이\n",
      "크롤링 횟수 >> 20\n",
      "파일 경로 >> \n"
     ]
    }
   ],
   "source": [
    "keyword = input('키워드 >> ')\n",
    "\n",
    "cnt = int(input(\"크롤링 횟수 >> \"))\n",
    "\n",
    "save_path = 'D:\\\\SJY\\\\python\\\\notebook\\\\crawlingData\\\\'\n",
    "path = input('파일 경로 (기본값 : D:\\\\SJY\\\\python\\\\notebook\\\\crawlingData\\\\) >> ')\n",
    "if path=='':\n",
    "    path = save_path"
   ]
  },
  {
   "cell_type": "code",
   "execution_count": 3,
   "id": "996a4587",
   "metadata": {},
   "outputs": [
    {
     "data": {
      "text/plain": [
       "'D:\\\\SJY\\\\python\\\\notebook\\\\crawlingData\\\\'"
      ]
     },
     "execution_count": 3,
     "metadata": {},
     "output_type": "execute_result"
    }
   ],
   "source": [
    "path"
   ]
  },
  {
   "cell_type": "code",
   "execution_count": null,
   "id": "a433ceb2",
   "metadata": {},
   "outputs": [],
   "source": []
  }
 ],
 "metadata": {
  "kernelspec": {
   "display_name": "pydata",
   "language": "python",
   "name": "pydata"
  },
  "language_info": {
   "codemirror_mode": {
    "name": "ipython",
    "version": 3
   },
   "file_extension": ".py",
   "mimetype": "text/x-python",
   "name": "python",
   "nbconvert_exporter": "python",
   "pygments_lexer": "ipython3",
   "version": "3.7.10"
  }
 },
 "nbformat": 4,
 "nbformat_minor": 5
}
