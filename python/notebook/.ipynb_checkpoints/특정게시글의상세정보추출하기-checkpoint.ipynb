{
 "cells": [
  {
   "cell_type": "code",
   "execution_count": 1,
   "metadata": {},
   "outputs": [
    {
     "data": {
      "text/plain": [
       "'\\n- 특정 게시글의 상세한 내역을 추출하여 다양한 형태의 파일로 저장한다.\\n- 데이터 수집할 사이트는 한국관광공사의 특정 페이지 이다.\\n- URL : https://korean.visitkorea.or.kr/detail/rem_detail.do?cotid=df3f6275-06a8-4d1c-ae7e-40a2b5276bcd&temp=\\n'"
      ]
     },
     "execution_count": 1,
     "metadata": {},
     "output_type": "execute_result"
    }
   ],
   "source": [
    "'''\n",
    "- 특정 게시글의 상세한 내역을 추출하여 다양한 형태의 파일로 저장한다.\n",
    "- 데이터 수집할 사이트는 한국관광공사의 특정 페이지 이다.\n",
    "- URL : https://korean.visitkorea.or.kr/detail/rem_detail.do?cotid=df3f6275-06a8-4d1c-ae7e-40a2b5276bcd&temp=\n",
    "'''"
   ]
  },
  {
   "cell_type": "code",
   "execution_count": 2,
   "metadata": {},
   "outputs": [],
   "source": [
    "from bs4 import BeautifulSoup\n",
    "from selenium import webdriver\n",
    "import pandas as pd\n",
    "import math\n",
    "import time"
   ]
  },
  {
   "cell_type": "code",
   "execution_count": 7,
   "metadata": {},
   "outputs": [
    {
     "name": "stdout",
     "output_type": "stream",
     "text": [
      "파일 이름 (D:\\SJY\\python\\notebook\\data 안에 저장) >> s\n"
     ]
    },
    {
     "data": {
      "text/plain": [
       "[<div class=\"txt_p\">문화체육관광부와 한국관광공사는 매월 각 지역별 여행하기 좋은 걷기여행길을 선정한다.  2월은 24절기 중 입춘이 있는 달로, 봄의 시작과 함께 길운을 바라는 입춘대길이라는 글귀를 볼 수 있는 계절이다. 2월은 우리나라에서 봄의 완연한 기운을 가장 빨리 느낄 수 있는 제주도의 걷기여행길 5곳을 선정하였다. 설 연휴를 맞아 가족, 연인, 친구와 함께 걷어보면 어떨까? 이달의 추천길로 선정된 길은 ‘두루누비(<a href=\"http://durunubi.kr\" target=\"_blank\" title=\"[새창열림]‘두루누비’ 홈페이지로 이동\">durunubi.kr</a>)’에서 자세한 정보를 확인할 수 있다.</div>,\n",
       " <div class=\"txt_p\"><div style=\"text-align: justify;\">제주도 수월봉 트레일 A코스는 차귀도가 보이는 해안길을 따라 시작해 수월봉 정상까지 올라갔다 엉알과 화산재지층까지 이어지는 길이다. 길을 걷는 동안 푸른 바다와 화산재 지층으로 이루어진 절벽, 천연기념물 제513호인 수월봉, 검은모래해변 등 다양한 볼 거리가 있는 길이다. 수월봉 정상에서는 차귀도, 누운섬, 당산봉을 비롯하여 광활한 고산평야와 산방산, 한라산이 보이고 날씨가 맑은 날은 가파도와 마라도까지 볼 수 있다.</div></div>,\n",
       " <div class=\"txt_p\"><div>     ㅇ 코스경로 : 녹고의 눈물 ~ 갱도진지 ~ 화산재 지층과 화산탄 ~ 수월봉 정상 ~ 엉알과 화산재지층 ~ 검은모래해변 ~ 해녀의집</div><div>     ㅇ 거리 : 4.6km</div><div>     ㅇ 소요시간 : 2시간</div><div>     ㅇ 난이도 : 보통</div><div>     ㅇ 문의 : 제주세계자연유산센터 064-710-8980</div><div>     ㅇ 자세히 보기</div><div>         <a href=\"https://www.durunubi.kr/4-2-1-1-walk-mobility-view-detail.do?crs_idx=T_CRS_MNG0000003814&amp;brd_div=DNWW\" target=\"_blank\" title=\"[새창열림]‘수월봉 트레일 A코스’ 안내페이지로 이동\">        https://www.durunubi.kr/4-2-1-1-walk-mobility-view-detail.do?crs_idx=T_CRS_MNG0000003814&amp;brd_div=DNWW    </a></div></div>,\n",
       " <div class=\"txt_p\"><div style=\"text-align: justify;\">작가의 산책길은 유토피아로라고도 불리우는 곳으로 이중섭갤러리에서 시작해 서귀포 구도심에 위치한 4개의 미술관(이중섭미술관, 기당미술관, 소암기념관, 서복전시관)과 예술시장, 관광극장, 시 읽으며 걷는 칠십리시공원, 자구리해안, 소정방폭포 등을 연결한 길이다. 서귀포에 머물며 빛나는 명작들을 남긴 예술가들 삶의 발자취를 더듬어 볼 수 있으며 거리 곳곳에서 제주의 자연과 함께 예술작품을 만날 수 있는 명품 산책길이다.</div></div>,\n",
       " <div class=\"txt_p\"><div>     ㅇ 코스경로 : 이중섭미술관 ~ 커뮤니티센터 ~ 기당미술관 ~ 칠십리시공원~ 자구리해안 ~ 소남머리 ~ 서복전시관 ~ 소정방 ~ 소암기념관 ~ 이중섭공원 </div><div>     ㅇ 거리 : 4.9km</div><div>     ㅇ 소요시간 : 3시간 30분</div><div>     ㅇ 난이도 : 보통</div><div>     ㅇ 문의 : 제주시청 문화예술과 064-760-2482</div><div>     ㅇ 자세히 보기</div><div>      <a href=\"https://www.durunubi.kr/4-2-1-1-walk-mobility-view-detail.do?crs_idx=T_CRS_MNG0000004072&amp;brd_div=DNWW\" target=\"_blank\" title=\"[새창열림]‘작가의 산책길’ 안내페이지로 이동\">https://www.durunubi.kr/4-2-1-1-walk-mobility-view-detail.do?crs_idx=T_CRS_MNG0000004072&amp;brd_div=DNWW</a></div></div>,\n",
       " <div class=\"txt_p\"><div style=\"text-align: justify;\">쫄븐갑마장길은 제주 표선면 가시리에 있는 다양한 매력을 품은 길이다. 낯선 이름이지만 ‘갑마장’은 ‘최상급 말을 키우던 곳’, ‘쫄븐’은 ‘작은’이라는 뜻으로 갑마장 주변을 호젓하게 산책할 수 있는 코스라고 보면 된다. 무성한 곶자왈을 지나, 쭉 쭉 뻗은 편백나무 숲길을 걷고 금빛 억새가 일렁이는 따라비오름과 일몰이 장관인 큰사슴이오름을 걷는다. 하루를 걸었지만 여러 길, 사계절을 걸은 듯한 느낌을 받는 길이다. 조랑말체험공원에서 시작해서 원점 회귀하는 코스이므로 작은 배낭을 메고 호젓이, 혹은 사색하며 걸어보길 추천한다. </div></div>,\n",
       " <div class=\"txt_p\"><div>     ㅇ 코스경로 : 조랑말체험공원 ~ 가시천(곶자왈) ~ 따라비오름 ~ 잣성길 ~ 큰사슴이오름 ~ 꽃머체 ~ 조랑말체험공원</div><div>     ㅇ 거리 : 10km</div><div>     ㅇ 소요시간 : 4시간</div><div>     ㅇ 난이도 : 보통</div><div>     ㅇ 문의 : 가시리사무소 064-787-1305</div><div>     ㅇ 자세히 보기</div><div>      <a href=\"https://www.durunubi.kr/4-2-1-1-walk-mobility-view-detail.do?crs_idx=T_CRS_MNG0000003964&amp;brd_div=DNWW\" target=\"_blank\" title=\"[새창열림]‘갑마장길 및 가름질 쫄븐갑마장길’ 안내페이지로 이동\">https://www.durunubi.kr/4-2-1-1-walk-mobility-view-detail.do?crs_idx=T_CRS_MNG0000003964&amp;brd_div=DNWW</a></div></div>,\n",
       " <div class=\"txt_p\"><div style=\"text-align: justify;\">제주도의 제주 올레길 10코스는 제주 남서부의 비경을 천천히 감상하며 걷는 길이다. 삼만여 평의 검은 모래 해변이 펼쳐진 화순 금모래 해변부터 해안 절경을 자랑하는 송악산 둘레길을 지나 가슴 아픈 역사가 남아있는 알뜨르 비행장과 대한민국 최남단인 마라도로 향하는 배편을 탈 수 있는 모슬포 항까지 이어진 제주 올레길 10코스는 천혜의 자연 경관과 대한민국의 슬픈 역사가 함께 담긴 길이다.</div></div>,\n",
       " <div class=\"txt_p\"><div>     ㅇ 코스경로 : 화순금모래 해변 ~ 영산암 ~ 사계포구 ~ 사계 화석발견지 ~ 송악산  ~ 섯알오름 추모비 ~ 하모 해수욕장 ~ 모슬포항</div><div>                   ※상세코스 안내는 (사)제주올레 홈페이지 참조가능</div><div>     ㅇ 거리 : 17.5km</div><div>     ㅇ 소요시간 : 5시간</div><div>     ㅇ 난이도 : 보통</div><div>     ㅇ 문의 : 제주올레 064-762-2190</div><div>     ㅇ 자세히 보기</div><div>      <a href=\"https://www.jejuolle.org\" target=\"_blank\" title=\"[새창열림]‘제주올레’ 홈페이지로 이동\">https://www.jejuolle.org</a></div><div>      <a href=\"https://www.durunubi.kr/4-2-1-1-walk-mobility-view-detail.do?crs_idx=T_CRS_MNG0000003796&amp;brd_div=DNWW\" target=\"_blank\" title=\"[새창열림]‘제주올레길 10코스’ 안내페이지로 이동\">https://www.durunubi.kr/4-2-1-1-walk-mobility-view-detail.do?crs_idx=T_CRS_MNG0000003796&amp;brd_div=DNWW</a></div></div>,\n",
       " <div class=\"txt_p\"><div style=\"text-align: justify;\">‘제주가 한라산이고, 한라산이 곧 제주다’라는 말이 있을 정도로 제주에서 한라산의 존재는 절대적이다. 인간의 발길이 쉽게 닿지 못하는 해발 600~800m 한라산의 깊은 품에는 상록 활엽수림과 낙엽 활엽수림이 어우러진 독특한 원시림이 자리잡고 있다. 그 한라산의 속살을 오롯이 만날 수 있는 길이 한라산둘레길이다. 한라산둘레길 중 가장 먼저 열린 동백길은 일제강점기 때에 생긴 하치마키 병참 도로와 임도, 표고버섯 재배지를 연결하는 운송로 등을 엮어서 만들었다.</div></div>,\n",
       " <div class=\"txt_p\"><div>     ㅇ 코스경로 : 무오법정사입구 ~ 무오법정사 ~ 표고재배장 ~ 돈내코탐방로</div><div>     ㅇ 거리 : 13.5km</div><div>     ㅇ 소요시간 : 4시간 30분</div><div>     ㅇ 난이도 : 보통</div><div>     ㅇ 문의 : 한라산둘레길 안내센터 064-738-4280</div><div>     ㅇ 자세히 보기</div><div>         <a href=\"https://www.durunubi.kr/4-2-1-1-walk-mobility-view-detail.do?crs_idx=T_CRS_MNG0000001496&amp;brd_div=DNWW\" target=\"_blank\" title=\"[새창열림]‘한라산둘레길 동백길’ 홈페이지로 이동\">        https://www.durunubi.kr/4-2-1-1-walk-mobility-view-detail.do?crs_idx=T_CRS_MNG0000001496&amp;brd_div=DNWW    </a></div></div>,\n",
       " <div class=\"txt_p\"><p><span style=\"font-weight: bold;\">        출처 : 한국관광공사 레저관광팀 <br/><br/></span></p><p align=\"justify\"> <font color=\"#cc0000\">        ※ 위 정보는 2019년 1월에 작성된 정보로, 이후 변경될 수 있으니 여행 하시기 전에 반드시 확인하시기 바랍니다.</font></p><p align=\"justify\"> <font color=\"#cc0000\">        ※ 이 기사에 사용된 텍스트, 사진, 동영상 등의 정보는 한국관광공사가 저작권을 보유하고 있으므로 기사의 무단 사용을 금합니다.</font></p></div>,\n",
       " <div class=\"txt_p\"><img src=\"https://support.visitkorea.or.kr/img/call?cmd=VIEW&amp;id=45206c19-8e22-450a-bfb1-d6ce3f9290ce&amp;mode=raw\" style=\"width:100%;\"/></div>]"
      ]
     },
     "execution_count": 7,
     "metadata": {},
     "output_type": "execute_result"
    }
   ],
   "source": [
    "f_path = 'D:/SJY/python/notebook/data/'\n",
    "f_name = input('파일 이름 (D:\\\\SJY\\\\python\\\\notebook\\\\data 안에 저장) >> ')\n",
    "ft_name = f_path + f_name + '.txt'\n",
    "fc_name = f_path + f_name + '.csv'\n",
    "fx_name = f_path + f_name + '.xlsx'\n",
    "\n",
    "s_time = time.time() # 크롤링 한 시간 측정을 위해 시작시간 검출\n",
    "\n",
    "path = \"D:/SJY/python/datadown/chromedriver.exe\"\n",
    "driver = webdriver.Chrome(path)\n",
    "# 제주도 걷기길 열기\n",
    "driver.get(\"https://korean.visitkorea.or.kr/detail/rem_detail.do?cotid=7765dc87-c1ba-4899-9a6b-c4fcc009d524&con_type=10300\")\n",
    "\n",
    "time.sleep(2)\n",
    "\n",
    "html = driver.page_source\n",
    "soup = BeautifulSoup(html, 'html.parser')\n",
    "content_list = soup.find_all('div','txt_p') #텍스트 내용 있는 태구\n",
    "content_list"
   ]
  },
  {
   "cell_type": "code",
   "execution_count": 13,
   "metadata": {},
   "outputs": [
    {
     "name": "stdout",
     "output_type": "stream",
     "text": [
      "\n",
      "\n",
      "데이터 추출을 시작합니다==================================\n",
      "\n",
      "\n",
      "문화체육관광부와 한국관광공사는 매월 각 지역별 여행하기 좋은 걷기여행길을 선정한다.  2월은 24절기 중 입춘이 있는 달로, 봄의 시작과 함께 길운을 바라는 입춘대길이라는 글귀를 볼 수 있는 계절이다. 2월은 우리나라에서 봄의 완연한 기운을 가장 빨리 느낄 수 있는 제주도의 걷기여행길 5곳을 선정하였다. 설 연휴를 맞아 가족, 연인, 친구와 함께 걷어보면 어떨까? 이달의 추천길로 선정된 길은 ‘두루누비(durunubi.kr)’에서 자세한 정보를 확인할 수 있다.\n",
      "\n",
      "\n",
      "제주도 수월봉 트레일 A코스는 차귀도가 보이는 해안길을 따라 시작해 수월봉 정상까지 올라갔다 엉알과 화산재지층까지 이어지는 길이다. 길을 걷는 동안 푸른 바다와 화산재 지층으로 이루어진 절벽, 천연기념물 제513호인 수월봉, 검은모래해변 등 다양한 볼 거리가 있는 길이다. 수월봉 정상에서는 차귀도, 누운섬, 당산봉을 비롯하여 광활한 고산평야와 산방산, 한라산이 보이고 날씨가 맑은 날은 가파도와 마라도까지 볼 수 있다.\n",
      "\n",
      "\n",
      "     ㅇ 코스경로 : 녹고의 눈물 ~ 갱도진지 ~ 화산재 지층과 화산탄 ~ 수월봉 정상 ~ 엉알과 화산재지층 ~ 검은모래해변 ~ 해녀의집     ㅇ 거리 : 4.6km     ㅇ 소요시간 : 2시간     ㅇ 난이도 : 보통     ㅇ 문의 : 제주세계자연유산센터 064-710-8980     ㅇ 자세히 보기                 https://www.durunubi.kr/4-2-1-1-walk-mobility-view-detail.do?crs_idx=T_CRS_MNG0000003814&brd_div=DNWW    \n",
      "\n",
      "\n",
      "작가의 산책길은 유토피아로라고도 불리우는 곳으로 이중섭갤러리에서 시작해 서귀포 구도심에 위치한 4개의 미술관(이중섭미술관, 기당미술관, 소암기념관, 서복전시관)과 예술시장, 관광극장, 시 읽으며 걷는 칠십리시공원, 자구리해안, 소정방폭포 등을 연결한 길이다. 서귀포에 머물며 빛나는 명작들을 남긴 예술가들 삶의 발자취를 더듬어 볼 수 있으며 거리 곳곳에서 제주의 자연과 함께 예술작품을 만날 수 있는 명품 산책길이다.\n",
      "\n",
      "\n",
      "     ㅇ 코스경로 : 이중섭미술관 ~ 커뮤니티센터 ~ 기당미술관 ~ 칠십리시공원~ 자구리해안 ~ 소남머리 ~ 서복전시관 ~ 소정방 ~ 소암기념관 ~ 이중섭공원      ㅇ 거리 : 4.9km     ㅇ 소요시간 : 3시간 30분     ㅇ 난이도 : 보통     ㅇ 문의 : 제주시청 문화예술과 064-760-2482     ㅇ 자세히 보기      https://www.durunubi.kr/4-2-1-1-walk-mobility-view-detail.do?crs_idx=T_CRS_MNG0000004072&brd_div=DNWW\n",
      "\n",
      "\n",
      "쫄븐갑마장길은 제주 표선면 가시리에 있는 다양한 매력을 품은 길이다. 낯선 이름이지만 ‘갑마장’은 ‘최상급 말을 키우던 곳’, ‘쫄븐’은 ‘작은’이라는 뜻으로 갑마장 주변을 호젓하게 산책할 수 있는 코스라고 보면 된다. 무성한 곶자왈을 지나, 쭉 쭉 뻗은 편백나무 숲길을 걷고 금빛 억새가 일렁이는 따라비오름과 일몰이 장관인 큰사슴이오름을 걷는다. 하루를 걸었지만 여러 길, 사계절을 걸은 듯한 느낌을 받는 길이다. 조랑말체험공원에서 시작해서 원점 회귀하는 코스이므로 작은 배낭을 메고 호젓이, 혹은 사색하며 걸어보길 추천한다. \n",
      "\n",
      "\n",
      "     ㅇ 코스경로 : 조랑말체험공원 ~ 가시천(곶자왈) ~ 따라비오름 ~ 잣성길 ~ 큰사슴이오름 ~ 꽃머체 ~ 조랑말체험공원     ㅇ 거리 : 10km     ㅇ 소요시간 : 4시간     ㅇ 난이도 : 보통     ㅇ 문의 : 가시리사무소 064-787-1305     ㅇ 자세히 보기      https://www.durunubi.kr/4-2-1-1-walk-mobility-view-detail.do?crs_idx=T_CRS_MNG0000003964&brd_div=DNWW\n",
      "\n",
      "\n",
      "제주도의 제주 올레길 10코스는 제주 남서부의 비경을 천천히 감상하며 걷는 길이다. 삼만여 평의 검은 모래 해변이 펼쳐진 화순 금모래 해변부터 해안 절경을 자랑하는 송악산 둘레길을 지나 가슴 아픈 역사가 남아있는 알뜨르 비행장과 대한민국 최남단인 마라도로 향하는 배편을 탈 수 있는 모슬포 항까지 이어진 제주 올레길 10코스는 천혜의 자연 경관과 대한민국의 슬픈 역사가 함께 담긴 길이다.\n",
      "\n",
      "\n",
      "     ㅇ 코스경로 : 화순금모래 해변 ~ 영산암 ~ 사계포구 ~ 사계 화석발견지 ~ 송악산  ~ 섯알오름 추모비 ~ 하모 해수욕장 ~ 모슬포항                   ※상세코스 안내는 (사)제주올레 홈페이지 참조가능     ㅇ 거리 : 17.5km     ㅇ 소요시간 : 5시간     ㅇ 난이도 : 보통     ㅇ 문의 : 제주올레 064-762-2190     ㅇ 자세히 보기      https://www.jejuolle.org      https://www.durunubi.kr/4-2-1-1-walk-mobility-view-detail.do?crs_idx=T_CRS_MNG0000003796&brd_div=DNWW\n",
      "\n",
      "\n",
      "‘제주가 한라산이고, 한라산이 곧 제주다’라는 말이 있을 정도로 제주에서 한라산의 존재는 절대적이다. 인간의 발길이 쉽게 닿지 못하는 해발 600~800m 한라산의 깊은 품에는 상록 활엽수림과 낙엽 활엽수림이 어우러진 독특한 원시림이 자리잡고 있다. 그 한라산의 속살을 오롯이 만날 수 있는 길이 한라산둘레길이다. 한라산둘레길 중 가장 먼저 열린 동백길은 일제강점기 때에 생긴 하치마키 병참 도로와 임도, 표고버섯 재배지를 연결하는 운송로 등을 엮어서 만들었다.\n",
      "\n",
      "\n",
      "     ㅇ 코스경로 : 무오법정사입구 ~ 무오법정사 ~ 표고재배장 ~ 돈내코탐방로     ㅇ 거리 : 13.5km     ㅇ 소요시간 : 4시간 30분     ㅇ 난이도 : 보통     ㅇ 문의 : 한라산둘레길 안내센터 064-738-4280     ㅇ 자세히 보기                 https://www.durunubi.kr/4-2-1-1-walk-mobility-view-detail.do?crs_idx=T_CRS_MNG0000001496&brd_div=DNWW    \n",
      "\n",
      "\n",
      "        출처 : 한국관광공사 레저관광팀          ※ 위 정보는 2019년 1월에 작성된 정보로, 이후 변경될 수 있으니 여행 하시기 전에 반드시 확인하시기 바랍니다.         ※ 이 기사에 사용된 텍스트, 사진, 동영상 등의 정보는 한국관광공사가 저작권을 보유하고 있으므로 기사의 무단 사용을 금합니다.\n",
      "\n",
      "\n",
      "\n",
      "\n",
      "\n",
      "\n",
      "\n",
      "#2월걷기여행길#걷기여행길#제주도#제주도걷기길#트레킹코스\n"
     ]
    }
   ],
   "source": [
    "# 데이터를 저장하기 위한 리스트 생성\n",
    "contents2 = [ ]\n",
    "tags2 = [ ]\n",
    "\n",
    "# 본문 내용 수집하기\n",
    "print(\"\\n\")\n",
    "print(\"데이터 추출을 시작합니다==================================\")\n",
    "print(\"\\n\")\n",
    "\n",
    "f = open(ft_name, 'a',encoding='UTF-8')\n",
    "\n",
    "for i in content_list:\n",
    "    contents = i.get_text().replace('\\n','')\n",
    "    contents2.append(contents)\n",
    "    f.write(str(contents))\n",
    "    print(contents)\n",
    "    print(\"\\n\")\n",
    "    \n",
    "# 태그 정보 찾기 \n",
    "tag_list = soup.find_all('ul','tag clfix')\n",
    "\n",
    "tags2 =[]\n",
    "for i in tag_list:\n",
    "    print(\"\\n\")\n",
    "    tag = i.get_text()\n",
    "    tags2.append(tag)\n",
    "    f.write(str(tag))\n",
    "    print(tag)\n",
    " \n",
    "f.close( )"
   ]
  },
  {
   "cell_type": "code",
   "execution_count": null,
   "metadata": {},
   "outputs": [],
   "source": [
    "korea_trip = pd.DataFrame()\n",
    "korea_trip['내용'] = pd.Series(contents2)\n",
    "korea_trip['태그'] = pd.Series(tags2)\n",
    "\n",
    "#print(korea_trip)\n",
    " \n",
    "korea_trip.to_csv(fc_name,encoding=\"utf-8-sig\" , index=False)\n",
    "korea_trip.to_excel(fx_name , index=False)\n",
    "\n",
    "# Step 4. 요약 정보 보여주기\n",
    "e_time = time.time( )     # 검색이 종료된 시점의 timestamp 를 지정합니다\n",
    "t_time = e_time - s_time\n",
    "\n",
    "print(\"\\n\") \n",
    "print(\"=\" *80)\n",
    "print(\"총 소요시간은 {} 초 입니다 \" .format(t_time))\n",
    "print(\"파일 저장 완료: txt 파일명 : {} \" .format(ft_name))\n",
    "print(\"파일 저장 완료: csv 파일명 : {} \" .format(fc_name))\n",
    "print(\"파일 저장 완료: xls 파일명 : {} \" .format(fx_name))\n",
    "print(\"=\" *80)\n",
    " \n",
    "driver.close( )"
   ]
  }
 ],
 "metadata": {
  "kernelspec": {
   "display_name": "pydata",
   "language": "python",
   "name": "pydata"
  },
  "language_info": {
   "codemirror_mode": {
    "name": "ipython",
    "version": 3
   },
   "file_extension": ".py",
   "mimetype": "text/x-python",
   "name": "python",
   "nbconvert_exporter": "python",
   "pygments_lexer": "ipython3",
   "version": "3.7.10"
  }
 },
 "nbformat": 4,
 "nbformat_minor": 4
}
