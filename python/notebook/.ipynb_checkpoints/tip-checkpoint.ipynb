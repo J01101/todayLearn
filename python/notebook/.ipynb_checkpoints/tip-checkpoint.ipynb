{
 "cells": [
  {
   "cell_type": "code",
   "execution_count": 1,
   "id": "b54bdcc0",
   "metadata": {},
   "outputs": [],
   "source": [
    "a=[1,2,3,1,1,1,1,1,1,1,1,2,2,2,2,2,2,2,2,3,3,33,3,5,3,3,3]"
   ]
  },
  {
   "cell_type": "code",
   "execution_count": 2,
   "id": "febd4eff",
   "metadata": {},
   "outputs": [],
   "source": [
    "# 중복 제거"
   ]
  },
  {
   "cell_type": "code",
   "execution_count": 3,
   "id": "62c57701",
   "metadata": {},
   "outputs": [
    {
     "data": {
      "text/plain": [
       "[1, 2, 3, 33, 5]"
      ]
     },
     "execution_count": 3,
     "metadata": {},
     "output_type": "execute_result"
    }
   ],
   "source": [
    "list(set(a)) # 집합화 -> 다시 리스트"
   ]
  },
  {
   "cell_type": "code",
   "execution_count": null,
   "id": "353aae2e",
   "metadata": {},
   "outputs": [],
   "source": []
  }
 ],
 "metadata": {
  "kernelspec": {
   "display_name": "pydata",
   "language": "python",
   "name": "pydata"
  },
  "language_info": {
   "codemirror_mode": {
    "name": "ipython",
    "version": 3
   },
   "file_extension": ".py",
   "mimetype": "text/x-python",
   "name": "python",
   "nbconvert_exporter": "python",
   "pygments_lexer": "ipython3",
   "version": "3.7.10"
  }
 },
 "nbformat": 4,
 "nbformat_minor": 5
}
