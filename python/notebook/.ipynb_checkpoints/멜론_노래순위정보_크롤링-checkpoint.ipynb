{
 "cells": [
  {
   "cell_type": "code",
   "execution_count": 1,
   "metadata": {},
   "outputs": [
    {
     "data": {
      "text/plain": [
       "'\\n멜론 노래 순위 정보크롤링\\n    - 멜론사이트(www.melon.com)에서 인기차트의 상위 50곡 정보를 크롤링한다.\\n    - 크롬드라이버를 실행해서 브라우저를 열고 실행한다.\\n'"
      ]
     },
     "execution_count": 1,
     "metadata": {},
     "output_type": "execute_result"
    }
   ],
   "source": [
    "'''\n",
    "멜론 노래 순위 정보크롤링\n",
    "    - 멜론사이트(www.melon.com)에서 인기차트의 상위 50곡 정보를 크롤링한다.\n",
    "    - 크롬드라이버를 실행해서 브라우저를 열고 실행한다.\n",
    "'''"
   ]
  },
  {
   "cell_type": "code",
   "execution_count": 12,
   "metadata": {},
   "outputs": [],
   "source": [
    "from selenium import webdriver\n",
    "driver = webdriver.Chrome('D:\\\\SJY\\\\python\\\\datadown\\\\chromedriver.exe') #경로 '/'\n",
    " \n",
    "url = 'https://www.melon.com/chart/day/index.htm'\n",
    "driver.get(url)"
   ]
  },
  {
   "cell_type": "code",
   "execution_count": 13,
   "metadata": {},
   "outputs": [
    {
     "name": "stdout",
     "output_type": "stream",
     "text": [
      "50\n",
      "<tr class=\"lst50\" data-song-no=\"30287019\" id=\"lst50\">\n",
      "<td><div class=\"wrap t_right\"><input class=\"input_check\" name=\"input_check\" title=\"롤린 (Rollin') 곡 선택\" type=\"checkbox\" value=\"30287019\"/></div></td>\n",
      "<td><div class=\"wrap t_center\"><span class=\"rank\">1</span><span class=\"none\">위</span></div></td>\n",
      "<!-- 차트순위 추가 -->\n",
      "<td><div class=\"wrap\">\n",
      "<span class=\"rank_wrap\" title=\"순위 동일\">\n",
      "<span class=\"bullet_icons rank_static\"><span class=\"none\">순위 동일</span></span>\n",
      "<span class=\"none\">0</span>\n",
      "</span>\n",
      "</div></td>\n",
      "<td><div class=\"wrap\">\n",
      "<a class=\"image_typeAll\" href=\"javascript:melon.link.goAlbumDetail('10043575');\" title=\"Rollin'\">\n",
      "<img alt=\"Rollin' - 페이지 이동\" height=\"60\" onerror=\"WEBPOCIMG.defaultAlbumImg(this);\" src=\"https://cdnimg.melon.co.kr/cm2/album/images/100/43/575/10043575_20210302112520_500.jpg/melon/resize/120/quality/80/optimize\" width=\"60\"/>\n",
      "<span class=\"bg_album_frame\"></span>\n",
      "</a>\n",
      "</div></td>\n",
      "<td><div class=\"wrap\">\n",
      "<a class=\"btn button_icons type03 song_info\" href=\"javascript:melon.link.goSongDetail('30287019');\" title=\"롤린 (Rollin') 곡정보\"><span class=\"none\">곡정보</span></a>\n",
      "</div></td>\n",
      "<td><div class=\"wrap\">\n",
      "<div class=\"wrap_song_info\">\n",
      "<div class=\"ellipsis rank01\"><span>\n",
      "<a href=\"javascript:melon.play.playSong('19041201',30287019);\" title=\"롤린 (Rollin') 재생\">롤린 (Rollin')</a>\n",
      "</span></div><br/>\n",
      "<div class=\"ellipsis rank02\">\n",
      "<a href=\"javascript:melon.link.goArtistDetail('531700');\" title=\"브레이브걸스 - 페이지 이동\">브레이브걸스</a><span class=\"checkEllipsis\" style=\"display: none;\"><a href=\"javascript:melon.link.goArtistDetail('531700');\" title=\"브레이브걸스 - 페이지 이동\">브레이브걸스</a></span>\n",
      "</div>\n",
      "</div>\n",
      "</div></td>\n",
      "<td><div class=\"wrap\">\n",
      "<div class=\"wrap_song_info\">\n",
      "<div class=\"ellipsis rank03\">\n",
      "<a href=\"javascript:melon.link.goAlbumDetail('10043575');\" title=\"Rollin' - 페이지 이동\">Rollin'</a>\n",
      "</div>\n",
      "</div>\n",
      "</div></td>\n",
      "<td><div class=\"wrap\">\n",
      "<button class=\"button_etc like\" data-song-menuid=\"19041201\" data-song-no=\"30287019\" title=\"롤린 (Rollin') 좋아요\" type=\"button\"><span class=\"odd_span\">좋아요</span>\n",
      "<span class=\"cnt\">\n",
      "<span class=\"none\">총건수</span>\n",
      "238,667</span></button>\n",
      "</div></td>\n",
      "<td><div class=\"wrap t_center\">\n",
      "<button class=\"button_icons play\" onclick=\"melon.play.playSong('19041201',30287019);\" title=\"듣기\" type=\"button\"><span class=\"none\">듣기</span></button>\n",
      "</div></td>\n",
      "<td><div class=\"wrap t_center\">\n",
      "<button class=\"button_icons scrap\" onclick=\"melon.play.addPlayList('30287019');\" title=\"담기\" type=\"button\"><span class=\"none\">담기</span></button>\n",
      "</div></td>\n",
      "<td><div class=\"wrap t_center\">\n",
      "<button class=\"button_icons download\" onclick=\"melon.buy.goBuyProduct('frm', '30287019', '3C0001', '','0', '19041201');\" title=\"다운로드\" type=\"button\"><span class=\"none\">다운로드</span></button>\n",
      "</div></td>\n",
      "<td><div class=\"wrap t_center\">\n",
      "<button class=\"button_icons video\" onclick=\"melon.link.goMvDetail('19041201', '30287019','song');\" title=\"뮤직비디오\" type=\"button\"><span class=\"none\">뮤직비디오</span></button>\n",
      "</div></td>\n",
      "</tr>\n"
     ]
    }
   ],
   "source": [
    "from bs4 import BeautifulSoup\n",
    "html = driver.page_source\n",
    "soup = BeautifulSoup(html, 'html.parser')\n",
    " \n",
    "songs = soup.select('#lst50')  \n",
    "print(len(songs))\n",
    "print(songs[0])"
   ]
  },
  {
   "cell_type": "code",
   "execution_count": 5,
   "metadata": {},
   "outputs": [],
   "source": [
    "# 1위곡의 정보\n",
    "song = songs[0]"
   ]
  },
  {
   "cell_type": "code",
   "execution_count": 6,
   "metadata": {},
   "outputs": [
    {
     "data": {
      "text/plain": [
       "1"
      ]
     },
     "execution_count": 6,
     "metadata": {},
     "output_type": "execute_result"
    }
   ],
   "source": [
    "# 곡 제목 찾기\n",
    "title = song.select('div.ellipsis.rank01 > span > a')\n",
    "len(title)"
   ]
  },
  {
   "cell_type": "code",
   "execution_count": 8,
   "metadata": {},
   "outputs": [
    {
     "data": {
      "text/plain": [
       "\"롤린 (Rollin')\""
      ]
     },
     "execution_count": 8,
     "metadata": {},
     "output_type": "execute_result"
    }
   ],
   "source": [
    "# 제목 가져오기\n",
    "title = song.select('div.ellipsis.rank01 > span > a')[0].text\n",
    "title"
   ]
  },
  {
   "cell_type": "code",
   "execution_count": 9,
   "metadata": {},
   "outputs": [
    {
     "data": {
      "text/plain": [
       "'브레이브걸스'"
      ]
     },
     "execution_count": 9,
     "metadata": {},
     "output_type": "execute_result"
    }
   ],
   "source": [
    "# 가수 가져오기\n",
    "singer = song.select('div.ellipsis.rank02 > a')[0].text\n",
    "singer"
   ]
  },
  {
   "cell_type": "code",
   "execution_count": 16,
   "metadata": {},
   "outputs": [
    {
     "name": "stdout",
     "output_type": "stream",
     "text": [
      "롤린 (Rollin')|브레이브걸스\n",
      "라일락|아이유\n",
      "Peaches (Feat. Daniel Caesar & Giveon)|Justin Bieber\n",
      "Celebrity|아이유\n",
      "운전만해 (We Ride)|브레이브걸스\n",
      "Timeless|SG 워너비\n",
      "Coin|아이유\n",
      "내 손을 잡아|아이유\n",
      "On The Ground|로제 (ROSÉ)\n",
      "LOVE DAY (2021) (바른연애 길잡이 X 양요섭, 정은지)|양요섭\n",
      "Dynamite|방탄소년단\n",
      "라라라|SG 워너비\n",
      "그냥 안아달란 말야|다비치\n",
      "내사람|SG 워너비\n",
      "밝게 빛나는 별이 되어 비춰줄게|송이한\n",
      "밤하늘의 별을(2020)|경서\n",
      "잠이 오질 않네요|장범준\n",
      "Blueming|아이유\n",
      "에잇(Prod.&Feat. SUGA of BTS)|아이유\n",
      "봄 안녕 봄|아이유\n",
      "취기를 빌려 (취향저격 그녀 X 산들)|산들\n",
      "VVS (Feat. JUSTHIS) (Prod. GroovyRoom)|미란이 (Mirani)\n",
      "Lovesick Girls|BLACKPINK\n",
      "나랑 같이 걸을래 (바른연애 길잡이 X 적재)|적재\n",
      "흔들리는 꽃들 속에서 네 샴푸향이 느껴진거야|장범준\n",
      "어푸 (Ah puh)|아이유\n",
      "살다가|SG 워너비\n",
      "이 밤을 빌려 말해요 (바른연애 길잡이 X 10CM)|10CM\n",
      "Flu|아이유\n",
      "아이와 나의 바다|아이유\n",
      "그날에 나는 맘이 편했을까|이예준\n",
      "12:45 (Stripped)|Etham\n",
      "어떻게 이별까지 사랑하겠어, 널 사랑하는 거지|AKMU (악동뮤지션)\n",
      "오래된 노래|스탠딩 에그\n",
      "추억은 만남보다 이별에 남아|정동하\n",
      "Savage Love (Laxed - Siren Beat) (BTS Remix)|Jawsh 685\n",
      "멜로디|ASH ISLAND\n",
      "힘든 건 사랑이 아니다|임창정\n",
      "METEOR|창모 (CHANGMO)\n",
      "2002|Anne-Marie\n",
      "모든 날, 모든 순간 (Every day, Every Moment)|폴킴\n",
      "Dolphin|오마이걸 (OH MY GIRL)\n",
      "돌림노래 (Feat. DEAN)|아이유\n",
      "사실 나는 (Feat.전건호)|경서예지\n",
      "봄날|방탄소년단\n",
      "Life Goes On|방탄소년단\n",
      "어떻게 지내 (Prod. By VAN.C)|오반 (OVAN)\n",
      "아로하|조정석\n",
      "오늘도 빛나는 너에게 (To You My Light) (Feat.이라온)|마크툽 (MAKTUB)\n",
      "고백 (바른연애 길잡이 X 허각)|허각\n"
     ]
    }
   ],
   "source": [
    "title_list = []\n",
    "singer_list = []\n",
    "\n",
    "for song in songs:\n",
    "    title = song.select('div.ellipsis.rank01 > span > a')[0].text\n",
    "    title_list.append(title)\n",
    "    singer = song.select('div.ellipsis.rank02 > a')[0].text\n",
    "    singer_list.append(singer)\n",
    "    print(title, singer, sep='|')"
   ]
  },
  {
   "cell_type": "code",
   "execution_count": 18,
   "metadata": {},
   "outputs": [
    {
     "ename": "NameError",
     "evalue": "name 'korea' is not defined",
     "output_type": "error",
     "traceback": [
      "\u001b[1;31m---------------------------------------------------------------------------\u001b[0m",
      "\u001b[1;31mNameError\u001b[0m                                 Traceback (most recent call last)",
      "\u001b[1;32m<ipython-input-18-0ce36c1edfe9>\u001b[0m in \u001b[0;36m<module>\u001b[1;34m\u001b[0m\n\u001b[0;32m     13\u001b[0m \u001b[1;33m\u001b[0m\u001b[0m\n\u001b[0;32m     14\u001b[0m \u001b[1;31m# 추출 결과를 csv 형태로 저장하기\u001b[0m\u001b[1;33m\u001b[0m\u001b[1;33m\u001b[0m\u001b[1;33m\u001b[0m\u001b[0m\n\u001b[1;32m---> 15\u001b[1;33m \u001b[0mkorea\u001b[0m\u001b[1;33m.\u001b[0m\u001b[0mto_csv\u001b[0m\u001b[1;33m(\u001b[0m\u001b[1;34m'D:/SJY/python/notebook/data2/melon_list.csv'\u001b[0m \u001b[1;33m,\u001b[0m\u001b[0mencoding\u001b[0m\u001b[1;33m=\u001b[0m\u001b[1;34m\"utf-8-sig\"\u001b[0m\u001b[1;33m,\u001b[0m\u001b[0mindex\u001b[0m\u001b[1;33m=\u001b[0m\u001b[1;32mFalse\u001b[0m\u001b[1;33m)\u001b[0m\u001b[1;33m\u001b[0m\u001b[1;33m\u001b[0m\u001b[0m\n\u001b[0m\u001b[0;32m     16\u001b[0m \u001b[1;33m\u001b[0m\u001b[0m\n\u001b[0;32m     17\u001b[0m \u001b[1;31m# 추출 결과를 엑셀 형태로 저장하기\u001b[0m\u001b[1;33m\u001b[0m\u001b[1;33m\u001b[0m\u001b[1;33m\u001b[0m\u001b[0m\n",
      "\u001b[1;31mNameError\u001b[0m: name 'korea' is not defined"
     ]
    }
   ],
   "source": [
    "import pandas as pd\n",
    "\n",
    "#Step 6. 출력 결과를 표(데이터 프레임) 형태로 만들기\n",
    "s_list = pd.DataFrame()\n",
    "s_list['제목']=title_list\n",
    "s_list['가수']=singer_list\n",
    "\n",
    "# 추출 결과를 txt 파일로 저장하기\n",
    "ft = open('D:/SJY/python/notebook/data2/melon_list.txt', 'a',encoding='UTF-8')\n",
    "ft.write(str(title_list))\n",
    "ft.write(str(singer_list))\n",
    "ft.close( )\n",
    "\n",
    "# 추출 결과를 csv 형태로 저장하기\n",
    "korea.to_csv('D:/SJY/python/notebook/data2/melon_list.csv' ,encoding=\"utf-8-sig\",index=False)\n",
    " \n",
    "# 추출 결과를 엑셀 형태로 저장하기\n",
    "korea.to_excel('D:/SJY/python/notebook/data2/melon_list.xls' , index=False)"
   ]
  },
  {
   "cell_type": "code",
   "execution_count": 11,
   "metadata": {},
   "outputs": [],
   "source": [
    "'''\n",
    "    - selenium을 활용한 크롤링\n",
    "    - driver.find_elements_by_css_selector('조건')으로 원하는 조건에 해당하는\n",
    "       태그를 모두 찾을수 있다.\n",
    "'''\n",
    "\n",
    " #멜론 인기차트 중 상위 50곡 크롤링(정리)\n",
    "driver = webdriver.Chrome('D:\\\\SJY\\\\python\\\\datadown\\\\chromedriver.exe')     \n",
    "url = 'http://www.melon.com/chart/index.htm'\n",
    "driver.get(url)          \n",
    "html = driver.page_source\n",
    "soup = BeautifulSoup(html, 'html.parser')\n",
    "                               \n",
    "songs = soup.select('#lst50')      \n",
    "for song in songs:                                        \n",
    "    title = song.select('div.ellipsis.rank01 > span > a')[0].text\n",
    "    singer = song.select ('div.ellipsis.rank02 > a')[0].text  \n",
    "    print(title, singer, sep = ' | ')\n",
    " \n",
    "driver.close()    "
   ]
  },
  {
   "cell_type": "code",
   "execution_count": null,
   "metadata": {},
   "outputs": [],
   "source": []
  }
 ],
 "metadata": {
  "kernelspec": {
   "display_name": "pydata",
   "language": "python",
   "name": "pydata"
  },
  "language_info": {
   "codemirror_mode": {
    "name": "ipython",
    "version": 3
   },
   "file_extension": ".py",
   "mimetype": "text/x-python",
   "name": "python",
   "nbconvert_exporter": "python",
   "pygments_lexer": "ipython3",
   "version": "3.7.10"
  }
 },
 "nbformat": 4,
 "nbformat_minor": 4
}
